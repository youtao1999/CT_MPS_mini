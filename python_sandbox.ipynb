{
 "cells": [
  {
   "cell_type": "code",
   "execution_count": 32,
   "id": "20cd6eea",
   "metadata": {},
   "outputs": [
    {
     "name": "stdout",
     "output_type": "stream",
     "text": [
      "/scratch/ty296\n"
     ]
    }
   ],
   "source": [
    "import os\n",
    "print(os.getcwd())\n",
    "import sys\n",
    "sys.path.append('/scratch/ty296/CT_MPS_mini')\n",
    "import h5py\n",
    "import numpy as np\n",
    "from read_hdf5_func import von_neumann_entropy_sv"
   ]
  },
  {
   "cell_type": "code",
   "execution_count": 31,
   "id": "55812026",
   "metadata": {},
   "outputs": [
    {
     "name": "stdout",
     "output_type": "stream",
     "text": [
      "20\n",
      "[8.18965411e-01 3.24576736e-01 2.51765235e-01 2.39892313e-01\n",
      " 1.81276220e-01 1.51892519e-01 9.71173688e-02 8.50542118e-02\n",
      " 8.12430965e-02 7.74340513e-02 7.58449589e-02 6.80678806e-02\n",
      " 5.99262511e-02 4.07978768e-02 2.67165993e-02 2.45476384e-02\n",
      " 1.55360623e-02 1.15918918e-02 1.08946668e-02 9.85023412e-03\n",
      " 7.66957338e-03 7.03271159e-03 5.76968825e-03 5.15880637e-03\n",
      " 4.69011950e-03 4.08070386e-03 3.46705067e-03 3.16338123e-03\n",
      " 3.04442553e-03 2.99203392e-03 2.73455214e-03 2.05443809e-03\n",
      " 1.82836416e-03 1.37186004e-03 1.20358107e-03 1.10558218e-03\n",
      " 5.62715912e-04 4.01085247e-04 3.62590709e-04 2.75434359e-04\n",
      " 2.46037790e-04 1.61884359e-04 1.53225167e-04 1.33197376e-04\n",
      " 1.10075573e-04 8.80272833e-05 7.72234879e-05 5.23226294e-05\n",
      " 4.34218084e-05 2.86780972e-05 1.67695814e-05]\n"
     ]
    }
   ],
   "source": [
    "import pandas as pd\n",
    "import glob\n",
    "import os\n",
    "import h5py\n",
    "\n",
    "dir_name = '/scratch/ty296/hdf5_data/p_ctrl0.4'\n",
    "h5_files = glob.glob(os.path.join(dir_name, '*.h5'))\n",
    "filenum = 1\n",
    "file_name = os.path.join(dir_name, list(os.listdir(dir_name))[filenum])\n",
    "\n",
    "with h5py.File(file_name, 'r') as f:\n",
    "    # f.visititems(print)\n",
    "    # print(f.keys())\n",
    "    # print(f['metadata'])\n",
    "    # print(f['singular_values'])\n",
    "    # print(dir(f))\n",
    "    metadata = f['metadata']\n",
    "    print(metadata['result_1']['args']['L'][()])\n",
    "    singular_values = f['singular_values']\n",
    "    print(singular_values['result_1'][()])\n"
   ]
  }
 ],
 "metadata": {
  "kernelspec": {
   "display_name": "Simple Python 3.9.6",
   "language": "python",
   "name": "simple-python"
  },
  "language_info": {
   "codemirror_mode": {
    "name": "ipython",
    "version": 3
   },
   "file_extension": ".py",
   "mimetype": "text/x-python",
   "name": "python",
   "nbconvert_exporter": "python",
   "pygments_lexer": "ipython3",
   "version": "3.9.6"
  }
 },
 "nbformat": 4,
 "nbformat_minor": 5
}
