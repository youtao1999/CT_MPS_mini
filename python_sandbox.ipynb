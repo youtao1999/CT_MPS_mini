{
 "cells": [
  {
   "cell_type": "code",
   "execution_count": 1,
   "id": "40ad0989",
   "metadata": {},
   "outputs": [],
   "source": [
    "import sys\n",
    "sys.path.append('/scratch/ty296/CT_MPS_mini')\n",
    "from read_hdf5_func import von_neumann_entropy_sv\n",
    "import h5py\n",
    "import numpy as np\n",
    "import os\n",
    "\n",
    "# Read the HDF5 file\n",
    "# filename = '/scratch/ty296/CT_toy/sv_comparison_L12_pctrl0.000_p0.400-0.600/final_results_L12.h5'\n",
    "filename = 'p_ctrl0.4_46643361_worker0_hal0024.amarel.rutgers.edu_12566_L16.h5'\n",
    "full_path = os.path.join('/scratch/ty296/hdf5_data/p_ctrl0.4', filename)"
   ]
  },
  {
   "cell_type": "code",
   "execution_count": 2,
   "id": "27d7263b",
   "metadata": {},
   "outputs": [
    {
     "name": "stdout",
     "output_type": "stream",
     "text": [
      "<KeysViewHDF5 ['result_1', 'result_10', 'result_11', 'result_12', 'result_13', 'result_14', 'result_15', 'result_16', 'result_17', 'result_18', 'result_19', 'result_2', 'result_20', 'result_3', 'result_4', 'result_5', 'result_6', 'result_7', 'result_8', 'result_9']>\n"
     ]
    }
   ],
   "source": [
    "h5_file = h5py.File(full_path, 'r')\n",
    "print(h5_file['metadata'].keys())"
   ]
  },
  {
   "cell_type": "code",
   "execution_count": 10,
   "id": "d33e763d",
   "metadata": {},
   "outputs": [
    {
     "name": "stdout",
     "output_type": "stream",
     "text": [
      "Keys inside result_11:\n",
      "['O', 'args', 'max_bond', 'p_ctrl', 'p_proj', 'realization', 'seed']\n",
      "0.5\n"
     ]
    }
   ],
   "source": [
    "# Explore what's inside result_11\n",
    "print(\"Keys inside result_11:\")\n",
    "print(list(h5_file['metadata']['result_11'].keys()))\n",
    "print(h5_file['metadata']['result_20']['p_proj'][()])"
   ]
  },
  {
   "cell_type": "code",
   "execution_count": null,
   "id": "c3b57628",
   "metadata": {},
   "outputs": [
    {
     "name": "stdout",
     "output_type": "stream",
     "text": [
      "metadata\n",
      "<KeysViewHDF5 ['result_1', 'result_10', 'result_11', 'result_12', 'result_13', 'result_14', 'result_15', 'result_16', 'result_17', 'result_18', 'result_19', 'result_2', 'result_20', 'result_3', 'result_4', 'result_5', 'result_6', 'result_7', 'result_8', 'result_9']>\n",
      "result_1\n",
      "result_10\n",
      "result_11\n",
      "result_12\n",
      "result_13\n",
      "result_14\n",
      "result_15\n",
      "result_16\n",
      "result_17\n",
      "result_18\n",
      "result_19\n",
      "result_2\n",
      "result_20\n",
      "result_3\n",
      "result_4\n",
      "result_5\n",
      "result_6\n",
      "result_7\n",
      "result_8\n",
      "result_9\n",
      "singular_values\n",
      "<KeysViewHDF5 ['result_1', 'result_10', 'result_11', 'result_12', 'result_13', 'result_14', 'result_15', 'result_16', 'result_17', 'result_18', 'result_19', 'result_2', 'result_20', 'result_3', 'result_4', 'result_5', 'result_6', 'result_7', 'result_8', 'result_9']>\n",
      "result_1\n",
      "result_10\n",
      "result_11\n",
      "result_12\n",
      "result_13\n",
      "result_14\n",
      "result_15\n",
      "result_16\n",
      "result_17\n",
      "result_18\n",
      "result_19\n",
      "result_2\n",
      "result_20\n",
      "result_3\n",
      "result_4\n",
      "result_5\n",
      "result_6\n",
      "result_7\n",
      "result_8\n",
      "result_9\n"
     ]
    }
   ],
   "source": [
    "h5_file = h5py.File(full_path, 'r')\n",
    "for key in h5_file.keys():\n",
    "    for key2 in h5_file[key].keys():\n",
    "        print(key2)"
   ]
  },
  {
   "cell_type": "code",
   "execution_count": 2,
   "id": "93fed669",
   "metadata": {},
   "outputs": [
    {
     "name": "stdout",
     "output_type": "stream",
     "text": [
      "['/projects/community/python/3.9.6/gc563/lib/python39.zip', '/projects/community/python/3.9.6/gc563/lib/python3.9', '/projects/community/python/3.9.6/gc563/lib/python3.9/lib-dynload', '', '/home/ty296/.local/lib/python3.9/site-packages', '/projects/community/python/3.9.6/gc563/lib/python3.9/site-packages', '/scratch/ty296/CT_MPS_mini', '/scratch/ty296/CT_MPS_mini']\n",
      "/scratch/ty296\n"
     ]
    }
   ],
   "source": [
    "print(sys.path)\n",
    "print(os.getcwd())"
   ]
  },
  {
   "cell_type": "code",
   "execution_count": 5,
   "id": "1fb8ed14",
   "metadata": {},
   "outputs": [],
   "source": [
    "import matplotlib.pyplot as plt"
   ]
  },
  {
   "cell_type": "code",
   "execution_count": 13,
   "id": "ef63740b",
   "metadata": {},
   "outputs": [
    {
     "name": "stdout",
     "output_type": "stream",
     "text": [
      "p_ctrl0.000\n",
      "<KeysViewHDF5 ['p_proj', 'singular_values']>\n",
      "p_proj\n",
      "singular_values\n"
     ]
    }
   ],
   "source": [
    "filename = '/scratch/ty296/sv_L16_p_ctrl0.000_p0.200-1.000/final_results_L16.h5'\n",
    "h5_file = h5py.File(filename, 'r')\n",
    "for key in h5_file.keys():\n",
    "    print(key)\n",
    "    print(h5_file[key].keys())\n",
    "    for key2 in h5_file[key].keys():\n",
    "        print(key2)"
   ]
  },
  {
   "cell_type": "code",
   "execution_count": null,
   "id": "13d5af70",
   "metadata": {},
   "outputs": [],
   "source": [
    "import glob\n",
    "import os\n",
    "from functools import partial\n",
    "from read_hdf5_func import calculate_mean_and_error, calculate_variance_and_error\n",
    "\n",
    "SvN_fixed = partial(von_neumann_entropy_sv, n=0, positivedefinite=False, threshold=1e-15)\n",
    "\n",
    "# Pattern to match folders\n",
    "pattern = \"/scratch/ty296/sv_L*_p_ctrl0.000_p0.200-1.000/final_results_L*.h5\"\n",
    "folders = glob.glob(pattern)\n",
    "\n",
    "# extract L values from folder names\n",
    "from pathlib import Path\n",
    "import re\n",
    "L_values = [int(re.search(r'L(\\d+)', folder).group(1)) for folder in folders]\n",
    "\n",
    "\n",
    "# Create increasingly deeper shades of blue proportional to L value\n",
    "# Smaller L = very light blue, larger L = darker blue\n",
    "colors = []\n",
    "min_L = min(L_values)\n",
    "max_L = max(L_values)\n",
    "\n",
    "for L in L_values:\n",
    "    # Normalize L to range [0, 1]\n",
    "    norm_L = (L - min_L) / (max_L - min_L)\n",
    "    \n",
    "    # Create light blue to dark blue gradient\n",
    "    # Light blue: (0.7, 0.7, 1.0), Dark blue: (0.0, 0.0, 0.8)\n",
    "    red = 0.7 * (1 - norm_L)      # From 0.7 to 0.0\n",
    "    green = 0.7 * (1 - norm_L)    # From 0.7 to 0.0  \n",
    "    blue = 1.0 - 0.2 * norm_L     # From 1.0 to 0.8\n",
    "    \n",
    "    blue_color = (red, green, blue)\n",
    "    \n",
    "    colors.append(blue_color)\n",
    "\n",
    "# Organize data by L values\n",
    "plot_data = {}\n",
    "for L in L_values:\n",
    "    plot_data[L] = {'p_proj': [], 'mean': [], 'sem': [], 'variance': [], 'se_var': []}\n",
    "\n",
    "for filename, L in zip(folders, L_values):\n",
    "    h5_file = h5py.File(filename, 'r')\n",
    "    data_set = h5_file['p_ctrl0.000']['singular_values']['AB']\n",
    "    p_proj_values = h5_file['p_ctrl0.000']['p_proj']\n",
    "\n",
    "    raw_s0_data = np.apply_along_axis(SvN_fixed, axis=2, arr=data_set)\n",
    "    s0_mean_data = np.apply_along_axis(calculate_mean_and_error, axis=1, arr=raw_s0_data)\n",
    "    s0_var_data = np.apply_along_axis(calculate_variance_and_error, axis=1, arr=raw_s0_data)\n",
    "    plot_data[L]['p_proj'] = p_proj_values[:]\n",
    "    plot_data[L]['mean'] = s0_mean_data[:,0]\n",
    "    plot_data[L]['sem'] = s0_mean_data[:,1]\n",
    "    plot_data[L]['variance'] = s0_var_data[:,0]\n",
    "    plot_data[L]['se_var'] = s0_var_data[:,1]\n",
    "\n",
    "fig, (ax1, ax2) = plt.subplots(1, 2, figsize=(14, 6))\n",
    "\n",
    "# Plot 1: p_proj vs mean ± sem\n",
    "for i, L in enumerate(L_values):\n",
    "    ax1.errorbar(plot_data[L]['p_proj'], plot_data[L]['mean'], yerr=plot_data[L]['sem'], \n",
    "                label=f'L={L}', marker='o', capsize=5, capthick=2, color=colors[i])\n",
    "\n",
    "ax1.set_xlabel('p_proj')\n",
    "ax1.set_ylabel('Mean Entropy ± SEM')\n",
    "ax1.set_title('Mean Entropy vs p_proj for Different L')\n",
    "ax1.legend()\n",
    "ax1.set_xlim(0.2, 1.0)\n",
    "ax1.grid(True, alpha=0.3)\n",
    "\n",
    "# Plot 2: p_proj vs variance ± se_var\n",
    "for i, L in enumerate(L_values):\n",
    "    data = plot_data[L]\n",
    "    \n",
    "    ax2.errorbar(data['p_proj'], data['variance'], yerr=data['se_var'], \n",
    "                label=f'L={L}', marker='s', capsize=5, capthick=2, color=colors[i])\n",
    "\n",
    "ax2.set_xlabel('p_proj')\n",
    "ax2.set_ylabel('Variance ± SEVar')\n",
    "ax2.set_title('Variance vs p_proj for Different L')\n",
    "ax2.legend()\n",
    "ax2.set_xlim(0.2, 1.0)\n",
    "ax2.grid(True, alpha=0.3)\n",
    "\n",
    "plt.tight_layout()\n",
    "# plt.savefig(f'{self.save_folder}/s{self.n}_threshold{threshold:.1e}_{self.p_fixed_name}{self.p_fixed_value}.png')\n",
    "# print(f'threshold {threshold} saved to {self.save_folder}/s{self.n}_threshold{threshold:.1e}_{self.p_fixed_name}{self.p_fixed_value}.png')\n",
    "plt.show()"
   ]
  }
 ],
 "metadata": {
  "kernelspec": {
   "display_name": "Simple Python 3.9.6",
   "language": "python",
   "name": "simple-python"
  },
  "language_info": {
   "codemirror_mode": {
    "name": "ipython",
    "version": 3
   },
   "file_extension": ".py",
   "mimetype": "text/x-python",
   "name": "python",
   "nbconvert_exporter": "python",
   "pygments_lexer": "ipython3",
   "version": "3.9.6"
  }
 },
 "nbformat": 4,
 "nbformat_minor": 5
}
