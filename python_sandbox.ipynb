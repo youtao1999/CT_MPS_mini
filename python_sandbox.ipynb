{
 "cells": [
  {
   "cell_type": "code",
   "execution_count": 16,
   "id": "40ad0989",
   "metadata": {},
   "outputs": [],
   "source": [
    "import sys\n",
    "sys.path.append('/scratch/ty296/CT_MPS_mini')\n",
    "from read_hdf5_func import von_neumann_entropy_sv\n",
    "import h5py\n",
    "import numpy as np\n",
    "import os\n",
    "\n",
    "# Read the HDF5 file\n",
    "filename = '/scratch/ty296/hdf5_data_combined/sv_combined_p_ctrl0.0.h5'\n"
   ]
  },
  {
   "cell_type": "code",
   "execution_count": 17,
   "id": "93fed669",
   "metadata": {},
   "outputs": [
    {
     "name": "stdout",
     "output_type": "stream",
     "text": [
      "['/projects/community/python/3.9.6/gc563/lib/python39.zip', '/projects/community/python/3.9.6/gc563/lib/python3.9', '/projects/community/python/3.9.6/gc563/lib/python3.9/lib-dynload', '', '/home/ty296/.local/lib/python3.9/site-packages', '/projects/community/python/3.9.6/gc563/lib/python3.9/site-packages', '/scratch/ty296/CT_MPS_mini', '/scratch/ty296/CT_MPS_mini', '/scratch/ty296/CT_MPS_mini', '/scratch/ty296/CT_MPS_mini', '/scratch/ty296/CT_MPS_mini']\n",
      "/scratch/ty296\n"
     ]
    }
   ],
   "source": [
    "print(sys.path)\n",
    "print(os.getcwd())"
   ]
  },
  {
   "cell_type": "code",
   "execution_count": 18,
   "id": "209626b7",
   "metadata": {},
   "outputs": [
    {
     "name": "stdout",
     "output_type": "stream",
     "text": [
      "0.15789473684210525\n"
     ]
    }
   ],
   "source": [
    "p_proj_list = np.linspace(0.0,1.0,20)\n",
    "p_target = p_proj_list[3]\n",
    "print(p_target)"
   ]
  },
  {
   "cell_type": "code",
   "execution_count": 27,
   "id": "13d5af70",
   "metadata": {},
   "outputs": [
    {
     "name": "stdout",
     "output_type": "stream",
     "text": [
      "real100005\n",
      "32\n",
      "0.0\n",
      "0.7473684210526316\n",
      "2\n",
      "3443\n",
      "real100006\n",
      "32\n",
      "0.0\n",
      "0.7473684210526316\n",
      "2\n",
      "6735\n",
      "real100007\n",
      "32\n",
      "0.0\n",
      "0.7473684210526316\n",
      "2\n",
      "4891\n",
      "real100008\n",
      "32\n",
      "0.0\n",
      "0.7473684210526316\n",
      "1\n",
      "9960\n",
      "real100009\n",
      "32\n",
      "0.0\n",
      "0.7473684210526316\n",
      "1\n",
      "3561\n"
     ]
    }
   ],
   "source": [
    "maxbonds = []\n",
    "counter = 0\n",
    "n = 10\n",
    "delta = 5\n",
    "with h5py.File(filename, 'r') as f:\n",
    "    for key in list(f.keys())[n: n+delta]:\n",
    "        print(key)\n",
    "        print(f[key].attrs['L'])\n",
    "        print(f[key].attrs['p_ctrl'])\n",
    "        print(f[key].attrs['p_proj'])\n",
    "        print(f[key].attrs['maxbond'])\n",
    "        print(f[key].attrs['seed'])\n",
    "        "
   ]
  },
  {
   "cell_type": "code",
   "execution_count": null,
   "id": "f5835b37",
   "metadata": {},
   "outputs": [
    {
     "data": {
      "text/plain": [
       "8388608"
      ]
     },
     "execution_count": 41,
     "metadata": {},
     "output_type": "execute_result"
    }
   ],
   "source": []
  },
  {
   "cell_type": "code",
   "execution_count": null,
   "id": "72dc2a60",
   "metadata": {},
   "outputs": [],
   "source": []
  }
 ],
 "metadata": {
  "kernelspec": {
   "display_name": "Python 3",
   "language": "python",
   "name": "python3"
  },
  "language_info": {
   "codemirror_mode": {
    "name": "ipython",
    "version": 3
   },
   "file_extension": ".py",
   "mimetype": "text/x-python",
   "name": "python",
   "nbconvert_exporter": "python",
   "pygments_lexer": "ipython3",
   "version": "3.9.6"
  }
 },
 "nbformat": 4,
 "nbformat_minor": 5
}
