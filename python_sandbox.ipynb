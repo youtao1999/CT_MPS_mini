{
 "cells": [
  {
   "cell_type": "code",
   "execution_count": 28,
   "id": "40ad0989",
   "metadata": {},
   "outputs": [],
   "source": [
    "import sys\n",
    "sys.path.append('/scratch/ty296/CT_MPS_mini')\n",
    "from read_hdf5_func import von_neumann_entropy_sv\n",
    "import h5py\n",
    "import numpy as np\n",
    "import os\n",
    "\n",
    "# Read the HDF5 file\n",
    "filename = '/scratch/ty296/hdf5_data/p_ctrl0.0/46376498_a0_L10.h5'\n"
   ]
  },
  {
   "cell_type": "code",
   "execution_count": 29,
   "id": "93fed669",
   "metadata": {},
   "outputs": [
    {
     "name": "stdout",
     "output_type": "stream",
     "text": [
      "['/projects/community/python/3.9.6/gc563/lib/python39.zip', '/projects/community/python/3.9.6/gc563/lib/python3.9', '/projects/community/python/3.9.6/gc563/lib/python3.9/lib-dynload', '', '/home/ty296/.local/lib/python3.9/site-packages', '/projects/community/python/3.9.6/gc563/lib/python3.9/site-packages', '/scratch/ty296/CT_MPS_mini', '/scratch/ty296/CT_MPS_mini', '/scratch/ty296/CT_MPS_mini', '/scratch/ty296/CT_MPS_mini']\n",
      "/scratch/ty296\n"
     ]
    }
   ],
   "source": [
    "print(sys.path)\n",
    "print(os.getcwd())"
   ]
  },
  {
   "cell_type": "code",
   "execution_count": 30,
   "id": "209626b7",
   "metadata": {},
   "outputs": [
    {
     "name": "stdout",
     "output_type": "stream",
     "text": [
      "0.15789473684210525\n"
     ]
    }
   ],
   "source": [
    "p_proj_list = np.linspace(0.0,1.0,20)\n",
    "p_target = p_proj_list[3]\n",
    "print(p_target)"
   ]
  },
  {
   "cell_type": "code",
   "execution_count": 43,
   "id": "13d5af70",
   "metadata": {},
   "outputs": [
    {
     "name": "stdout",
     "output_type": "stream",
     "text": [
      "Keys in HDF5 file:\n",
      "metadata\n",
      "<KeysViewHDF5 ['result_1', 'result_2', 'result_3', 'result_4', 'result_5']>\n",
      "<class 'h5py._hl.group.Group'>\n",
      "<KeysViewHDF5 ['O', 'args', 'max_bond', 'p_ctrl', 'p_proj', 'realization', 'seed']>\n",
      "8084\n",
      "4\n",
      "1\n",
      "<KeysViewHDF5 ['L', 'ancilla', 'cutoff', 'job_id', 'maxdim', 'n_chunk_realizations', 'output_dir', 'p_fixed_name', 'p_fixed_value', 'p_range', 'random', 'store_sv']>\n",
      "singular_values\n",
      "<KeysViewHDF5 ['result_1', 'result_2', 'result_3', 'result_4', 'result_5']>\n",
      "<class 'h5py._hl.dataset.Dataset'>\n"
     ]
    },
    {
     "ename": "AttributeError",
     "evalue": "'Dataset' object has no attribute 'keys'",
     "output_type": "error",
     "traceback": [
      "\u001b[0;31m---------------------------------------------------------------------------\u001b[0m",
      "\u001b[0;31mAttributeError\u001b[0m                            Traceback (most recent call last)",
      "Cell \u001b[0;32mIn[43], line 12\u001b[0m\n\u001b[1;32m     10\u001b[0m result_1 \u001b[38;5;241m=\u001b[39m metadata[\u001b[38;5;124m'\u001b[39m\u001b[38;5;124mresult_3\u001b[39m\u001b[38;5;124m'\u001b[39m]\n\u001b[1;32m     11\u001b[0m \u001b[38;5;28mprint\u001b[39m(\u001b[38;5;28mtype\u001b[39m(result_1))\n\u001b[0;32m---> 12\u001b[0m \u001b[38;5;28mprint\u001b[39m(\u001b[43mresult_1\u001b[49m\u001b[38;5;241;43m.\u001b[39;49m\u001b[43mkeys\u001b[49m())\n\u001b[1;32m     13\u001b[0m \u001b[38;5;28mprint\u001b[39m(result_1[\u001b[38;5;124m'\u001b[39m\u001b[38;5;124mseed\u001b[39m\u001b[38;5;124m'\u001b[39m][()])\n\u001b[1;32m     14\u001b[0m \u001b[38;5;28mprint\u001b[39m(result_1[\u001b[38;5;124m'\u001b[39m\u001b[38;5;124mmax_bond\u001b[39m\u001b[38;5;124m'\u001b[39m][()])\n",
      "\u001b[0;31mAttributeError\u001b[0m: 'Dataset' object has no attribute 'keys'"
     ]
    }
   ],
   "source": [
    "maxbonds = []\n",
    "counter = 0\n",
    "with h5py.File(filename, 'r') as f:\n",
    "    print(\"Keys in HDF5 file:\")\n",
    "    keys_list = list(f.keys())\n",
    "    for key in keys_list:\n",
    "        print(key)\n",
    "        metadata = f[key]\n",
    "        print(metadata.keys())\n",
    "        result_1 = metadata['result_3']\n",
    "        print(type(result_1))\n",
    "        print(result_1.keys())\n",
    "        print(result_1['seed'][()])\n",
    "        print(result_1['max_bond'][()])\n",
    "        print(result_1['realization'][()])\n",
    "        print(result_1['args'].keys())\n",
    "    #     L = f[key].attrs['L']\n",
    "    #     p_proj = f[key].attrs['p_proj']\n",
    "    #     args = dict(f[key].attrs)\n",
    "    #     maxbond = args['maxbond']\n",
    "    #     # print(maxbond)\n",
    "    #     if L == 24 and p_proj == p_target:\n",
    "    #         counter += 1\n",
    "    #         # print(f[key].attrs['L'])\n",
    "    #         # print(f\"  {L}: {len(f[key][()])}: {f[key][()]}\")\n",
    "    #         print(maxbond)\n",
    "    #         maxbonds.append(maxbond)\n",
    "    # print(f\"Found {counter} datasets\")\n",
    "\n",
    "# need to store seed and maxbonddim"
   ]
  },
  {
   "cell_type": "code",
   "execution_count": null,
   "id": "f5835b37",
   "metadata": {},
   "outputs": [
    {
     "data": {
      "text/plain": [
       "8388608"
      ]
     },
     "execution_count": 41,
     "metadata": {},
     "output_type": "execute_result"
    }
   ],
   "source": []
  },
  {
   "cell_type": "code",
   "execution_count": null,
   "id": "72dc2a60",
   "metadata": {},
   "outputs": [],
   "source": []
  }
 ],
 "metadata": {
  "kernelspec": {
   "display_name": "Simple Python 3.9.6",
   "language": "python",
   "name": "simple-python"
  },
  "language_info": {
   "codemirror_mode": {
    "name": "ipython",
    "version": 3
   },
   "file_extension": ".py",
   "mimetype": "text/x-python",
   "name": "python",
   "nbconvert_exporter": "python",
   "pygments_lexer": "ipython3",
   "version": "3.9.6"
  }
 },
 "nbformat": 4,
 "nbformat_minor": 5
}
