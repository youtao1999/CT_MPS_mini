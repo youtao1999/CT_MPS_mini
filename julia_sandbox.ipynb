{
 "cells": [
  {
   "cell_type": "code",
   "execution_count": 1,
   "id": "ccd7b1f4-4c49-4c48-8399-8b9ceef0b90d",
   "metadata": {},
   "outputs": [
    {
     "name": "stderr",
     "output_type": "stream",
     "text": [
      "\u001b[32m\u001b[1m  Activating\u001b[22m\u001b[39m project at `~/CT_MPS_mini/CT`\n"
     ]
    }
   ],
   "source": [
    "using Pkg\n",
    "Pkg.activate(\"CT\")\n",
    "using CT"
   ]
  },
  {
   "cell_type": "code",
   "execution_count": 2,
   "id": "484c31bc-19ce-4b04-b4af-2b0e62cde5a5",
   "metadata": {},
   "outputs": [
    {
     "name": "stdout",
     "output_type": "stream",
     "text": [
      "\u001b[36m\u001b[1mProject\u001b[22m\u001b[39m CT v0.1.0\n",
      "\u001b[32m\u001b[1mStatus\u001b[22m\u001b[39m `~/CT_MPS_mini/CT/Project.toml`\n",
      "  \u001b[90m[c7e460c6] \u001b[39mArgParse v1.2.0\n",
      "\u001b[32m⌃\u001b[39m \u001b[90m[6e4b80f9] \u001b[39mBenchmarkTools v1.5.0\n",
      "  \u001b[90m[f67ccb44] \u001b[39mHDF5 v0.17.2\n",
      "\u001b[33m⌅\u001b[39m \u001b[90m[9136182c] \u001b[39mITensors v0.6.16\n",
      "  \u001b[90m[682c06a0] \u001b[39mJSON v0.21.4\n",
      "\u001b[32m⌃\u001b[39m \u001b[90m[33e6dc65] \u001b[39mMKL v0.7.0\n",
      "\u001b[32m⌃\u001b[39m \u001b[90m[91a5bcdd] \u001b[39mPlots v1.40.5\n",
      "\u001b[33m⌅\u001b[39m \u001b[90m[9f0aa9f4] \u001b[39mTCIITensorConversion v0.1.4\n",
      "\u001b[32m⌃\u001b[39m \u001b[90m[b261b2ec] \u001b[39mTensorCrossInterpolation v0.9.10\n",
      "\u001b[33m⌅\u001b[39m \u001b[90m[a759f4b9] \u001b[39mTimerOutputs v0.5.24\n",
      "  \u001b[90m[37e2e46d] \u001b[39mLinearAlgebra\n",
      "  \u001b[90m[9a3f8284] \u001b[39mRandom\n",
      "\u001b[36m\u001b[1mInfo\u001b[22m\u001b[39m Packages marked with \u001b[32m⌃\u001b[39m and \u001b[33m⌅\u001b[39m have new versions available, but those with \u001b[33m⌅\u001b[39m are restricted by compatibility constraints from upgrading. To see why use `status --outdated`\n"
     ]
    }
   ],
   "source": [
    "Pkg.status()"
   ]
  },
  {
   "cell_type": "code",
   "execution_count": 3,
   "id": "c29f0c3e",
   "metadata": {},
   "outputs": [
    {
     "data": {
      "text/plain": [
       "filter_highest_tag_number (generic function with 1 method)"
      ]
     },
     "metadata": {},
     "output_type": "display_data"
    }
   ],
   "source": [
    "include(\"global_adder_passthrough.jl\")"
   ]
  },
  {
   "cell_type": "code",
   "execution_count": 4,
   "id": "dd5c3d92",
   "metadata": {},
   "outputs": [
    {
     "name": "stdout",
     "output_type": "stream",
     "text": [
      "[1, 2, 3, 4, 5, 6, 7, 8, 9, 10, 11, 12, 13, 14, 15, 16, 17, 18, 19, 20, 21, 22, 23, 24, 25, 26, 27, 28, 29, 30, 31, 32, 33, 34, 35, 36, 37, 38, 39, 40]\n",
      "[1, 40, 2, 39, 3, 38, 4, 37, 5, 36, 6, 35, 7, 34, 8, 33, 9, 32, 10, 31, 11, 30, 12, 29, 13, 28, 14, 27, 15, 26, 16, 25, 17, 24, 18, 23, 19, 22, 20, 21]\n",
      "[1, 3, 5, 7, 9, 11, 13, 15, 17, 19, 21, 23, 25, 27, 29, 31, 33, 35, 37, 39, 40, 38, 36, 34, 32, 30, 28, 26, 24, 22, 20, 18, 16, 14, 12, 10, 8, 6, 4, 2]\n"
     ]
    },
    {
     "data": {
      "text/plain": [
       "MPS\n",
       "[1] ((dim=2|id=684|\"Qubit,Site,n=1\"), (dim=50|id=932|\"Link,l=1\"))\n",
       "[2] ((dim=50|id=932|\"Link,l=1\"), (dim=2|id=735|\"Qubit,Site,n=2\"), (dim=50|id=62|\"Link,l=2\"))\n",
       "[3] ((dim=50|id=62|\"Link,l=2\"), (dim=2|id=253|\"Qubit,Site,n=3\"), (dim=50|id=356|\"Link,l=3\"))\n",
       "[4] ((dim=50|id=356|\"Link,l=3\"), (dim=2|id=787|\"Qubit,Site,n=4\"), (dim=50|id=300|\"Link,l=4\"))\n",
       "[5] ((dim=50|id=300|\"Link,l=4\"), (dim=2|id=923|\"Qubit,Site,n=5\"), (dim=50|id=819|\"Link,l=5\"))\n",
       "[6] ((dim=50|id=819|\"Link,l=5\"), (dim=2|id=592|\"Qubit,Site,n=6\"), (dim=50|id=163|\"Link,l=6\"))\n",
       "[7] ((dim=50|id=163|\"Link,l=6\"), (dim=2|id=520|\"Qubit,Site,n=7\"), (dim=50|id=49|\"Link,l=7\"))\n",
       "[8] ((dim=50|id=49|\"Link,l=7\"), (dim=2|id=612|\"Qubit,Site,n=8\"), (dim=50|id=993|\"Link,l=8\"))\n",
       "[9] ((dim=50|id=993|\"Link,l=8\"), (dim=2|id=367|\"Qubit,Site,n=9\"), (dim=50|id=624|\"Link,l=9\"))\n",
       "[10] ((dim=50|id=624|\"Link,l=9\"), (dim=2|id=8|\"Qubit,Site,n=10\"), (dim=50|id=751|\"Link,l=10\"))\n",
       "[11] ((dim=50|id=751|\"Link,l=10\"), (dim=2|id=120|\"Qubit,Site,n=11\"), (dim=50|id=125|\"Link,l=11\"))\n",
       "[12] ((dim=50|id=125|\"Link,l=11\"), (dim=2|id=63|\"Qubit,Site,n=12\"), (dim=50|id=441|\"Link,l=12\"))\n",
       "[13] ((dim=50|id=441|\"Link,l=12\"), (dim=2|id=944|\"Qubit,Site,n=13\"), (dim=50|id=505|\"Link,l=13\"))\n",
       "[14] ((dim=50|id=505|\"Link,l=13\"), (dim=2|id=619|\"Qubit,Site,n=14\"), (dim=50|id=98|\"Link,l=14\"))\n",
       "[15] ((dim=50|id=98|\"Link,l=14\"), (dim=2|id=330|\"Qubit,Site,n=15\"), (dim=50|id=832|\"Link,l=15\"))\n",
       "[16] ((dim=50|id=832|\"Link,l=15\"), (dim=2|id=403|\"Qubit,Site,n=16\"), (dim=50|id=966|\"Link,l=16\"))\n",
       "[17] ((dim=50|id=966|\"Link,l=16\"), (dim=2|id=610|\"Qubit,Site,n=17\"), (dim=50|id=818|\"Link,l=17\"))\n",
       "[18] ((dim=50|id=818|\"Link,l=17\"), (dim=2|id=878|\"Qubit,Site,n=18\"), (dim=50|id=537|\"Link,l=18\"))\n",
       "[19] ((dim=50|id=537|\"Link,l=18\"), (dim=2|id=846|\"Qubit,Site,n=19\"), (dim=50|id=331|\"Link,l=19\"))\n",
       "[20] ((dim=50|id=331|\"Link,l=19\"), (dim=2|id=441|\"Qubit,Site,n=20\"), (dim=50|id=988|\"Link,l=20\"))\n",
       "[21] ((dim=50|id=988|\"Link,l=20\"), (dim=2|id=712|\"Qubit,Site,n=21\"), (dim=50|id=502|\"Link,l=21\"))\n",
       "[22] ((dim=50|id=502|\"Link,l=21\"), (dim=2|id=762|\"Qubit,Site,n=22\"), (dim=50|id=411|\"Link,l=22\"))\n",
       "[23] ((dim=50|id=411|\"Link,l=22\"), (dim=2|id=787|\"Qubit,Site,n=23\"), (dim=50|id=74|\"Link,l=23\"))\n",
       "[24] ((dim=50|id=74|\"Link,l=23\"), (dim=2|id=688|\"Qubit,Site,n=24\"), (dim=50|id=94|\"Link,l=24\"))\n",
       "[25] ((dim=50|id=94|\"Link,l=24\"), (dim=2|id=204|\"Qubit,Site,n=25\"), (dim=50|id=900|\"Link,l=25\"))\n",
       "[26] ((dim=50|id=900|\"Link,l=25\"), (dim=2|id=666|\"Qubit,Site,n=26\"), (dim=50|id=374|\"Link,l=26\"))\n",
       "[27] ((dim=50|id=374|\"Link,l=26\"), (dim=2|id=570|\"Qubit,Site,n=27\"), (dim=50|id=806|\"Link,l=27\"))\n",
       "[28] ((dim=50|id=806|\"Link,l=27\"), (dim=2|id=782|\"Qubit,Site,n=28\"), (dim=50|id=540|\"Link,l=28\"))\n",
       "[29] ((dim=50|id=540|\"Link,l=28\"), (dim=2|id=688|\"Qubit,Site,n=29\"), (dim=50|id=95|\"Link,l=29\"))\n",
       "[30] ((dim=50|id=95|\"Link,l=29\"), (dim=2|id=981|\"Qubit,Site,n=30\"), (dim=50|id=765|\"Link,l=30\"))\n",
       "[31] ((dim=50|id=765|\"Link,l=30\"), (dim=2|id=441|\"Qubit,Site,n=31\"), (dim=50|id=898|\"Link,l=31\"))\n",
       "[32] ((dim=50|id=898|\"Link,l=31\"), (dim=2|id=885|\"Qubit,Site,n=32\"), (dim=50|id=126|\"Link,l=32\"))\n",
       "[33] ((dim=50|id=126|\"Link,l=32\"), (dim=2|id=277|\"Qubit,Site,n=33\"), (dim=50|id=994|\"Link,l=33\"))\n",
       "[34] ((dim=50|id=994|\"Link,l=33\"), (dim=2|id=541|\"Qubit,Site,n=34\"), (dim=50|id=378|\"Link,l=34\"))\n",
       "[35] ((dim=50|id=378|\"Link,l=34\"), (dim=2|id=66|\"Qubit,Site,n=35\"), (dim=32|id=356|\"Link,l=35\"))\n",
       "[36] ((dim=32|id=356|\"Link,l=35\"), (dim=2|id=894|\"Qubit,Site,n=36\"), (dim=16|id=952|\"Link,l=36\"))\n",
       "[37] ((dim=16|id=952|\"Link,l=36\"), (dim=2|id=352|\"Qubit,Site,n=37\"), (dim=8|id=644|\"Link,l=37\"))\n",
       "[38] ((dim=8|id=644|\"Link,l=37\"), (dim=2|id=634|\"Qubit,Site,n=38\"), (dim=4|id=734|\"Link,l=38\"))\n",
       "[39] ((dim=4|id=734|\"Link,l=38\"), (dim=2|id=789|\"Qubit,Site,n=39\"), (dim=2|id=685|\"Link,l=39\"))\n",
       "[40] ((dim=2|id=685|\"Link,l=39\"), (dim=2|id=714|\"Qubit,Site,n=40\"))\n"
      ]
     },
     "metadata": {},
     "output_type": "display_data"
    }
   ],
   "source": [
    "# benchmark adder_MPO\n",
    "using ITensors\n",
    "# initialize random state\n",
    "using .CT: _initialize_basis, _initialize_vector, P_MPO, XI_MPO, I_MPO, adder_MPO, add1, power_mpo\n",
    "using Random\n",
    "\n",
    "L = 40\n",
    "ancilla = 0\n",
    "folded = true\n",
    "seed_vec = 123457\n",
    "xj = Set([1//3, 2//3])\n",
    "i1 = 1\n",
    "p_ctrl = 1.0\n",
    "p_proj = 0.0\n",
    "_maxdim = 50\n",
    "_cutoff = 1e-15\n",
    "seed = 123457\n",
    "x0 = nothing\n",
    "qubit_site, ram_phy, phy_ram, phy_list = _initialize_basis(L, ancilla, folded)\n",
    "println(phy_list)\n",
    "println(ram_phy)\n",
    "println(phy_ram)\n",
    "rng = MersenneTwister(seed_vec)\n",
    "rng_vec = seed_vec === nothing ? rng : MersenneTwister(seed_vec)\n",
    "# initial_state = _initialize_vector(L, ancilla, x0, folded, qubit_site, ram_phy, phy_ram, phy_list, rng_vec, _cutoff, _maxdim);\n",
    "# println(initial_state)\n",
    "shift_1_3_bits, shift_1_3_amount = fraction_to_binary_shift(1, 3, L)\n",
    "# initial_state = productMPS(qubit_site, [1,2,1,2,2,1,2,1,2,1,2,1,1,1,2,2])\n",
    "initial_state = _initialize_vector(L, ancilla, x0, folded, qubit_site, ram_phy, phy_ram, phy_list, rng_vec, _cutoff, _maxdim);\n",
    "\n",
    "# initialize haining adder mpo\n",
    "add1_mpo=MPO(add1(i1,L,phy_ram,phy_list),qubit_site)\n",
    "add1_6,add1_3=power_mpo(add1_mpo,[div(2^L,6)+1,div(2^L,3)])\n",
    "\n",
    "# initialize tao adder mpo\n",
    "carry_links, T_vec, id_vec, gate_vec = initialize_links(L, qubit_site, shift_1_3_bits, ram_phy);\n",
    "initial_state_1 = copy(initial_state)\n",
    "initial_state_2 = copy(initial_state)"
   ]
  },
  {
   "cell_type": "code",
   "execution_count": null,
   "id": "bca86256",
   "metadata": {},
   "outputs": [],
   "source": []
  },
  {
   "cell_type": "code",
   "execution_count": 5,
   "id": "bbc1efb1",
   "metadata": {},
   "outputs": [
    {
     "data": {
      "text/plain": [
       "300"
      ]
     },
     "metadata": {},
     "output_type": "display_data"
    }
   ],
   "source": [
    "using BenchmarkTools\n",
    "BenchmarkTools.DEFAULT_PARAMETERS.samples = 100\n",
    "BenchmarkTools.DEFAULT_PARAMETERS.evals = 1\n",
    "BenchmarkTools.DEFAULT_PARAMETERS.seconds = 300\n"
   ]
  },
  {
   "cell_type": "code",
   "execution_count": 6,
   "id": "ea823cb6",
   "metadata": {},
   "outputs": [
    {
     "data": {
      "text/plain": [
       "BenchmarkTools.Trial: 100 samples with 1 evaluation.\n",
       " Range \u001b[90m(\u001b[39m\u001b[36m\u001b[1mmin\u001b[22m\u001b[39m … \u001b[35mmax\u001b[39m\u001b[90m):  \u001b[39m\u001b[36m\u001b[1m755.511 ms\u001b[22m\u001b[39m … \u001b[35m   2.025 s\u001b[39m  \u001b[90m┊\u001b[39m GC \u001b[90m(\u001b[39mmin … max\u001b[90m): \u001b[39m14.38% … 25.58%\n",
       " Time  \u001b[90m(\u001b[39m\u001b[34m\u001b[1mmedian\u001b[22m\u001b[39m\u001b[90m):     \u001b[39m\u001b[34m\u001b[1m822.043 ms               \u001b[22m\u001b[39m\u001b[90m┊\u001b[39m GC \u001b[90m(\u001b[39mmedian\u001b[90m):    \u001b[39m13.07%\n",
       " Time  \u001b[90m(\u001b[39m\u001b[32m\u001b[1mmean\u001b[22m\u001b[39m ± \u001b[32mσ\u001b[39m\u001b[90m):   \u001b[39m\u001b[32m\u001b[1m839.055 ms\u001b[22m\u001b[39m ± \u001b[32m125.929 ms\u001b[39m  \u001b[90m┊\u001b[39m GC \u001b[90m(\u001b[39mmean ± σ\u001b[90m):  \u001b[39m13.43% ±  1.47%\n",
       "\n",
       "  \u001b[39m \u001b[39m \u001b[39m \u001b[39m \u001b[39m \u001b[39m▂\u001b[39m \u001b[39m \u001b[39m \u001b[39m█\u001b[39m▄\u001b[39m█\u001b[39m▆\u001b[39m▂\u001b[39m \u001b[39m▄\u001b[34m▄\u001b[39m\u001b[39m▂\u001b[39m▂\u001b[39m▄\u001b[32m▂\u001b[39m\u001b[39m█\u001b[39m \u001b[39m \u001b[39m \u001b[39m \u001b[39m \u001b[39m \u001b[39m \u001b[39m \u001b[39m \u001b[39m \u001b[39m \u001b[39m \u001b[39m \u001b[39m \u001b[39m \u001b[39m \u001b[39m \u001b[39m \u001b[39m \u001b[39m \u001b[39m \u001b[39m \u001b[39m \u001b[39m \u001b[39m \u001b[39m \u001b[39m \u001b[39m \u001b[39m \u001b[39m \u001b[39m \u001b[39m \u001b[39m \u001b[39m \u001b[39m \u001b[39m \u001b[39m \u001b[39m \u001b[39m \u001b[39m \u001b[39m \n",
       "  \u001b[39m▆\u001b[39m▁\u001b[39m▁\u001b[39m▆\u001b[39m▁\u001b[39m█\u001b[39m▆\u001b[39m▄\u001b[39m▆\u001b[39m█\u001b[39m█\u001b[39m█\u001b[39m█\u001b[39m█\u001b[39m█\u001b[39m█\u001b[34m█\u001b[39m\u001b[39m█\u001b[39m█\u001b[39m█\u001b[32m█\u001b[39m\u001b[39m█\u001b[39m▄\u001b[39m▄\u001b[39m█\u001b[39m█\u001b[39m▆\u001b[39m▁\u001b[39m▄\u001b[39m▆\u001b[39m▄\u001b[39m▁\u001b[39m▄\u001b[39m▁\u001b[39m▁\u001b[39m▄\u001b[39m▁\u001b[39m▁\u001b[39m▄\u001b[39m▄\u001b[39m▁\u001b[39m▁\u001b[39m▁\u001b[39m▄\u001b[39m▁\u001b[39m▁\u001b[39m▁\u001b[39m▁\u001b[39m▁\u001b[39m▁\u001b[39m▁\u001b[39m▁\u001b[39m▁\u001b[39m▁\u001b[39m▁\u001b[39m▁\u001b[39m▁\u001b[39m▁\u001b[39m▁\u001b[39m▁\u001b[39m▄\u001b[39m \u001b[39m▄\n",
       "  756 ms\u001b[90m           Histogram: frequency by time\u001b[39m          1.01 s \u001b[0m\u001b[1m<\u001b[22m\n",
       "\n",
       " Memory estimate\u001b[90m: \u001b[39m\u001b[33m1.41 GiB\u001b[39m, allocs estimate\u001b[90m: \u001b[39m\u001b[33m49423\u001b[39m."
      ]
     },
     "metadata": {},
     "output_type": "display_data"
    }
   ],
   "source": [
    "@benchmark initial_state_1 = apply(add1_3,$initial_state_1)\n"
   ]
  },
  {
   "cell_type": "code",
   "execution_count": null,
   "id": "26d92e46",
   "metadata": {},
   "outputs": [],
   "source": [
    "@benchmark initial_state_2 = global_adder($initial_state_2, carry_links, T_vec, id_vec, gate_vec, qubit_site, shift_1_3_bits, ram_phy)"
   ]
  },
  {
   "cell_type": "code",
   "execution_count": null,
   "id": "4786f942",
   "metadata": {},
   "outputs": [],
   "source": [
    "BenchmarkTools.DEFAULT_PARAMETERS.seconds"
   ]
  },
  {
   "cell_type": "code",
   "execution_count": null,
   "id": "2de2d5c6",
   "metadata": {},
   "outputs": [],
   "source": [
    "println(contract(initial_state_2).tensor)"
   ]
  },
  {
   "cell_type": "code",
   "execution_count": null,
   "id": "36af7258",
   "metadata": {},
   "outputs": [],
   "source": [
    "# The `seconds` expression helps set a rough time budget, see Manual for more explanation\n",
    "@btime sin(x) setup=(x=rand()) seconds=3"
   ]
  },
  {
   "cell_type": "code",
   "execution_count": null,
   "id": "c777f72a",
   "metadata": {},
   "outputs": [],
   "source": [
    "# psi = contract(initial_state)\n",
    "# println(inds(psi))\n",
    "# print_nonzero_coordinates(psi)"
   ]
  },
  {
   "cell_type": "code",
   "execution_count": null,
   "id": "54e95231",
   "metadata": {},
   "outputs": [],
   "source": [
    "# function perm(bit_string::String, pattern::Vector{Int})\n",
    "#     permuted = ['0' for _ in 1:length(bit_string)]\n",
    "#     for (i, pos) in enumerate(pattern)\n",
    "#         permuted[pos] = bit_string[i]\n",
    "#     end\n",
    "#     return join(permuted)\n",
    "# end"
   ]
  },
  {
   "cell_type": "code",
   "execution_count": 2,
   "id": "d409d518",
   "metadata": {},
   "outputs": [
    {
     "data": {
      "text/plain": [
       "7-element Vector{Float64}:\n",
       " 0.24210526\n",
       " 0.28421053\n",
       " 0.32631579\n",
       " 0.36842105\n",
       " 0.41052632\n",
       " 0.45263158\n",
       " 0.49473684"
      ]
     },
     "metadata": {},
     "output_type": "display_data"
    }
   ],
   "source": [
    "p_range_str = \"0.24210526,0.28421053,0.32631579,0.36842105,0.41052632,0.45263158,0.49473684\"\n",
    "parse.(Float64, split(p_range_str, \",\"))"
   ]
  },
  {
   "cell_type": "code",
   "execution_count": null,
   "id": "e66c1462",
   "metadata": {},
   "outputs": [],
   "source": []
  }
 ],
 "metadata": {
  "kernelspec": {
   "display_name": "Julia 1.9.3",
   "language": "julia",
   "name": "julia-1.9"
  },
  "language_info": {
   "file_extension": ".jl",
   "mimetype": "application/julia",
   "name": "julia",
   "version": "1.9.3"
  }
 },
 "nbformat": 4,
 "nbformat_minor": 5
}
