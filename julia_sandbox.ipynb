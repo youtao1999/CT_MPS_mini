{
 "cells": [
  {
   "cell_type": "code",
   "execution_count": 1,
   "id": "ccd7b1f4-4c49-4c48-8399-8b9ceef0b90d",
   "metadata": {},
   "outputs": [
    {
     "name": "stderr",
     "output_type": "stream",
     "text": [
      "\u001b[32m\u001b[1m  Activating\u001b[22m\u001b[39m project at `~/code/CT_MPS_mini/CT`\n"
     ]
    }
   ],
   "source": [
    "using Pkg\n",
    "Pkg.activate(\"CT\")\n",
    "using CT"
   ]
  },
  {
   "cell_type": "code",
   "execution_count": null,
   "id": "484c31bc-19ce-4b04-b4af-2b0e62cde5a5",
   "metadata": {},
   "outputs": [
    {
     "name": "stdout",
     "output_type": "stream",
     "text": [
      "\u001b[36m\u001b[1mProject\u001b[22m\u001b[39m CT v0.1.0\n",
      "\u001b[32m\u001b[1mStatus\u001b[22m\u001b[39m `~/code/CT_MPS_mini/CT/Project.toml`\n",
      "  \u001b[90m[c7e460c6] \u001b[39mArgParse v1.2.0\n",
      "  \u001b[90m[6e4b80f9] \u001b[39mBenchmarkTools v1.6.0\n",
      "  \u001b[90m[f67ccb44] \u001b[39mHDF5 v0.17.2\n",
      "\u001b[33m⌅\u001b[39m \u001b[90m[9136182c] \u001b[39mITensors v0.6.19\n",
      "  \u001b[90m[682c06a0] \u001b[39mJSON v0.21.4\n",
      "  \u001b[90m[33e6dc65] \u001b[39mMKL v0.9.0\n",
      "  \u001b[90m[da04e1cc] \u001b[39mMPI v0.20.23\n",
      "  \u001b[90m[3da0fdf6] \u001b[39mMPIPreferences v0.1.11\n",
      "\u001b[33m⌅\u001b[39m \u001b[90m[9f0aa9f4] \u001b[39mTCIITensorConversion v0.1.4\n",
      "\u001b[32m⌃\u001b[39m \u001b[90m[b261b2ec] \u001b[39mTensorCrossInterpolation v0.9.16\n",
      "\u001b[33m⌅\u001b[39m \u001b[90m[a759f4b9] \u001b[39mTimerOutputs v0.5.25\n",
      "  \u001b[90m[37e2e46d] \u001b[39mLinearAlgebra\n",
      "  \u001b[90m[9a3f8284] \u001b[39mRandom\n",
      "\u001b[36m\u001b[1mInfo\u001b[22m\u001b[39m Packages marked with \u001b[32m⌃\u001b[39m and \u001b[33m⌅\u001b[39m have new versions available, but those with \u001b[33m⌅\u001b[39m are restricted by compatibility constraints from upgrading. To see why use `status --outdated`\n"
     ]
    }
   ],
   "source": [
    "Pkg.status()"
   ]
  },
  {
   "cell_type": "code",
   "execution_count": 3,
   "id": "c29f0c3e",
   "metadata": {},
   "outputs": [
    {
     "data": {
      "text/plain": [
       "filter_highest_tag_number (generic function with 1 method)"
      ]
     },
     "metadata": {},
     "output_type": "display_data"
    }
   ],
   "source": [
    "include(\"global_adder_passthrough.jl\")"
   ]
  },
  {
   "cell_type": "code",
   "execution_count": 4,
   "id": "dd5c3d92",
   "metadata": {},
   "outputs": [
    {
     "name": "stderr",
     "output_type": "stream",
     "text": [
      "\u001b[32m\u001b[1m  Activating\u001b[22m\u001b[39m project at `~/code/CT_MPS_mini/CT`\n"
     ]
    },
    {
     "name": "stdout",
     "output_type": "stream",
     "text": [
      "initializing random MPS with linkdims 1024\n"
     ]
    }
   ],
   "source": [
    "using Pkg\n",
    "Pkg.activate(\"CT\")\n",
    "using CT\n",
    "\n",
    "# benchmark adder_MPO\n",
    "using ITensors\n",
    "# initialize random state\n",
    "using .CT: _initialize_basis, _initialize_vector, P_MPO, XI_MPO, I_MPO, adder_MPO, add1, power_mpo\n",
    "using Random\n",
    "\n",
    "L = 32\n",
    "ancilla = 0\n",
    "folded = true\n",
    "seed_vec = 123457\n",
    "xj = Set([1//3, 2//3])\n",
    "i1 = 1\n",
    "_maxdim = 2^(div(L,2))\n",
    "_maxdim0 = 2^10\n",
    "_eps = 1e-10\n",
    "seed = 123457\n",
    "x0 = nothing\n",
    "qubit_site, ram_phy, phy_ram, phy_list = _initialize_basis(L, ancilla, folded)\n",
    "rng = MersenneTwister(seed_vec)\n",
    "rng_vec = seed_vec === nothing ? rng : MersenneTwister(seed_vec)\n",
    "shift_1_3_bits, shift_1_3_amount = fraction_to_binary_shift(1, 3, L)\n",
    "shift_1_6_bits, shift_1_6_amount = fraction_to_binary_shift(1, 6, L)\n",
    "initial_state = _initialize_vector(L, ancilla, x0, folded, qubit_site, ram_phy, phy_ram, phy_list, rng_vec, _eps, _maxdim0);\n",
    "\n",
    "# initialize haining adder mpo\n",
    "add1_mpo=MPO(add1(i1,L,phy_ram,phy_list),qubit_site)\n",
    "add1_6,add1_3=power_mpo(add1_mpo,[div(2^L,6)+1,div(2^L,3)])\n",
    "\n",
    "# create_addition_tensor_with_carry(shift_bit::Int, s::Index, s_prime::Index, c_in::Index, c_out::Index)\n",
    "carry_links, T_vec, id_vec, gate_vec = initialize_links(L, qubit_site, shift_1_6_bits, ram_phy);\n",
    "i1 = 1;"
   ]
  },
  {
   "cell_type": "code",
   "execution_count": 5,
   "id": "a5bf1b97",
   "metadata": {},
   "outputs": [],
   "source": [
    "using .CT: all_bond_dim, max_bond_dim, maxlinkdim"
   ]
  },
  {
   "cell_type": "code",
   "execution_count": null,
   "id": "cec5febe",
   "metadata": {},
   "outputs": [
    {
     "data": {
      "text/plain": [
       "lower_prime_level (generic function with 1 method)"
      ]
     },
     "metadata": {},
     "output_type": "display_data"
    }
   ],
   "source": [
    "# function sort_indices(tensor::ITensor, _tags::String)\n",
    "#     indices = filterinds(inds(tensor), _tags)\n",
    "#     sorted_inds = sort(collect(indices), by = x -> begin\n",
    "#         tag_str = string(tags(x))\n",
    "#         m = match(r\"c=(\\d+)\", tag_str)\n",
    "#         parse(Int, m.captures[1])\n",
    "#     end)\n",
    "#     return sorted_inds\n",
    "# end\n",
    "\n",
    "# function lower_prime_level(tensor::ITensor, _tags::String)\n",
    "#     # this function lower the double prime level indices to single prime level\n",
    "#     for index in filterinds(inds(tensor), _tags)\n",
    "#         if plev(index) > 1\n",
    "#             tensor = prime(tensor, -(plev(index)-1), index)\n",
    "#         end\n",
    "#     end\n",
    "#     return tensor\n",
    "# end\n",
    "\n",
    "# # set the boundary condition so that we are not carrying dangling indices around\n",
    "# function build_adder_mpo(i1::Int,xj::Set,qubit_site::Vector{Index{Int64}},L::Int,phy_ram::Vector{Int},phy_list::Vector{Int})\n",
    "#     lsb_tensor = onehot(carry_links[2]=>1)\n",
    "\n",
    "#     # discard the carry out of the msb tensor\n",
    "#     msb_tensor = ITensor(carry_links[1])\n",
    "#     msb_tensor[carry_links[1]=>1] = 1.0\n",
    "#     msb_tensor[carry_links[1]=>2] = 1.0\n",
    "\n",
    "#     gate_vec[1] = gate_vec[1] * msb_tensor\n",
    "#     gate_vec[2] = gate_vec[2] * lsb_tensor\n",
    "#     mpo_vec = [ITensor() for _ in 1:L];\n",
    "\n",
    "#     tmp_tensor = gate_vec[1] * prime(gate_vec[2], \"Qubit,Site,n=2\") * prime(gate_vec[3], \"Qubit,Site,n=3\")\n",
    "#     tmp_tensor = lower_prime_level(tmp_tensor, \"Qubit,Site\")\n",
    "\n",
    "#     U, S, V = svd(tmp_tensor, [qubit_site[1], prime(qubit_site[1])], lefttags = \"Link,l=1\", cutoff=_eps, maxdim=_maxdim);\n",
    "\n",
    "#     mpo_vec[1] = U\n",
    "#     i1 = 4\n",
    "#     while i1 <= length(gate_vec)\n",
    "#         println(\"i1 = \", i1)\n",
    "#         tmp_tensor = lower_prime_level(S * V * prime(gate_vec[i1], \"Qubit,Site,n=$(i1)\"), \"Qubit,Site\")\n",
    "#         U, S, V = svd(tmp_tensor, [qubit_site[i1-2], prime(qubit_site[i1-2]), filterinds(tmp_tensor, tags=\"Link,l=$(i1-3)\")...], lefttags = \"Link,l=$(i1-2)\", cutoff=_eps, maxdim=_maxdim);\n",
    "#         # println(filter(x -> x >= 1e-10, vec(array(S))))\n",
    "#         mpo_vec[i1-2] = U\n",
    "#         i1 += 1\n",
    "#     end\n",
    "\n",
    "#     U, S, V = svd(S * V, [qubit_site[end-2], prime(qubit_site[end-2]), filterinds(S * V, tags=\"Link,l=$(L-3)\")...], lefttags = \"Link,l=$(L-2)\", cutoff=_eps, maxdim=_maxdim);\n",
    "#     mpo_vec[L-2] = U\n",
    "#     U, S, V = svd(lower_prime_level(S * V * prime(T_vec[L], \"Qubit,Site,n=$(L)\"), \"Qubit,Site\"), [qubit_site[L-1], prime(qubit_site[L-1])], lefttags = \"Link,l=$(L-1)\", cutoff=_eps, maxdim=_maxdim);\n",
    "#     mpo_vec[L-1] = U\n",
    "#     mpo_vec[L] = S * V\n",
    "\n",
    "#     return MPO(mpo_vec)\n",
    "\n",
    "# end"
   ]
  },
  {
   "cell_type": "code",
   "execution_count": 8,
   "id": "0d5554d4",
   "metadata": {},
   "outputs": [
    {
     "name": "stdout",
     "output_type": "stream",
     "text": [
      "i1 = 4\n",
      "i1 = 5\n",
      "i1 = 6\n",
      "i1 = 7\n",
      "i1 = 8\n",
      "i1 = 9\n",
      "i1 = 10\n",
      "i1 = 11\n",
      "i1 = 12\n",
      "i1 = 13\n",
      "i1 = 14\n",
      "i1 = 15\n",
      "i1 = 16\n",
      "i1 = 17\n",
      "i1 = 18\n",
      "i1 = 19\n",
      "i1 = 20\n",
      "i1 = 21\n",
      "i1 = 22\n",
      "i1 = 23\n",
      "i1 = 24\n",
      "i1 = 25\n",
      "i1 = 26\n",
      "i1 = 27\n",
      "i1 = 28\n",
      "i1 = 29\n",
      "i1 = 30\n",
      "i1 = 31\n"
     ]
    },
    {
     "data": {
      "text/plain": [
       "MPO\n",
       "[1] ((dim=2|id=522|\"Qubit,Site,n=1\"), (dim=2|id=522|\"Qubit,Site,n=1\")', (dim=2|id=405|\"Link,l=1\"))\n",
       "[2] ((dim=2|id=405|\"Link,l=1\"), (dim=2|id=770|\"Qubit,Site,n=2\"), (dim=2|id=770|\"Qubit,Site,n=2\")', (dim=4|id=827|\"Link,l=2\"))\n",
       "[3] ((dim=4|id=827|\"Link,l=2\"), (dim=2|id=433|\"Qubit,Site,n=3\"), (dim=2|id=433|\"Qubit,Site,n=3\")', (dim=4|id=418|\"Link,l=3\"))\n",
       "[4] ((dim=4|id=418|\"Link,l=3\"), (dim=2|id=950|\"Qubit,Site,n=4\"), (dim=2|id=950|\"Qubit,Site,n=4\")', (dim=4|id=943|\"Link,l=4\"))\n",
       "[5] ((dim=4|id=943|\"Link,l=4\"), (dim=2|id=22|\"Qubit,Site,n=5\"), (dim=2|id=22|\"Qubit,Site,n=5\")', (dim=4|id=21|\"Link,l=5\"))\n",
       "[6] ((dim=4|id=21|\"Link,l=5\"), (dim=2|id=35|\"Qubit,Site,n=6\"), (dim=2|id=35|\"Qubit,Site,n=6\")', (dim=4|id=24|\"Link,l=6\"))\n",
       "[7] ((dim=4|id=24|\"Link,l=6\"), (dim=2|id=632|\"Qubit,Site,n=7\"), (dim=2|id=632|\"Qubit,Site,n=7\")', (dim=4|id=537|\"Link,l=7\"))\n",
       "[8] ((dim=4|id=537|\"Link,l=7\"), (dim=2|id=250|\"Qubit,Site,n=8\"), (dim=2|id=250|\"Qubit,Site,n=8\")', (dim=4|id=971|\"Link,l=8\"))\n",
       "[9] ((dim=4|id=971|\"Link,l=8\"), (dim=2|id=170|\"Qubit,Site,n=9\"), (dim=2|id=170|\"Qubit,Site,n=9\")', (dim=4|id=797|\"Link,l=9\"))\n",
       "[10] ((dim=4|id=797|\"Link,l=9\"), (dim=2|id=342|\"Qubit,Site,n=10\"), (dim=2|id=342|\"Qubit,Site,n=10\")', (dim=4|id=500|\"Link,l=10\"))\n",
       "[11] ((dim=4|id=500|\"Link,l=10\"), (dim=2|id=86|\"Qubit,Site,n=11\"), (dim=2|id=86|\"Qubit,Site,n=11\")', (dim=4|id=874|\"Link,l=11\"))\n",
       "[12] ((dim=4|id=874|\"Link,l=11\"), (dim=2|id=424|\"Qubit,Site,n=12\"), (dim=2|id=424|\"Qubit,Site,n=12\")', (dim=4|id=851|\"Link,l=12\"))\n",
       "[13] ((dim=4|id=851|\"Link,l=12\"), (dim=2|id=161|\"Qubit,Site,n=13\"), (dim=2|id=161|\"Qubit,Site,n=13\")', (dim=4|id=219|\"Link,l=13\"))\n",
       "[14] ((dim=4|id=219|\"Link,l=13\"), (dim=2|id=561|\"Qubit,Site,n=14\"), (dim=2|id=561|\"Qubit,Site,n=14\")', (dim=4|id=455|\"Link,l=14\"))\n",
       "[15] ((dim=4|id=455|\"Link,l=14\"), (dim=2|id=580|\"Qubit,Site,n=15\"), (dim=2|id=580|\"Qubit,Site,n=15\")', (dim=4|id=37|\"Link,l=15\"))\n",
       "[16] ((dim=4|id=37|\"Link,l=15\"), (dim=2|id=573|\"Qubit,Site,n=16\"), (dim=2|id=573|\"Qubit,Site,n=16\")', (dim=4|id=38|\"Link,l=16\"))\n",
       "[17] ((dim=4|id=38|\"Link,l=16\"), (dim=2|id=804|\"Qubit,Site,n=17\"), (dim=2|id=804|\"Qubit,Site,n=17\")', (dim=4|id=898|\"Link,l=17\"))\n",
       "[18] ((dim=4|id=898|\"Link,l=17\"), (dim=2|id=848|\"Qubit,Site,n=18\"), (dim=2|id=848|\"Qubit,Site,n=18\")', (dim=4|id=274|\"Link,l=18\"))\n",
       "[19] ((dim=4|id=274|\"Link,l=18\"), (dim=2|id=850|\"Qubit,Site,n=19\"), (dim=2|id=850|\"Qubit,Site,n=19\")', (dim=4|id=169|\"Link,l=19\"))\n",
       "[20] ((dim=4|id=169|\"Link,l=19\"), (dim=2|id=208|\"Qubit,Site,n=20\"), (dim=2|id=208|\"Qubit,Site,n=20\")', (dim=4|id=456|\"Link,l=20\"))\n",
       "[21] ((dim=4|id=456|\"Link,l=20\"), (dim=2|id=890|\"Qubit,Site,n=21\"), (dim=2|id=890|\"Qubit,Site,n=21\")', (dim=4|id=690|\"Link,l=21\"))\n",
       "[22] ((dim=4|id=690|\"Link,l=21\"), (dim=2|id=652|\"Qubit,Site,n=22\"), (dim=2|id=652|\"Qubit,Site,n=22\")', (dim=4|id=412|\"Link,l=22\"))\n",
       "[23] ((dim=4|id=412|\"Link,l=22\"), (dim=2|id=652|\"Qubit,Site,n=23\"), (dim=2|id=652|\"Qubit,Site,n=23\")', (dim=4|id=2|\"Link,l=23\"))\n",
       "[24] ((dim=4|id=2|\"Link,l=23\"), (dim=2|id=309|\"Qubit,Site,n=24\"), (dim=2|id=309|\"Qubit,Site,n=24\")', (dim=4|id=151|\"Link,l=24\"))\n",
       "[25] ((dim=4|id=151|\"Link,l=24\"), (dim=2|id=368|\"Qubit,Site,n=25\"), (dim=2|id=368|\"Qubit,Site,n=25\")', (dim=4|id=357|\"Link,l=25\"))\n",
       "[26] ((dim=4|id=357|\"Link,l=25\"), (dim=2|id=579|\"Qubit,Site,n=26\"), (dim=2|id=579|\"Qubit,Site,n=26\")', (dim=4|id=698|\"Link,l=26\"))\n",
       "[27] ((dim=4|id=698|\"Link,l=26\"), (dim=2|id=975|\"Qubit,Site,n=27\"), (dim=2|id=975|\"Qubit,Site,n=27\")', (dim=4|id=71|\"Link,l=27\"))\n",
       "[28] ((dim=4|id=71|\"Link,l=27\"), (dim=2|id=371|\"Qubit,Site,n=28\"), (dim=2|id=371|\"Qubit,Site,n=28\")', (dim=4|id=170|\"Link,l=28\"))\n",
       "[29] ((dim=4|id=170|\"Link,l=28\"), (dim=2|id=733|\"Qubit,Site,n=29\"), (dim=2|id=733|\"Qubit,Site,n=29\")', (dim=4|id=453|\"Link,l=29\"))\n",
       "[30] ((dim=4|id=453|\"Link,l=29\"), (dim=2|id=754|\"Qubit,Site,n=30\"), (dim=2|id=754|\"Qubit,Site,n=30\")', (dim=4|id=142|\"Link,l=30\"))\n",
       "[31] ((dim=2|id=716|\"Qubit,Site,n=31\"), (dim=2|id=716|\"Qubit,Site,n=31\")', (dim=3|id=366|\"Link,l=31\"))\n",
       "[32] ((dim=3|id=366|\"Link,l=31\"), (dim=4|id=142|\"Link,l=30\"), (dim=2|id=455|\"Qubit,Site,n=32\"), (dim=2|id=455|\"Qubit,Site,n=32\")')\n"
      ]
     },
     "metadata": {},
     "output_type": "display_data"
    }
   ],
   "source": [
    "mpo_test = build_adder_mpo(i1,xj,qubit_site,L,phy_ram,phy_list)"
   ]
  },
  {
   "cell_type": "code",
   "execution_count": null,
   "id": "6e6558d5",
   "metadata": {},
   "outputs": [],
   "source": [
    "apply(mpo_test,initial_state)\n",
    "@time apply(mpo_test,initial_state)\n",
    "apply(add1_3,initial_state)\n",
    "@time apply(add1_3,initial_state)\n",
    "# maxbond_L = []\n",
    "# maxbond_3_L = []\n",
    "# maxbond_6_L = []\n",
    "# for L in [8,12,16,20,24,28,32,36,40]\n",
    "#     # initialize haining adder mpo\n",
    "#     ct=CT.CT_MPS(L=L,seed=0,seed_C=0,seed_m=0,folded=true,store_op=true,store_vec=false,ancilla=0,_maxdim0=60,xj=Set([1 // 3, 2 // 3]),debug=true,simplified_U=true, x0=8//2^12,)\n",
    "#     maxbond = []\n",
    "\n",
    "#     for adder in ct.adder\n",
    "#         push!(maxbond, maxlinkdim(adder))\n",
    "#     end\n",
    "#     push!(maxbond_L, maximum(maxbond))\n",
    "#     println(\"L = $L\")\n",
    "\n",
    "#     qubit_site, ram_phy, phy_ram, phy_list = _initialize_basis(L, ancilla, folded)\n",
    "\n",
    "#     maxbond_3 = []\n",
    "#     maxbond_6 = []\n",
    "#     for i in 1:L\n",
    "#         push!(maxbond_3, maxlinkdim(add1_3))\n",
    "#         push!(maxbond_6, maxlinkdim(add1_6))\n",
    "#     end\n",
    "#     # initialize haining adder mpo\n",
    "#     add1_mpo=MPO(add1(i1,L,phy_ram,phy_list),qubit_site)\n",
    "#     add1_6,add1_3=power_mpo(add1_mpo,[div(2^L,6)+1,div(2^L,3)])\n",
    "#     push!(maxbond_3_L, maximum(maxbond_3))\n",
    "#     push!(maxbond_6_L, maximum(maxbond_6))\n",
    "# end\n"
   ]
  },
  {
   "cell_type": "code",
   "execution_count": null,
   "id": "3da9b106",
   "metadata": {},
   "outputs": [],
   "source": [
    "# maxbond_L, maxbond_3_L, maxbond_6_L # you can see that the fixing spurs and projections ramp up the maximum bond dimension considerably."
   ]
  },
  {
   "cell_type": "code",
   "execution_count": null,
   "id": "a051e0dd",
   "metadata": {},
   "outputs": [],
   "source": [
    "# maxbond_L_test = []\n",
    "# for L in [8,12,16,20,24,28,32,36,40]\n",
    "#     # initialize haining adder mpo\n",
    "#     maxbond = []\n",
    "\n",
    "#     qubit_site, ram_phy, phy_ram, phy_list = _initialize_basis(L, ancilla, folded)\n",
    "\n",
    "#     for i1 in 1:L\n",
    "#         push!(maxbond, maxlinkdim(adder_MPO_test(i1,Set([1 // 3, 2 // 3]),qubit_site,L,phy_ram,phy_list)))\n",
    "#     end\n",
    "#     push!(maxbond_L_test, maximum(maxbond))\n",
    "#     println(\"L = $L\")\n",
    "\n",
    "# end\n"
   ]
  }
 ],
 "metadata": {
  "kernelspec": {
   "display_name": "Julia 1.9.3",
   "language": "julia",
   "name": "julia-1.9"
  },
  "language_info": {
   "file_extension": ".jl",
   "mimetype": "application/julia",
   "name": "julia",
   "version": "1.9.3"
  }
 },
 "nbformat": 4,
 "nbformat_minor": 5
}
