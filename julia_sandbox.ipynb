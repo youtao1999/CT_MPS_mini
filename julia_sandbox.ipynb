{
 "cells": [
  {
   "cell_type": "code",
   "execution_count": null,
   "id": "dd5c3d92",
   "metadata": {},
   "outputs": [
    {
     "name": "stderr",
     "output_type": "stream",
     "text": [
      "\u001b[32m\u001b[1m  Activating\u001b[22m\u001b[39m project at `~/CT_MPS_mini/CT`\n"
     ]
    },
    {
     "data": {
      "text/plain": [
       "MersenneTwister(123457)"
      ]
     },
     "metadata": {},
     "output_type": "display_data"
    }
   ],
   "source": [
    "using Pkg\n",
    "Pkg.activate(\"CT\")\n",
    "using CT\n",
    "# benchmark adder_MPO\n",
    "using ITensors\n",
    "# initialize random state\n",
    "using .CT: CT_MPS\n",
    "using Random\n",
    "using ProgressMeter\n",
    "\n",
    "L = 20\n",
    "ancilla = 0\n",
    "folded = true\n",
    "seed_vec = 123457\n",
    "xj = Set([1//3, 2//3])\n",
    "_maxdim = 2^(div(L,2))\n",
    "_maxdim0 = 50\n",
    "_eps = 0.0\n",
    "seed = 123457\n",
    "x0 = nothing\n",
    "rng = MersenneTwister(seed_vec)\n",
    "rng_vec = seed_vec === nothing ? rng : MersenneTwister(seed_vec)\n",
    "ct_h = CT_MPS(L=L,xj=xj,folded=folded,_maxdim=_maxdim,ancilla=ancilla,seed_vec=seed_vec,seed=seed,x0=x0,debug=false);\n",
    "ct_t = CT_MPS(L=L,xj=xj,folded=folded,_maxdim=_maxdim,ancilla=ancilla,seed_vec=seed_vec,seed=seed,x0=x0,debug=false,passthrough=true);\n",
    "\n",
    "i = 1\n",
    "j = 1\n",
    "p_ctrl = 0.4\n",
    "p_proj = 0.7\n",
    "ancilla = 0\n",
    "T_max = ancilla ==0 ? 2*(ct_h.L^2) : div(ct_h.L^2,2)\n",
    "# Write a single string\n",
    "for idx in 1:T_max\n",
    "    @time i = CT.random_control!(ct_h,i,p_ctrl,p_proj)\n",
    "    @time j = CT.random_control!(ct_t,j,p_ctrl,p_proj)\n",
    "end"
   ]
  },
  {
   "cell_type": "code",
   "execution_count": 6,
   "id": "965ce53a",
   "metadata": {},
   "outputs": [
    {
     "name": "stdout",
     "output_type": "stream",
     "text": [
      "bond dims before fix spurs: Any[2, 4, 4, 4, 4, 4, 4, 4, 4, 4, 4, 4, 4, 4, 3] Any[2, 4, 4, 4, 4, 4, 4, 4, 4, 4, 4, 4, 4, 4, 3]\n",
      "bond dims after fix spurs: Any[4, 8, 16, 16, 16, 8, 8, 8, 8, 8, 8, 8, 8, 6, 3]\n",
      "bond dims before fix spurs: Any[2, 2, 4, 4, 4, 4, 4, 4, 4, 4, 4, 4, 4, 4, 3] Any[2, 2, 4, 4, 4, 4, 4, 4, 4, 4, 4, 4, 4, 4, 3]\n",
      "bond dims after fix spurs: Any[2, 7, 8, 4, 8, 8, 8, 8, 8, 8, 8, 8, 8, 6, 3]\n",
      "bond dims before fix spurs: Any[3, 4, 2, 2, 4, 4, 4, 4, 4, 4, 4, 4, 4, 4, 3] Any[3, 4, 2, 2, 4, 4, 4, 4, 4, 4, 4, 4, 4, 4, 3]\n",
      "bond dims after fix spurs: Any[4, 14, 8, 8, 4, 4, 8, 8, 8, 8, 8, 8, 8, 6, 3]\n",
      "bond dims before fix spurs: Any[3, 4, 4, 4, 2, 2, 4, 4, 4, 4, 4, 4, 4, 4, 3] Any[3, 4, 4, 4, 2, 2, 4, 4, 4, 4, 4, 4, 4, 4, 3]\n",
      "bond dims after fix spurs: Any[4, 10, 22, 24, 8, 8, 4, 4, 8, 8, 8, 8, 8, 6, 3]\n",
      "bond dims before fix spurs: Any[3, 4, 4, 4, 4, 4, 2, 2, 4, 4, 4, 4, 4, 4, 3] Any[3, 4, 4, 4, 4, 4, 2, 2, 4, 4, 4, 4, 4, 4, 3]\n",
      "bond dims after fix spurs: Any[3, 6, 16, 16, 24, 24, 8, 8, 4, 4, 8, 8, 8, 6, 3]\n",
      "bond dims before fix spurs: Any[3, 4, 4, 4, 4, 4, 4, 4, 2, 2, 4, 4, 4, 4, 3] Any[3, 4, 4, 4, 4, 4, 4, 4, 2, 2, 4, 4, 4, 4, 3]\n",
      "bond dims after fix spurs: Any[3, 6, 8, 8, 16, 16, 24, 24, 8, 8, 4, 4, 8, 6, 3]\n",
      "bond dims before fix spurs: Any[3, 4, 4, 4, 4, 4, 4, 4, 4, 4, 2, 2, 4, 4, 3] Any[3, 4, 4, 4, 4, 4, 4, 4, 4, 4, 2, 2, 4, 4, 3]\n",
      "bond dims after fix spurs: Any[3, 6, 8, 8, 8, 8, 16, 16, 24, 24, 8, 8, 4, 4, 3]\n",
      "bond dims before fix spurs: Any[3, 4, 4, 4, 4, 4, 4, 4, 4, 4, 4, 4, 2, 2, 3] Any[3, 4, 4, 4, 4, 4, 4, 4, 4, 4, 4, 4, 2, 2, 3]\n",
      "bond dims after fix spurs: Any[3, 6, 8, 8, 8, 8, 8, 8, 16, 16, 24, 24, 8, 8, 4]\n",
      "bond dims before fix spurs: Any[3, 4, 4, 4, 4, 4, 4, 4, 4, 4, 4, 4, 4, 4, 2] Any[3, 4, 4, 4, 4, 4, 4, 4, 4, 4, 4, 4, 4, 4, 2]\n",
      "bond dims after fix spurs: Any[3, 6, 8, 8, 8, 8, 8, 8, 8, 8, 16, 16, 24, 12, 4]\n",
      "bond dims before fix spurs: Any[3, 4, 4, 4, 4, 4, 4, 4, 4, 4, 4, 4, 4, 2, 2] Any[3, 4, 4, 4, 4, 4, 4, 4, 4, 4, 4, 4, 4, 2, 2]\n",
      "bond dims after fix spurs: Any[3, 6, 8, 8, 8, 8, 8, 8, 8, 8, 8, 4, 8, 8, 2]\n",
      "bond dims before fix spurs: Any[3, 4, 4, 4, 4, 4, 4, 4, 4, 4, 4, 2, 2, 4, 3] Any[3, 4, 4, 4, 4, 4, 4, 4, 4, 4, 4, 2, 2, 4, 3]\n",
      "bond dims after fix spurs: Any[3, 6, 8, 8, 8, 8, 8, 8, 8, 4, 4, 8, 8, 14, 4]\n",
      "bond dims before fix spurs: Any[3, 4, 4, 4, 4, 4, 4, 4, 4, 2, 2, 4, 4, 4, 3] Any[3, 4, 4, 4, 4, 4, 4, 4, 4, 2, 2, 4, 4, 4, 3]\n",
      "bond dims after fix spurs: Any[3, 6, 8, 8, 8, 8, 8, 4, 4, 8, 8, 16, 16, 12, 4]\n",
      "bond dims before fix spurs: Any[3, 4, 4, 4, 4, 4, 4, 2, 2, 4, 4, 4, 4, 4, 3] Any[3, 4, 4, 4, 4, 4, 4, 2, 2, 4, 4, 4, 4, 4, 3]\n",
      "bond dims after fix spurs: Any[3, 6, 8, 8, 8, 4, 4, 8, 8, 16, 16, 16, 16, 6, 3]\n",
      "bond dims before fix spurs: Any[3, 4, 4, 4, 4, 2, 2, 4, 4, 4, 4, 4, 4, 4, 3] Any[3, 4, 4, 4, 4, 2, 2, 4, 4, 4, 4, 4, 4, 4, 3]\n",
      "bond dims after fix spurs: Any[3, 6, 8, 4, 4, 8, 8, 16, 16, 16, 16, 8, 8, 6, 3]\n",
      "bond dims before fix spurs: Any[3, 4, 4, 2, 2, 4, 4, 4, 4, 4, 4, 4, 4, 4, 3] Any[3, 4, 4, 2, 2, 4, 4, 4, 4, 4, 4, 4, 4, 4, 3]\n",
      "bond dims after fix spurs: Any[3, 4, 4, 8, 8, 16, 16, 16, 16, 8, 8, 8, 8, 6, 3]\n",
      "bond dims before fix spurs: Any[3, 2, 2, 4, 4, 4, 4, 4, 4, 4, 4, 4, 4, 4, 3] Any[3, 2, 2, 4, 4, 4, 4, 4, 4, 4, 4, 4, 4, 4, 3]\n",
      "bond dims after fix spurs: Any[4, 8, 8, 16, 16, 16, 16, 8, 8, 8, 8, 8, 8, 6, 3]\n"
     ]
    }
   ],
   "source": [
    "include(\"global_adder_passthrough.jl\")\n",
    "adder_mpo_passthrough_vec = adder_mpo_vec(L, xj, qubit_site, ancilla, folded, phy_list, phy_ram, _maxdim);"
   ]
  },
  {
   "cell_type": "code",
   "execution_count": 7,
   "id": "46b611d0",
   "metadata": {},
   "outputs": [
    {
     "data": {
      "text/plain": [
       "Vector{MPO}\u001b[90m (alias for \u001b[39m\u001b[90mArray{MPO, 1}\u001b[39m\u001b[90m)\u001b[39m"
      ]
     },
     "metadata": {},
     "output_type": "display_data"
    }
   ],
   "source": [
    "typeof(adder_mpo_passthrough_vec)"
   ]
  },
  {
   "cell_type": "code",
   "execution_count": 8,
   "id": "ee929780",
   "metadata": {},
   "outputs": [
    {
     "data": {
      "text/plain": [
       "MPO\n",
       "[1] ((dim=2|id=86|\"Qubit,Site,n=1\")', (dim=2|id=86|\"Qubit,Site,n=1\"), (dim=4|id=485|\"Link,l=1\"))\n",
       "[2] ((dim=2|id=975|\"Qubit,Site,n=2\")', (dim=2|id=975|\"Qubit,Site,n=2\"), (dim=8|id=953|\"Link,l=2\"), (dim=4|id=485|\"Link,l=1\"))\n",
       "[3] ((dim=2|id=676|\"Qubit,Site,n=3\")', (dim=2|id=676|\"Qubit,Site,n=3\"), (dim=16|id=244|\"Link,l=3\"), (dim=8|id=953|\"Link,l=2\"))\n",
       "[4] ((dim=2|id=703|\"Qubit,Site,n=4\")', (dim=2|id=703|\"Qubit,Site,n=4\"), (dim=16|id=661|\"Link,l=4\"), (dim=16|id=244|\"Link,l=3\"))\n",
       "[5] ((dim=2|id=231|\"Qubit,Site,n=5\")', (dim=2|id=231|\"Qubit,Site,n=5\"), (dim=16|id=886|\"Link,l=5\"), (dim=16|id=661|\"Link,l=4\"))\n",
       "[6] ((dim=2|id=26|\"Qubit,Site,n=6\")', (dim=2|id=26|\"Qubit,Site,n=6\"), (dim=8|id=900|\"Link,l=6\"), (dim=16|id=886|\"Link,l=5\"))\n",
       "[7] ((dim=2|id=947|\"Qubit,Site,n=7\")', (dim=2|id=947|\"Qubit,Site,n=7\"), (dim=8|id=203|\"Link,l=7\"), (dim=8|id=900|\"Link,l=6\"))\n",
       "[8] ((dim=2|id=773|\"Qubit,Site,n=8\")', (dim=2|id=773|\"Qubit,Site,n=8\"), (dim=8|id=954|\"Link,l=8\"), (dim=8|id=203|\"Link,l=7\"))\n",
       "[9] ((dim=2|id=809|\"Qubit,Site,n=9\")', (dim=2|id=809|\"Qubit,Site,n=9\"), (dim=8|id=32|\"Link,l=9\"), (dim=8|id=954|\"Link,l=8\"))\n",
       "[10] ((dim=2|id=923|\"Qubit,Site,n=10\")', (dim=2|id=923|\"Qubit,Site,n=10\"), (dim=8|id=311|\"Link,l=10\"), (dim=8|id=32|\"Link,l=9\"))\n",
       "[11] ((dim=2|id=688|\"Qubit,Site,n=11\")', (dim=2|id=688|\"Qubit,Site,n=11\"), (dim=8|id=124|\"Link,l=11\"), (dim=8|id=311|\"Link,l=10\"))\n",
       "[12] ((dim=2|id=613|\"Qubit,Site,n=12\")', (dim=2|id=613|\"Qubit,Site,n=12\"), (dim=8|id=614|\"Link,l=12\"), (dim=8|id=124|\"Link,l=11\"))\n",
       "[13] ((dim=2|id=751|\"Qubit,Site,n=13\")', (dim=2|id=751|\"Qubit,Site,n=13\"), (dim=8|id=599|\"Link,l=13\"), (dim=8|id=614|\"Link,l=12\"))\n",
       "[14] ((dim=2|id=682|\"Qubit,Site,n=14\")', (dim=2|id=682|\"Qubit,Site,n=14\"), (dim=6|id=629|\"Link,l=14\"), (dim=8|id=599|\"Link,l=13\"))\n",
       "[15] ((dim=2|id=581|\"Qubit,Site,n=15\")', (dim=2|id=581|\"Qubit,Site,n=15\"), (dim=3|id=23|\"Link,l=15\"), (dim=6|id=629|\"Link,l=14\"))\n",
       "[16] ((dim=2|id=723|\"Qubit,Site,n=16\")', (dim=2|id=723|\"Qubit,Site,n=16\"), (dim=3|id=23|\"Link,l=15\"))\n"
      ]
     },
     "metadata": {},
     "output_type": "display_data"
    }
   ],
   "source": [
    "adder_mpo_passthrough_vec[1]"
   ]
  },
  {
   "cell_type": "code",
   "execution_count": 9,
   "id": "fbcfe141",
   "metadata": {},
   "outputs": [
    {
     "name": "stdout",
     "output_type": "stream",
     "text": [
      "1.275866029520122e-11\n",
      "1.5274538231053338e-11\n",
      "1.2209194061411162e-11\n",
      "1.278870439758224e-11\n",
      "3.331722953807532e-12\n",
      "2.8452452908781712e-12\n",
      "1.0025931642637128e-11\n",
      "3.4740354883356695e-12\n",
      "4.30855677833388e-11\n",
      "2.9793979829263115e-11\n",
      "1.45874420960319e-11\n",
      "1.5293102598905416e-13\n",
      "2.515774479904966e-11\n",
      "4.637908589181953e-12\n",
      "5.8092688775815266e-12\n",
      "6.798606910786922e-12\n"
     ]
    }
   ],
   "source": [
    "for i1 in 1:L\n",
    "    initial_state = randomMPS(MersenneTwister(nothing), qubit_site, linkdims=_maxdim0)\n",
    "    final_1 = apply(adder_mpo_passthrough_vec[i1], initial_state; cutoff=_eps, maxdim=_maxdim)\n",
    "    final_2 = apply(adder[i1],initial_state; cutoff=_eps, maxdim=_maxdim)\n",
    "    println(norm(final_1-final_2))\n",
    "end\n"
   ]
  },
  {
   "cell_type": "code",
   "execution_count": 29,
   "id": "6e6558d5",
   "metadata": {},
   "outputs": [],
   "source": [
    "# # conn_pairs_dict[i1_test], folded_ram_phy_dict[i1_test]\n",
    "# i1 = 5\n",
    "# dict_correct = Dict{String,String}()\n",
    "# for state_index in 1:2^L\n",
    "#     string_vec = lpad(string(state_index-1,base=2),L,\"0\")\n",
    "#     correct_unfolded = lpad(string((state_index - 1 + shift_amount) % 2^L,base=2),L,\"0\")\n",
    "#     ram_phy = folded_ram_phy_dict[i1]\n",
    "#     string_vec_folded = join([string_vec[ram_phy[i]] for i in 1:L])\n",
    "#     correct_folded = join([correct_unfolded[ram_phy[i]] for i in 1:L])\n",
    "#     dict_correct[join(string_vec)] = join(correct_folded)\n",
    "# end\n",
    "\n",
    "\n",
    "# @showprogress for state_index in 1:2^L\n",
    "#     string_vec = lpad(string(state_index-1,base=2),L,\"0\")\n",
    "#     string_vec_folded = join([string_vec[ram_phy[i]] for i in 1:L])\n",
    "#     # Convention: RAM position i stores physical bit ram_phy[i]\n",
    "#     # productMPS assigns to RAM positions, so use folded representation\n",
    "#     vec = 1 .+ parse.(Int, [string(string_vec_folded[i]) for i in 1:L])\n",
    "#     initial_state = productMPS(qubit_site, vec)\n",
    "\n",
    "#     # @show CT.mps_element(initial_state, \"000000001000\"[ram_phy])\n",
    "#     final_state_1 = copy(initial_state)\n",
    "#     final_state_2 = copy(initial_state)\n",
    "#     # passthrough_state = copy(initial_state)\n",
    "#     final_state_1 = apply(adder_mpo_passthrough_vec[i1], final_state_1; cutoff=_eps, maxdim=_maxdim);\n",
    "#     # passthrough_state = global_adder(passthrough_state, carry_links, T_vec, gate_vec, qubit_site; cutoff=_eps, maxdim=_maxdim);\n",
    "#     final_state_2 = apply(adder_mpo_vec_haining[i1],final_state_2; cutoff=_eps, maxdim=_maxdim);\n",
    "#     final_state_1 = display_state(final_state_1)\n",
    "#     final_state_2 = display_state(final_state_2)\n",
    "#     if final_state_1 != final_state_2\n",
    "#         println(string_vec, \"=>\", final_state_1, \"<=>\", final_state_2)\n",
    "#     end\n",
    "#     # println(string_vec, \"=>\", display_state(final_state_1), \"<=>\", display_state(final_state_2))\n",
    "#     # println(display_state(final_state_1) == display_state(final_state_2))\n",
    "# end"
   ]
  },
  {
   "cell_type": "code",
   "execution_count": 30,
   "id": "b9ab39c2",
   "metadata": {},
   "outputs": [],
   "source": []
  }
 ],
 "metadata": {
  "kernelspec": {
   "display_name": "Julia 1.9.3",
   "language": "julia",
   "name": "julia-1.9"
  },
  "language_info": {
   "file_extension": ".jl",
   "mimetype": "application/julia",
   "name": "julia",
   "version": "1.9.3"
  }
 },
 "nbformat": 4,
 "nbformat_minor": 5
}
