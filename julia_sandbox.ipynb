{
 "cells": [
  {
   "cell_type": "code",
   "execution_count": 1192,
   "id": "ccd7b1f4-4c49-4c48-8399-8b9ceef0b90d",
   "metadata": {},
   "outputs": [
    {
     "name": "stderr",
     "output_type": "stream",
     "text": [
      "\u001b[32m\u001b[1m  Activating\u001b[22m\u001b[39m project at `~/CT_MPS_mini/CT`\n"
     ]
    }
   ],
   "source": [
    "using Pkg\n",
    "Pkg.activate(\"CT\")\n",
    "using CT"
   ]
  },
  {
   "cell_type": "code",
   "execution_count": 1193,
   "id": "484c31bc-19ce-4b04-b4af-2b0e62cde5a5",
   "metadata": {},
   "outputs": [
    {
     "name": "stdout",
     "output_type": "stream",
     "text": [
      "\u001b[36m\u001b[1mProject\u001b[22m\u001b[39m CT v0.1.0\n",
      "\u001b[32m\u001b[1mStatus\u001b[22m\u001b[39m `~/CT_MPS_mini/CT/Project.toml`\n",
      "  \u001b[90m[c7e460c6] \u001b[39mArgParse v1.2.0\n",
      "\u001b[32m⌃\u001b[39m \u001b[90m[6e4b80f9] \u001b[39mBenchmarkTools v1.5.0\n",
      "  \u001b[90m[f67ccb44] \u001b[39mHDF5 v0.17.2\n",
      "\u001b[33m⌅\u001b[39m \u001b[90m[9136182c] \u001b[39mITensors v0.6.16\n",
      "  \u001b[90m[682c06a0] \u001b[39mJSON v0.21.4\n",
      "\u001b[32m⌃\u001b[39m \u001b[90m[33e6dc65] \u001b[39mMKL v0.7.0\n",
      "\u001b[32m⌃\u001b[39m \u001b[90m[91a5bcdd] \u001b[39mPlots v1.40.5\n",
      "\u001b[32m⌃\u001b[39m \u001b[90m[9f0aa9f4] \u001b[39mTCIITensorConversion v0.1.4\n",
      "\u001b[32m⌃\u001b[39m \u001b[90m[b261b2ec] \u001b[39mTensorCrossInterpolation v0.9.10\n",
      "\u001b[32m⌃\u001b[39m \u001b[90m[a759f4b9] \u001b[39mTimerOutputs v0.5.24\n",
      "  \u001b[90m[37e2e46d] \u001b[39mLinearAlgebra\n",
      "  \u001b[90m[9a3f8284] \u001b[39mRandom\n",
      "\u001b[36m\u001b[1mInfo\u001b[22m\u001b[39m Packages marked with \u001b[32m⌃\u001b[39m and \u001b[33m⌅\u001b[39m have new versions available. Those with \u001b[32m⌃\u001b[39m may be upgradable, but those with \u001b[33m⌅\u001b[39m are restricted by compatibility constraints from upgrading. To see why use `status --outdated`\n"
     ]
    }
   ],
   "source": [
    "Pkg.status()"
   ]
  },
  {
   "cell_type": "code",
   "execution_count": 1194,
   "id": "dd5c3d92",
   "metadata": {},
   "outputs": [
    {
     "name": "stdout",
     "output_type": "stream",
     "text": [
      "[1, 2, 3, 4, 5, 6, 7, 8]\n",
      "[1, 8, 2, 7, 3, 6, 4, 5]\n",
      "[1, 3, 5, 7, 8, 6, 4, 2]\n",
      "0\n",
      "1\n",
      "1\n",
      "0\n",
      "0\n",
      "1\n",
      "1\n",
      "0\n"
     ]
    }
   ],
   "source": [
    "# benchmark adder_MPO\n",
    "using ITensors\n",
    "include(\"global_adder_passthrough.jl\")\n",
    "# initialize random state\n",
    "using .CT: _initialize_basis, _initialize_vector, P_MPO, XI_MPO, I_MPO, adder_MPO\n",
    "using Random\n",
    "L = 8\n",
    "ancilla = 0\n",
    "folded = true\n",
    "seed_vec = 123457\n",
    "xj = Set([1//3, 2//3])\n",
    "i1 = 1\n",
    "p_ctrl = 1.0\n",
    "p_proj = 0.0\n",
    "_maxdim = 50\n",
    "_cutoff = 1e-15\n",
    "seed = 123457\n",
    "x0 = nothing\n",
    "qubit_site, ram_phy, phy_ram, phy_list = _initialize_basis(L, ancilla, folded)\n",
    "println(phy_list)\n",
    "println(ram_phy)\n",
    "println(phy_ram)\n",
    "rng = MersenneTwister(seed_vec)\n",
    "rng_vec = seed_vec === nothing ? rng : MersenneTwister(seed_vec)\n",
    "# initial_state = _initialize_vector(L, ancilla, x0, folded, qubit_site, ram_phy, phy_ram, phy_list, rng_vec, _cutoff, _maxdim);\n",
    "# println(initial_state)\n",
    "shift_1_3_bits, shift_1_3_amount = fraction_to_binary_shift(1, 3, L)\n",
    "# @time adder=[adder_MPO(i1,xj,qubit_site,L,phy_ram,phy_list) for i1 in 1:L];\n",
    "for ram_pos in 1:L\n",
    "    shift_bit = shift_1_3_bits[ram_phy[ram_pos]]\n",
    "    println(shift_bit)\n",
    "end"
   ]
  },
  {
   "cell_type": "code",
   "execution_count": 1195,
   "id": "929e3b53",
   "metadata": {},
   "outputs": [
    {
     "data": {
      "text/plain": [
       "MPS\n",
       "[1] ((dim=2|id=570|\"Qubit,Site,n=1\"), (dim=4|id=64|\"Link,l=1\"))\n",
       "[2] ((dim=2|id=803|\"Qubit,Site,n=2\"), (dim=4|id=64|\"Link,l=1\"), (dim=16|id=938|\"Link,l=2\"))\n",
       "[3] ((dim=16|id=938|\"Link,l=2\"), (dim=2|id=664|\"Qubit,Site,n=3\"), (dim=16|id=719|\"Link,l=3\"))\n",
       "[4] ((dim=16|id=719|\"Link,l=3\"), (dim=2|id=311|\"Qubit,Site,n=4\"), (dim=16|id=901|\"Link,l=4\"))\n",
       "[5] ((dim=16|id=901|\"Link,l=4\"), (dim=2|id=458|\"Qubit,Site,n=5\"), (dim=16|id=91|\"Link,l=5\"))\n",
       "[6] ((dim=16|id=91|\"Link,l=5\"), (dim=2|id=622|\"Qubit,Site,n=6\"), (dim=16|id=949|\"Link,l=6\"))\n",
       "[7] ((dim=16|id=949|\"Link,l=6\"), (dim=2|id=739|\"Qubit,Site,n=7\"), (dim=2|id=140|\"Link,l=7\"))\n",
       "[8] ((dim=2|id=140|\"Link,l=7\"), (dim=2|id=450|\"Qubit,Site,n=8\")')\n"
      ]
     },
     "execution_count": 1195,
     "metadata": {},
     "output_type": "execute_result"
    }
   ],
   "source": [
    "initial_state = productMPS(qubit_site, [1,1,1,1,1,1,1,1])\n",
    "global_adder(L, qubit_site, shift_1_3_bits, ram_phy, initial_state)"
   ]
  },
  {
   "cell_type": "code",
   "execution_count": 1196,
   "id": "c777f72a",
   "metadata": {},
   "outputs": [
    {
     "name": "stdout",
     "output_type": "stream",
     "text": [
      "((dim=2|id=570|\"Qubit,Site,n=1\"), (dim=2|id=803|\"Qubit,Site,n=2\"), (dim=2|id=664|\"Qubit,Site,n=3\"), (dim=2|id=311|\"Qubit,Site,n=4\"), (dim=2|id=458|\"Qubit,Site,n=5\"), (dim=2|id=622|\"Qubit,Site,n=6\"), (dim=2|id=739|\"Qubit,Site,n=7\"), (dim=2|id=450|\"Qubit,Site,n=8\")')\n",
      "Nonzero at coordinates (1, 2, 2, 1, 1, 2, 2, 1): 0.9999999999999997\n"
     ]
    }
   ],
   "source": [
    "psi = contract(initial_state)\n",
    "println(inds(psi))\n",
    "print_nonzero_coordinates(psi)"
   ]
  }
 ],
 "metadata": {
  "kernelspec": {
   "display_name": "Julia 1.10.0",
   "language": "julia",
   "name": "julia-1.10"
  },
  "language_info": {
   "file_extension": ".jl",
   "mimetype": "application/julia",
   "name": "julia",
   "version": "1.10.0"
  }
 },
 "nbformat": 4,
 "nbformat_minor": 5
}
