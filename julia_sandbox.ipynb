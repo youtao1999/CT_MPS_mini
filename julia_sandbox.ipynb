{
 "cells": [
  {
   "cell_type": "code",
   "execution_count": 1,
   "id": "ccd7b1f4-4c49-4c48-8399-8b9ceef0b90d",
   "metadata": {},
   "outputs": [
    {
     "name": "stderr",
     "output_type": "stream",
     "text": [
      "\u001b[32m\u001b[1m  Activating\u001b[22m\u001b[39m project at `~/CT_MPS_mini/CT`\n"
     ]
    }
   ],
   "source": [
    "using Pkg\n",
    "Pkg.activate(\"CT\")\n",
    "using CT\n",
    "using ProgressMeter"
   ]
  },
  {
   "cell_type": "code",
   "execution_count": 2,
   "id": "484c31bc-19ce-4b04-b4af-2b0e62cde5a5",
   "metadata": {},
   "outputs": [
    {
     "name": "stdout",
     "output_type": "stream",
     "text": [
      "\u001b[36m\u001b[1mProject\u001b[22m\u001b[39m CT v0.1.0\n",
      "\u001b[32m\u001b[1mStatus\u001b[22m\u001b[39m `~/CT_MPS_mini/CT/Project.toml`\n",
      "  \u001b[90m[c7e460c6] \u001b[39mArgParse v1.2.0\n",
      "  \u001b[90m[6e4b80f9] \u001b[39mBenchmarkTools v1.6.0\n",
      "  \u001b[90m[f67ccb44] \u001b[39mHDF5 v0.17.2\n",
      "\u001b[33m⌅\u001b[39m \u001b[90m[9136182c] \u001b[39mITensors v0.6.19\n",
      "  \u001b[90m[682c06a0] \u001b[39mJSON v0.21.4\n",
      "  \u001b[90m[33e6dc65] \u001b[39mMKL v0.9.0\n",
      "  \u001b[90m[da04e1cc] \u001b[39mMPI v0.20.23\n",
      "  \u001b[90m[3da0fdf6] \u001b[39mMPIPreferences v0.1.11\n",
      "\u001b[33m⌅\u001b[39m \u001b[90m[92933f4c] \u001b[39mProgressMeter v1.10.4\n",
      "\u001b[33m⌅\u001b[39m \u001b[90m[9f0aa9f4] \u001b[39mTCIITensorConversion v0.1.4\n",
      "\u001b[32m⌃\u001b[39m \u001b[90m[b261b2ec] \u001b[39mTensorCrossInterpolation v0.9.16\n",
      "\u001b[33m⌅\u001b[39m \u001b[90m[a759f4b9] \u001b[39mTimerOutputs v0.5.25\n",
      "  \u001b[90m[37e2e46d] \u001b[39mLinearAlgebra\n",
      "  \u001b[90m[9a3f8284] \u001b[39mRandom\n",
      "\u001b[36m\u001b[1mInfo\u001b[22m\u001b[39m Packages marked with \u001b[32m⌃\u001b[39m and \u001b[33m⌅\u001b[39m have new versions available, but those with \u001b[33m⌅\u001b[39m are restricted by compatibility constraints from upgrading. To see why use `status --outdated`\n"
     ]
    }
   ],
   "source": [
    "Pkg.status()"
   ]
  },
  {
   "cell_type": "code",
   "execution_count": 3,
   "id": "c29f0c3e",
   "metadata": {},
   "outputs": [
    {
     "data": {
      "text/plain": [
       "adder_mpo_vec (generic function with 1 method)"
      ]
     },
     "metadata": {},
     "output_type": "display_data"
    }
   ],
   "source": [
    "include(\"global_adder_passthrough.jl\")\n"
   ]
  },
  {
   "cell_type": "code",
   "execution_count": 4,
   "id": "67091c03",
   "metadata": {},
   "outputs": [
    {
     "data": {
      "text/plain": [
       "display_state (generic function with 1 method)"
      ]
     },
     "metadata": {},
     "output_type": "display_data"
    }
   ],
   "source": [
    "\n",
    "function display_state(state)\n",
    "    contracted = contract(state)\n",
    "    state_vec = vec(Array(contracted, inds(contracted)...))\n",
    "    # @show argmax(state_vec)\n",
    "    loc = findall(x->abs(x)>1e-1, state_vec)\n",
    "    # println(state_vec[loc])\n",
    "    if length(loc) > 0\n",
    "        pos = loc[1] - 1\n",
    "        # ITensors native ordering: site 1 = rightmost bit in binary position\n",
    "        # We reversed input, so reverse output to match our convention\n",
    "        binary = string(pos, base=2, pad=L)\n",
    "        return reverse(binary)  # site 1 = leftmost bit in our convention\n",
    "    else\n",
    "        return \"0\"^L\n",
    "    end\n",
    "end"
   ]
  },
  {
   "cell_type": "code",
   "execution_count": null,
   "id": "dd5c3d92",
   "metadata": {},
   "outputs": [
    {
     "name": "stderr",
     "output_type": "stream",
     "text": [
      "\u001b[32m\u001b[1m  Activating\u001b[22m\u001b[39m project at `~/CT_MPS_mini/CT`\n"
     ]
    },
    {
     "name": "stdout",
     "output_type": "stream",
     "text": [
      "initializing random MPS with linkdims 1024\n"
     ]
    }
   ],
   "source": [
    "using Pkg\n",
    "Pkg.activate(\"CT\")\n",
    "using CT\n",
    "# benchmark adder_MPO\n",
    "using ITensors\n",
    "# initialize random state\n",
    "using .CT: _initialize_basis, _initialize_vector, P_MPO, XI_MPO, I_MPO, adder_MPO, add1, power_mpo\n",
    "using Random\n",
    "\n",
    "L = 8\n",
    "ancilla = 0\n",
    "folded = true\n",
    "seed_vec = 123457\n",
    "xj = Set([1//3, 2//3])\n",
    "i1 = 2\n",
    "numerator = 1\n",
    "denominator = 3\n",
    "_maxdim = 2^(div(L,2))\n",
    "_maxdim0 = 2^10\n",
    "_eps = 1e-10\n",
    "seed = 123457\n",
    "x0 = nothing\n",
    "qubit_site, ram_phy, phy_ram, phy_list = _initialize_basis(L, ancilla, folded)\n",
    "rng = MersenneTwister(seed_vec)\n",
    "rng_vec = seed_vec === nothing ? rng : MersenneTwister(seed_vec)\n",
    "shift_1_3_bits, shift_1_3_amount = fraction_to_binary_shift(numerator, denominator, L)"
   ]
  },
  {
   "cell_type": "code",
   "execution_count": 6,
   "id": "326c1f87",
   "metadata": {},
   "outputs": [],
   "source": [
    "# initialize haining adder mpo\n",
    "add1_mpo=MPO(add1(i1,L,phy_ram,phy_list),qubit_site);\n",
    "add1_6,add1_3=power_mpo(add1_mpo,[div(2^L,6)+1,div(2^L,3)]);"
   ]
  },
  {
   "cell_type": "code",
   "execution_count": 7,
   "id": "96694442",
   "metadata": {},
   "outputs": [],
   "source": [
    "# initialize the passthrough adder mpo\n",
    "shift_bits, _ = fraction_to_binary_shift(numerator, denominator, L)\n",
    "conn_pairs_dict, folded_ram_phy_dict = conn_pairs(L)\n",
    "pairing_fixed_i1 = conn_pairs_dict[i1]\n",
    "ram_phy_passthrough = folded_ram_phy_dict[i1]\n",
    "# initialize the gate vector\n",
    "gate_vec = initialize_gate_vec(pairing_fixed_i1, shift_bits, qubit_site, L, ram_phy_passthrough)\n",
    "\n",
    "# sort the gate vector according to the qubit site number\n",
    "gate_sites = [qubit_site_number(gate) for gate in gate_vec]\n",
    "gate_vec_sorted = gate_vec[sortperm(gate_sites)];\n",
    "gate_vec_collapsed = collapse_gate_vec(gate_vec_sorted);\n",
    "\n",
    "# create the mpo\n",
    "adder_mpo = create_mpo(gate_vec_collapsed);"
   ]
  },
  {
   "cell_type": "code",
   "execution_count": 14,
   "id": "8b84cc2d",
   "metadata": {},
   "outputs": [
    {
     "name": "stdout",
     "output_type": "stream",
     "text": [
      "initializing random MPS with linkdims 1024\n",
      "2.870933999737604e-14\n",
      "initializing random MPS with linkdims 1024\n",
      "2.963260958235716e-14\n",
      "initializing random MPS with linkdims 1024\n",
      "3.116089685271521e-14\n",
      "initializing random MPS with linkdims 1024\n",
      "2.953704488170211e-14\n",
      "initializing random MPS with linkdims 1024\n",
      "2.661089605120238e-14\n",
      "initializing random MPS with linkdims 1024\n",
      "2.824006723298496e-14\n",
      "initializing random MPS with linkdims 1024\n",
      "3.066758753671839e-14\n",
      "initializing random MPS with linkdims 1024\n",
      "3.0916571756382026e-14\n",
      "initializing random MPS with linkdims 1024\n",
      "2.729150862397574e-14\n",
      "initializing random MPS with linkdims 1024\n",
      "2.765112915339986e-14\n"
     ]
    }
   ],
   "source": [
    "for seed_vec in 1:10\n",
    "    initial_state = _initialize_vector(L, ancilla, x0, folded, qubit_site, ram_phy, phy_ram, phy_list, rng_vec, _eps, _maxdim0);\n",
    "    final_1 = apply(adder_mpo, initial_state; cutoff=_eps, maxdim=_maxdim);\n",
    "    final_2 = apply(add1_3,initial_state; cutoff=_eps, maxdim=_maxdim);\n",
    "    println(norm(final_1 - final_2))\n",
    "end\n",
    "\n",
    "\n",
    "\n",
    "\n"
   ]
  },
  {
   "cell_type": "code",
   "execution_count": 8,
   "id": "94b22b3e",
   "metadata": {},
   "outputs": [],
   "source": [
    "carry_links_passthrough, T_vec_passthrough, id_vec_passthrough, gate_vec_passthrough = initialize_links(L, qubit_site, shift_1_3_bits, ram_phy);\n",
    "adder_mpo_passthrough = build_adder_mpo(qubit_site,L,carry_links_passthrough,gate_vec_passthrough, T_vec_passthrough,_eps,_maxdim);\n"
   ]
  },
  {
   "cell_type": "code",
   "execution_count": 9,
   "id": "6e6558d5",
   "metadata": {},
   "outputs": [
    {
     "name": "stderr",
     "output_type": "stream",
     "text": [
      "\u001b[32mProgress: 100%|█████████████████████████████████████████| Time: 0:00:13\u001b[39m\u001b[K\n"
     ]
    }
   ],
   "source": [
    "\n",
    "dict_correct = Dict{String,String}()\n",
    "for state_index in 1:2^L\n",
    "    string_vec = lpad(string(state_index-1,base=2),L,\"0\")\n",
    "    correct_unfolded = lpad(string((state_index - 1 + shift_1_3_amount) % 2^L,base=2),L,\"0\")\n",
    "    string_vec_folded = join([string_vec[ram_phy[i]] for i in 1:L])\n",
    "    correct_folded = join([correct_unfolded[ram_phy[i]] for i in 1:L])\n",
    "    dict_correct[join(string_vec)] = join(correct_folded)\n",
    "end\n",
    "\n",
    "\n",
    "@showprogress for state_index in 1:2^L\n",
    "    string_vec = lpad(string(state_index-1,base=2),L,\"0\")\n",
    "    string_vec_folded = join([string_vec[ram_phy[i]] for i in 1:L])\n",
    "    # Convention: RAM position i stores physical bit ram_phy[i]\n",
    "    # productMPS assigns to RAM positions, so use folded representation\n",
    "    vec = 1 .+ parse.(Int, [string(string_vec_folded[i]) for i in 1:L])\n",
    "    initial_state = productMPS(qubit_site, vec)\n",
    "\n",
    "    # @show CT.mps_element(initial_state, \"000000001000\"[ram_phy])\n",
    "    final_state_1 = copy(initial_state)\n",
    "    final_state_2 = copy(initial_state)\n",
    "    # passthrough_state = copy(initial_state)\n",
    "    final_state_1 = apply(adder_mpo, final_state_1; cutoff=_eps, maxdim=_maxdim);\n",
    "    # passthrough_state = global_adder(passthrough_state, carry_links, T_vec, gate_vec, qubit_site; cutoff=_eps, maxdim=_maxdim);\n",
    "    final_state_2 = apply(add1_3,final_state_2; cutoff=_eps, maxdim=_maxdim);\n",
    "    # @show CT.mps_element(final_state_2, \"001010110011\"[ram_phy])\n",
    "    # @show display_state(final_state_2)[phy_ram]\n",
    "    final_state_1_unfolded = [ display_state(final_state_1)[phy_ram[i]] for i in 1:L ]\n",
    "    final_state_2_unfolded = [ display_state(final_state_2)[phy_ram[i]] for i in 1:L ]\n",
    "    # passthrough_state_unfolded = [ display_state(passthrough_state)[phy_ram[i]] for i in 1:L ]\n",
    "    # println(string_vec, \"=>\", join(final_state_1_unfolded))\n",
    "    # println(string_vec, \"=>\", join(final_state_2_unfolded))\n",
    "    if join(final_state_1_unfolded) != join(final_state_2_unfolded)\n",
    "        println(string_vec)\n",
    "        println(join(final_state_1_unfolded))\n",
    "        println(join(final_state_2_unfolded))\n",
    "        # println(dict_correct[join(string_vec)])\n",
    "        # println(join(passthrough_state_unfolded))\n",
    "        println(\"wrong\")\n",
    "        # println(\"correct: \", dict_correct[join(string_vec)])\n",
    "\n",
    "    end\n",
    "\n",
    "    # println(string_vec, \"=>\", display_state(final_state_1), \"<=>\", display_state(final_state_2))\n",
    "    # println(display_state(final_state_1) == display_state(final_state_2))\n",
    "end"
   ]
  },
  {
   "cell_type": "code",
   "execution_count": 10,
   "id": "b9ab39c2",
   "metadata": {},
   "outputs": [],
   "source": []
  }
 ],
 "metadata": {
  "kernelspec": {
   "display_name": "Julia 1.9.3",
   "language": "julia",
   "name": "julia-1.9"
  },
  "language_info": {
   "file_extension": ".jl",
   "mimetype": "application/julia",
   "name": "julia",
   "version": "1.9.3"
  }
 },
 "nbformat": 4,
 "nbformat_minor": 5
}
