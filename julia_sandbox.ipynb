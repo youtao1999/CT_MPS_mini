{
 "cells": [
  {
   "cell_type": "code",
   "execution_count": 560,
   "id": "ccd7b1f4-4c49-4c48-8399-8b9ceef0b90d",
   "metadata": {},
   "outputs": [
    {
     "name": "stderr",
     "output_type": "stream",
     "text": [
      "\u001b[32m\u001b[1m  Activating\u001b[22m\u001b[39m project at `~/CT_MPS_mini/CT`\n"
     ]
    }
   ],
   "source": [
    "using Pkg\n",
    "Pkg.activate(\"CT\")\n",
    "using CT"
   ]
  },
  {
   "cell_type": "code",
   "execution_count": 561,
   "id": "484c31bc-19ce-4b04-b4af-2b0e62cde5a5",
   "metadata": {},
   "outputs": [
    {
     "name": "stdout",
     "output_type": "stream",
     "text": [
      "\u001b[36m\u001b[1mProject\u001b[22m\u001b[39m CT v0.1.0\n",
      "\u001b[32m\u001b[1mStatus\u001b[22m\u001b[39m `~/CT_MPS_mini/CT/Project.toml`\n",
      "  \u001b[90m[c7e460c6] \u001b[39mArgParse v1.2.0\n",
      "\u001b[32m⌃\u001b[39m \u001b[90m[6e4b80f9] \u001b[39mBenchmarkTools v1.5.0\n",
      "\u001b[33m⌅\u001b[39m \u001b[90m[9136182c] \u001b[39mITensors v0.6.16\n",
      "  \u001b[90m[682c06a0] \u001b[39mJSON v0.21.4\n",
      "\u001b[32m⌃\u001b[39m \u001b[90m[33e6dc65] \u001b[39mMKL v0.7.0\n",
      "\u001b[32m⌃\u001b[39m \u001b[90m[91a5bcdd] \u001b[39mPlots v1.40.5\n",
      "\u001b[32m⌃\u001b[39m \u001b[90m[9f0aa9f4] \u001b[39mTCIITensorConversion v0.1.4\n",
      "\u001b[32m⌃\u001b[39m \u001b[90m[b261b2ec] \u001b[39mTensorCrossInterpolation v0.9.10\n",
      "\u001b[32m⌃\u001b[39m \u001b[90m[a759f4b9] \u001b[39mTimerOutputs v0.5.24\n",
      "  \u001b[90m[37e2e46d] \u001b[39mLinearAlgebra\n",
      "  \u001b[90m[9a3f8284] \u001b[39mRandom\n",
      "\u001b[36m\u001b[1mInfo\u001b[22m\u001b[39m Packages marked with \u001b[32m⌃\u001b[39m and \u001b[33m⌅\u001b[39m have new versions available. Those with \u001b[32m⌃\u001b[39m may be upgradable, but those with \u001b[33m⌅\u001b[39m are restricted by compatibility constraints from upgrading. To see why use `status --outdated`\n"
     ]
    }
   ],
   "source": [
    "Pkg.status()"
   ]
  },
  {
   "cell_type": "code",
   "execution_count": 562,
   "id": "dd5c3d92",
   "metadata": {},
   "outputs": [
    {
     "name": "stdout",
     "output_type": "stream",
     "text": [
      "[1, 2, 3, 4]\n",
      "[1, 4, 2, 3]\n",
      "[1, 3, 4, 2]\n"
     ]
    },
    {
     "data": {
      "text/plain": [
       "MPS\n",
       "[1] ((dim=2|id=826|\"Qubit,Site,n=1\"), (dim=8|id=949|\"Link,l=1\"))\n",
       "[2] ((dim=8|id=949|\"Link,l=1\"), (dim=2|id=702|\"Qubit,Site,n=2\"), (dim=4|id=157|\"Link,l=2\"))\n",
       "[3] ((dim=4|id=157|\"Link,l=2\"), (dim=2|id=379|\"Qubit,Site,n=3\"), (dim=2|id=332|\"Link,l=3\"))\n",
       "[4] ((dim=2|id=332|\"Link,l=3\"), (dim=2|id=644|\"Qubit,Site,n=4\"))\n"
      ]
     },
     "execution_count": 562,
     "metadata": {},
     "output_type": "execute_result"
    }
   ],
   "source": [
    "# benchmark adder_MPO\n",
    "using ITensors\n",
    "include(\"CT/src/test_adder_MPO.jl\")\n",
    "# initialize random state\n",
    "using .CT: _initialize_basis, _initialize_vector, P_MPO, XI_MPO, I_MPO, adder_MPO\n",
    "using Random\n",
    "L = 4\n",
    "ancilla = 0\n",
    "folded = true\n",
    "seed_vec = 123457\n",
    "xj = Set([1//3, 2//3])\n",
    "i1 = 1\n",
    "p_ctrl = 1.0\n",
    "p_proj = 0.0\n",
    "_maxdim = 50\n",
    "_cutoff = 1e-15\n",
    "seed = 123457\n",
    "x0 = nothing\n",
    "qubit_site, ram_phy, phy_ram, phy_list = _initialize_basis(L, ancilla, folded)\n",
    "println(phy_list)\n",
    "println(ram_phy)\n",
    "println(phy_ram)\n",
    "rng = MersenneTwister(seed_vec)\n",
    "rng_vec = seed_vec === nothing ? rng : MersenneTwister(seed_vec)\n",
    "initial_state = _initialize_vector(L, ancilla, x0, folded, qubit_site, ram_phy, phy_ram, phy_list, rng_vec, _cutoff, _maxdim)\n",
    "# println(initial_state)"
   ]
  },
  {
   "cell_type": "code",
   "execution_count": 563,
   "id": "61790ea6",
   "metadata": {},
   "outputs": [],
   "source": [
    "# # debug \n",
    "# # haining\n",
    "# using .CT: add1, power_mpo\n",
    "# add1_mpo=MPO(add1(i1,L,phy_ram,phy_list),qubit_site)\n",
    "# add1_6,add1_3=power_mpo(add1_mpo,[div(2^L,6)+1,div(2^L,3)])\n",
    "\n",
    "# # tao\n",
    "# # Convert fractions to binary shifts\n",
    "# shift_1_6_bits, shift_1_6_amount = fraction_to_binary_shift(1, 6, L)\n",
    "# shift_1_3_bits, shift_1_3_amount = fraction_to_binary_shift(1, 3, L)\n",
    "# println(\"shift_1_6_bits: \", shift_1_6_bits)\n",
    "# println(\"shift_1_3_bits: \", shift_1_3_bits)\n",
    "# # println(\"shift_1_6_amount: \", shift_1_6_amount)\n",
    "# # println(\"shift_1_3_amount: \", shift_1_3_amount)\n",
    "# # Create binary addition MPOs\n",
    "# # add_mpo_1_6 = create_binary_addition_mpo(shift_1_6_bits, qubit_site, phy_ram, phy_list)\n",
    "# add_mpo_1_3 = create_binary_addition_mpo([0,0,0,1], qubit_site, phy_ram, phy_list, ram_phy)\n",
    "\n",
    "# basis_state = productMPS(qubit_site, [1,2,2,1])\n",
    "# # println(basis_state)\n",
    "# # println(add_mpo_1_3)\n",
    "# result = basis_state * add_mpo_1_3\n",
    "# print_mps_as_binary(result, L)\n",
    "# # println(\"result: \", vec(array(contract(result))))\n",
    "\n",
    "# # result_vec = vec(array(contract(result)))\n",
    "# # print(vector(result_vec))\n",
    "# # println(\"~\"^100)\n",
    "# # n = mps_to_computational_basis(result)\n",
    "# # binary_str = string(n, base=2, pad=L)  # L is the number of qubits\n",
    "# # println(\"State: |$binary_str⟩\")\n",
    "# # For your specific MPS structure\n",
    "# # Contract carry_phy_2 (tensors 1 and 3)\n"
   ]
  },
  {
   "cell_type": "code",
   "execution_count": null,
   "id": "fa0d521e",
   "metadata": {},
   "outputs": [
    {
     "name": "stdout",
     "output_type": "stream",
     "text": [
      "[0 0 0 0 0 0 0 0 0 0 0 0 0 1 0 0; 0 0 0 0 0 0 0 0 0 0 0 0 0 0 1 0; 0 0 0 0 0 0 0 0 0 0 0 0 0 0 0 1; 0 0 0 0 1 0 0 0 0 0 0 0 0 0 0 0; 0 0 0 0 0 0 0 0 0 0 1 0 0 0 0 0; 0 0 0 0 0 0 0 0 0 0 0 1 0 0 0 0; 1 0 0 0 0 0 0 0 0 0 0 0 0 0 0 0; 0 1 0 0 0 0 0 0 0 0 0 0 0 0 0 0; 0 0 0 0 0 1 0 0 0 0 0 0 0 0 0 0; 0 0 0 0 0 0 1 0 0 0 0 0 0 0 0 0; 0 0 0 0 0 0 0 1 0 0 0 0 0 0 0 0; 0 0 0 0 0 0 0 0 0 0 0 0 1 0 0 0; 0 0 1 0 0 0 0 0 0 0 0 0 0 0 0 0; 0 0 0 1 0 0 0 0 0 0 0 0 0 0 0 0; 0 0 0 0 0 0 0 0 1 0 0 0 0 0 0 0; 0 0 0 0 0 0 0 0 0 1 0 0 0 0 0 0]\n"
     ]
    }
   ],
   "source": [
    "using ITensors\n",
    "include(\"CT/src/test_adder_MPO.jl\")\n",
    "using .CT: _initialize_basis, _initialize_vector, P_MPO, XI_MPO, I_MPO, adder_MPO\n",
    "using Random\n",
    "\n",
    "using SparseArrays\n",
    "\n",
    "qubit_site, ram_phy, phy_ram, phy_list = _initialize_basis(4, 0, folded)\n",
    "\n",
    "\n",
    "function create_msb_ordered_tensor(dense_mat, L)\n",
    "    \"\"\"Create tensor with MSB-first bit ordering instead of default reshape\"\"\"\n",
    "    tensor_shape = ntuple(i -> 2, 2*L)\n",
    "    A_tensor = zeros(Int, tensor_shape)\n",
    "    \n",
    "    # Fill tensor manually with MSB-first ordering\n",
    "    for i in 0:2^L-1\n",
    "        for j in 0:2^L-1\n",
    "            if dense_mat[i+1, j+1] != 0\n",
    "                # Convert i,j to MSB-first bit indices\n",
    "                i_str = string(i, base=2, pad=L)\n",
    "                j_str = string(j, base=2, pad=L)\n",
    "                i_bits = [parse(Int, c) + 1 for c in i_str]  # MSB first, 1-indexed\n",
    "                j_bits = [parse(Int, c) + 1 for c in j_str]  # MSB first, 1-indexed\n",
    "                \n",
    "                A_tensor[i_bits..., j_bits...] = dense_mat[i+1, j+1]\n",
    "            end\n",
    "        end\n",
    "    end\n",
    "    \n",
    "    return A_tensor\n",
    "end\n",
    "\n",
    "function mpo_adder_1_3(L::Int, qubit_site::Vector{Index{Int64}}, ram_phy::Vector{Int}, phy_ram::Vector{Int}, phy_list::Vector{Int}, folded::Bool)\n",
    "    coordinates = []\n",
    "    shift_str = \"01\"^L\n",
    "    shift_num = parse(Int, shift_str, base=2)\n",
    "    for i in 0:2^L-1\n",
    "        # println(\"phys order \", i, \"->\", (i+5) % (2^L))\n",
    "        # println(\"phys order binary \", string(i, base=2, pad=L), \"->\", string((i+5) % (2^L), base=2, pad=L))\n",
    "        # println(\"ram order binary \", string(string(i, base=2, pad=L)[ram_phy]), \"->\", string(string((i+5) % (2^L), base=2, pad=L)[ram_phy]))\n",
    "        # println(\"ram order \", parse(Int, string(string(i, base=2, pad=L)[ram_phy]), base=2), \"->\", parse(Int, string(string((i+5) % (2^L), base=2, pad=L)[ram_phy]), base=2))\n",
    "        coordinate = (parse(Int, string(string((i+shift_num) % (2^L), base=2, pad=L)[ram_phy]), base=2)+1, parse(Int, string(string(i, base=2, pad=L)[ram_phy]), base=2)+1)\n",
    "        push!(coordinates, coordinate)\n",
    "    end\n",
    "    # println(coordinates)\n",
    "    matrix_size = (2^L, 2^L)  # or whatever size you need\n",
    "\n",
    "    # Method 2: Direct dense matrix construction\n",
    "    dense_mat = zeros(Int, matrix_size)\n",
    "    for (i, j) in coordinates\n",
    "        dense_mat[i, j] = 1\n",
    "    end\n",
    "    println(dense_mat)\n",
    "\n",
    "    # Reshape 16x16 matrix into 4-qubit tensor with 8 indices\n",
    "    # Each qubit has dimension 2, so we have (2,2,2,2) ⊗ (2,2,2,2)\n",
    "    A_tensor = create_msb_ordered_tensor(dense_mat, L)\n",
    "    # println(A_tensor[1,1,2,1,2,2,2,2])\n",
    "    # Set small values to zero\n",
    "    A_tensor[abs.(A_tensor) .< 1e-10] .= 0\n",
    "\n",
    "    # Create ITensor with both input and output indices\n",
    "    # Input indices (ket): sites\n",
    "    # Output indices (bra): sites'\n",
    "    A_itensor = ITensor(A_tensor, qubit_site'..., qubit_site...)\n",
    "\n",
    "    # Convert to MPO (Matrix Product Operator)\n",
    "    cutoff = 1e-12\n",
    "    maxdim = 100\n",
    "\n",
    "    # Create MPO from the operator ITensor\n",
    "    mpo = MPO(A_itensor, qubit_site; cutoff=cutoff, maxdim=maxdim)\n",
    "    orthogonalize!(mpo, length(mpo))\n",
    "\n",
    "    # get bond dimensions\n",
    "        # Assuming you have an MPO called `mpo`\n",
    "    bond_dims = []\n",
    "    for i in 1:length(mpo)-1\n",
    "        # Get the common index between sites i and i+1\n",
    "        common_idx = commonind(mpo[i], mpo[i+1])\n",
    "        push!(bond_dims, dim(common_idx))\n",
    "    end\n",
    "    return mpo, bond_dims, dense_mat, A_tensor\n",
    "end\n",
    "\n",
    "mpo, bond_dims, dense_mat, A_tensor = mpo_adder_1_3(4, qubit_site, ram_phy, phy_ram, phy_list, folded);"
   ]
  },
  {
   "cell_type": "code",
   "execution_count": null,
   "id": "3c222f49",
   "metadata": {},
   "outputs": [
    {
     "name": "stdout",
     "output_type": "stream",
     "text": [
      "[0 0 0 0 0 0 0 0 0 0 0 0 0 1 0 0; 0 0 0 0 0 0 0 0 0 0 0 0 0 0 1 0; 0 0 0 0 0 0 0 0 0 0 0 0 0 0 0 1; 0 0 0 0 1 0 0 0 0 0 0 0 0 0 0 0; 0 0 0 0 0 0 0 0 0 0 1 0 0 0 0 0; 0 0 0 0 0 0 0 0 0 0 0 1 0 0 0 0; 1 0 0 0 0 0 0 0 0 0 0 0 0 0 0 0; 0 1 0 0 0 0 0 0 0 0 0 0 0 0 0 0; 0 0 0 0 0 1 0 0 0 0 0 0 0 0 0 0; 0 0 0 0 0 0 1 0 0 0 0 0 0 0 0 0; 0 0 0 0 0 0 0 1 0 0 0 0 0 0 0 0; 0 0 0 0 0 0 0 0 0 0 0 0 1 0 0 0; 0 0 1 0 0 0 0 0 0 0 0 0 0 0 0 0; 0 0 0 1 0 0 0 0 0 0 0 0 0 0 0 0; 0 0 0 0 0 0 0 0 1 0 0 0 0 0 0 0; 0 0 0 0 0 0 0 0 0 1 0 0 0 0 0 0]\n",
      "~~~~~~~~~~~~~~~~~~~~~~~~~~~~~~~~~~~~~~~~~~~~~~~~~~~~~~~~~~~~\n",
      "0000\n",
      "ITensor[ITensor ord=2\n",
      "Dim 1: (dim=1|id=581|\"Link,l=1\")'\n",
      "Dim 2: (dim=2|id=101|\"Qubit,Site,n=1\")'\n",
      "NDTensors.Dense{Float64, Vector{Float64}}\n",
      " 1×2\n",
      " -1.0000000000000002  0.0, ITensor ord=3\n",
      "Dim 1: (dim=2|id=770|\"Qubit,Site,n=2\")'\n",
      "Dim 2: (dim=1|id=302|\"Link,l=2\")'\n",
      "Dim 3: (dim=1|id=581|\"Link,l=1\")'\n",
      "NDTensors.Dense{Float64, Vector{Float64}}\n",
      " 2×1×1\n",
      "[:, :, 1] =\n",
      " 0.0\n",
      " 1.0, ITensor ord=3\n",
      "Dim 1: (dim=2|id=410|\"Qubit,Site,n=3\")'\n",
      "Dim 2: (dim=1|id=807|\"Link,l=3\")'\n",
      "Dim 3: (dim=1|id=302|\"Link,l=2\")'\n",
      "NDTensors.Dense{Float64, Vector{Float64}}\n",
      " 2×1×1\n",
      "[:, :, 1] =\n",
      " 0.0\n",
      " 1.0, ITensor ord=2\n",
      "Dim 1: (dim=2|id=853|\"Qubit,Site,n=4\")'\n",
      "Dim 2: (dim=1|id=807|\"Link,l=3\")'\n",
      "NDTensors.Dense{Float64, Vector{Float64}}\n",
      " 2×1\n",
      " -1.0\n",
      " -0.0]\n",
      "~~~~~~~~~~~~~~~~~~~~~~~~~~~~~~~~~~~~~~~~~~~~~~~~~~~~~~~~~~~~\n",
      "~~~~~~~~~~~~~~~~~~~~~~~~~~~~~~~~~~~~~~~~~~~~~~~~~~~~~~~~~~~~\n",
      "0001\n",
      "ITensor[ITensor ord=2\n",
      "Dim 1: (dim=1|id=125|\"Link,l=1\")'\n",
      "Dim 2: (dim=2|id=101|\"Qubit,Site,n=1\")'\n",
      "NDTensors.Dense{Float64, Vector{Float64}}\n",
      " 1×2\n",
      " 1.0000000000000002  0.0, ITensor ord=3\n",
      "Dim 1: (dim=2|id=770|\"Qubit,Site,n=2\")'\n",
      "Dim 2: (dim=1|id=637|\"Link,l=2\")'\n",
      "Dim 3: (dim=1|id=125|\"Link,l=1\")'\n",
      "NDTensors.Dense{Float64, Vector{Float64}}\n",
      " 2×1×1\n",
      "[:, :, 1] =\n",
      " 0.0\n",
      " 1.0, ITensor ord=3\n",
      "Dim 1: (dim=2|id=410|\"Qubit,Site,n=3\")'\n",
      "Dim 2: (dim=1|id=175|\"Link,l=3\")'\n",
      "Dim 3: (dim=1|id=637|\"Link,l=2\")'\n",
      "NDTensors.Dense{Float64, Vector{Float64}}\n",
      " 2×1×1\n",
      "[:, :, 1] =\n",
      " 0.0\n",
      " 1.0, ITensor ord=2\n",
      "Dim 1: (dim=2|id=853|\"Qubit,Site,n=4\")'\n",
      "Dim 2: (dim=1|id=175|\"Link,l=3\")'\n",
      "NDTensors.Dense{Float64, Vector{Float64}}\n",
      " 2×1\n",
      " -1.570092458683775e-16\n",
      "  1.0]\n",
      "~~~~~~~~~~~~~~~~~~~~~~~~~~~~~~~~~~~~~~~~~~~~~~~~~~~~~~~~~~~~\n",
      "~~~~~~~~~~~~~~~~~~~~~~~~~~~~~~~~~~~~~~~~~~~~~~~~~~~~~~~~~~~~\n",
      "0010\n",
      "ITensor[ITensor ord=2\n",
      "Dim 1: (dim=1|id=365|\"Link,l=1\")'\n",
      "Dim 2: (dim=2|id=101|\"Qubit,Site,n=1\")'\n",
      "NDTensors.Dense{Float64, Vector{Float64}}\n",
      " 1×2\n",
      " 0.0  0.9999999999999998, ITensor ord=3\n",
      "Dim 1: (dim=2|id=770|\"Qubit,Site,n=2\")'\n",
      "Dim 2: (dim=1|id=27|\"Link,l=2\")'\n",
      "Dim 3: (dim=1|id=365|\"Link,l=1\")'\n",
      "NDTensors.Dense{Float64, Vector{Float64}}\n",
      " 2×1×1\n",
      "[:, :, 1] =\n",
      " 0.0\n",
      " 1.0, ITensor ord=3\n",
      "Dim 1: (dim=2|id=410|\"Qubit,Site,n=3\")'\n",
      "Dim 2: (dim=1|id=944|\"Link,l=3\")'\n",
      "Dim 3: (dim=1|id=27|\"Link,l=2\")'\n",
      "NDTensors.Dense{Float64, Vector{Float64}}\n",
      " 2×1×1\n",
      "[:, :, 1] =\n",
      " -1.0\n",
      " -0.0, ITensor ord=2\n",
      "Dim 1: (dim=2|id=853|\"Qubit,Site,n=4\")'\n",
      "Dim 2: (dim=1|id=944|\"Link,l=3\")'\n",
      "NDTensors.Dense{Float64, Vector{Float64}}\n",
      " 2×1\n",
      " -1.0\n",
      " -0.0]\n",
      "~~~~~~~~~~~~~~~~~~~~~~~~~~~~~~~~~~~~~~~~~~~~~~~~~~~~~~~~~~~~\n",
      "~~~~~~~~~~~~~~~~~~~~~~~~~~~~~~~~~~~~~~~~~~~~~~~~~~~~~~~~~~~~\n",
      "0011\n",
      "ITensor[ITensor ord=2\n",
      "Dim 1: (dim=1|id=140|\"Link,l=1\")'\n",
      "Dim 2: (dim=2|id=101|\"Qubit,Site,n=1\")'\n",
      "NDTensors.Dense{Float64, Vector{Float64}}\n",
      " 1×2\n",
      " 0.0  -0.9999999999999998, ITensor ord=3\n",
      "Dim 1: (dim=2|id=770|\"Qubit,Site,n=2\")'\n",
      "Dim 2: (dim=1|id=573|\"Link,l=2\")'\n",
      "Dim 3: (dim=1|id=140|\"Link,l=1\")'\n",
      "NDTensors.Dense{Float64, Vector{Float64}}\n",
      " 2×1×1\n",
      "[:, :, 1] =\n",
      " 0.0\n",
      " 1.0, ITensor ord=3\n",
      "Dim 1: (dim=2|id=410|\"Qubit,Site,n=3\")'\n",
      "Dim 2: (dim=1|id=816|\"Link,l=3\")'\n",
      "Dim 3: (dim=1|id=573|\"Link,l=2\")'\n",
      "NDTensors.Dense{Float64, Vector{Float64}}\n",
      " 2×1×1\n",
      "[:, :, 1] =\n",
      " -1.0\n",
      " -0.0, ITensor ord=2\n",
      "Dim 1: (dim=2|id=853|\"Qubit,Site,n=4\")'\n",
      "Dim 2: (dim=1|id=816|\"Link,l=3\")'\n",
      "NDTensors.Dense{Float64, Vector{Float64}}\n",
      " 2×1\n",
      " -1.5700924586837752e-16\n",
      "  1.0]\n",
      "~~~~~~~~~~~~~~~~~~~~~~~~~~~~~~~~~~~~~~~~~~~~~~~~~~~~~~~~~~~~\n",
      "~~~~~~~~~~~~~~~~~~~~~~~~~~~~~~~~~~~~~~~~~~~~~~~~~~~~~~~~~~~~\n",
      "0100\n",
      "ITensor[ITensor ord=2\n",
      "Dim 1: (dim=1|id=586|\"Link,l=1\")'\n",
      "Dim 2: (dim=2|id=101|\"Qubit,Site,n=1\")'\n",
      "NDTensors.Dense{Float64, Vector{Float64}}\n",
      " 1×2\n",
      " -1.0000000000000002  0.0, ITensor ord=3\n",
      "Dim 1: (dim=2|id=770|\"Qubit,Site,n=2\")'\n",
      "Dim 2: (dim=1|id=391|\"Link,l=2\")'\n",
      "Dim 3: (dim=1|id=586|\"Link,l=1\")'\n",
      "NDTensors.Dense{Float64, Vector{Float64}}\n",
      " 2×1×1\n",
      "[:, :, 1] =\n",
      " -1.0\n",
      " -0.0, ITensor ord=3\n",
      "Dim 1: (dim=2|id=410|\"Qubit,Site,n=3\")'\n",
      "Dim 2: (dim=1|id=449|\"Link,l=3\")'\n",
      "Dim 3: (dim=1|id=391|\"Link,l=2\")'\n",
      "NDTensors.Dense{Float64, Vector{Float64}}\n",
      " 2×1×1\n",
      "[:, :, 1] =\n",
      " 0.0\n",
      " 1.0, ITensor ord=2\n",
      "Dim 1: (dim=2|id=853|\"Qubit,Site,n=4\")'\n",
      "Dim 2: (dim=1|id=449|\"Link,l=3\")'\n",
      "NDTensors.Dense{Float64, Vector{Float64}}\n",
      " 2×1\n",
      " 0.0\n",
      " 1.0]\n",
      "~~~~~~~~~~~~~~~~~~~~~~~~~~~~~~~~~~~~~~~~~~~~~~~~~~~~~~~~~~~~\n",
      "~~~~~~~~~~~~~~~~~~~~~~~~~~~~~~~~~~~~~~~~~~~~~~~~~~~~~~~~~~~~\n",
      "0101\n",
      "ITensor[ITensor ord=2\n",
      "Dim 1: (dim=1|id=126|\"Link,l=1\")'\n",
      "Dim 2: (dim=2|id=101|\"Qubit,Site,n=1\")'\n",
      "NDTensors.Dense{Float64, Vector{Float64}}\n",
      " 1×2\n",
      " 0.0  -1.0000000000000002, ITensor ord=3\n",
      "Dim 1: (dim=2|id=770|\"Qubit,Site,n=2\")'\n",
      "Dim 2: (dim=1|id=184|\"Link,l=2\")'\n",
      "Dim 3: (dim=1|id=126|\"Link,l=1\")'\n",
      "NDTensors.Dense{Float64, Vector{Float64}}\n",
      " 2×1×1\n",
      "[:, :, 1] =\n",
      " -1.0\n",
      " -0.0, ITensor ord=3\n",
      "Dim 1: (dim=2|id=410|\"Qubit,Site,n=3\")'\n",
      "Dim 2: (dim=1|id=913|\"Link,l=3\")'\n",
      "Dim 3: (dim=1|id=184|\"Link,l=2\")'\n",
      "NDTensors.Dense{Float64, Vector{Float64}}\n",
      " 2×1×1\n",
      "[:, :, 1] =\n",
      " -1.0\n",
      " -0.0, ITensor ord=2\n",
      "Dim 1: (dim=2|id=853|\"Qubit,Site,n=4\")'\n",
      "Dim 2: (dim=1|id=913|\"Link,l=3\")'\n",
      "NDTensors.Dense{Float64, Vector{Float64}}\n",
      " 2×1\n",
      " -1.0\n",
      " -0.0]\n",
      "~~~~~~~~~~~~~~~~~~~~~~~~~~~~~~~~~~~~~~~~~~~~~~~~~~~~~~~~~~~~\n",
      "~~~~~~~~~~~~~~~~~~~~~~~~~~~~~~~~~~~~~~~~~~~~~~~~~~~~~~~~~~~~\n",
      "0110\n",
      "ITensor[ITensor ord=2\n",
      "Dim 1: (dim=1|id=562|\"Link,l=1\")'\n",
      "Dim 2: (dim=2|id=101|\"Qubit,Site,n=1\")'\n",
      "NDTensors.Dense{Float64, Vector{Float64}}\n",
      " 1×2\n",
      " 0.0  1.0, ITensor ord=3\n",
      "Dim 1: (dim=2|id=770|\"Qubit,Site,n=2\")'\n",
      "Dim 2: (dim=1|id=495|\"Link,l=2\")'\n",
      "Dim 3: (dim=1|id=562|\"Link,l=1\")'\n",
      "NDTensors.Dense{Float64, Vector{Float64}}\n",
      " 2×1×1\n",
      "[:, :, 1] =\n",
      " -1.0\n",
      " -0.0, ITensor ord=3\n",
      "Dim 1: (dim=2|id=410|\"Qubit,Site,n=3\")'\n",
      "Dim 2: (dim=1|id=6|\"Link,l=3\")'\n",
      "Dim 3: (dim=1|id=495|\"Link,l=2\")'\n",
      "NDTensors.Dense{Float64, Vector{Float64}}\n",
      " 2×1×1\n",
      "[:, :, 1] =\n",
      " -1.0\n",
      " -0.0, ITensor ord=2\n",
      "Dim 1: (dim=2|id=853|\"Qubit,Site,n=4\")'\n",
      "Dim 2: (dim=1|id=6|\"Link,l=3\")'\n",
      "NDTensors.Dense{Float64, Vector{Float64}}\n",
      " 2×1\n",
      " 0.0\n",
      " 1.0]\n",
      "~~~~~~~~~~~~~~~~~~~~~~~~~~~~~~~~~~~~~~~~~~~~~~~~~~~~~~~~~~~~\n",
      "~~~~~~~~~~~~~~~~~~~~~~~~~~~~~~~~~~~~~~~~~~~~~~~~~~~~~~~~~~~~\n",
      "0111\n",
      "ITensor[ITensor ord=2\n",
      "Dim 1: (dim=1|id=948|\"Link,l=1\")'\n",
      "Dim 2: (dim=2|id=101|\"Qubit,Site,n=1\")'\n",
      "NDTensors.Dense{Float64, Vector{Float64}}\n",
      " 1×2\n",
      " 0.0  1.0, ITensor ord=3\n",
      "Dim 1: (dim=2|id=770|\"Qubit,Site,n=2\")'\n",
      "Dim 2: (dim=1|id=443|\"Link,l=2\")'\n",
      "Dim 3: (dim=1|id=948|\"Link,l=1\")'\n",
      "NDTensors.Dense{Float64, Vector{Float64}}\n",
      " 2×1×1\n",
      "[:, :, 1] =\n",
      " -1.0\n",
      " -0.0, ITensor ord=3\n",
      "Dim 1: (dim=2|id=410|\"Qubit,Site,n=3\")'\n",
      "Dim 2: (dim=1|id=715|\"Link,l=3\")'\n",
      "Dim 3: (dim=1|id=443|\"Link,l=2\")'\n",
      "NDTensors.Dense{Float64, Vector{Float64}}\n",
      " 2×1×1\n",
      "[:, :, 1] =\n",
      " 0.0\n",
      " 1.0, ITensor ord=2\n",
      "Dim 1: (dim=2|id=853|\"Qubit,Site,n=4\")'\n",
      "Dim 2: (dim=1|id=715|\"Link,l=3\")'\n",
      "NDTensors.Dense{Float64, Vector{Float64}}\n",
      " 2×1\n",
      " -1.0\n",
      " -0.0]\n",
      "~~~~~~~~~~~~~~~~~~~~~~~~~~~~~~~~~~~~~~~~~~~~~~~~~~~~~~~~~~~~\n",
      "~~~~~~~~~~~~~~~~~~~~~~~~~~~~~~~~~~~~~~~~~~~~~~~~~~~~~~~~~~~~\n",
      "1000\n",
      "ITensor[ITensor ord=2\n",
      "Dim 1: (dim=1|id=159|\"Link,l=1\")'\n",
      "Dim 2: (dim=2|id=101|\"Qubit,Site,n=1\")'\n",
      "NDTensors.Dense{Float64, Vector{Float64}}\n",
      " 1×2\n",
      " 0.0  -1.0000000000000002, ITensor ord=3\n",
      "Dim 1: (dim=2|id=770|\"Qubit,Site,n=2\")'\n",
      "Dim 2: (dim=1|id=450|\"Link,l=2\")'\n",
      "Dim 3: (dim=1|id=159|\"Link,l=1\")'\n",
      "NDTensors.Dense{Float64, Vector{Float64}}\n",
      " 2×1×1\n",
      "[:, :, 1] =\n",
      " 0.0\n",
      " 1.0, ITensor ord=3\n",
      "Dim 1: (dim=2|id=410|\"Qubit,Site,n=3\")'\n",
      "Dim 2: (dim=1|id=808|\"Link,l=3\")'\n",
      "Dim 3: (dim=1|id=450|\"Link,l=2\")'\n",
      "NDTensors.Dense{Float64, Vector{Float64}}\n",
      " 2×1×1\n",
      "[:, :, 1] =\n",
      " 0.0\n",
      " 1.0, ITensor ord=2\n",
      "Dim 1: (dim=2|id=853|\"Qubit,Site,n=4\")'\n",
      "Dim 2: (dim=1|id=808|\"Link,l=3\")'\n",
      "NDTensors.Dense{Float64, Vector{Float64}}\n",
      " 2×1\n",
      " -1.0\n",
      " -0.0]\n",
      "~~~~~~~~~~~~~~~~~~~~~~~~~~~~~~~~~~~~~~~~~~~~~~~~~~~~~~~~~~~~\n",
      "~~~~~~~~~~~~~~~~~~~~~~~~~~~~~~~~~~~~~~~~~~~~~~~~~~~~~~~~~~~~\n",
      "1001\n",
      "ITensor[ITensor ord=2\n",
      "Dim 1: (dim=1|id=574|\"Link,l=1\")'\n",
      "Dim 2: (dim=2|id=101|\"Qubit,Site,n=1\")'\n",
      "NDTensors.Dense{Float64, Vector{Float64}}\n",
      " 1×2\n",
      " 0.0  1.0000000000000002, ITensor ord=3\n",
      "Dim 1: (dim=2|id=770|\"Qubit,Site,n=2\")'\n",
      "Dim 2: (dim=1|id=737|\"Link,l=2\")'\n",
      "Dim 3: (dim=1|id=574|\"Link,l=1\")'\n",
      "NDTensors.Dense{Float64, Vector{Float64}}\n",
      " 2×1×1\n",
      "[:, :, 1] =\n",
      " 0.0\n",
      " 1.0, ITensor ord=3\n",
      "Dim 1: (dim=2|id=410|\"Qubit,Site,n=3\")'\n",
      "Dim 2: (dim=1|id=925|\"Link,l=3\")'\n",
      "Dim 3: (dim=1|id=737|\"Link,l=2\")'\n",
      "NDTensors.Dense{Float64, Vector{Float64}}\n",
      " 2×1×1\n",
      "[:, :, 1] =\n",
      " 0.0\n",
      " 1.0, ITensor ord=2\n",
      "Dim 1: (dim=2|id=853|\"Qubit,Site,n=4\")'\n",
      "Dim 2: (dim=1|id=925|\"Link,l=3\")'\n",
      "NDTensors.Dense{Float64, Vector{Float64}}\n",
      " 2×1\n",
      " -1.5700924586837747e-16\n",
      "  1.0]\n",
      "~~~~~~~~~~~~~~~~~~~~~~~~~~~~~~~~~~~~~~~~~~~~~~~~~~~~~~~~~~~~\n",
      "~~~~~~~~~~~~~~~~~~~~~~~~~~~~~~~~~~~~~~~~~~~~~~~~~~~~~~~~~~~~\n",
      "1010\n",
      "ITensor[ITensor ord=2\n",
      "Dim 1: (dim=1|id=667|\"Link,l=1\")'\n",
      "Dim 2: (dim=2|id=101|\"Qubit,Site,n=1\")'\n",
      "NDTensors.Dense{Float64, Vector{Float64}}\n",
      " 1×2\n",
      " 0.9999999999999998  0.0, ITensor ord=3\n",
      "Dim 1: (dim=2|id=770|\"Qubit,Site,n=2\")'\n",
      "Dim 2: (dim=1|id=874|\"Link,l=2\")'\n",
      "Dim 3: (dim=1|id=667|\"Link,l=1\")'\n",
      "NDTensors.Dense{Float64, Vector{Float64}}\n",
      " 2×1×1\n",
      "[:, :, 1] =\n",
      " 0.0\n",
      " 1.0, ITensor ord=3\n",
      "Dim 1: (dim=2|id=410|\"Qubit,Site,n=3\")'\n",
      "Dim 2: (dim=1|id=761|\"Link,l=3\")'\n",
      "Dim 3: (dim=1|id=874|\"Link,l=2\")'\n",
      "NDTensors.Dense{Float64, Vector{Float64}}\n",
      " 2×1×1\n",
      "[:, :, 1] =\n",
      " -1.0\n",
      " -0.0, ITensor ord=2\n",
      "Dim 1: (dim=2|id=853|\"Qubit,Site,n=4\")'\n",
      "Dim 2: (dim=1|id=761|\"Link,l=3\")'\n",
      "NDTensors.Dense{Float64, Vector{Float64}}\n",
      " 2×1\n",
      " -1.0\n",
      " -0.0]\n",
      "~~~~~~~~~~~~~~~~~~~~~~~~~~~~~~~~~~~~~~~~~~~~~~~~~~~~~~~~~~~~\n",
      "~~~~~~~~~~~~~~~~~~~~~~~~~~~~~~~~~~~~~~~~~~~~~~~~~~~~~~~~~~~~\n",
      "1011\n",
      "ITensor[ITensor ord=2\n",
      "Dim 1: (dim=1|id=811|\"Link,l=1\")'\n",
      "Dim 2: (dim=2|id=101|\"Qubit,Site,n=1\")'\n",
      "NDTensors.Dense{Float64, Vector{Float64}}\n",
      " 1×2\n",
      " -0.9999999999999998  0.0, ITensor ord=3\n",
      "Dim 1: (dim=2|id=770|\"Qubit,Site,n=2\")'\n",
      "Dim 2: (dim=1|id=823|\"Link,l=2\")'\n",
      "Dim 3: (dim=1|id=811|\"Link,l=1\")'\n",
      "NDTensors.Dense{Float64, Vector{Float64}}\n",
      " 2×1×1\n",
      "[:, :, 1] =\n",
      " 0.0\n",
      " 1.0, ITensor ord=3\n",
      "Dim 1: (dim=2|id=410|\"Qubit,Site,n=3\")'\n",
      "Dim 2: (dim=1|id=434|\"Link,l=3\")'\n",
      "Dim 3: (dim=1|id=823|\"Link,l=2\")'\n",
      "NDTensors.Dense{Float64, Vector{Float64}}\n",
      " 2×1×1\n",
      "[:, :, 1] =\n",
      " -1.0\n",
      " -0.0, ITensor ord=2\n",
      "Dim 1: (dim=2|id=853|\"Qubit,Site,n=4\")'\n",
      "Dim 2: (dim=1|id=434|\"Link,l=3\")'\n",
      "NDTensors.Dense{Float64, Vector{Float64}}\n",
      " 2×1\n",
      " -1.5700924586837752e-16\n",
      "  1.0]\n",
      "~~~~~~~~~~~~~~~~~~~~~~~~~~~~~~~~~~~~~~~~~~~~~~~~~~~~~~~~~~~~\n",
      "~~~~~~~~~~~~~~~~~~~~~~~~~~~~~~~~~~~~~~~~~~~~~~~~~~~~~~~~~~~~\n",
      "1100\n",
      "ITensor[ITensor ord=2\n",
      "Dim 1: (dim=1|id=891|\"Link,l=1\")'\n",
      "Dim 2: (dim=2|id=101|\"Qubit,Site,n=1\")'\n",
      "NDTensors.Dense{Float64, Vector{Float64}}\n",
      " 1×2\n",
      " 0.0  -1.0000000000000002, ITensor ord=3\n",
      "Dim 1: (dim=2|id=770|\"Qubit,Site,n=2\")'\n",
      "Dim 2: (dim=1|id=144|\"Link,l=2\")'\n",
      "Dim 3: (dim=1|id=891|\"Link,l=1\")'\n",
      "NDTensors.Dense{Float64, Vector{Float64}}\n",
      " 2×1×1\n",
      "[:, :, 1] =\n",
      " -1.0\n",
      " -0.0, ITensor ord=3\n",
      "Dim 1: (dim=2|id=410|\"Qubit,Site,n=3\")'\n",
      "Dim 2: (dim=1|id=611|\"Link,l=3\")'\n",
      "Dim 3: (dim=1|id=144|\"Link,l=2\")'\n",
      "NDTensors.Dense{Float64, Vector{Float64}}\n",
      " 2×1×1\n",
      "[:, :, 1] =\n",
      " 0.0\n",
      " 1.0, ITensor ord=2\n",
      "Dim 1: (dim=2|id=853|\"Qubit,Site,n=4\")'\n",
      "Dim 2: (dim=1|id=611|\"Link,l=3\")'\n",
      "NDTensors.Dense{Float64, Vector{Float64}}\n",
      " 2×1\n",
      " 0.0\n",
      " 1.0]\n",
      "~~~~~~~~~~~~~~~~~~~~~~~~~~~~~~~~~~~~~~~~~~~~~~~~~~~~~~~~~~~~\n",
      "~~~~~~~~~~~~~~~~~~~~~~~~~~~~~~~~~~~~~~~~~~~~~~~~~~~~~~~~~~~~\n",
      "1101\n",
      "ITensor[ITensor ord=2\n",
      "Dim 1: (dim=1|id=235|\"Link,l=1\")'\n",
      "Dim 2: (dim=2|id=101|\"Qubit,Site,n=1\")'\n",
      "NDTensors.Dense{Float64, Vector{Float64}}\n",
      " 1×2\n",
      " -1.0000000000000002  0.0, ITensor ord=3\n",
      "Dim 1: (dim=2|id=770|\"Qubit,Site,n=2\")'\n",
      "Dim 2: (dim=1|id=12|\"Link,l=2\")'\n",
      "Dim 3: (dim=1|id=235|\"Link,l=1\")'\n",
      "NDTensors.Dense{Float64, Vector{Float64}}\n",
      " 2×1×1\n",
      "[:, :, 1] =\n",
      " -1.0\n",
      " -0.0, ITensor ord=3\n",
      "Dim 1: (dim=2|id=410|\"Qubit,Site,n=3\")'\n",
      "Dim 2: (dim=1|id=214|\"Link,l=3\")'\n",
      "Dim 3: (dim=1|id=12|\"Link,l=2\")'\n",
      "NDTensors.Dense{Float64, Vector{Float64}}\n",
      " 2×1×1\n",
      "[:, :, 1] =\n",
      " -1.0\n",
      " -0.0, ITensor ord=2\n",
      "Dim 1: (dim=2|id=853|\"Qubit,Site,n=4\")'\n",
      "Dim 2: (dim=1|id=214|\"Link,l=3\")'\n",
      "NDTensors.Dense{Float64, Vector{Float64}}\n",
      " 2×1\n",
      " -1.0\n",
      " -0.0]\n",
      "~~~~~~~~~~~~~~~~~~~~~~~~~~~~~~~~~~~~~~~~~~~~~~~~~~~~~~~~~~~~\n",
      "~~~~~~~~~~~~~~~~~~~~~~~~~~~~~~~~~~~~~~~~~~~~~~~~~~~~~~~~~~~~\n",
      "1110\n",
      "ITensor[ITensor ord=2\n",
      "Dim 1: (dim=1|id=179|\"Link,l=1\")'\n",
      "Dim 2: (dim=2|id=101|\"Qubit,Site,n=1\")'\n",
      "NDTensors.Dense{Float64, Vector{Float64}}\n",
      " 1×2\n",
      " 1.0  0.0, ITensor ord=3\n",
      "Dim 1: (dim=2|id=770|\"Qubit,Site,n=2\")'\n",
      "Dim 2: (dim=1|id=82|\"Link,l=2\")'\n",
      "Dim 3: (dim=1|id=179|\"Link,l=1\")'\n",
      "NDTensors.Dense{Float64, Vector{Float64}}\n",
      " 2×1×1\n",
      "[:, :, 1] =\n",
      " -1.0\n",
      " -0.0, ITensor ord=3\n",
      "Dim 1: (dim=2|id=410|\"Qubit,Site,n=3\")'\n",
      "Dim 2: (dim=1|id=132|\"Link,l=3\")'\n",
      "Dim 3: (dim=1|id=82|\"Link,l=2\")'\n",
      "NDTensors.Dense{Float64, Vector{Float64}}\n",
      " 2×1×1\n",
      "[:, :, 1] =\n",
      " -1.0\n",
      " -0.0, ITensor ord=2\n",
      "Dim 1: (dim=2|id=853|\"Qubit,Site,n=4\")'\n",
      "Dim 2: (dim=1|id=132|\"Link,l=3\")'\n",
      "NDTensors.Dense{Float64, Vector{Float64}}\n",
      " 2×1\n",
      " 0.0\n",
      " 1.0]\n",
      "~~~~~~~~~~~~~~~~~~~~~~~~~~~~~~~~~~~~~~~~~~~~~~~~~~~~~~~~~~~~\n",
      "~~~~~~~~~~~~~~~~~~~~~~~~~~~~~~~~~~~~~~~~~~~~~~~~~~~~~~~~~~~~\n",
      "1111\n",
      "ITensor[ITensor ord=2\n",
      "Dim 1: (dim=1|id=854|\"Link,l=1\")'\n",
      "Dim 2: (dim=2|id=101|\"Qubit,Site,n=1\")'\n",
      "NDTensors.Dense{Float64, Vector{Float64}}\n",
      " 1×2\n",
      " 1.0  0.0, ITensor ord=3\n",
      "Dim 1: (dim=2|id=770|\"Qubit,Site,n=2\")'\n",
      "Dim 2: (dim=1|id=335|\"Link,l=2\")'\n",
      "Dim 3: (dim=1|id=854|\"Link,l=1\")'\n",
      "NDTensors.Dense{Float64, Vector{Float64}}\n",
      " 2×1×1\n",
      "[:, :, 1] =\n",
      " -1.0\n",
      " -0.0, ITensor ord=3\n",
      "Dim 1: (dim=2|id=410|\"Qubit,Site,n=3\")'\n",
      "Dim 2: (dim=1|id=993|\"Link,l=3\")'\n",
      "Dim 3: (dim=1|id=335|\"Link,l=2\")'\n",
      "NDTensors.Dense{Float64, Vector{Float64}}\n",
      " 2×1×1\n",
      "[:, :, 1] =\n",
      " 0.0\n",
      " 1.0, ITensor ord=2\n",
      "Dim 1: (dim=2|id=853|\"Qubit,Site,n=4\")'\n",
      "Dim 2: (dim=1|id=993|\"Link,l=3\")'\n",
      "NDTensors.Dense{Float64, Vector{Float64}}\n",
      " 2×1\n",
      " -1.0\n",
      " -0.0]\n",
      "~~~~~~~~~~~~~~~~~~~~~~~~~~~~~~~~~~~~~~~~~~~~~~~~~~~~~~~~~~~~\n"
     ]
    }
   ],
   "source": [
    "mpo, bond_dims, dense_mat, A_tensor = mpo_adder_1_3(4, qubit_site, ram_phy, phy_ram, phy_list, folded);\n",
    "for i in 1:2, j in 1:2, k in 1:2, l in 1:2\n",
    "    mps = productMPS([site[2] for site in siteinds(mpo)], [i,j,k,l])\n",
    "    result = mpo * mps\n",
    "    # println(fieldnames(typeof(result)))\n",
    "    println(\"~\"^60)\n",
    "    println(i-1,j-1,k-1,l-1)\n",
    "    println(result.data)\n",
    "    println(\"~\"^60)\n",
    "end\n",
    "\n",
    "\n",
    "\n",
    "\n",
    "\n",
    "\n",
    "\n",
    " "
   ]
  },
  {
   "cell_type": "code",
   "execution_count": 565,
   "id": "4ad1d55b",
   "metadata": {},
   "outputs": [
    {
     "name": "stdout",
     "output_type": "stream",
     "text": [
      "ITensor ord=4\n",
      "Dim 1: (dim=3|id=755|\"Link,n=1\")\n",
      "Dim 2: (dim=2|id=390|\"Qubit,Site,n=2\")'\n",
      "Dim 3: (dim=2|id=390|\"Qubit,Site,n=2\")\n",
      "Dim 4: (dim=4|id=123|\"Link,n=2\")\n",
      "NDTensors.Dense{Float64, Vector{Float64}}\n",
      " 3×2×2×4\n",
      "[:, :, 1, 1] =\n",
      " 0.0                 0.0\n",
      " 0.0                 0.0\n",
      " 0.5773502691896258  0.0\n",
      "\n",
      "[:, :, 2, 1] =\n",
      " 0.0                 0.0\n",
      " 0.5773502691896258  0.0\n",
      " 0.0                 0.5773502691896258\n",
      "\n",
      "[:, :, 1, 2] =\n",
      " 0.0  -0.9999999999999999\n",
      " 0.0   0.0\n",
      " 0.0   0.0\n",
      "\n",
      "[:, :, 2, 2] =\n",
      " 0.0  0.0\n",
      " 0.0  0.0\n",
      " 0.0  0.0\n",
      "\n",
      "[:, :, 1, 3] =\n",
      "  0.0                    0.0\n",
      "  0.0                    7.850462293418877e-17\n",
      " -7.401486830834377e-17  0.0\n",
      "\n",
      "[:, :, 2, 3] =\n",
      " 1.0                    0.0\n",
      " 3.700743415417188e-17  0.0\n",
      " 0.0                    3.700743415417188e-17\n",
      "\n",
      "[:, :, 1, 4] =\n",
      " 0.0                    0.0\n",
      " 0.0                    1.0000000000000002\n",
      " 1.162101865614033e-32  0.0\n",
      "\n",
      "[:, :, 2, 4] =\n",
      " -7.850462293418876e-17    0.0\n",
      " -1.1102230246251565e-16   0.0\n",
      "  0.0                     -1.1102230246251565e-16\n",
      "ITensor ord=4\n",
      "Dim 1: (dim=3|id=241|\"Link,n=1\")\n",
      "Dim 2: (dim=2|id=812|\"Qubit,Site,n=2\")'\n",
      "Dim 3: (dim=2|id=812|\"Qubit,Site,n=2\")\n",
      "Dim 4: (dim=4|id=542|\"Link,n=2\")\n",
      "NDTensors.Dense{Float64, Vector{Float64}}\n",
      " 3×2×2×4\n",
      "[:, :, 1, 1] =\n",
      "  0.0                 0.0\n",
      "  0.0                 0.0\n",
      " -0.5773502691896257  0.0\n",
      "\n",
      "[:, :, 2, 1] =\n",
      " 0.0                  0.0\n",
      " 0.5773502691896258   0.0\n",
      " 0.0                 -0.5773502691896258\n",
      "\n",
      "[:, :, 1, 2] =\n",
      " 0.0  0.0\n",
      " 0.0  0.0\n",
      " 0.0  0.0\n",
      "\n",
      "[:, :, 2, 2] =\n",
      " 1.0  0.0\n",
      " 0.0  0.0\n",
      " 0.0  0.0\n",
      "\n",
      "[:, :, 1, 3] =\n",
      " 0.0  1.0\n",
      " 0.0  0.0\n",
      " 0.0  0.0\n",
      "\n",
      "[:, :, 2, 3] =\n",
      " 0.0  0.0\n",
      " 0.0  0.0\n",
      " 0.0  0.0\n",
      "\n",
      "[:, :, 1, 4] =\n",
      " 0.0  0.0\n",
      " 0.0  1.0\n",
      " 0.0  0.0\n",
      "\n",
      "[:, :, 2, 4] =\n",
      " 0.0  0.0\n",
      " 0.0  0.0\n",
      " 0.0  0.0\n"
     ]
    }
   ],
   "source": [
    "folded = true\n",
    "tensor_list = Array{Any,1}[]\n",
    "n = 2\n",
    "mpo_list = Vector{Any}(undef, 0)\n",
    "for L in [4, 8]\n",
    "    qubit_site, ram_phy, phy_ram, phy_list = _initialize_basis(L, 0, folded)\n",
    "    mpo, bond_dims = mpo_adder_1_3(L, folded);\n",
    "    push!(mpo_list, mpo)\n",
    "    println(mpo[n])\n",
    "\n",
    "    # # println(\"L: \", L, \" bond_dims: \", bond_dims)\n",
    "    # tensor = Array(mpo[n], inds(mpo[n])...)\n",
    "    # tensor[abs.(tensor) .< 1e-10] .= 0\n",
    "    # vec = reshape(tensor, :)\n",
    "    # println(length(vec))\n",
    "    # push!(tensor_list, vec)\n",
    "    # println(mpo[n])\n",
    "end\n",
    "\n",
    "# After collecting tensor_list...\n",
    "for entries in eachrow(hcat(tensor_list...))\n",
    "    println(entries)\n",
    "end\n",
    "\n",
    "# for i in 1:length(tensor_list)\n",
    "#     for j in i+1:length(tensor_list)\n",
    "#         diff = tensor_list[i] - tensor_list[j]\n",
    "#         println(findall(x -> abs(x) >= 1e-10, diff))\n",
    "#     end\n",
    "# end"
   ]
  },
  {
   "cell_type": "code",
   "execution_count": 566,
   "id": "f17223c1",
   "metadata": {},
   "outputs": [
    {
     "data": {
      "text/plain": [
       "MPO\n",
       "[1] ((dim=2|id=596|\"Qubit,Site,n=1\")', (dim=2|id=596|\"Qubit,Site,n=1\"), (dim=3|id=755|\"Link,n=1\"))\n",
       "[2] ((dim=3|id=755|\"Link,n=1\"), (dim=2|id=390|\"Qubit,Site,n=2\")', (dim=2|id=390|\"Qubit,Site,n=2\"), (dim=4|id=123|\"Link,n=2\"))\n",
       "[3] ((dim=4|id=123|\"Link,n=2\"), (dim=2|id=940|\"Qubit,Site,n=3\")', (dim=2|id=940|\"Qubit,Site,n=3\"), (dim=2|id=599|\"Link,n=3\"))\n",
       "[4] ((dim=2|id=599|\"Link,n=3\"), (dim=2|id=281|\"Qubit,Site,n=4\")', (dim=2|id=281|\"Qubit,Site,n=4\"))\n"
      ]
     },
     "execution_count": 566,
     "metadata": {},
     "output_type": "execute_result"
    }
   ],
   "source": [
    "mpo_list[1]"
   ]
  },
  {
   "cell_type": "code",
   "execution_count": 567,
   "id": "1f386ee0",
   "metadata": {},
   "outputs": [
    {
     "data": {
      "text/plain": [
       "8-element Vector{Int64}:\n",
       " 1\n",
       " 8\n",
       " 2\n",
       " 7\n",
       " 3\n",
       " 6\n",
       " 4\n",
       " 5"
      ]
     },
     "execution_count": 567,
     "metadata": {},
     "output_type": "execute_result"
    }
   ],
   "source": [
    "ram_phy"
   ]
  },
  {
   "cell_type": "code",
   "execution_count": 568,
   "id": "a455d359",
   "metadata": {},
   "outputs": [
    {
     "data": {
      "text/plain": [
       "ITensor ord=3 (dim=2|id=992|\"Qubit,Site,n=1\")' (dim=2|id=992|\"Qubit,Site,n=1\") (dim=3|id=241|\"Link,n=1\")\n",
       "NDTensors.Dense{Float64, Vector{Float64}}"
      ]
     },
     "execution_count": 568,
     "metadata": {},
     "output_type": "execute_result"
    }
   ],
   "source": [
    "mpo_list[2][1]"
   ]
  },
  {
   "cell_type": "code",
   "execution_count": 569,
   "id": "444ebbc0",
   "metadata": {},
   "outputs": [
    {
     "data": {
      "text/plain": [
       "2×2×3 Array{Float64, 3}:\n",
       "[:, :, 1] =\n",
       " -0.707107   0.0\n",
       "  0.0       -0.707107\n",
       "\n",
       "[:, :, 2] =\n",
       "  0.0  0.0\n",
       " -1.0  0.0\n",
       "\n",
       "[:, :, 3] =\n",
       " 0.0  1.0\n",
       " 0.0  0.0"
      ]
     },
     "execution_count": 569,
     "metadata": {},
     "output_type": "execute_result"
    }
   ],
   "source": [
    "array(mpo_list[2][1])"
   ]
  },
  {
   "cell_type": "code",
   "execution_count": 570,
   "id": "359d5360",
   "metadata": {},
   "outputs": [
    {
     "data": {
      "text/plain": [
       "ITensor ord=4 (dim=3|id=241|\"Link,n=1\") (dim=2|id=812|\"Qubit,Site,n=2\")' (dim=2|id=812|\"Qubit,Site,n=2\") (dim=4|id=542|\"Link,n=2\")\n",
       "NDTensors.Dense{Float64, Vector{Float64}}"
      ]
     },
     "execution_count": 570,
     "metadata": {},
     "output_type": "execute_result"
    }
   ],
   "source": [
    "mpo_list[2][2]"
   ]
  },
  {
   "cell_type": "code",
   "execution_count": 571,
   "id": "319fffdb",
   "metadata": {},
   "outputs": [
    {
     "data": {
      "text/plain": [
       "2×2 Matrix{Float64}:\n",
       " 0.0  0.0\n",
       " 0.0  0.0"
      ]
     },
     "execution_count": 571,
     "metadata": {},
     "output_type": "execute_result"
    }
   ],
   "source": [
    "array(mpo_list[2][2])[1,:,:,4]"
   ]
  },
  {
   "cell_type": "code",
   "execution_count": 572,
   "id": "b2d216da",
   "metadata": {},
   "outputs": [
    {
     "data": {
      "text/plain": [
       "2×2 Matrix{Float64}:\n",
       " 0.0  0.57735\n",
       " 0.0  0.0"
      ]
     },
     "execution_count": 572,
     "metadata": {},
     "output_type": "execute_result"
    }
   ],
   "source": [
    "array(mpo_list[2][2])[2,:,:,1]"
   ]
  },
  {
   "cell_type": "code",
   "execution_count": 573,
   "id": "29084e6d",
   "metadata": {},
   "outputs": [
    {
     "data": {
      "text/plain": [
       "ITensor ord=4 (dim=3|id=241|\"Link,n=1\") (dim=2|id=812|\"Qubit,Site,n=2\")' (dim=2|id=812|\"Qubit,Site,n=2\") (dim=4|id=542|\"Link,n=2\")\n",
       "NDTensors.Dense{Float64, Vector{Float64}}"
      ]
     },
     "execution_count": 573,
     "metadata": {},
     "output_type": "execute_result"
    }
   ],
   "source": [
    "mpo_list[2][2]"
   ]
  },
  {
   "cell_type": "code",
   "execution_count": 574,
   "id": "066bba41",
   "metadata": {},
   "outputs": [
    {
     "data": {
      "text/plain": [
       "ITensor ord=4 (dim=4|id=542|\"Link,n=2\") (dim=2|id=411|\"Qubit,Site,n=3\")' (dim=2|id=411|\"Qubit,Site,n=3\") (dim=4|id=836|\"Link,n=3\")\n",
       "NDTensors.Dense{Float64, Vector{Float64}}"
      ]
     },
     "execution_count": 574,
     "metadata": {},
     "output_type": "execute_result"
    }
   ],
   "source": [
    "mpo_list[2][3]"
   ]
  },
  {
   "cell_type": "code",
   "execution_count": 575,
   "id": "402e75cf",
   "metadata": {},
   "outputs": [
    {
     "data": {
      "text/plain": [
       "4×2×2×4 Array{Float64, 4}:\n",
       "[:, :, 1, 1] =\n",
       " 0.0   0.0\n",
       " 0.0  -0.632456\n",
       " 0.0   0.0\n",
       " 0.0   0.0\n",
       "\n",
       "[:, :, 2, 1] =\n",
       " -0.774597  0.0\n",
       "  0.0       0.0\n",
       "  0.0       0.0\n",
       "  0.0       0.0\n",
       "\n",
       "[:, :, 1, 2] =\n",
       " 0.0   0.0\n",
       " 0.0   0.0\n",
       " 0.0  -0.816497\n",
       " 0.0   0.0\n",
       "\n",
       "[:, :, 2, 2] =\n",
       "  0.0      0.0\n",
       "  0.0      0.0\n",
       "  0.0      0.0\n",
       " -0.57735  0.0\n",
       "\n",
       "[:, :, 1, 3] =\n",
       " -0.707107  0.0\n",
       "  0.0       0.0\n",
       "  0.0       0.0\n",
       "  0.0       0.0\n",
       "\n",
       "[:, :, 2, 3] =\n",
       " 0.0  -0.707107\n",
       " 0.0   0.0\n",
       " 0.0   0.0\n",
       " 0.0   0.0\n",
       "\n",
       "[:, :, 1, 4] =\n",
       "  0.0       0.0\n",
       "  0.0       0.0\n",
       "  0.0       0.0\n",
       " -0.707107  0.0\n",
       "\n",
       "[:, :, 2, 4] =\n",
       " 0.0   0.0\n",
       " 0.0   0.0\n",
       " 0.0   0.0\n",
       " 0.0  -0.707107"
      ]
     },
     "execution_count": 575,
     "metadata": {},
     "output_type": "execute_result"
    }
   ],
   "source": [
    "array(mpo_list[2][3]) "
   ]
  },
  {
   "cell_type": "code",
   "execution_count": 576,
   "id": "9b801ad8",
   "metadata": {},
   "outputs": [
    {
     "ename": "LoadError",
     "evalue": "DimensionMismatch: dimensions must match: a has dims (Base.OneTo(3), Base.OneTo(2), Base.OneTo(2), Base.OneTo(4)), b has dims (Base.OneTo(4), Base.OneTo(2), Base.OneTo(2), Base.OneTo(4)), mismatch at 1",
     "output_type": "error",
     "traceback": [
      "DimensionMismatch: dimensions must match: a has dims (Base.OneTo(3), Base.OneTo(2), Base.OneTo(2), Base.OneTo(4)), b has dims (Base.OneTo(4), Base.OneTo(2), Base.OneTo(2), Base.OneTo(4)), mismatch at 1",
      "",
      "Stacktrace:",
      " [1] \u001b[0m\u001b[1mpromote_shape\u001b[22m",
      "\u001b[90m   @\u001b[39m \u001b[90m./\u001b[39m\u001b[90m\u001b[4mindices.jl:178\u001b[24m\u001b[39m\u001b[90m [inlined]\u001b[39m",
      " [2] \u001b[0m\u001b[1mpromote_shape\u001b[22m\u001b[0m\u001b[1m(\u001b[22m\u001b[90ma\u001b[39m::\u001b[0mArray\u001b[90m{Float64, 4}\u001b[39m, \u001b[90mb\u001b[39m::\u001b[0mArray\u001b[90m{Float64, 4}\u001b[39m\u001b[0m\u001b[1m)\u001b[22m",
      "\u001b[90m   @\u001b[39m \u001b[90mBase\u001b[39m \u001b[90m./\u001b[39m\u001b[90m\u001b[4mindices.jl:169\u001b[24m\u001b[39m",
      " [3] \u001b[0m\u001b[1m-\u001b[22m\u001b[0m\u001b[1m(\u001b[22m\u001b[90mA\u001b[39m::\u001b[0mArray\u001b[90m{Float64, 4}\u001b[39m, \u001b[90mB\u001b[39m::\u001b[0mArray\u001b[90m{Float64, 4}\u001b[39m\u001b[0m\u001b[1m)\u001b[22m",
      "\u001b[90m   @\u001b[39m \u001b[90mBase\u001b[39m \u001b[90m./\u001b[39m\u001b[90m\u001b[4marraymath.jl:7\u001b[24m\u001b[39m",
      " [4] top-level scope",
      "\u001b[90m   @\u001b[39m \u001b[90m\u001b[4mIn[576]:2\u001b[24m\u001b[39m"
     ]
    }
   ],
   "source": [
    "\n",
    "array(mpo_list[2][2]) - array(mpo_list[2][3])"
   ]
  },
  {
   "cell_type": "code",
   "execution_count": null,
   "id": "5ea349a2",
   "metadata": {},
   "outputs": [
    {
     "data": {
      "text/plain": [
       "2.23606797749979"
      ]
     },
     "execution_count": 339,
     "metadata": {},
     "output_type": "execute_result"
    }
   ],
   "source": [
    "sqrt(5)"
   ]
  },
  {
   "cell_type": "code",
   "execution_count": null,
   "id": "380442bd",
   "metadata": {},
   "outputs": [
    {
     "data": {
      "text/plain": [
       "3"
      ]
     },
     "execution_count": 362,
     "metadata": {},
     "output_type": "execute_result"
    }
   ],
   "source": [
    "size(mpo_,1)"
   ]
  },
  {
   "cell_type": "code",
   "execution_count": null,
   "id": "78ab0494",
   "metadata": {},
   "outputs": [
    {
     "name": "stdout",
     "output_type": "stream",
     "text": [
      "1 1\n",
      "2 2\n",
      "3 1\n",
      "4 2\n"
     ]
    }
   ],
   "source": [
    "mpo_ = array(mpo_list[1][3])\n",
    "for left in 1:size(mpo_,1)\n",
    "    for right in 1:size(mpo_,4)\n",
    "        t_ = mpo_[left,:,:,right]\n",
    "        sum_ = sum(abs.(t_))\n",
    "        if sum(abs.(t_)) > 1e-10\n",
    "            println(left, \" \", right)\n",
    "        end\n",
    "    end\n",
    "end"
   ]
  },
  {
   "cell_type": "code",
   "execution_count": null,
   "id": "d5019111",
   "metadata": {},
   "outputs": [
    {
     "data": {
      "text/plain": [
       "ITensor ord=8 (dim=2|id=285|\"Qubit,Site,n=1\")' (dim=2|id=285|\"Qubit,Site,n=1\") (dim=2|id=872|\"Qubit,Site,n=2\")' (dim=2|id=872|\"Qubit,Site,n=2\") (dim=2|id=655|\"Qubit,Site,n=3\")' (dim=2|id=655|\"Qubit,Site,n=3\") (dim=2|id=438|\"Qubit,Site,n=4\")' (dim=2|id=438|\"Qubit,Site,n=4\")\n",
       "NDTensors.Dense{Float64, Vector{Float64}}"
      ]
     },
     "execution_count": 435,
     "metadata": {},
     "output_type": "execute_result"
    }
   ],
   "source": [
    "prod(mpo_list[1])"
   ]
  },
  {
   "cell_type": "code",
   "execution_count": null,
   "id": "8bb5489e",
   "metadata": {},
   "outputs": [
    {
     "name": "stdout",
     "output_type": "stream",
     "text": [
      "1 \n",
      "2 \n"
     ]
    }
   ],
   "source": [
    "mpo_ = array(mpo_list[1][4])\n",
    "for left in 1:size(mpo_,1)\n",
    "    t_ = mpo_[left,:,:]\n",
    "    sum_ = sum(abs.(t_))\n",
    "    if sum(abs.(t_)) > 1e-10\n",
    "        println(left, \" \")\n",
    "    end\n",
    "end"
   ]
  },
  {
   "cell_type": "code",
   "execution_count": null,
   "id": "f00d49aa",
   "metadata": {},
   "outputs": [
    {
     "data": {
      "text/plain": [
       "0.400000591936"
      ]
     },
     "execution_count": 400,
     "metadata": {},
     "output_type": "execute_result"
    }
   ],
   "source": [
    ".632456^2"
   ]
  },
  {
   "cell_type": "code",
   "execution_count": null,
   "id": "e0d7f73c",
   "metadata": {},
   "outputs": [
    {
     "data": {
      "text/plain": [
       "0.7745966692414834"
      ]
     },
     "execution_count": 396,
     "metadata": {},
     "output_type": "execute_result"
    }
   ],
   "source": [
    "sqrt(3/5)"
   ]
  },
  {
   "cell_type": "code",
   "execution_count": null,
   "id": "f0dd4064",
   "metadata": {},
   "outputs": [
    {
     "data": {
      "text/plain": [
       "2×2 Matrix{Float64}:\n",
       " 0.0          -0.57735\n",
       " 1.52174e-33  -1.50961e-32"
      ]
     },
     "execution_count": 401,
     "metadata": {},
     "output_type": "execute_result"
    }
   ],
   "source": [
    "array(mpo_list[1][3])[4,:,:,2]"
   ]
  },
  {
   "cell_type": "code",
   "execution_count": null,
   "id": "44104435",
   "metadata": {},
   "outputs": [
    {
     "data": {
      "text/plain": [
       "12-element NDTensors.Dense{Float64, Vector{Float64}}:\n",
       " -0.7071067811865472\n",
       "  0.0\n",
       "  0.0\n",
       " -0.7071067811865475\n",
       "  0.0\n",
       "  1.0\n",
       "  0.0\n",
       "  0.0\n",
       "  0.0\n",
       "  0.0\n",
       "  1.0\n",
       "  0.0"
      ]
     },
     "execution_count": 421,
     "metadata": {},
     "output_type": "execute_result"
    }
   ],
   "source": [
    "mpo_list[1][1].tensor.storage"
   ]
  },
  {
   "cell_type": "code",
   "execution_count": null,
   "id": "ad4a8593",
   "metadata": {},
   "outputs": [
    {
     "data": {
      "text/plain": [
       "12-element NDTensors.Dense{Float64, NDTensors.Dense{Float64, Vector{Float64}}}:\n",
       " -0.7071067811865472\n",
       "  0.0\n",
       "  0.0\n",
       " -0.7071067811865475\n",
       "  0.0\n",
       "  1.0\n",
       "  0.0\n",
       "  0.0\n",
       "  0.0\n",
       "  0.0\n",
       "  1.0\n",
       "  0.0"
      ]
     },
     "execution_count": 430,
     "metadata": {},
     "output_type": "execute_result"
    }
   ],
   "source": [
    "NDTensors.Dense(mpo_list[1][1].tensor.storage)"
   ]
  },
  {
   "cell_type": "code",
   "execution_count": null,
   "id": "795b3c11",
   "metadata": {},
   "outputs": [
    {
     "data": {
      "text/plain": [
       "12-element Vector{Float64}:\n",
       " 1.0\n",
       " 0.0\n",
       " 0.0\n",
       " 1.0\n",
       " 0.0\n",
       " 1.0\n",
       " 0.0\n",
       " 0.0\n",
       " 0.0\n",
       " 0.0\n",
       " 1.0\n",
       " 0.0"
      ]
     },
     "execution_count": 427,
     "metadata": {},
     "output_type": "execute_result"
    }
   ],
   "source": [
    "(1. .- (mpo_list[1][1].tensor.storage .==0))"
   ]
  },
  {
   "cell_type": "code",
   "execution_count": null,
   "id": "010e64f1",
   "metadata": {},
   "outputs": [
    {
     "ename": "LoadError",
     "evalue": "setfield!: immutable struct of type Tensor cannot be changed",
     "output_type": "error",
     "traceback": [
      "setfield!: immutable struct of type Tensor cannot be changed",
      "",
      "Stacktrace:",
      " [1] \u001b[0m\u001b[1msetproperty!\u001b[22m\u001b[0m\u001b[1m(\u001b[22m\u001b[90mx\u001b[39m::\u001b[0mNDTensors.DenseTensor\u001b[90m{Float64, 3, Tuple{Index{Int64}, Index{Int64}, Index{Int64}}, NDTensors.Dense{Float64, Vector{Float64}}}\u001b[39m, \u001b[90mf\u001b[39m::\u001b[0mSymbol, \u001b[90mv\u001b[39m::\u001b[0mNDTensors.Dense\u001b[90m{Float64, Vector{Float64}}\u001b[39m\u001b[0m\u001b[1m)\u001b[22m",
      "\u001b[90m   @\u001b[39m \u001b[90mBase\u001b[39m \u001b[90m./\u001b[39m\u001b[90m\u001b[4mBase.jl:41\u001b[24m\u001b[39m",
      " [2] top-level scope",
      "\u001b[90m   @\u001b[39m \u001b[90m\u001b[4mIn[431]:1\u001b[24m\u001b[39m"
     ]
    }
   ],
   "source": [
    "mpo_list[1][1].tensor.storage = NDTensors.Dense(1. .- (mpo_list[1][1].tensor.storage .==0))"
   ]
  },
  {
   "cell_type": "code",
   "execution_count": null,
   "id": "f22ac444",
   "metadata": {},
   "outputs": [
    {
     "data": {
      "text/plain": [
       "ITensor ord=3 (dim=2|id=285|\"Qubit,Site,n=1\")' (dim=2|id=285|\"Qubit,Site,n=1\") (dim=3|id=685|\"Link,n=1\")\n",
       "NDTensors.Dense{Float64, Vector{Float64}}"
      ]
     },
     "execution_count": 493,
     "metadata": {},
     "output_type": "execute_result"
    }
   ],
   "source": [
    "mpo_list[1][1]"
   ]
  },
  {
   "cell_type": "code",
   "execution_count": null,
   "id": "620e5aa7",
   "metadata": {},
   "outputs": [
    {
     "data": {
      "text/plain": [
       "MPO\n",
       "#undef\n",
       "#undef\n",
       "#undef\n",
       "#undef\n"
      ]
     },
     "execution_count": 497,
     "metadata": {},
     "output_type": "execute_result"
    }
   ],
   "source": [
    "mm = MPO(4)"
   ]
  },
  {
   "cell_type": "code",
   "execution_count": null,
   "id": "ceb9e0d4",
   "metadata": {},
   "outputs": [],
   "source": [
    "for idx in 1:length(mm)\n",
    "    mm[idx] = (sign.(round.(abs.((mpo_list[1][idx])),digits=5)))\n",
    "    \n",
    "end"
   ]
  },
  {
   "cell_type": "code",
   "execution_count": null,
   "id": "4585e85d",
   "metadata": {},
   "outputs": [
    {
     "data": {
      "text/plain": [
       "MPO\n",
       "[1] ((dim=2|id=285|\"Qubit,Site,n=1\")', (dim=2|id=285|\"Qubit,Site,n=1\"), (dim=3|id=685|\"Link,n=1\"))\n",
       "[2] ((dim=3|id=685|\"Link,n=1\"), (dim=2|id=872|\"Qubit,Site,n=2\")', (dim=2|id=872|\"Qubit,Site,n=2\"), (dim=4|id=464|\"Link,n=2\"))\n",
       "[3] ((dim=4|id=464|\"Link,n=2\"), (dim=2|id=655|\"Qubit,Site,n=3\")', (dim=2|id=655|\"Qubit,Site,n=3\"), (dim=2|id=994|\"Link,n=3\"))\n",
       "[4] ((dim=2|id=994|\"Link,n=3\"), (dim=2|id=438|\"Qubit,Site,n=4\")', (dim=2|id=438|\"Qubit,Site,n=4\"))\n"
      ]
     },
     "execution_count": 504,
     "metadata": {},
     "output_type": "execute_result"
    }
   ],
   "source": [
    "mm"
   ]
  },
  {
   "cell_type": "code",
   "execution_count": null,
   "id": "37d32d4d",
   "metadata": {},
   "outputs": [
    {
     "data": {
      "text/plain": [
       "1.3357409176571358e-14"
      ]
     },
     "execution_count": 505,
     "metadata": {},
     "output_type": "execute_result"
    }
   ],
   "source": [
    "sum(abs.(prod(mm)-prod(mpo_list[1])))"
   ]
  },
  {
   "cell_type": "code",
   "execution_count": null,
   "id": "a52b7db2",
   "metadata": {},
   "outputs": [
    {
     "data": {
      "text/plain": [
       "MPO\n",
       "[1] ((dim=2|id=285|\"Qubit,Site,n=1\")', (dim=2|id=285|\"Qubit,Site,n=1\"), (dim=3|id=685|\"Link,n=1\"))\n",
       "[2] ((dim=3|id=685|\"Link,n=1\"), (dim=2|id=872|\"Qubit,Site,n=2\")', (dim=2|id=872|\"Qubit,Site,n=2\"), (dim=4|id=464|\"Link,n=2\"))\n",
       "[3] ((dim=4|id=464|\"Link,n=2\"), (dim=2|id=655|\"Qubit,Site,n=3\")', (dim=2|id=655|\"Qubit,Site,n=3\"), (dim=2|id=994|\"Link,n=3\"))\n",
       "[4] ((dim=2|id=994|\"Link,n=3\"), (dim=2|id=438|\"Qubit,Site,n=4\")', (dim=2|id=438|\"Qubit,Site,n=4\"))\n"
      ]
     },
     "execution_count": 507,
     "metadata": {},
     "output_type": "execute_result"
    }
   ],
   "source": [
    "mm"
   ]
  },
  {
   "cell_type": "code",
   "execution_count": 604,
   "id": "806b65e0",
   "metadata": {},
   "outputs": [
    {
     "data": {
      "text/plain": [
       "4-element Vector{Index{Int64}}:\n",
       " (dim=2|id=101|\"Qubit,Site,n=1\")\n",
       " (dim=2|id=770|\"Qubit,Site,n=2\")\n",
       " (dim=2|id=410|\"Qubit,Site,n=3\")\n",
       " (dim=2|id=853|\"Qubit,Site,n=4\")"
      ]
     },
     "execution_count": 604,
     "metadata": {},
     "output_type": "execute_result"
    }
   ],
   "source": [
    "qubit_site "
   ]
  },
  {
   "cell_type": "code",
   "execution_count": null,
   "id": "ffca6db4",
   "metadata": {},
   "outputs": [
    {
     "data": {
      "text/plain": [
       "4-element Vector{Index{Int64}}:\n",
       " (dim=2|id=285|\"Qubit,Site,n=1\")\n",
       " (dim=2|id=872|\"Qubit,Site,n=2\")\n",
       " (dim=2|id=655|\"Qubit,Site,n=3\")\n",
       " (dim=2|id=438|\"Qubit,Site,n=4\")"
      ]
     },
     "execution_count": 526,
     "metadata": {},
     "output_type": "execute_result"
    }
   ],
   "source": [
    "[site[2] for site in siteinds(mm)]"
   ]
  },
  {
   "cell_type": "code",
   "execution_count": 603,
   "id": "51da5f10",
   "metadata": {},
   "outputs": [
    {
     "data": {
      "text/plain": [
       "MPS\n",
       "[1] ((dim=2|id=285|\"Qubit,Site,n=1\"), (dim=1|id=976|\"Link,l=1\"))\n",
       "[2] ((dim=1|id=976|\"Link,l=1\"), (dim=2|id=872|\"Qubit,Site,n=2\"), (dim=1|id=291|\"Link,l=2\"))\n",
       "[3] ((dim=1|id=291|\"Link,l=2\"), (dim=2|id=655|\"Qubit,Site,n=3\"), (dim=1|id=33|\"Link,l=3\"))\n",
       "[4] ((dim=1|id=33|\"Link,l=3\"), (dim=2|id=438|\"Qubit,Site,n=4\"))\n"
      ]
     },
     "execution_count": 603,
     "metadata": {},
     "output_type": "execute_result"
    }
   ],
   "source": [
    "mps = productMPS([site[2] for site in siteinds(mm)], [1,2,1,2])\n",
    "# qubit_site"
   ]
  },
  {
   "cell_type": "code",
   "execution_count": null,
   "id": "4ac14f16",
   "metadata": {},
   "outputs": [
    {
     "data": {
      "text/plain": [
       "2×2×2×2 Array{Float64, 4}:\n",
       "[:, :, 1, 1] =\n",
       " 0.0  0.0\n",
       " 0.0  0.0\n",
       "\n",
       "[:, :, 2, 1] =\n",
       " 0.0  0.0\n",
       " 0.0  0.0\n",
       "\n",
       "[:, :, 1, 2] =\n",
       " 0.0  1.0\n",
       " 0.0  0.0\n",
       "\n",
       "[:, :, 2, 2] =\n",
       " 0.0  0.0\n",
       " 0.0  0.0"
      ]
     },
     "execution_count": 559,
     "metadata": {},
     "output_type": "execute_result"
    }
   ],
   "source": [
    "array(prod(mps))"
   ]
  },
  {
   "cell_type": "code",
   "execution_count": null,
   "id": "23fe3a50",
   "metadata": {},
   "outputs": [
    {
     "data": {
      "text/plain": [
       "2×2×2×2 Array{Float64, 4}:\n",
       "[:, :, 1, 1] =\n",
       " 0.0  0.0\n",
       " 0.0  0.0\n",
       "\n",
       "[:, :, 2, 1] =\n",
       " 0.0  1.0\n",
       " 0.0  0.0\n",
       "\n",
       "[:, :, 1, 2] =\n",
       " 0.0  0.0\n",
       " 0.0  0.0\n",
       "\n",
       "[:, :, 2, 2] =\n",
       " 0.0  0.0\n",
       " 0.0  0.0"
      ]
     },
     "execution_count": 555,
     "metadata": {},
     "output_type": "execute_result"
    }
   ],
   "source": [
    "array(prod(apply(mm,mps)))"
   ]
  },
  {
   "cell_type": "code",
   "execution_count": null,
   "id": "9c85b241",
   "metadata": {},
   "outputs": [
    {
     "data": {
      "text/plain": [
       "1.0"
      ]
     },
     "execution_count": 547,
     "metadata": {},
     "output_type": "execute_result"
    }
   ],
   "source": [
    " prod(apply(mm,mps))[1,2,2,1]"
   ]
  },
  {
   "cell_type": "code",
   "execution_count": 580,
   "id": "0c91e88a",
   "metadata": {},
   "outputs": [
    {
     "ename": "LoadError",
     "evalue": "BoundsError: attempt to access 4-codeunit String at index [8]",
     "output_type": "error",
     "traceback": [
      "BoundsError: attempt to access 4-codeunit String at index [8]",
      "",
      "Stacktrace:",
      "  [1] \u001b[0m\u001b[1mcheckbounds\u001b[22m",
      "\u001b[90m    @\u001b[39m \u001b[90m./strings/\u001b[39m\u001b[90m\u001b[4mbasic.jl:216\u001b[24m\u001b[39m\u001b[90m [inlined]\u001b[39m",
      "  [2] \u001b[0m\u001b[1mcodeunit\u001b[22m",
      "\u001b[90m    @\u001b[39m \u001b[90m./strings/\u001b[39m\u001b[90m\u001b[4mstring.jl:119\u001b[24m\u001b[39m\u001b[90m [inlined]\u001b[39m",
      "  [3] \u001b[0m\u001b[1mgetindex\u001b[22m",
      "\u001b[90m    @\u001b[39m \u001b[90m./strings/\u001b[39m\u001b[90m\u001b[4mstring.jl:430\u001b[24m\u001b[39m\u001b[90m [inlined]\u001b[39m",
      "  [4] \u001b[0m\u001b[1m(::Base.var\"#411#412\"{String, Vector{Int64}})\u001b[22m\u001b[0m\u001b[1m(\u001b[22m\u001b[90mio\u001b[39m::\u001b[0mIOBuffer\u001b[0m\u001b[1m)\u001b[22m",
      "\u001b[90m    @\u001b[39m \u001b[90mBase\u001b[39m \u001b[90m./strings/\u001b[39m\u001b[90m\u001b[4mbasic.jl:193\u001b[24m\u001b[39m",
      "  [5] \u001b[0m\u001b[1msprint\u001b[22m\u001b[0m\u001b[1m(\u001b[22m::\u001b[0mFunction; \u001b[90mcontext\u001b[39m::\u001b[0mNothing, \u001b[90msizehint\u001b[39m::\u001b[0mInt64\u001b[0m\u001b[1m)\u001b[22m",
      "\u001b[90m    @\u001b[39m \u001b[90mBase\u001b[39m \u001b[90m./strings/\u001b[39m\u001b[90m\u001b[4mio.jl:114\u001b[24m\u001b[39m",
      "  [6] \u001b[0m\u001b[1msprint\u001b[22m",
      "\u001b[90m    @\u001b[39m \u001b[90mBase\u001b[39m \u001b[90m./strings/\u001b[39m\u001b[90m\u001b[4mio.jl:107\u001b[24m\u001b[39m\u001b[90m [inlined]\u001b[39m",
      "  [7] \u001b[0m\u001b[1mgetindex\u001b[22m\u001b[0m\u001b[1m(\u001b[22m\u001b[90ms\u001b[39m::\u001b[0mString, \u001b[90mv\u001b[39m::\u001b[0mVector\u001b[90m{Int64}\u001b[39m\u001b[0m\u001b[1m)\u001b[22m",
      "\u001b[90m    @\u001b[39m \u001b[90mBase\u001b[39m \u001b[90m./strings/\u001b[39m\u001b[90m\u001b[4mbasic.jl:192\u001b[24m\u001b[39m",
      "  [8] \u001b[0m\u001b[1mmpo_adder_1_3\u001b[22m\u001b[0m\u001b[1m(\u001b[22m\u001b[90mL\u001b[39m::\u001b[0mInt64, \u001b[90mfolded\u001b[39m::\u001b[0mBool\u001b[0m\u001b[1m)\u001b[22m",
      "\u001b[90m    @\u001b[39m \u001b[32mMain\u001b[39m \u001b[90m./\u001b[39m\u001b[90m\u001b[4mIn[73]:19\u001b[24m\u001b[39m",
      "  [9] \u001b[0m\u001b[1mcompare_tensors_side_by_side\u001b[22m\u001b[0m\u001b[1m(\u001b[22m\u001b[0m\u001b[1m)\u001b[22m",
      "\u001b[90m    @\u001b[39m \u001b[32mMain\u001b[39m \u001b[90m./\u001b[39m\u001b[90m\u001b[4mIn[580]:10\u001b[24m\u001b[39m",
      " [10] top-level scope",
      "\u001b[90m    @\u001b[39m \u001b[90m\u001b[4mIn[580]:70\u001b[24m\u001b[39m"
     ]
    }
   ],
   "source": [
    "function compare_tensors_side_by_side()\n",
    "    folded = true\n",
    "    tensor_list = []\n",
    "    L_values = [4, 8, 12]\n",
    "    n = 2  # Which tensor position to compare\n",
    "    \n",
    "    # Collect all tensors\n",
    "    for L in L_values\n",
    "        qubit_site, ram_phy, phy_ram, phy_list = _initialize_basis(L, 0, folded)\n",
    "        mpo, bond_dims = mpo_adder_1_3(L, folded)\n",
    "        \n",
    "        tensor = Array(mpo[n], inds(mpo[n])...)\n",
    "        tensor[abs.(tensor) .< 1e-10] .= 0\n",
    "        push!(tensor_list, tensor)\n",
    "    end\n",
    "    \n",
    "    # Find maximum tensor size for padding\n",
    "    max_length = maximum(length.(tensor_list))\n",
    "    \n",
    "    # Reshape all tensors to vectors and pad if necessary\n",
    "    flattened_tensors = []\n",
    "    for tensor in tensor_list\n",
    "        flat = reshape(tensor, :)\n",
    "        # Pad with zeros if needed\n",
    "        if length(flat) < max_length\n",
    "            padded = vcat(flat, zeros(max_length - length(flat)))\n",
    "            push!(flattened_tensors, padded)\n",
    "        else\n",
    "            push!(flattened_tensors, flat)\n",
    "        end\n",
    "    end\n",
    "    \n",
    "    # Print header\n",
    "    println(\"Position  \", join([rpad(\"L=$L\", 15) for L in L_values], \"\"))\n",
    "    println(repeat(\"-\", 10 + 15 * length(L_values)))\n",
    "    \n",
    "    # Print each entry side by side\n",
    "    for i in 1:max_length\n",
    "        entries = []\n",
    "        for j in 1:length(L_values)\n",
    "            val = flattened_tensors[j][i]\n",
    "            if abs(val) < 1e-12\n",
    "                push!(entries, rpad(\"0\", 15))\n",
    "            else\n",
    "                push!(entries, rpad(string(round(val, digits=8)), 15))\n",
    "            end\n",
    "        end\n",
    "        println(rpad(\"[$i]\", 10), join(entries, \"\"))\n",
    "    end\n",
    "    \n",
    "    # Print comparison summary\n",
    "    println(\"\\n\" * repeat(\"=\", 10 + 15 * length(L_values)))\n",
    "    println(\"Comparison Summary:\")\n",
    "    \n",
    "    # Compare pairs\n",
    "    for i in 1:length(L_values)\n",
    "        for j in i+1:length(L_values)\n",
    "            diff = maximum(abs.(flattened_tensors[i] - flattened_tensors[j]))\n",
    "            if diff < 1e-10\n",
    "                println(\"✓ L=$(L_values[i]) vs L=$(L_values[j]): IDENTICAL (max_diff = $diff)\")\n",
    "            else\n",
    "                println(\"✗ L=$(L_values[i]) vs L=$(L_values[j]): DIFFERENT (max_diff = $diff)\")\n",
    "            end\n",
    "        end\n",
    "    end\n",
    "    \n",
    "    return tensor_list, flattened_tensors\n",
    "end\n",
    "\n",
    "compare_tensors_side_by_side()"
   ]
  }
 ],
 "metadata": {
  "kernelspec": {
   "display_name": "Julia 1.10.0",
   "language": "julia",
   "name": "julia-1.10"
  },
  "language_info": {
   "file_extension": ".jl",
   "mimetype": "application/julia",
   "name": "julia",
   "version": "1.10.0"
  }
 },
 "nbformat": 4,
 "nbformat_minor": 5
}
