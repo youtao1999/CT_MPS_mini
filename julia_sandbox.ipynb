{
 "cells": [
  {
   "cell_type": "code",
   "execution_count": 1084,
   "id": "ccd7b1f4-4c49-4c48-8399-8b9ceef0b90d",
   "metadata": {},
   "outputs": [
    {
     "name": "stderr",
     "output_type": "stream",
     "text": [
      "\u001b[32m\u001b[1m  Activating\u001b[22m\u001b[39m project at `~/CT_MPS_mini/CT`\n"
     ]
    }
   ],
   "source": [
    "using Pkg\n",
    "Pkg.activate(\"CT\")\n",
    "using CT"
   ]
  },
  {
   "cell_type": "code",
   "execution_count": 1085,
   "id": "484c31bc-19ce-4b04-b4af-2b0e62cde5a5",
   "metadata": {},
   "outputs": [
    {
     "name": "stdout",
     "output_type": "stream",
     "text": [
      "\u001b[36m\u001b[1mProject\u001b[22m\u001b[39m CT v0.1.0\n",
      "\u001b[32m\u001b[1mStatus\u001b[22m\u001b[39m `~/CT_MPS_mini/CT/Project.toml`\n",
      "  \u001b[90m[c7e460c6] \u001b[39mArgParse v1.2.0\n",
      "\u001b[32m⌃\u001b[39m \u001b[90m[6e4b80f9] \u001b[39mBenchmarkTools v1.5.0\n",
      "  \u001b[90m[f67ccb44] \u001b[39mHDF5 v0.17.2\n",
      "\u001b[33m⌅\u001b[39m \u001b[90m[9136182c] \u001b[39mITensors v0.6.16\n",
      "  \u001b[90m[682c06a0] \u001b[39mJSON v0.21.4\n",
      "\u001b[32m⌃\u001b[39m \u001b[90m[33e6dc65] \u001b[39mMKL v0.7.0\n",
      "\u001b[32m⌃\u001b[39m \u001b[90m[91a5bcdd] \u001b[39mPlots v1.40.5\n",
      "\u001b[32m⌃\u001b[39m \u001b[90m[9f0aa9f4] \u001b[39mTCIITensorConversion v0.1.4\n",
      "\u001b[32m⌃\u001b[39m \u001b[90m[b261b2ec] \u001b[39mTensorCrossInterpolation v0.9.10\n",
      "\u001b[32m⌃\u001b[39m \u001b[90m[a759f4b9] \u001b[39mTimerOutputs v0.5.24\n",
      "  \u001b[90m[37e2e46d] \u001b[39mLinearAlgebra\n",
      "  \u001b[90m[9a3f8284] \u001b[39mRandom\n",
      "\u001b[36m\u001b[1mInfo\u001b[22m\u001b[39m Packages marked with \u001b[32m⌃\u001b[39m and \u001b[33m⌅\u001b[39m have new versions available. Those with \u001b[32m⌃\u001b[39m may be upgradable, but those with \u001b[33m⌅\u001b[39m are restricted by compatibility constraints from upgrading. To see why use `status --outdated`\n"
     ]
    }
   ],
   "source": [
    "Pkg.status()"
   ]
  },
  {
   "cell_type": "code",
   "execution_count": 1086,
   "id": "dd5c3d92",
   "metadata": {},
   "outputs": [
    {
     "name": "stdout",
     "output_type": "stream",
     "text": [
      "[1, 2, 3, 4]\n",
      "[1, 4, 2, 3]\n",
      "[1, 3, 4, 2]\n"
     ]
    },
    {
     "data": {
      "text/plain": [
       "([0, 1, 0, 1], 5)"
      ]
     },
     "execution_count": 1086,
     "metadata": {},
     "output_type": "execute_result"
    }
   ],
   "source": [
    "# benchmark adder_MPO\n",
    "using ITensors\n",
    "include(\"CT/src/test_adder_MPO.jl\")\n",
    "# initialize random state\n",
    "using .CT: _initialize_basis, _initialize_vector, P_MPO, XI_MPO, I_MPO, adder_MPO\n",
    "using Random\n",
    "L = 4\n",
    "ancilla = 0\n",
    "folded = true\n",
    "seed_vec = 123457\n",
    "xj = Set([1//3, 2//3])\n",
    "i1 = 1\n",
    "p_ctrl = 1.0\n",
    "p_proj = 0.0\n",
    "_maxdim = 50\n",
    "_cutoff = 1e-15\n",
    "seed = 123457\n",
    "x0 = nothing\n",
    "qubit_site, ram_phy, phy_ram, phy_list = _initialize_basis(L, ancilla, folded)\n",
    "println(phy_list)\n",
    "println(ram_phy)\n",
    "println(phy_ram)\n",
    "rng = MersenneTwister(seed_vec)\n",
    "rng_vec = seed_vec === nothing ? rng : MersenneTwister(seed_vec)\n",
    "# initial_state = _initialize_vector(L, ancilla, x0, folded, qubit_site, ram_phy, phy_ram, phy_list, rng_vec, _cutoff, _maxdim);\n",
    "# println(initial_state)\n",
    "shift_1_3_bits, shift_1_3_amount = fraction_to_binary_shift(1, 3, L)\n",
    "# @time adder=[adder_MPO(i1,xj,qubit_site,L,phy_ram,phy_list) for i1 in 1:L];\n"
   ]
  },
  {
   "cell_type": "code",
   "execution_count": 1087,
   "id": "44a82578",
   "metadata": {},
   "outputs": [
    {
     "name": "stdout",
     "output_type": "stream",
     "text": [
      "Cut between sites 1 and 2: [1.0, 0.0]\n",
      "Cut between sites 2 and 3: [1.0]\n",
      "Cut between sites 3 and 4: [1.0]\n"
     ]
    },
    {
     "data": {
      "text/plain": [
       "MPS\n",
       "[1] ((dim=2|id=524|\"Qubit,Site,n=1\"), (dim=2|id=596|\"Link,l=1\"))\n",
       "[2] ((dim=2|id=647|\"Qubit,Site,n=2\"), (dim=2|id=596|\"Link,l=1\"), (dim=1|id=533|\"Link,l=2\"))\n",
       "[3] ((dim=1|id=533|\"Link,l=2\"), (dim=2|id=846|\"Qubit,Site,n=3\"), (dim=1|id=695|\"Link,l=3\"))\n",
       "[4] ((dim=1|id=695|\"Link,l=3\"), (dim=2|id=911|\"Qubit,Site,n=4\"))\n"
      ]
     },
     "execution_count": 1087,
     "metadata": {},
     "output_type": "execute_result"
    }
   ],
   "source": [
    "initial_state = productMPS(qubit_site, [2,2,2,2])\n",
    "include(\"global_adder_passthrough.jl\")\n",
    "\n",
    "global_adder_folded(initial_state, ram_phy, shift_1_3_bits)\n",
    "# single_site_add_folded!(shift_1_3_bits[ram_phy[ram_pos]], ram_pos, initial_state)\n"
   ]
  },
  {
   "cell_type": "code",
   "execution_count": 1088,
   "id": "5bdce85c",
   "metadata": {},
   "outputs": [
    {
     "name": "stdout",
     "output_type": "stream",
     "text": [
      "Nonzero at coordinates (1, 1, 2, 1): 1.0\n"
     ]
    }
   ],
   "source": [
    "tensor = contract(initial_state)\n",
    "print_nonzero_coordinates(tensor.tensor)"
   ]
  },
  {
   "cell_type": "code",
   "execution_count": 1089,
   "id": "a88e811b",
   "metadata": {},
   "outputs": [
    {
     "data": {
      "text/plain": [
       "MPS\n",
       "[1] ((dim=2|id=524|\"Qubit,Site,n=1\"), (dim=2|id=837|\"Link,l=1\"))\n",
       "[2] ((dim=2|id=647|\"Qubit,Site,n=2\"), (dim=1|id=936|\"Link,l=2\"), (dim=2|id=837|\"Link,l=1\"))\n",
       "[3] ((dim=2|id=846|\"Qubit,Site,n=3\"), (dim=1|id=927|\"Link,l=3\"), (dim=1|id=936|\"Link,l=2\"))\n",
       "[4] ((dim=2|id=911|\"Qubit,Site,n=4\"), (dim=1|id=927|\"Link,l=3\"))\n"
      ]
     },
     "execution_count": 1089,
     "metadata": {},
     "output_type": "execute_result"
    }
   ],
   "source": [
    "inds(initial_state[1])\n",
    "orthogonalize!(initial_state, 1)"
   ]
  },
  {
   "cell_type": "code",
   "execution_count": 1090,
   "id": "ee16edd8",
   "metadata": {},
   "outputs": [
    {
     "data": {
      "text/plain": [
       "Dim 1: (dim=2|id=911|\"Qubit,Site,n=4\")\n",
       "Dim 2: (dim=1|id=927|\"Link,l=3\")\n",
       "NDTensors.Dense{Float64, Vector{Float64}}\n",
       " 2×1\n",
       " 1.0\n",
       " 0.0"
      ]
     },
     "execution_count": 1090,
     "metadata": {},
     "output_type": "execute_result"
    }
   ],
   "source": [
    "initial_state[4].tensor"
   ]
  },
  {
   "cell_type": "code",
   "execution_count": 1091,
   "id": "f3cc0115",
   "metadata": {},
   "outputs": [
    {
     "data": {
      "text/plain": [
       "ITensor ord=3 (dim=2|id=524|\"Qubit,Site,n=1\") (dim=2|id=647|\"Qubit,Site,n=2\") (dim=1|id=936|\"Link,l=2\")\n",
       "NDTensors.Dense{Float64, Vector{Float64}}"
      ]
     },
     "execution_count": 1091,
     "metadata": {},
     "output_type": "execute_result"
    }
   ],
   "source": [
    "tmp = initial_state[1] * initial_state[2]"
   ]
  },
  {
   "cell_type": "code",
   "execution_count": 1092,
   "id": "376ca65f",
   "metadata": {},
   "outputs": [
    {
     "data": {
      "text/plain": [
       "((dim=2|id=524|\"Qubit,Site,n=1\"), (dim=2|id=647|\"Qubit,Site,n=2\"), (dim=1|id=936|\"Link,l=2\"))"
      ]
     },
     "execution_count": 1092,
     "metadata": {},
     "output_type": "execute_result"
    }
   ],
   "source": [
    "inds(tmp)"
   ]
  },
  {
   "cell_type": "code",
   "execution_count": 1093,
   "id": "f6c722fe",
   "metadata": {},
   "outputs": [
    {
     "data": {
      "text/plain": [
       "Dim 1: 2\n",
       "Dim 2: 1\n",
       "NDTensors.Dense{Float64, Base.ReshapedArray{Float64, 1, SubArray{Float64, 2, Array{Float64, 3}, Tuple{Base.Slice{Base.OneTo{Int64}}, Int64, Base.Slice{Base.OneTo{Int64}}}, false}, Tuple{Base.MultiplicativeInverses.SignedMultiplicativeInverse{Int64}}}}\n",
       " 2×1\n",
       " 0.0\n",
       " 0.0"
      ]
     },
     "execution_count": 1093,
     "metadata": {},
     "output_type": "execute_result"
    }
   ],
   "source": [
    "tmp.tensor[:,2,:,1,1]"
   ]
  },
  {
   "cell_type": "code",
   "execution_count": 1094,
   "id": "19864281",
   "metadata": {},
   "outputs": [
    {
     "name": "stdout",
     "output_type": "stream",
     "text": [
      "1\n"
     ]
    }
   ],
   "source": [
    "single_site_add_folded!(shift_1_3_bits[ram_phy[2]], 2, initial_state)\n",
    "println(shift_1_3_bits[ram_phy[2]])"
   ]
  },
  {
   "cell_type": "code",
   "execution_count": 1095,
   "id": "fa2b5f18",
   "metadata": {},
   "outputs": [
    {
     "ename": "LoadError",
     "evalue": "BoundsError: attempt to access Tuple{} at index [1]",
     "output_type": "error",
     "traceback": [
      "BoundsError: attempt to access Tuple{} at index [1]",
      "",
      "Stacktrace:",
      " [1] \u001b[0m\u001b[1mgetindex\u001b[22m\u001b[0m\u001b[1m(\u001b[22m\u001b[90mt\u001b[39m::\u001b[0mTuple, \u001b[90mi\u001b[39m::\u001b[0mInt64\u001b[0m\u001b[1m)\u001b[22m",
      "\u001b[90m   @\u001b[39m \u001b[90mBase\u001b[39m \u001b[90m./\u001b[39m\u001b[90m\u001b[4mtuple.jl:31\u001b[24m\u001b[39m",
      " [2] top-level scope",
      "\u001b[90m   @\u001b[39m \u001b[90m\u001b[4mIn[1095]:9\u001b[24m\u001b[39m"
     ]
    }
   ],
   "source": [
    "lsb_tensor = ITensor(filterinds(initial_state[2], tags=\"Carry,c=1\"))\n",
    "lsb_tensor[inds(lsb_tensor)[1]=>1] = 1.0\n",
    "# print(inds(lsb_tensor))\n",
    "initial_state[2] = initial_state[2] * lsb_tensor;\n",
    "# println(inds(initial_state[2]))\n",
    "\n",
    "# discard the carry out of the msb tensor\n",
    "msb_tensor = ITensor(filterinds(initial_state[1], tags=\"Carry,c=0\"))\n",
    "msb_tensor[inds(msb_tensor)[1]=>1] = 1.0\n",
    "msb_tensor[inds(msb_tensor)[1]=>2] = 1.0\n",
    "initial_state[1] = initial_state[1] * msb_tensor;"
   ]
  },
  {
   "cell_type": "code",
   "execution_count": null,
   "id": "25752199",
   "metadata": {},
   "outputs": [],
   "source": [
    "println(inds(initial_state[2]))"
   ]
  },
  {
   "cell_type": "code",
   "execution_count": null,
   "id": "849b2653",
   "metadata": {},
   "outputs": [],
   "source": [
    "tmp2 = initial_state[1] * initial_state[2] * initial_state[3]\n",
    "println(inds(tmp2))"
   ]
  },
  {
   "cell_type": "code",
   "execution_count": null,
   "id": "8cf6d8ff",
   "metadata": {},
   "outputs": [],
   "source": [
    "size(tmp2)"
   ]
  },
  {
   "cell_type": "code",
   "execution_count": null,
   "id": "b7a84ea3",
   "metadata": {},
   "outputs": [],
   "source": [
    "using ITensors\n",
    "\n",
    "function print_nonzero_coordinates(T)\n",
    "    # Get the dimensions of the tensor\n",
    "    dims = size(T)\n",
    "    \n",
    "    # Iterate through all possible indices\n",
    "    for idx in CartesianIndices(dims)\n",
    "        # Check if element is nonzero\n",
    "        if T[idx] != 0\n",
    "            # Convert CartesianIndex to tuple for cleaner output\n",
    "            coords = Tuple(idx)\n",
    "            println(\"Nonzero at coordinates $coords: $(T[idx])\")\n",
    "        end\n",
    "    end\n",
    "end\n",
    "\n",
    "print_nonzero_coordinates(tmp2.tensor)"
   ]
  },
  {
   "cell_type": "code",
   "execution_count": null,
   "id": "f1db915f",
   "metadata": {},
   "outputs": [],
   "source": [
    "c2 = inds(initial_state[2])[2]\n",
    "println(inds(initial_state[2]))\n",
    "c4 = Index(2, \"Carry,c=4\")\n",
    "T_Lm1 = create_addition_tensor_with_carry(1, qubit_site[L-1], prime(qubit_site[L-1]), c4, c2)"
   ]
  },
  {
   "cell_type": "code",
   "execution_count": null,
   "id": "70703b41",
   "metadata": {},
   "outputs": [],
   "source": [
    "tensor = contract(initial_state)\n",
    "println(inds(tensor))"
   ]
  },
  {
   "cell_type": "code",
   "execution_count": null,
   "id": "7f2dfb95",
   "metadata": {},
   "outputs": [],
   "source": [
    "\n",
    "# qubit_site = siteinds(initial_state)\n",
    "# T_left_ind = Index(2, \"Carry,c=$(ram_pos-1)\")\n",
    "# T_right_ind = Index(2, \"Carry,c=$(ram_pos)\")\n",
    "# T = create_addition_tensor_with_carry(shift_bit, qubit_site[ram_pos], prime(qubit_site[ram_pos]), T_right_ind, T_left_ind);\n",
    "# id_op_right_ind = Index(2, \"Carry,c=$(ram_pos+1)\")\n",
    "# id_op = create_identity_tensor_4d(qubit_site[ram_pos+1], prime(qubit_site[ram_pos+1]), id_op_right_ind, T_right_ind);\n",
    "# # println(\"T\", inds(T))\n",
    "# # println(\"id_op\", inds(id_op))\n",
    "# gate = T * id_op\n",
    "# # figure out the left and right indices for the SVD\n",
    "# left_original_inds = inds(initial_state[ram_pos]) # bookkeep some of the original indices from the left site for SVD\n",
    "# link_right = filterinds(initial_state[ram_pos+1], tags=\"Link,l=$(ram_pos)\")\n",
    "# left_original_inds = setdiff(left_original_inds, link_right)\n",
    "# # println(\"left_original_inds \", left_original_inds)\n",
    "\n",
    "# # contract the gate with the two qubit sites\n",
    "# psi = gate * (initial_state[ram_pos] * initial_state[ram_pos+1])\n",
    "# noprime!(psi)\n",
    "# carry_left = filterinds(psi, tags=\"Carry,c=$(ram_pos-1)\")\n",
    "# # println(\"carry_left\", carry_left)\n",
    "# link_left = filterinds(psi, tags=\"Link,l=$(ram_pos-1)\")\n",
    "# # println(\"link_left \", link_left)\n",
    "# qubit_left = filterinds(psi, tags=\"Site,n=$(ram_pos)\")\n",
    "# # println(qubit_left)\n",
    "# left_inds = unioninds(carry_left, link_left, qubit_left, left_original_inds)\n",
    "# println(\"left_inds \", left_inds)\n",
    "# # println(typeof(psi))\n",
    "# U, S, V = svd(psi, left_inds; cutoff=1e-12, lefttags = \"Link,l=$(ram_pos)\")\n",
    "# # println(inds(initial_state))\n",
    "# # new_state = copy(initial_state)\n",
    "# initial_state[ram_pos] = U\n",
    "# initial_state[ram_pos+1] = S*V"
   ]
  },
  {
   "cell_type": "code",
   "execution_count": null,
   "id": "25ee1bea",
   "metadata": {},
   "outputs": [],
   "source": [
    "new_psi = initial_state[1] * initial_state[2]\n",
    "println(inds(new_psi))\n",
    "println(new_psi.tensor[:,1,1,:,1])"
   ]
  },
  {
   "cell_type": "code",
   "execution_count": null,
   "id": "07b18b4a",
   "metadata": {},
   "outputs": [],
   "source": [
    "psi = gate * (initial_state[1] * initial_state[2])"
   ]
  },
  {
   "cell_type": "code",
   "execution_count": null,
   "id": "3f495795",
   "metadata": {},
   "outputs": [],
   "source": [
    "psi.tensor[:,2,:,1,1]"
   ]
  },
  {
   "cell_type": "code",
   "execution_count": null,
   "id": "0c0e0a40",
   "metadata": {},
   "outputs": [],
   "source": [
    "println(inds(initial_state[1]))"
   ]
  },
  {
   "cell_type": "code",
   "execution_count": null,
   "id": "8d89c0d5",
   "metadata": {},
   "outputs": [],
   "source": [
    "typeof(initial_state[1])"
   ]
  },
  {
   "cell_type": "code",
   "execution_count": null,
   "id": "ea449f13",
   "metadata": {},
   "outputs": [],
   "source": [
    "tensor1 = initial_state[1]\n",
    "indices1 = inds(tensor1)\n",
    "println(indices1)\n",
    "link_num = 2\n",
    "tensor1[indices1[1]=>2, indices1[2]=>2, indices1[3]=>link_num]"
   ]
  },
  {
   "cell_type": "code",
   "execution_count": null,
   "id": "2468ad16",
   "metadata": {},
   "outputs": [],
   "source": [
    "tensor2 = initial_state[2]\n",
    "indices2= inds(tensor2)\n",
    "println(indices2)\n",
    "tensor2[indices2[1] => 1, indices2[2]=>1, indices2[3]=>2, indices2[4]=>1]"
   ]
  },
  {
   "cell_type": "code",
   "execution_count": null,
   "id": "4455f2b5",
   "metadata": {},
   "outputs": [],
   "source": [
    "initial_state[2].tensor[2,:,:]"
   ]
  },
  {
   "cell_type": "code",
   "execution_count": null,
   "id": "fba19198",
   "metadata": {},
   "outputs": [],
   "source": [
    "# initial_state = productMPS(qubit_site, [1,2,2,1])\n",
    "# shift_bit = 0\n",
    "# ram_pos = 1\n",
    "# include(\"global_adder_passthrough.jl\")\n",
    "# T_left_ind = Index(2, \"Carry,c=$(ram_pos-1)\")\n",
    "# T_right_ind = Index(2, \"Carry,c=$(ram_pos)\")\n",
    "# T = create_addition_tensor_with_carry(shift_bit, qubit_site[ram_pos], prime(qubit_site[ram_pos]), T_left_ind, T_right_ind);\n",
    "# id_op_right_ind = Index(2, \"Carry,c=$(ram_pos+1)\")\n",
    "# id_op = create_identity_tensor_4d(qubit_site[ram_pos+1], prime(qubit_site[ram_pos+1]), T_right_ind, id_op_right_ind);\n",
    "# gate = T * id_op\n",
    "# # figure out the left and right indices for the SVD\n",
    "# left_original_inds = inds(initial_state[ram_pos]) # bookkeep some of the original indices from the left site for SVD\n",
    "# link_right = filterinds(initial_state[ram_pos+1], tags=\"Link,l=$(ram_pos)\")\n",
    "# left_original_inds = setdiff(left_original_inds, link_right)\n",
    "# # println(\"left_original_inds \", left_original_inds)\n",
    "\n",
    "# # contract the gate with the two qubit sites\n",
    "# psi = gate * (initial_state[ram_pos] * initial_state[ram_pos+1])\n",
    "# noprime!(psi)\n",
    "# carry_left = filterinds(psi, tags=\"Carry,c=$(ram_pos-1)\")\n",
    "# # println(\"carry_left\", carry_left)\n",
    "# link_left = filterinds(psi, tags=\"Link,l=$(ram_pos-1)\")\n",
    "# # println(\"link_left \", link_left)\n",
    "# qubit_left = filterinds(psi, tags=\"Site,n=$(ram_pos)\")\n",
    "# # println(qubit_left)\n",
    "# left_inds = unioninds(carry_left, link_left, qubit_left, left_original_inds)\n",
    "# # println(\"left_inds \", left_inds)\n",
    "# # println(typeof(psi))\n",
    "# U, S, V = svd(psi, left_inds; cutoff=1e-12, lefttags = \"Link,l=$(ram_pos)\")\n",
    "# # println(inds(initial_state))\n",
    "# # new_state = copy(initial_state)\n",
    "# initial_state[ram_pos] = U\n",
    "# initial_state[ram_pos+1] = S*V"
   ]
  },
  {
   "cell_type": "code",
   "execution_count": null,
   "id": "f43a7f99",
   "metadata": {},
   "outputs": [],
   "source": [
    "# println(inds(initial_state))\n",
    "\n",
    "# msb_tensor = ITensor(filterinds(initial_state[1], tags=\"Carry,c=0\"))\n",
    "# msb_tensor[inds(msb_tensor)[1]=>1] = 1.0\n",
    "# msb_tensor[inds(msb_tensor)[1]=>2] = 1.0\n",
    "# initial_state[1] = initial_state[1] * msb_tensor;\n",
    "# normalize!(initial_state)\n",
    "\n",
    "# println(initial_state)"
   ]
  },
  {
   "cell_type": "code",
   "execution_count": null,
   "id": "c6f5d060",
   "metadata": {},
   "outputs": [],
   "source": [
    "# L = 40\n",
    "# ancilla = 0\n",
    "# folded = true\n",
    "# seed_vec = 123457\n",
    "# xj = Set([1//3, 2//3])\n",
    "# i1 = 1\n",
    "# p_ctrl = 1.0\n",
    "# p_proj = 0.0\n",
    "# _maxdim = 50\n",
    "# _cutoff = 1e-15\n",
    "# seed = 123457\n",
    "# x0 = nothing\n",
    "# qubit_site, ram_phy, phy_ram, phy_list = _initialize_basis(L, ancilla, folded)\n",
    "# println(phy_list)\n",
    "# println(ram_phy)\n",
    "# println(phy_ram)\n",
    "# rng = MersenneTwister(seed_vec)\n",
    "# rng_vec = seed_vec === nothing ? rng : MersenneTwister(seed_vec)\n",
    "# # initial_state = _initialize_vector(L, ancilla, x0, folded, qubit_site, ram_phy, phy_ram, phy_list, rng_vec, _cutoff, _maxdim);\n",
    "# # println(initial_state)\n",
    "# shift_1_3_bits, shift_1_3_amount = fraction_to_binary_shift(1, 3, L)\n",
    "# # @time adder=[adder_MPO(i1,xj,qubit_site,L,phy_ram,phy_list) for i1 in 1:L]\n",
    "\n"
   ]
  },
  {
   "cell_type": "code",
   "execution_count": null,
   "metadata": {},
   "outputs": [],
   "source": [
    "# # Method 1: @time (shows time + memory allocation + GC time)\n",
    "# @time adder=[adder_MPO(i1,xj,qubit_site,L,phy_ram,phy_list) for i1 in 1:L];\n",
    "\n",
    "# # Method 2: @allocated (only memory allocation in bytes)\n",
    "# memory_allocated = @allocated adder=[adder_MPO(i1,xj,qubit_site,L,phy_ram,phy_list) for i1 in 1:L];\n",
    "# println(\"Memory allocated: $(memory_allocated / 1024^2) MB\")\n",
    "\n",
    "# # Method 3: Manual tracking with GC.gc()\n",
    "# GC.gc()  # Force garbage collection\n",
    "# mem_before = Base.gc_live_bytes()\n",
    "# adder=[adder_MPO(i1,xj,qubit_site,L,phy_ram,phy_list) for i1 in 1:L];\n",
    "# GC.gc()  # Force garbage collection\n",
    "# mem_after = Base.gc_live_bytes()\n",
    "# println(\"Live memory change: $((mem_after - mem_before) / 1024^2) MB\")\n"
   ]
  },
  {
   "cell_type": "code",
   "execution_count": null,
   "metadata": {},
   "outputs": [],
   "source": [
    "# mps = _initialize_vector(L, ancilla, nothing, folded, qubit_site, ram_phy, phy_ram, phy_list, rng_vec, _cutoff, _maxdim)\n",
    "# @time apply(adder[3], mps)"
   ]
  },
  {
   "cell_type": "code",
   "execution_count": null,
   "metadata": {},
   "outputs": [],
   "source": [
    "# # Method 6: System-level memory monitoring (Linux/Unix)\n",
    "# # This tracks actual RSS (Resident Set Size) memory usage\n",
    "\n",
    "# function get_memory_usage()\n",
    "#     try\n",
    "#         # Read from /proc/self/status on Linux\n",
    "#         status = read(\"/proc/self/status\", String)\n",
    "#         for line in split(status, '\\n')\n",
    "#             if startswith(line, \"VmRSS:\")\n",
    "#                 # Extract memory in kB and convert to MB\n",
    "#                 memory_kb = parse(Int, split(line)[2])\n",
    "#                 return memory_kb / 1024  # Convert to MB\n",
    "#             end\n",
    "#         end\n",
    "#     catch\n",
    "#         # Fallback: use Julia's garbage collector info\n",
    "#         return Base.gc_live_bytes() / 1024^2\n",
    "#     end\n",
    "#     return 0.0\n",
    "# end\n",
    "\n",
    "# # Track memory before and after\n",
    "# println(\"Memory before: $(get_memory_usage()) MB\")\n",
    "# @time adder=[adder_MPO(i1,xj,qubit_site,L,phy_ram,phy_list) for i1 in 1:L];\n",
    "# println(\"Memory after: $(get_memory_usage()) MB\")\n"
   ]
  },
  {
   "cell_type": "code",
   "execution_count": null,
   "id": "c7ed8c00",
   "metadata": {},
   "outputs": [],
   "source": [
    "\n"
   ]
  },
  {
   "cell_type": "code",
   "execution_count": null,
   "id": "56a30f3b",
   "metadata": {},
   "outputs": [],
   "source": []
  },
  {
   "cell_type": "code",
   "execution_count": null,
   "id": "f34332c4",
   "metadata": {},
   "outputs": [],
   "source": []
  },
  {
   "cell_type": "code",
   "execution_count": null,
   "id": "b7a972a8",
   "metadata": {},
   "outputs": [],
   "source": []
  }
 ],
 "metadata": {
  "kernelspec": {
   "display_name": "Julia 1.10.0",
   "language": "julia",
   "name": "julia-1.10"
  },
  "language_info": {
   "file_extension": ".jl",
   "mimetype": "application/julia",
   "name": "julia",
   "version": "1.10.0"
  }
 },
 "nbformat": 4,
 "nbformat_minor": 5
}
