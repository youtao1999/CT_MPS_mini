{
 "cells": [
  {
   "cell_type": "code",
   "execution_count": 1162,
   "id": "ccd7b1f4-4c49-4c48-8399-8b9ceef0b90d",
   "metadata": {},
   "outputs": [
    {
     "name": "stderr",
     "output_type": "stream",
     "text": [
      "\u001b[32m\u001b[1m  Activating\u001b[22m\u001b[39m project at `~/CT_MPS_mini/CT`\n"
     ]
    }
   ],
   "source": [
    "using Pkg\n",
    "Pkg.activate(\"CT\")\n",
    "using CT"
   ]
  },
  {
   "cell_type": "code",
   "execution_count": 1163,
   "id": "484c31bc-19ce-4b04-b4af-2b0e62cde5a5",
   "metadata": {},
   "outputs": [
    {
     "name": "stdout",
     "output_type": "stream",
     "text": [
      "\u001b[36m\u001b[1mProject\u001b[22m\u001b[39m CT v0.1.0\n",
      "\u001b[32m\u001b[1mStatus\u001b[22m\u001b[39m `~/CT_MPS_mini/CT/Project.toml`\n",
      "  \u001b[90m[c7e460c6] \u001b[39mArgParse v1.2.0\n",
      "\u001b[32m⌃\u001b[39m \u001b[90m[6e4b80f9] \u001b[39mBenchmarkTools v1.5.0\n",
      "  \u001b[90m[f67ccb44] \u001b[39mHDF5 v0.17.2\n",
      "\u001b[33m⌅\u001b[39m \u001b[90m[9136182c] \u001b[39mITensors v0.6.16\n",
      "  \u001b[90m[682c06a0] \u001b[39mJSON v0.21.4\n",
      "\u001b[32m⌃\u001b[39m \u001b[90m[33e6dc65] \u001b[39mMKL v0.7.0\n",
      "\u001b[32m⌃\u001b[39m \u001b[90m[91a5bcdd] \u001b[39mPlots v1.40.5\n",
      "\u001b[32m⌃\u001b[39m \u001b[90m[9f0aa9f4] \u001b[39mTCIITensorConversion v0.1.4\n",
      "\u001b[32m⌃\u001b[39m \u001b[90m[b261b2ec] \u001b[39mTensorCrossInterpolation v0.9.10\n",
      "\u001b[32m⌃\u001b[39m \u001b[90m[a759f4b9] \u001b[39mTimerOutputs v0.5.24\n",
      "  \u001b[90m[37e2e46d] \u001b[39mLinearAlgebra\n",
      "  \u001b[90m[9a3f8284] \u001b[39mRandom\n",
      "\u001b[36m\u001b[1mInfo\u001b[22m\u001b[39m Packages marked with \u001b[32m⌃\u001b[39m and \u001b[33m⌅\u001b[39m have new versions available. Those with \u001b[32m⌃\u001b[39m may be upgradable, but those with \u001b[33m⌅\u001b[39m are restricted by compatibility constraints from upgrading. To see why use `status --outdated`\n"
     ]
    }
   ],
   "source": [
    "Pkg.status()"
   ]
  },
  {
   "cell_type": "code",
   "execution_count": 1164,
   "id": "dd5c3d92",
   "metadata": {},
   "outputs": [
    {
     "name": "stdout",
     "output_type": "stream",
     "text": [
      "[1, 2, 3, 4]\n",
      "[1, 4, 2, 3]\n",
      "[1, 3, 4, 2]\n",
      "0\n",
      "1\n",
      "1\n",
      "0\n"
     ]
    }
   ],
   "source": [
    "# benchmark adder_MPO\n",
    "using ITensors\n",
    "include(\"CT/src/test_adder_MPO.jl\")\n",
    "# initialize random state\n",
    "using .CT: _initialize_basis, _initialize_vector, P_MPO, XI_MPO, I_MPO, adder_MPO\n",
    "using Random\n",
    "L = 4\n",
    "ancilla = 0\n",
    "folded = true\n",
    "seed_vec = 123457\n",
    "xj = Set([1//3, 2//3])\n",
    "i1 = 1\n",
    "p_ctrl = 1.0\n",
    "p_proj = 0.0\n",
    "_maxdim = 50\n",
    "_cutoff = 1e-15\n",
    "seed = 123457\n",
    "x0 = nothing\n",
    "qubit_site, ram_phy, phy_ram, phy_list = _initialize_basis(L, ancilla, folded)\n",
    "println(phy_list)\n",
    "println(ram_phy)\n",
    "println(phy_ram)\n",
    "rng = MersenneTwister(seed_vec)\n",
    "rng_vec = seed_vec === nothing ? rng : MersenneTwister(seed_vec)\n",
    "# initial_state = _initialize_vector(L, ancilla, x0, folded, qubit_site, ram_phy, phy_ram, phy_list, rng_vec, _cutoff, _maxdim);\n",
    "# println(initial_state)\n",
    "shift_1_3_bits, shift_1_3_amount = fraction_to_binary_shift(1, 3, L)\n",
    "# @time adder=[adder_MPO(i1,xj,qubit_site,L,phy_ram,phy_list) for i1 in 1:L];\n",
    "for ram_pos in 1:L\n",
    "    shift_bit = shift_1_3_bits[ram_phy[ram_pos]]\n",
    "    println(shift_bit)\n",
    "end"
   ]
  },
  {
   "cell_type": "code",
   "execution_count": 1165,
   "id": "44a82578",
   "metadata": {},
   "outputs": [
    {
     "ename": "LoadError",
     "evalue": "BoundsError: attempt to access Tuple{} at index [1]",
     "output_type": "error",
     "traceback": [
      "BoundsError: attempt to access Tuple{} at index [1]",
      "",
      "Stacktrace:",
      " [1] \u001b[0m\u001b[1mgetindex\u001b[22m\u001b[0m\u001b[1m(\u001b[22m\u001b[90mt\u001b[39m::\u001b[0mTuple, \u001b[90mi\u001b[39m::\u001b[0mInt64\u001b[0m\u001b[1m)\u001b[22m",
      "\u001b[90m   @\u001b[39m \u001b[90mBase\u001b[39m \u001b[90m./\u001b[39m\u001b[90m\u001b[4mtuple.jl:31\u001b[24m\u001b[39m",
      " [2] \u001b[0m\u001b[1msingle_site_add_folded!\u001b[22m\u001b[0m\u001b[1m(\u001b[22m\u001b[90mshift_bit\u001b[39m::\u001b[0mInt64, \u001b[90mram_pos\u001b[39m::\u001b[0mInt64, \u001b[90minitial_state\u001b[39m::\u001b[0mMPS, \u001b[90mqubit_site\u001b[39m::\u001b[0mVector\u001b[90m{Index{Int64}}\u001b[39m\u001b[0m\u001b[1m)\u001b[22m",
      "\u001b[90m   @\u001b[39m \u001b[35mMain\u001b[39m \u001b[90m~/CT_MPS_mini/\u001b[39m\u001b[90m\u001b[4mglobal_adder_passthrough.jl:17\u001b[24m\u001b[39m",
      " [3] \u001b[0m\u001b[1mglobal_adder_folded\u001b[22m\u001b[0m\u001b[1m(\u001b[22m\u001b[90minitial_state\u001b[39m::\u001b[0mMPS, \u001b[90mram_phy\u001b[39m::\u001b[0mVector\u001b[90m{Int64}\u001b[39m, \u001b[90mshift_bits\u001b[39m::\u001b[0mVector\u001b[90m{Int64}\u001b[39m, \u001b[90mqubit_site\u001b[39m::\u001b[0mVector\u001b[90m{Index{Int64}}\u001b[39m\u001b[0m\u001b[1m)\u001b[22m",
      "\u001b[90m   @\u001b[39m \u001b[35mMain\u001b[39m \u001b[90m~/CT_MPS_mini/\u001b[39m\u001b[90m\u001b[4mglobal_adder_passthrough.jl:67\u001b[24m\u001b[39m",
      " [4] top-level scope",
      "\u001b[90m   @\u001b[39m \u001b[90m\u001b[4mIn[1165]:3\u001b[24m\u001b[39m"
     ]
    }
   ],
   "source": [
    "initial_state = productMPS(qubit_site, [1,1,1,1])\n",
    "include(\"global_adder_passthrough.jl\")\n",
    "global_adder_folded(initial_state, ram_phy, shift_1_3_bits, qubit_site)\n",
    "# single_site_add_folded!(shift_1_3_bits[ram_phy[ram_pos]], ram_pos, initial_state)\n"
   ]
  },
  {
   "cell_type": "code",
   "execution_count": null,
   "id": "5bdce85c",
   "metadata": {},
   "outputs": [
    {
     "name": "stdout",
     "output_type": "stream",
     "text": [
      "((dim=2|id=371|\"Qubit,Site,n=1\"), (dim=2|id=798|\"Qubit,Site,n=2\"), (dim=2|id=159|\"Qubit,Site,n=3\"), (dim=2|id=180|\"Qubit,Site,n=4\"), (dim=2|id=983|\"Carry,c=4\"), (dim=2|id=671|\"Carry,c=5\"), (dim=2|id=56|\"Qubit,Site,n=5\"), (dim=2|id=550|\"Qubit,Site,n=6\"), (dim=2|id=484|\"Qubit,Site,n=7\"), (dim=2|id=436|\"Qubit,Site,n=8\"))\n",
      "Nonzero at coordinates (2, 2, 1, 1, 1, 1, 1, 1, 1, 2): -1.5597960245906893e-17\n",
      "Nonzero at coordinates (1, 2, 2, 1, 1, 1, 1, 1, 1, 2): 0.9999999999999999\n",
      "Nonzero at coordinates (2, 2, 1, 1, 2, 1, 1, 1, 1, 2): 0.9999999999999998\n",
      "Nonzero at coordinates (1, 2, 2, 1, 2, 1, 1, 1, 1, 2): 1.2169493844099183e-16\n"
     ]
    }
   ],
   "source": [
    "tensor = contract(initial_state)\n",
    "println(inds(tensor))\n",
    "print_nonzero_coordinates(tensor.tensor)"
   ]
  },
  {
   "cell_type": "code",
   "execution_count": null,
   "id": "870002ee",
   "metadata": {},
   "outputs": [
    {
     "data": {
      "text/plain": [
       "\"01010110\""
      ]
     },
     "execution_count": 1146,
     "metadata": {},
     "output_type": "execute_result"
    }
   ],
   "source": [
    "function add_8bit_simple(binary_str::String)\n",
    "    input_num = parse(Int, lpad(binary_str, 8, '0')[end-7:end], base=2)\n",
    "    result = (input_num + 0b01010101) & 0xFF\n",
    "    return lpad(string(result, base=2), 8, '0')\n",
    "end\n",
    "\n",
    "add_8bit_simple(\"00000001\")"
   ]
  },
  {
   "cell_type": "code",
   "execution_count": null,
   "id": "6ee2c1f6",
   "metadata": {},
   "outputs": [
    {
     "data": {
      "text/plain": [
       "\"00110110\""
      ]
     },
     "execution_count": 1147,
     "metadata": {},
     "output_type": "execute_result"
    }
   ],
   "source": [
    "function perm(bit_str::String, pattern::Vector{Int})\n",
    "    permuted = ['0' for _ in 1:8]\n",
    "    for (i, pos) in enumerate(pattern)\n",
    "        permuted[pos] = bit_str[i]\n",
    "    end\n",
    "    return join(permuted)\n",
    "end\n",
    "\n",
    "perm(add_8bit_simple(\"00000001\"), [1, 3, 5, 7, 8, 6, 4, 2])"
   ]
  },
  {
   "cell_type": "code",
   "execution_count": null,
   "id": "b44170f6",
   "metadata": {},
   "outputs": [
    {
     "name": "stdout",
     "output_type": "stream",
     "text": [
      "00000000 01100110\n",
      "01000000 00110110\n",
      "00010000 01110110\n",
      "01010000 00100011\n",
      "00000100 01100011\n",
      "01000100 00110011\n",
      "00010100 01110011\n",
      "01010100 00100111\n",
      "00000001 01100111\n",
      "01000001 00110111\n",
      "00010001 01110111\n",
      "01010001 00101000\n",
      "00000101 01101000\n",
      "01000101 00111000\n",
      "00010101 01111000\n",
      "01010101 00101100\n",
      "00000010 01101100\n",
      "01000010 00111100\n",
      "00010010 01111100\n",
      "01010010 00101001\n",
      "00000110 01101001\n",
      "01000110 00111001\n",
      "00010110 01111001\n",
      "01010110 00101101\n",
      "00000011 01101101\n",
      "01000011 00111101\n",
      "00010011 01111101\n",
      "01010011 00101010\n",
      "00000111 01101010\n",
      "01000111 00111010\n",
      "00010111 01111010\n",
      "01010111 00101110\n",
      "00001000 01101110\n",
      "01001000 00111110\n",
      "00011000 01111110\n",
      "01011000 00101011\n",
      "00001100 01101011\n",
      "01001100 00111011\n",
      "00011100 01111011\n",
      "01011100 00101111\n",
      "00001001 01101111\n",
      "01001001 00111111\n",
      "00011001 01111111\n",
      "01011001 10000000\n",
      "00001101 11000000\n",
      "01001101 10010000\n",
      "00011101 11010000\n",
      "01011101 10000100\n",
      "00001010 11000100\n",
      "01001010 10010100\n",
      "00011010 11010100\n",
      "01011010 10000001\n",
      "00001110 11000001\n",
      "01001110 10010001\n",
      "00011110 11010001\n",
      "01011110 10000101\n",
      "00001011 11000101\n",
      "01001011 10010101\n",
      "00011011 11010101\n",
      "01011011 10000010\n",
      "00001111 11000010\n",
      "01001111 10010010\n",
      "00011111 11010010\n",
      "01011111 10000110\n",
      "00100000 11000110\n",
      "01100000 10010110\n",
      "00110000 11010110\n",
      "01110000 10000011\n",
      "00100100 11000011\n",
      "01100100 10010011\n",
      "00110100 11010011\n",
      "01110100 10000111\n",
      "00100001 11000111\n",
      "01100001 10010111\n",
      "00110001 11010111\n",
      "01110001 10001000\n",
      "00100101 11001000\n",
      "01100101 10011000\n",
      "00110101 11011000\n",
      "01110101 10001100\n",
      "00100010 11001100\n",
      "01100010 10011100\n",
      "00110010 11011100\n",
      "01110010 10001001\n",
      "00100110 11001001\n",
      "01100110 10011001\n",
      "00110110 11011001\n",
      "01110110 10001101\n",
      "00100011 11001101\n",
      "01100011 10011101\n",
      "00110011 11011101\n",
      "01110011 10001010\n",
      "00100111 11001010\n",
      "01100111 10011010\n",
      "00110111 11011010\n",
      "01110111 10001110\n",
      "00101000 11001110\n",
      "01101000 10011110\n",
      "00111000 11011110\n",
      "01111000 10001011\n",
      "00101100 11001011\n",
      "01101100 10011011\n",
      "00111100 11011011\n",
      "01111100 10001111\n",
      "00101001 11001111\n",
      "01101001 10011111\n",
      "00111001 11011111\n",
      "01111001 10100000\n",
      "00101101 11100000\n",
      "01101101 10110000\n",
      "00111101 11110000\n",
      "01111101 10100100\n",
      "00101010 11100100\n",
      "01101010 10110100\n",
      "00111010 11110100\n",
      "01111010 10100001\n",
      "00101110 11100001\n",
      "01101110 10110001\n",
      "00111110 11110001\n",
      "01111110 10100101\n",
      "00101011 11100101\n",
      "01101011 10110101\n",
      "00111011 11110101\n",
      "01111011 10100010\n",
      "00101111 11100010\n",
      "01101111 10110010\n",
      "00111111 11110010\n",
      "01111111 10100110\n",
      "10000000 11100110\n",
      "11000000 10110110\n",
      "10010000 11110110\n",
      "11010000 10100011\n",
      "10000100 11100011\n",
      "11000100 10110011\n",
      "10010100 11110011\n",
      "11010100 10100111\n",
      "10000001 11100111\n",
      "11000001 10110111\n",
      "10010001 11110111\n",
      "11010001 10101000\n",
      "10000101 11101000\n",
      "11000101 10111000\n",
      "10010101 11111000\n",
      "11010101 10101100\n",
      "10000010 11101100\n",
      "11000010 10111100\n",
      "10010010 11111100\n",
      "11010010 10101001\n",
      "10000110 11101001\n",
      "11000110 10111001\n",
      "10010110 11111001\n",
      "11010110 10101101\n",
      "10000011 11101101\n",
      "11000011 10111101\n",
      "10010011 11111101\n",
      "11010011 10101010\n",
      "10000111 11101010\n",
      "11000111 10111010\n",
      "10010111 11111010\n",
      "11010111 10101110\n",
      "10001000 11101110\n",
      "11001000 10111110\n",
      "10011000 11111110\n",
      "11011000 10101011\n",
      "10001100 11101011\n",
      "11001100 10111011\n",
      "10011100 11111011\n",
      "11011100 10101111\n",
      "10001001 11101111\n",
      "11001001 10111111\n",
      "10011001 11111111\n",
      "11011001 00000000\n",
      "10001101 01000000\n",
      "11001101 00010000\n",
      "10011101 01010000\n",
      "11011101 00000100\n",
      "10001010 01000100\n",
      "11001010 00010100\n",
      "10011010 01010100\n",
      "11011010 00000001\n",
      "10001110 01000001\n",
      "11001110 00010001\n",
      "10011110 01010001\n",
      "11011110 00000101\n",
      "10001011 01000101\n",
      "11001011 00010101\n",
      "10011011 01010101\n",
      "11011011 00000010\n",
      "10001111 01000010\n",
      "11001111 00010010\n",
      "10011111 01010010\n",
      "11011111 00000110\n",
      "10100000 01000110\n",
      "11100000 00010110\n",
      "10110000 01010110\n",
      "11110000 00000011\n",
      "10100100 01000011\n",
      "11100100 00010011\n",
      "10110100 01010011\n",
      "11110100 00000111\n",
      "10100001 01000111\n",
      "11100001 00010111\n",
      "10110001 01010111\n",
      "11110001 00001000\n",
      "10100101 01001000\n",
      "11100101 00011000\n",
      "10110101 01011000\n",
      "11110101 00001100\n",
      "10100010 01001100\n",
      "11100010 00011100\n",
      "10110010 01011100\n",
      "11110010 00001001\n",
      "10100110 01001001\n",
      "11100110 00011001\n",
      "10110110 01011001\n",
      "11110110 00001101\n",
      "10100011 01001101\n",
      "11100011 00011101\n",
      "10110011 01011101\n",
      "11110011 00001010\n",
      "10100111 01001010\n",
      "11100111 00011010\n",
      "10110111 01011010\n",
      "11110111 00001110\n",
      "10101000 01001110\n",
      "11101000 00011110\n",
      "10111000 01011110\n",
      "11111000 00001011\n",
      "10101100 01001011\n",
      "11101100 00011011\n",
      "10111100 01011011\n",
      "11111100 00001111\n",
      "10101001 01001111\n",
      "11101001 00011111\n",
      "10111001 01011111\n",
      "11111001 00100000\n",
      "10101101 01100000\n",
      "11101101 00110000\n",
      "10111101 01110000\n",
      "11111101 00100100\n",
      "10101010 01100100\n",
      "11101010 00110100\n",
      "10111010 01110100\n",
      "11111010 00100001\n",
      "10101110 01100001\n",
      "11101110 00110001\n",
      "10111110 01110001\n",
      "11111110 00100101\n",
      "10101011 01100101\n",
      "11101011 00110101\n",
      "10111011 01110101\n",
      "11111011 00100010\n",
      "10101111 01100010\n",
      "11101111 00110010\n",
      "10111111 01110010\n",
      "11111111 00100110\n"
     ]
    }
   ],
   "source": [
    "for i in 0:255\n",
    "    input_str_unfolded = lpad(string(i, base=2), 8, '0')\n",
    "    input_str_folded = perm(input_str_unfolded, phy_ram)\n",
    "    output_str_unfolded = add_8bit_simple(input_str_unfolded)\n",
    "    output_str_folded = perm(output_str_unfolded, phy_ram)\n",
    "    println(input_str_folded, \" \", output_str_folded)\n",
    "end"
   ]
  },
  {
   "cell_type": "code",
   "execution_count": null,
   "id": "7fd4a6f5",
   "metadata": {},
   "outputs": [
    {
     "data": {
      "text/plain": [
       "(ITensor ord=2\n",
       "Dim 1: (dim=2|id=354|\"Carry,c=1\")\n",
       "Dim 2: (dim=2|id=156|\"Carry,c=2\")\n",
       "NDTensors.Dense{Float64, Vector{Float64}}\n",
       " 2×2\n",
       " 1.0138643023841494   -0.3407956368420073\n",
       " 0.20905176626709085  -0.290925084710782, ITensor ord=2\n",
       "Dim 1: (dim=2|id=156|\"Carry,c=2\")\n",
       "Dim 2: (dim=2|id=354|\"Carry,c=1\")\n",
       "NDTensors.Dense{Float64, Vector{Float64}}\n",
       " 2×2\n",
       " 0.02267049826257342  0.9366063913429162\n",
       " 0.3763027114359013   0.6149718056079265)"
      ]
     },
     "execution_count": 1149,
     "metadata": {},
     "output_type": "execute_result"
    }
   ],
   "source": [
    "using Random\n",
    "using ITensors\n",
    "i = Index(2, \"Carry,c=1\")\n",
    "j = Index(2, \"Carry,c=2\")\n",
    "A = randomITensor(i, j)\n",
    "B = randomITensor(j, i)\n",
    "pair = (A, B)"
   ]
  },
  {
   "cell_type": "code",
   "execution_count": null,
   "id": "9db27ccd",
   "metadata": {},
   "outputs": [
    {
     "data": {
      "text/plain": [
       "(ITensor ord=2\n",
       "Dim 1: (dim=2|id=156|\"Carry,c=2\")\n",
       "Dim 2: (dim=2|id=354|\"Carry,c=1\")\n",
       "NDTensors.Dense{Float64, Vector{Float64}}\n",
       " 2×2\n",
       " 0.02267049826257342  0.9366063913429162\n",
       " 0.3763027114359013   0.6149718056079265, ITensor ord=2\n",
       "Dim 1: (dim=2|id=354|\"Carry,c=1\")\n",
       "Dim 2: (dim=2|id=156|\"Carry,c=2\")\n",
       "NDTensors.Dense{Float64, Vector{Float64}}\n",
       " 2×2\n",
       " 1.0138643023841494   -0.3407956368420073\n",
       " 0.20905176626709085  -0.290925084710782)"
      ]
     },
     "execution_count": 1150,
     "metadata": {},
     "output_type": "execute_result"
    }
   ],
   "source": [
    "reverse(pair)"
   ]
  },
  {
   "cell_type": "code",
   "execution_count": null,
   "id": "a88e811b",
   "metadata": {},
   "outputs": [
    {
     "data": {
      "text/plain": [
       "MPS\n",
       "[1] ((dim=2|id=371|\"Qubit,Site,n=1\"), (dim=2|id=882|\"Link,l=1\"))\n",
       "[2] ((dim=2|id=798|\"Qubit,Site,n=2\"), (dim=4|id=784|\"Link,l=2\"), (dim=2|id=882|\"Link,l=1\"))\n",
       "[3] ((dim=2|id=159|\"Qubit,Site,n=3\"), (dim=4|id=291|\"Link,l=3\"), (dim=4|id=784|\"Link,l=2\"))\n",
       "[4] ((dim=2|id=180|\"Qubit,Site,n=4\"), (dim=2|id=983|\"Carry,c=4\"), (dim=1|id=341|\"Link,l=4\"), (dim=4|id=291|\"Link,l=3\"))\n",
       "[5] ((dim=2|id=671|\"Carry,c=5\"), (dim=2|id=56|\"Qubit,Site,n=5\"), (dim=1|id=125|\"Link,l=5\"), (dim=1|id=341|\"Link,l=4\"))\n",
       "[6] ((dim=2|id=550|\"Qubit,Site,n=6\"), (dim=1|id=386|\"Link,l=6\"), (dim=1|id=125|\"Link,l=5\"))\n",
       "[7] ((dim=2|id=484|\"Qubit,Site,n=7\"), (dim=1|id=633|\"Link,l=7\"), (dim=1|id=386|\"Link,l=6\"))\n",
       "[8] ((dim=2|id=436|\"Qubit,Site,n=8\"), (dim=1|id=633|\"Link,l=7\"))\n"
      ]
     },
     "execution_count": 1151,
     "metadata": {},
     "output_type": "execute_result"
    }
   ],
   "source": [
    "inds(initial_state[1])\n",
    "orthogonalize!(initial_state, 1)"
   ]
  },
  {
   "cell_type": "code",
   "execution_count": null,
   "id": "ee16edd8",
   "metadata": {},
   "outputs": [
    {
     "data": {
      "text/plain": [
       "Dim 1: (dim=2|id=180|\"Qubit,Site,n=4\")\n",
       "Dim 2: (dim=2|id=983|\"Carry,c=4\")\n",
       "Dim 3: (dim=1|id=341|\"Link,l=4\")\n",
       "Dim 4: (dim=4|id=291|\"Link,l=3\")\n",
       "NDTensors.Dense{Float64, Vector{Float64}}\n",
       " 2×2×1×4\n",
       "[:, :, 1, 1] =\n",
       "  0.0                  0.0\n",
       " -0.7071067811865476  -0.7071067811865476\n",
       "\n",
       "[:, :, 1, 2] =\n",
       "  0.0                 0.0\n",
       " -0.7071067811865475  0.7071067811865475\n",
       "\n",
       "[:, :, 1, 3] =\n",
       " -0.9732489894677304     -0.22975292054736118\n",
       " -2.220446049250313e-16  -2.220446049250313e-16\n",
       "\n",
       "[:, :, 1, 4] =\n",
       " -0.22975292054736096    0.9732489894677302\n",
       "  8.326672684688674e-17  1.1102230246251565e-16"
      ]
     },
     "execution_count": 1152,
     "metadata": {},
     "output_type": "execute_result"
    }
   ],
   "source": [
    "initial_state[4].tensor"
   ]
  },
  {
   "cell_type": "code",
   "execution_count": null,
   "id": "f3cc0115",
   "metadata": {},
   "outputs": [
    {
     "data": {
      "text/plain": [
       "ITensor ord=3 (dim=2|id=371|\"Qubit,Site,n=1\") (dim=2|id=798|\"Qubit,Site,n=2\") (dim=4|id=784|\"Link,l=2\")\n",
       "NDTensors.Dense{Float64, Vector{Float64}}"
      ]
     },
     "execution_count": 1153,
     "metadata": {},
     "output_type": "execute_result"
    }
   ],
   "source": [
    "tmp = initial_state[1] * initial_state[2]"
   ]
  },
  {
   "cell_type": "code",
   "execution_count": null,
   "id": "376ca65f",
   "metadata": {},
   "outputs": [
    {
     "data": {
      "text/plain": [
       "((dim=2|id=371|\"Qubit,Site,n=1\"), (dim=2|id=798|\"Qubit,Site,n=2\"), (dim=4|id=784|\"Link,l=2\"))"
      ]
     },
     "execution_count": 1154,
     "metadata": {},
     "output_type": "execute_result"
    }
   ],
   "source": [
    "inds(tmp)"
   ]
  },
  {
   "cell_type": "code",
   "execution_count": null,
   "id": "f6c722fe",
   "metadata": {},
   "outputs": [
    {
     "data": {
      "text/plain": [
       "Dim 1: 2\n",
       "Dim 2: 4\n",
       "NDTensors.Dense{Float64, Base.ReshapedArray{Float64, 1, SubArray{Float64, 2, Array{Float64, 3}, Tuple{Base.Slice{Base.OneTo{Int64}}, Int64, Base.Slice{Base.OneTo{Int64}}}, false}, Tuple{Base.MultiplicativeInverses.SignedMultiplicativeInverse{Int64}}}}\n",
       " 2×4\n",
       " 0.0                 -0.9999999999999999  0.0  0.0\n",
       " 0.9999999999999998   0.0                 0.0  0.0"
      ]
     },
     "execution_count": 1155,
     "metadata": {},
     "output_type": "execute_result"
    }
   ],
   "source": [
    "tmp.tensor[:,2,:,1,1]"
   ]
  },
  {
   "cell_type": "code",
   "execution_count": null,
   "id": "19864281",
   "metadata": {},
   "outputs": [
    {
     "name": "stdout",
     "output_type": "stream",
     "text": [
      "Index{Int64}[(dim=2|id=371|\"Qubit,Site,n=1\"), (dim=2|id=798|\"Qubit,Site,n=2\"), (dim=2|id=159|\"Qubit,Site,n=3\"), (dim=2|id=180|\"Qubit,Site,n=4\"), (dim=2|id=671|\"Carry,c=5\"), (dim=2|id=550|\"Qubit,Site,n=6\"), (dim=2|id=484|\"Qubit,Site,n=7\"), (dim=2|id=436|\"Qubit,Site,n=8\")]\n",
      "1\n"
     ]
    }
   ],
   "source": [
    "single_site_add_folded!(shift_1_3_bits[ram_phy[2]], 2, initial_state)\n",
    "println(shift_1_3_bits[ram_phy[2]])"
   ]
  },
  {
   "cell_type": "code",
   "execution_count": null,
   "id": "fa2b5f18",
   "metadata": {},
   "outputs": [
    {
     "ename": "LoadError",
     "evalue": "BoundsError: attempt to access Tuple{} at index [1]",
     "output_type": "error",
     "traceback": [
      "BoundsError: attempt to access Tuple{} at index [1]",
      "",
      "Stacktrace:",
      " [1] \u001b[0m\u001b[1mgetindex\u001b[22m\u001b[0m\u001b[1m(\u001b[22m\u001b[90mt\u001b[39m::\u001b[0mTuple, \u001b[90mi\u001b[39m::\u001b[0mInt64\u001b[0m\u001b[1m)\u001b[22m",
      "\u001b[90m   @\u001b[39m \u001b[90mBase\u001b[39m \u001b[90m./\u001b[39m\u001b[90m\u001b[4mtuple.jl:31\u001b[24m\u001b[39m",
      " [2] top-level scope",
      "\u001b[90m   @\u001b[39m \u001b[90m\u001b[4mIn[1157]:9\u001b[24m\u001b[39m"
     ]
    }
   ],
   "source": [
    "lsb_tensor = ITensor(filterinds(initial_state[2], tags=\"Carry,c=1\"))\n",
    "lsb_tensor[inds(lsb_tensor)[1]=>1] = 1.0\n",
    "# print(inds(lsb_tensor))\n",
    "initial_state[2] = initial_state[2] * lsb_tensor;\n",
    "# println(inds(initial_state[2]))\n",
    "\n",
    "# discard the carry out of the msb tensor\n",
    "msb_tensor = ITensor(filterinds(initial_state[1], tags=\"Carry,c=0\"))\n",
    "msb_tensor[inds(msb_tensor)[1]=>1] = 1.0\n",
    "msb_tensor[inds(msb_tensor)[1]=>2] = 1.0\n",
    "initial_state[1] = initial_state[1] * msb_tensor;"
   ]
  },
  {
   "cell_type": "code",
   "execution_count": null,
   "id": "25752199",
   "metadata": {},
   "outputs": [],
   "source": [
    "println(inds(initial_state[2]))"
   ]
  },
  {
   "cell_type": "code",
   "execution_count": null,
   "id": "849b2653",
   "metadata": {},
   "outputs": [],
   "source": [
    "tmp2 = initial_state[1] * initial_state[2] * initial_state[3]\n",
    "println(inds(tmp2))"
   ]
  },
  {
   "cell_type": "code",
   "execution_count": null,
   "id": "8cf6d8ff",
   "metadata": {},
   "outputs": [],
   "source": [
    "size(tmp2)"
   ]
  },
  {
   "cell_type": "code",
   "execution_count": null,
   "id": "b7a84ea3",
   "metadata": {},
   "outputs": [],
   "source": [
    "using ITensors\n",
    "\n",
    "function print_nonzero_coordinates(T)\n",
    "    # Get the dimensions of the tensor\n",
    "    dims = size(T)\n",
    "    \n",
    "    # Iterate through all possible indices\n",
    "    for idx in CartesianIndices(dims)\n",
    "        # Check if element is nonzero\n",
    "        if T[idx] != 0\n",
    "            # Convert CartesianIndex to tuple for cleaner output\n",
    "            coords = Tuple(idx)\n",
    "            println(\"Nonzero at coordinates $coords: $(T[idx])\")\n",
    "        end\n",
    "    end\n",
    "end\n",
    "\n",
    "print_nonzero_coordinates(tmp2.tensor)"
   ]
  },
  {
   "cell_type": "code",
   "execution_count": null,
   "id": "f1db915f",
   "metadata": {},
   "outputs": [],
   "source": [
    "c2 = inds(initial_state[2])[2]\n",
    "println(inds(initial_state[2]))\n",
    "c4 = Index(2, \"Carry,c=4\")\n",
    "T_Lm1 = create_addition_tensor_with_carry(1, qubit_site[L-1], prime(qubit_site[L-1]), c4, c2)"
   ]
  },
  {
   "cell_type": "code",
   "execution_count": null,
   "id": "70703b41",
   "metadata": {},
   "outputs": [],
   "source": [
    "tensor = contract(initial_state)\n",
    "println(inds(tensor))"
   ]
  },
  {
   "cell_type": "code",
   "execution_count": null,
   "id": "7f2dfb95",
   "metadata": {},
   "outputs": [],
   "source": [
    "\n",
    "# qubit_site = siteinds(initial_state)\n",
    "# T_left_ind = Index(2, \"Carry,c=$(ram_pos-1)\")\n",
    "# T_right_ind = Index(2, \"Carry,c=$(ram_pos)\")\n",
    "# T = create_addition_tensor_with_carry(shift_bit, qubit_site[ram_pos], prime(qubit_site[ram_pos]), T_right_ind, T_left_ind);\n",
    "# id_op_right_ind = Index(2, \"Carry,c=$(ram_pos+1)\")\n",
    "# id_op = create_identity_tensor_4d(qubit_site[ram_pos+1], prime(qubit_site[ram_pos+1]), id_op_right_ind, T_right_ind);\n",
    "# # println(\"T\", inds(T))\n",
    "# # println(\"id_op\", inds(id_op))\n",
    "# gate = T * id_op\n",
    "# # figure out the left and right indices for the SVD\n",
    "# left_original_inds = inds(initial_state[ram_pos]) # bookkeep some of the original indices from the left site for SVD\n",
    "# link_right = filterinds(initial_state[ram_pos+1], tags=\"Link,l=$(ram_pos)\")\n",
    "# left_original_inds = setdiff(left_original_inds, link_right)\n",
    "# # println(\"left_original_inds \", left_original_inds)\n",
    "\n",
    "# # contract the gate with the two qubit sites\n",
    "# psi = gate * (initial_state[ram_pos] * initial_state[ram_pos+1])\n",
    "# noprime!(psi)\n",
    "# carry_left = filterinds(psi, tags=\"Carry,c=$(ram_pos-1)\")\n",
    "# # println(\"carry_left\", carry_left)\n",
    "# link_left = filterinds(psi, tags=\"Link,l=$(ram_pos-1)\")\n",
    "# # println(\"link_left \", link_left)\n",
    "# qubit_left = filterinds(psi, tags=\"Site,n=$(ram_pos)\")\n",
    "# # println(qubit_left)\n",
    "# left_inds = unioninds(carry_left, link_left, qubit_left, left_original_inds)\n",
    "# println(\"left_inds \", left_inds)\n",
    "# # println(typeof(psi))\n",
    "# U, S, V = svd(psi, left_inds; cutoff=1e-12, lefttags = \"Link,l=$(ram_pos)\")\n",
    "# # println(inds(initial_state))\n",
    "# # new_state = copy(initial_state)\n",
    "# initial_state[ram_pos] = U\n",
    "# initial_state[ram_pos+1] = S*V"
   ]
  },
  {
   "cell_type": "code",
   "execution_count": null,
   "id": "25ee1bea",
   "metadata": {},
   "outputs": [],
   "source": [
    "new_psi = initial_state[1] * initial_state[2]\n",
    "println(inds(new_psi))\n",
    "println(new_psi.tensor[:,1,1,:,1])"
   ]
  },
  {
   "cell_type": "code",
   "execution_count": null,
   "id": "07b18b4a",
   "metadata": {},
   "outputs": [],
   "source": [
    "psi = gate * (initial_state[1] * initial_state[2])"
   ]
  },
  {
   "cell_type": "code",
   "execution_count": null,
   "id": "3f495795",
   "metadata": {},
   "outputs": [],
   "source": [
    "psi.tensor[:,2,:,1,1]"
   ]
  },
  {
   "cell_type": "code",
   "execution_count": null,
   "id": "0c0e0a40",
   "metadata": {},
   "outputs": [],
   "source": [
    "println(inds(initial_state[1]))"
   ]
  },
  {
   "cell_type": "code",
   "execution_count": null,
   "id": "8d89c0d5",
   "metadata": {},
   "outputs": [],
   "source": [
    "typeof(initial_state[1])"
   ]
  },
  {
   "cell_type": "code",
   "execution_count": null,
   "id": "ea449f13",
   "metadata": {},
   "outputs": [],
   "source": [
    "tensor1 = initial_state[1]\n",
    "indices1 = inds(tensor1)\n",
    "println(indices1)\n",
    "link_num = 2\n",
    "tensor1[indices1[1]=>2, indices1[2]=>2, indices1[3]=>link_num]"
   ]
  },
  {
   "cell_type": "code",
   "execution_count": null,
   "id": "2468ad16",
   "metadata": {},
   "outputs": [],
   "source": [
    "tensor2 = initial_state[2]\n",
    "indices2= inds(tensor2)\n",
    "println(indices2)\n",
    "tensor2[indices2[1] => 1, indices2[2]=>1, indices2[3]=>2, indices2[4]=>1]"
   ]
  },
  {
   "cell_type": "code",
   "execution_count": null,
   "id": "4455f2b5",
   "metadata": {},
   "outputs": [],
   "source": [
    "initial_state[2].tensor[2,:,:]"
   ]
  },
  {
   "cell_type": "code",
   "execution_count": null,
   "id": "fba19198",
   "metadata": {},
   "outputs": [],
   "source": [
    "# initial_state = productMPS(qubit_site, [1,2,2,1])\n",
    "# shift_bit = 0\n",
    "# ram_pos = 1\n",
    "# include(\"global_adder_passthrough.jl\")\n",
    "# T_left_ind = Index(2, \"Carry,c=$(ram_pos-1)\")\n",
    "# T_right_ind = Index(2, \"Carry,c=$(ram_pos)\")\n",
    "# T = create_addition_tensor_with_carry(shift_bit, qubit_site[ram_pos], prime(qubit_site[ram_pos]), T_left_ind, T_right_ind);\n",
    "# id_op_right_ind = Index(2, \"Carry,c=$(ram_pos+1)\")\n",
    "# id_op = create_identity_tensor_4d(qubit_site[ram_pos+1], prime(qubit_site[ram_pos+1]), T_right_ind, id_op_right_ind);\n",
    "# gate = T * id_op\n",
    "# # figure out the left and right indices for the SVD\n",
    "# left_original_inds = inds(initial_state[ram_pos]) # bookkeep some of the original indices from the left site for SVD\n",
    "# link_right = filterinds(initial_state[ram_pos+1], tags=\"Link,l=$(ram_pos)\")\n",
    "# left_original_inds = setdiff(left_original_inds, link_right)\n",
    "# # println(\"left_original_inds \", left_original_inds)\n",
    "\n",
    "# # contract the gate with the two qubit sites\n",
    "# psi = gate * (initial_state[ram_pos] * initial_state[ram_pos+1])\n",
    "# noprime!(psi)\n",
    "# carry_left = filterinds(psi, tags=\"Carry,c=$(ram_pos-1)\")\n",
    "# # println(\"carry_left\", carry_left)\n",
    "# link_left = filterinds(psi, tags=\"Link,l=$(ram_pos-1)\")\n",
    "# # println(\"link_left \", link_left)\n",
    "# qubit_left = filterinds(psi, tags=\"Site,n=$(ram_pos)\")\n",
    "# # println(qubit_left)\n",
    "# left_inds = unioninds(carry_left, link_left, qubit_left, left_original_inds)\n",
    "# # println(\"left_inds \", left_inds)\n",
    "# # println(typeof(psi))\n",
    "# U, S, V = svd(psi, left_inds; cutoff=1e-12, lefttags = \"Link,l=$(ram_pos)\")\n",
    "# # println(inds(initial_state))\n",
    "# # new_state = copy(initial_state)\n",
    "# initial_state[ram_pos] = U\n",
    "# initial_state[ram_pos+1] = S*V"
   ]
  },
  {
   "cell_type": "code",
   "execution_count": null,
   "id": "f43a7f99",
   "metadata": {},
   "outputs": [],
   "source": [
    "# println(inds(initial_state))\n",
    "\n",
    "# msb_tensor = ITensor(filterinds(initial_state[1], tags=\"Carry,c=0\"))\n",
    "# msb_tensor[inds(msb_tensor)[1]=>1] = 1.0\n",
    "# msb_tensor[inds(msb_tensor)[1]=>2] = 1.0\n",
    "# initial_state[1] = initial_state[1] * msb_tensor;\n",
    "# normalize!(initial_state)\n",
    "\n",
    "# println(initial_state)"
   ]
  },
  {
   "cell_type": "code",
   "execution_count": null,
   "id": "c6f5d060",
   "metadata": {},
   "outputs": [],
   "source": [
    "# L = 40\n",
    "# ancilla = 0\n",
    "# folded = true\n",
    "# seed_vec = 123457\n",
    "# xj = Set([1//3, 2//3])\n",
    "# i1 = 1\n",
    "# p_ctrl = 1.0\n",
    "# p_proj = 0.0\n",
    "# _maxdim = 50\n",
    "# _cutoff = 1e-15\n",
    "# seed = 123457\n",
    "# x0 = nothing\n",
    "# qubit_site, ram_phy, phy_ram, phy_list = _initialize_basis(L, ancilla, folded)\n",
    "# println(phy_list)\n",
    "# println(ram_phy)\n",
    "# println(phy_ram)\n",
    "# rng = MersenneTwister(seed_vec)\n",
    "# rng_vec = seed_vec === nothing ? rng : MersenneTwister(seed_vec)\n",
    "# # initial_state = _initialize_vector(L, ancilla, x0, folded, qubit_site, ram_phy, phy_ram, phy_list, rng_vec, _cutoff, _maxdim);\n",
    "# # println(initial_state)\n",
    "# shift_1_3_bits, shift_1_3_amount = fraction_to_binary_shift(1, 3, L)\n",
    "# # @time adder=[adder_MPO(i1,xj,qubit_site,L,phy_ram,phy_list) for i1 in 1:L]\n",
    "\n"
   ]
  },
  {
   "cell_type": "code",
   "execution_count": null,
   "metadata": {},
   "outputs": [],
   "source": [
    "# # Method 1: @time (shows time + memory allocation + GC time)\n",
    "# @time adder=[adder_MPO(i1,xj,qubit_site,L,phy_ram,phy_list) for i1 in 1:L];\n",
    "\n",
    "# # Method 2: @allocated (only memory allocation in bytes)\n",
    "# memory_allocated = @allocated adder=[adder_MPO(i1,xj,qubit_site,L,phy_ram,phy_list) for i1 in 1:L];\n",
    "# println(\"Memory allocated: $(memory_allocated / 1024^2) MB\")\n",
    "\n",
    "# # Method 3: Manual tracking with GC.gc()\n",
    "# GC.gc()  # Force garbage collection\n",
    "# mem_before = Base.gc_live_bytes()\n",
    "# adder=[adder_MPO(i1,xj,qubit_site,L,phy_ram,phy_list) for i1 in 1:L];\n",
    "# GC.gc()  # Force garbage collection\n",
    "# mem_after = Base.gc_live_bytes()\n",
    "# println(\"Live memory change: $((mem_after - mem_before) / 1024^2) MB\")\n"
   ]
  },
  {
   "cell_type": "code",
   "execution_count": null,
   "metadata": {},
   "outputs": [],
   "source": [
    "# mps = _initialize_vector(L, ancilla, nothing, folded, qubit_site, ram_phy, phy_ram, phy_list, rng_vec, _cutoff, _maxdim)\n",
    "# @time apply(adder[3], mps)"
   ]
  },
  {
   "cell_type": "code",
   "execution_count": null,
   "metadata": {},
   "outputs": [],
   "source": [
    "# # Method 6: System-level memory monitoring (Linux/Unix)\n",
    "# # This tracks actual RSS (Resident Set Size) memory usage\n",
    "\n",
    "# function get_memory_usage()\n",
    "#     try\n",
    "#         # Read from /proc/self/status on Linux\n",
    "#         status = read(\"/proc/self/status\", String)\n",
    "#         for line in split(status, '\\n')\n",
    "#             if startswith(line, \"VmRSS:\")\n",
    "#                 # Extract memory in kB and convert to MB\n",
    "#                 memory_kb = parse(Int, split(line)[2])\n",
    "#                 return memory_kb / 1024  # Convert to MB\n",
    "#             end\n",
    "#         end\n",
    "#     catch\n",
    "#         # Fallback: use Julia's garbage collector info\n",
    "#         return Base.gc_live_bytes() / 1024^2\n",
    "#     end\n",
    "#     return 0.0\n",
    "# end\n",
    "\n",
    "# # Track memory before and after\n",
    "# println(\"Memory before: $(get_memory_usage()) MB\")\n",
    "# @time adder=[adder_MPO(i1,xj,qubit_site,L,phy_ram,phy_list) for i1 in 1:L];\n",
    "# println(\"Memory after: $(get_memory_usage()) MB\")\n"
   ]
  },
  {
   "cell_type": "code",
   "execution_count": null,
   "id": "c7ed8c00",
   "metadata": {},
   "outputs": [],
   "source": [
    "\n"
   ]
  },
  {
   "cell_type": "code",
   "execution_count": null,
   "id": "56a30f3b",
   "metadata": {},
   "outputs": [],
   "source": []
  },
  {
   "cell_type": "code",
   "execution_count": null,
   "id": "f34332c4",
   "metadata": {},
   "outputs": [],
   "source": []
  },
  {
   "cell_type": "code",
   "execution_count": null,
   "id": "b7a972a8",
   "metadata": {},
   "outputs": [],
   "source": []
  }
 ],
 "metadata": {
  "kernelspec": {
   "display_name": "Julia 1.10.0",
   "language": "julia",
   "name": "julia-1.10"
  },
  "language_info": {
   "file_extension": ".jl",
   "mimetype": "application/julia",
   "name": "julia",
   "version": "1.10.0"
  }
 },
 "nbformat": 4,
 "nbformat_minor": 5
}
