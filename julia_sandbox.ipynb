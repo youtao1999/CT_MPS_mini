{
 "cells": [
  {
   "cell_type": "code",
   "execution_count": 11,
   "id": "ccd7b1f4-4c49-4c48-8399-8b9ceef0b90d",
   "metadata": {},
   "outputs": [
    {
     "name": "stderr",
     "output_type": "stream",
     "text": [
      "\u001b[32m\u001b[1m  Activating\u001b[22m\u001b[39m project at `~/CT_MPS_mini/CT`\n"
     ]
    }
   ],
   "source": [
    "using Pkg\n",
    "Pkg.activate(\"CT\")\n",
    "using CT"
   ]
  },
  {
   "cell_type": "code",
   "execution_count": 12,
   "id": "484c31bc-19ce-4b04-b4af-2b0e62cde5a5",
   "metadata": {},
   "outputs": [
    {
     "name": "stdout",
     "output_type": "stream",
     "text": [
      "\u001b[36m\u001b[1mProject\u001b[22m\u001b[39m CT v0.1.0\n",
      "\u001b[32m\u001b[1mStatus\u001b[22m\u001b[39m `~/CT_MPS_mini/CT/Project.toml`\n",
      "  \u001b[90m[c7e460c6] \u001b[39mArgParse v1.2.0\n",
      "\u001b[32m⌃\u001b[39m \u001b[90m[6e4b80f9] \u001b[39mBenchmarkTools v1.5.0\n",
      "\u001b[33m⌅\u001b[39m \u001b[90m[9136182c] \u001b[39mITensors v0.6.16\n",
      "  \u001b[90m[682c06a0] \u001b[39mJSON v0.21.4\n",
      "\u001b[32m⌃\u001b[39m \u001b[90m[33e6dc65] \u001b[39mMKL v0.7.0\n",
      "\u001b[32m⌃\u001b[39m \u001b[90m[91a5bcdd] \u001b[39mPlots v1.40.5\n",
      "\u001b[32m⌃\u001b[39m \u001b[90m[9f0aa9f4] \u001b[39mTCIITensorConversion v0.1.4\n",
      "\u001b[32m⌃\u001b[39m \u001b[90m[b261b2ec] \u001b[39mTensorCrossInterpolation v0.9.10\n",
      "\u001b[32m⌃\u001b[39m \u001b[90m[a759f4b9] \u001b[39mTimerOutputs v0.5.24\n",
      "  \u001b[90m[37e2e46d] \u001b[39mLinearAlgebra\n",
      "  \u001b[90m[9a3f8284] \u001b[39mRandom\n",
      "\u001b[36m\u001b[1mInfo\u001b[22m\u001b[39m Packages marked with \u001b[32m⌃\u001b[39m and \u001b[33m⌅\u001b[39m have new versions available. Those with \u001b[32m⌃\u001b[39m may be upgradable, but those with \u001b[33m⌅\u001b[39m are restricted by compatibility constraints from upgrading. To see why use `status --outdated`\n"
     ]
    }
   ],
   "source": [
    "Pkg.status()"
   ]
  },
  {
   "cell_type": "code",
   "execution_count": 13,
   "id": "dd5c3d92",
   "metadata": {},
   "outputs": [
    {
     "name": "stdout",
     "output_type": "stream",
     "text": [
      "[1, 2, 3, 4]\n",
      "[1, 4, 2, 3]\n",
      "[1, 3, 4, 2]\n"
     ]
    },
    {
     "data": {
      "text/plain": [
       "MPS\n",
       "[1] ((dim=2|id=914|\"Qubit,Site,n=1\"), (dim=1|id=12|\"Link,l=1\"))\n",
       "[2] ((dim=1|id=12|\"Link,l=1\"), (dim=2|id=512|\"Qubit,Site,n=2\"), (dim=1|id=354|\"Link,l=2\"))\n",
       "[3] ((dim=1|id=354|\"Link,l=2\"), (dim=2|id=424|\"Qubit,Site,n=3\"), (dim=1|id=868|\"Link,l=3\"))\n",
       "[4] ((dim=1|id=868|\"Link,l=3\"), (dim=2|id=619|\"Qubit,Site,n=4\"))\n"
      ]
     },
     "execution_count": 13,
     "metadata": {},
     "output_type": "execute_result"
    }
   ],
   "source": [
    "# benchmark adder_MPO\n",
    "using ITensors\n",
    "include(\"CT/src/test_adder_MPO.jl\")\n",
    "# initialize random state\n",
    "using .CT: _initialize_basis, _initialize_vector, P_MPO, XI_MPO, I_MPO, adder_MPO\n",
    "using Random\n",
    "L = 4\n",
    "ancilla = 0\n",
    "folded = true\n",
    "seed_vec = 123457\n",
    "xj = Set([1//3, 2//3])\n",
    "i1 = 1\n",
    "p_ctrl = 1.0\n",
    "p_proj = 0.0\n",
    "_maxdim = 50\n",
    "_cutoff = 1e-15\n",
    "seed = 123457\n",
    "x0 = nothing\n",
    "qubit_site, ram_phy, phy_ram, phy_list = _initialize_basis(L, ancilla, folded)\n",
    "println(phy_list)\n",
    "println(ram_phy)\n",
    "println(phy_ram)\n",
    "rng = MersenneTwister(seed_vec)\n",
    "rng_vec = seed_vec === nothing ? rng : MersenneTwister(seed_vec)\n",
    "# initial_state = _initialize_vector(L, ancilla, x0, folded, qubit_site, ram_phy, phy_ram, phy_list, rng_vec, _cutoff, _maxdim);\n",
    "# println(initial_state)\n",
    "initial_state = productMPS(qubit_site, [1,2,2,1])"
   ]
  },
  {
   "cell_type": "code",
   "execution_count": 14,
   "id": "9ff64737",
   "metadata": {},
   "outputs": [
    {
     "data": {
      "text/plain": [
       "4"
      ]
     },
     "execution_count": 14,
     "metadata": {},
     "output_type": "execute_result"
    }
   ],
   "source": [
    "shift_1_3_bits, shift_1_3_amount = fraction_to_binary_shift(1, 3, L)\n",
    "L = length(shift_1_3_bits)"
   ]
  },
  {
   "cell_type": "markdown",
   "id": "119156e4",
   "metadata": {},
   "source": [
    "phy1 is the msb and phy 4 is the lsb\n",
    "\n",
    "the total number of carry legs are limited by the number of physical qubits thus might be better to name them by their respective physical qubit indices; hence in this way the naming convention for the qubit_site indices, the link indices, and the carry indices are different. For the first two, its site1--link1--site2--link2--site3--link3--site4 according to their ram position whereas in the case of the carry indices it would be carry0--site(ram1,phy1)--carry1 carry4--site(ram2,phy4)--carry3 carry1--site(ram3,phy2)--carry2 carry2--site(ram4,phy3)--carry3\n",
    "\n",
    "phy_ram[phy1] has carry \"carry_left_boundary\" and \"Carry,c=$phy_ram[phy1]\"\n",
    "phy_ram[phy2] has carry \""
   ]
  },
  {
   "cell_type": "code",
   "execution_count": 15,
   "id": "810096d2",
   "metadata": {},
   "outputs": [
    {
     "data": {
      "text/plain": [
       "single_site_add_folded! (generic function with 1 method)"
      ]
     },
     "execution_count": 15,
     "metadata": {},
     "output_type": "execute_result"
    }
   ],
   "source": [
    "# # Create all unique carry indices firs\n",
    "# all_carry_labels = unique(vcat(phy_list, phy_list .- 1))\n",
    "# # println(all_carry_labels)\n",
    "# carry_indices = Dict(label => Index(2, \"Carry, c=$label\") for label in all_carry_labels)\n",
    "# # println(carry_indices)    \n",
    "# # Now use the same index objects\n",
    "\n",
    "# # Need to create a new improved version of the dictionary\n",
    "# # \n",
    "# dict = Dict()\n",
    "# for i in 1:L\n",
    "#     dict[phy_list[i]] = Dict(\n",
    "#         \"in\" => carry_indices[phy_list[i]],\n",
    "#         \"out\" => carry_indices[phy_list[i] - 1]\n",
    "#     )\n",
    "# end\n",
    "# # println(dict)\n",
    "\n",
    "# if folded == true, then attach tensor T where T[1,:,:,1] = Identity and T[2,:,:,2] = Identity to the existing T[c_out, s, s_prime, c_in]\n",
    "\n",
    "function create_identity_tensor_4d(c_out::Index, s::Index, s_prime::Index, c_in::Index)\n",
    "    id_op = ITensor(c_out, s, s_prime, c_in)\n",
    "    for outer in 1:2  # first and last index values\n",
    "        for inner in 1:2  # diagonal of the 2×2 identity\n",
    "            id_op[c_out => outer, s => inner, s_prime => inner, c_in => outer] = 1.0\n",
    "        end\n",
    "    end\n",
    "    return id_op\n",
    "end\n",
    "\n",
    "function single_site_add_folded!(shfit_bit::Int64, ram_pos::Int64, initial_state::MPS)\n",
    "    \"\"\"\n",
    "    This function adds [shift_bit::Int64] (0 or 1) to the ram site [ram_pos::Int64] with the state being [initial_state::MPS] on the folded structure. The \"Carry,c=ram_pos\" stems from site [ram_pos] and typically ends on site [ram_pos+2] jumping over [ram_pos+1]. This function automatically passes this leg through the middle site [ram_pos+1] by attaching an identity tensor to the gate on [ram_pos+1]. Then performs the two-site contraction before SVD-ing it back into MPS form. \n",
    "    \"\"\"\n",
    "    qubit_site = siteinds(initial_state)\n",
    "    phy_pos = phy_ram[ram_pos]\n",
    "    T_left_ind = Index(2, \"Carry,c=$(ram_pos-1)\")\n",
    "    T_right_ind = Index(2, \"Carry,c=$(ram_pos)\")\n",
    "    T = create_addition_tensor_with_carry(shfit_bit, qubit_site[ram_pos], prime(qubit_site[ram_pos]), T_left_ind, T_right_ind);\n",
    "    id_op_right_ind = Index(2, \"Carry,c=$(ram_pos+1)\")\n",
    "    id_op = create_identity_tensor_4d(qubit_site[ram_pos+1], prime(qubit_site[ram_pos+1]), T_right_ind, id_op_right_ind);\n",
    "    # println(\"T\", inds(T))\n",
    "    # println(\"id_op\", inds(id_op))\n",
    "    gate = T * id_op\n",
    "    # contract the first two qubit sites out of the three\n",
    "    # println(\"upon receiving the gate, \", inds(initial_state[ram_pos]), \" and \", inds(initial_state[ram_pos+1]))\n",
    "    left_original_inds = inds(initial_state[ram_pos]) # bookkeep some of the original indices from the left site for SVD\n",
    "    psi = gate * (initial_state[ram_pos] * initial_state[ram_pos+1])\n",
    "    noprime!(psi)\n",
    "\n",
    "    carry_left = filterinds(psi, tags=\"Carry,c=$(ram_pos-1)\")\n",
    "    # println(\"carry_left\", carry_left)\n",
    "    link_left = filterinds(psi, tags=\"Link,l=$(ram_pos-1)\")\n",
    "    qubit_left = filterinds(psi, tags=\"Site,n=$(ram_pos)\")\n",
    "    # println(qubit_left)\n",
    "    left_inds = unioninds(carry_left, link_left, qubit_left, left_original_inds)\n",
    "    println(left_inds)\n",
    "    # println(typeof(psi))\n",
    "    U, S, V = svd(psi, left_inds; cutoff=1e-12, lefttags = \"Link,l=$(ram_pos)\")\n",
    "    # println(inds(initial_state))\n",
    "    # new_state = copy(initial_state)\n",
    "    initial_state[ram_pos] = U\n",
    "    initial_state[ram_pos+1] = S*V\n",
    "end\n"
   ]
  },
  {
   "cell_type": "code",
   "execution_count": 16,
   "id": "b9b496cf",
   "metadata": {},
   "outputs": [
    {
     "data": {
      "text/plain": [
       "1"
      ]
     },
     "execution_count": 16,
     "metadata": {},
     "output_type": "execute_result"
    }
   ],
   "source": [
    "lsb = 4\n",
    "ram_pos = phy_ram[lsb]\n",
    "shift_bits = [0,1,0,1]\n",
    "shift_bit = shift_bits[ram_phy[ram_pos]]\n"
   ]
  },
  {
   "cell_type": "code",
   "execution_count": 17,
   "id": "0afe560c",
   "metadata": {},
   "outputs": [
    {
     "data": {
      "text/html": [
       "# 1 method for generic function <b>single_site_add_folded!</b> from \u001b[35mMain\u001b[39m:<ul><li> single_site_add_folded!(shfit_bit::<b>Int64</b>, ram_pos::<b>Int64</b>, initial_state::<b>MPS</b>) in Main at In[15]:31</li> </ul>"
      ],
      "text/plain": [
       "# 1 method for generic function \"single_site_add_folded!\" from \u001b[35mMain\u001b[39m:\n",
       " [1] single_site_add_folded!(\u001b[90mshfit_bit\u001b[39m::\u001b[1mInt64\u001b[22m, \u001b[90mram_pos\u001b[39m::\u001b[1mInt64\u001b[22m, \u001b[90minitial_state\u001b[39m::\u001b[1mMPS\u001b[22m)\n",
       "\u001b[90m     @\u001b[39m \u001b[90m\u001b[4mIn[15]:31\u001b[24m\u001b[39m"
      ]
     },
     "execution_count": 17,
     "metadata": {},
     "output_type": "execute_result"
    }
   ],
   "source": [
    "methods(single_site_add_folded!)"
   ]
  },
  {
   "cell_type": "code",
   "execution_count": 18,
   "id": "c4cd26de",
   "metadata": {},
   "outputs": [
    {
     "name": "stdout",
     "output_type": "stream",
     "text": [
      "Index{Int64}[(dim=2|id=64|\"Carry,c=0\"), (dim=2|id=914|\"Qubit,Site,n=1\"), (dim=1|id=12|\"Link,l=1\")]\n",
      "Index{Int64}[(dim=2|id=885|\"Carry,c=1\"), (dim=1|id=825|\"Link,l=1\"), (dim=2|id=512|\"Qubit,Site,n=2\"), (dim=2|id=208|\"Carry,c=2\"), (dim=1|id=354|\"Link,l=2\")]\n"
     ]
    },
    {
     "data": {
      "text/plain": [
       "ITensor ord=2 (dim=4|id=273|\"Link,l=3\") (dim=2|id=619|\"Qubit,Site,n=4\")\n",
       "NDTensors.Dense{Float64, Vector{Float64}}"
      ]
     },
     "execution_count": 18,
     "metadata": {},
     "output_type": "execute_result"
    }
   ],
   "source": [
    "for ram_pos in 1:L-2\n",
    "    shift_bit = shift_bits[ram_phy[ram_pos]]\n",
    "    single_site_add_folded!(shift_bit, ram_pos, initial_state)\n",
    "end\n",
    "\n",
    "# no carry into the lsb tensor\n",
    "lsb_tensor = ITensor(filterinds(initial_state[2], tags=\"Carry,c=1\"))\n",
    "lsb_tensor[inds(lsb_tensor)[1]=>1] = 1.0\n",
    "# print(inds(lsb_tensor))\n",
    "initial_state[2] = initial_state[2] * lsb_tensor;\n",
    "# println(inds(initial_state[2]))\n",
    "\n",
    "# discard the carry out of the msb tensor\n",
    "msb_tensor = ITensor(filterinds(initial_state[1], tags=\"Carry,c=0\"))\n",
    "msb_tensor[inds(msb_tensor)[1]=>1] = 1.0\n",
    "msb_tensor[inds(msb_tensor)[1]=>2] = 1.0\n",
    "initial_state[1] = initial_state[1] * msb_tensor;\n",
    "normalize!(initial_state[1])\n",
    "# println(inds(initial_state[1]))\n",
    "\n",
    "# now take care of the final boundary contraction of 0 and 1\n",
    "c_mid_left = filterinds(initial_state[L-2], tags = \"Carry\")[1]\n",
    "c_mid_right = filterinds(initial_state[L-1], tags = \"Carry\")[1]\n",
    "c_mid = Index(2, \"Carry,c=$(L)\")\n",
    "# print(c_Lm1)\n",
    "# print(c_L)\n",
    "T_Lm1 = create_addition_tensor_with_carry(1, qubit_site[L-1], prime(qubit_site[L-1]), c_mid_left, c_mid)\n",
    "T_L = create_addition_tensor_with_carry(0, qubit_site[L], prime(qubit_site[L]), c_mid, c_mid_right)\n",
    "\n",
    "# apply the last and second to last addition tensor\n",
    "initial_state[L] = noprime!(initial_state[L] * T_L)\n",
    "# println(inds(initial_state))\n",
    "initial_state[L-1] = noprime!(initial_state[L-1] * T_Lm1)\n",
    "# println(inds(initial_state))\n",
    "\n",
    "# contract the duplicate indices of the last two site tensors\n",
    "\n",
    "comb = combiner(commoninds(initial_state[L-2], initial_state[L-1]); tags=\"Link,l=$(L-2)\");\n",
    "initial_state[L-2] = comb * initial_state[L-2]\n",
    "initial_state[L-1] = comb * initial_state[L-1]\n",
    "\n",
    "\n",
    "comb = combiner(commoninds(initial_state[L-1], initial_state[L]); tags=\"Link,l=$(L-1)\");\n",
    "initial_state[L-1] = comb * initial_state[L-1]\n",
    "initial_state[L] = comb * initial_state[L]"
   ]
  },
  {
   "cell_type": "code",
   "execution_count": null,
   "id": "c7a7793f",
   "metadata": {},
   "outputs": [
    {
     "name": "stdout",
     "output_type": "stream",
     "text": [
      "ITensor ord=2\n",
      "Dim 1: (dim=4|id=273|\"Link,l=3\")\n",
      "Dim 2: (dim=2|id=619|\"Qubit,Site,n=4\")\n",
      "NDTensors.Dense{Float64, Vector{Float64}}\n",
      " 4×2\n",
      " 1.0  0.0\n",
      " 0.0  0.0\n",
      " 0.0  1.0\n",
      " 0.0  0.0\n"
     ]
    }
   ],
   "source": [
    "normalize!(initial_state)\n",
    "println(initial_state[4])\n",
    "\"\"\"\n",
    "why is the dimension of the passing approach not correct?\n",
    "\"\"\""
   ]
  },
  {
   "cell_type": "code",
   "execution_count": null,
   "id": "786985bf",
   "metadata": {},
   "outputs": [
    {
     "ename": "LoadError",
     "evalue": "UndefVarError: `mpo` not defined",
     "output_type": "error",
     "traceback": [
      "UndefVarError: `mpo` not defined",
      "",
      "Stacktrace:",
      " [1] top-level scope",
      "\u001b[90m   @\u001b[39m \u001b[90m\u001b[4mIn[20]:48\u001b[24m\u001b[39m"
     ]
    }
   ],
   "source": [
    "# function print_mpo_as_matrix(mpo, L)\n",
    "#     println(\"\\nMPO as matrix:\")\n",
    "    \n",
    "#     # Contract the entire MPO to get the matrix representation\n",
    "#     mpo_tensor = contract(mpo)\n",
    "    \n",
    "#     # The tensor has indices (s1', s2', ..., sL', s1, s2, ..., sL)\n",
    "#     # We need to reshape it into a matrix where the first L indices are rows\n",
    "#     # and the last L indices are columns\n",
    "    \n",
    "#     # Get the tensor as an array\n",
    "#     tensor_array = Array(mpo_tensor, inds(mpo_tensor)...)\n",
    "    \n",
    "#     # Reshape to matrix: first 2^L entries are rows, next 2^L are columns\n",
    "#     matrix = reshape(tensor_array, 2^L, 2^L)\n",
    "    \n",
    "#     # Create basis labels\n",
    "#     basis_labels = []\n",
    "#     for i in 0:2^L-1\n",
    "#         bits = string(i, base=2, pad=L)\n",
    "#         push!(basis_labels, \"|$bits⟩\")\n",
    "#     end\n",
    "    \n",
    "#     # Print header\n",
    "#     print(\"      \")\n",
    "#     for j in 1:2^L\n",
    "#         print(\"$(basis_labels[j])  \")\n",
    "#     end\n",
    "#     println()\n",
    "    \n",
    "#     # Print matrix rows\n",
    "#     for i in 1:2^L\n",
    "#         print(\"$(basis_labels[i]) \")\n",
    "#         for j in 1:2^L\n",
    "#             val = abs(matrix[i, j])\n",
    "#             if val > 0.5\n",
    "#                 print(\"  1   \")\n",
    "#             else\n",
    "#                 print(\"  0   \")\n",
    "#             end\n",
    "#         end\n",
    "#         println()\n",
    "#     end\n",
    "    \n",
    "#     return matrix\n",
    "# end\n",
    "\n",
    "# print_mpo_as_matrix(mpo, 4)"
   ]
  },
  {
   "cell_type": "code",
   "execution_count": null,
   "id": "ceb25c49",
   "metadata": {},
   "outputs": [
    {
     "name": "stdout",
     "output_type": "stream",
     "text": [
      "\n",
      "MPO as matrix:\n",
      "      |0000⟩  |0001⟩  |0010⟩  |0011⟩  |0100⟩  |0101⟩  |0110⟩  |0111⟩  |1000⟩  |1001⟩  |1010⟩  |1011⟩  |1100⟩  |1101⟩  |1110⟩  |1111⟩  \n",
      "|0000⟩   0     0     0     0     0     0     0     0     0     0     0     0     0     0     0     0   \n",
      "|0001⟩   0     0     0     0     0     0     0     0     0     0     0     0     0     0     0     0   \n",
      "|0010⟩   0     0     0     0     0     0     0     0     0     0     0     0     0     0     0     0   \n",
      "|0011⟩   0     0     0     0     0     0     0     0     0     0     0     0     0     0     0     0   \n",
      "|0100⟩   0     1     0     0     0     0     0     0     0     0     0     0     0     1     0     0   \n",
      "|0101⟩   0     0     1     0     0     0     0     0     0     0     0     0     0     0     1     0   \n",
      "|0110⟩   0     0     1     0     0     0     0     0     0     0     0     0     0     0     1     0   \n",
      "|0111⟩   0     1     0     0     0     0     0     0     0     0     0     0     0     1     0     0   \n",
      "|1000⟩   0     0     0     0     0     1     0     0     0     0     0     0     0     0     0     0   \n",
      "|1001⟩   0     0     0     0     0     0     1     0     1     0     0     1     0     0     0     0   \n",
      "|1010⟩   0     0     0     0     0     0     1     0     1     0     0     1     0     0     0     0   \n",
      "|1011⟩   0     0     0     0     0     1     0     0     0     0     0     0     0     0     0     0   \n",
      "|1100⟩   0     0     0     0     0     0     0     0     0     0     0     0     0     0     0     0   \n",
      "|1101⟩   0     0     0     0     0     0     0     0     0     0     0     0     0     0     0     0   \n",
      "|1110⟩   0     0     0     0     0     0     0     0     0     0     0     0     0     0     0     0   \n",
      "|1111⟩   0     0     0     0     0     0     0     0     0     0     0     0     0     0     0     0   \n"
     ]
    },
    {
     "data": {
      "text/plain": [
       "16×16 Matrix{Float64}:\n",
       " 0.0  0.0  0.0  0.0  0.0  0.0  0.0  0.0  0.0  …  0.0  0.0  0.0  0.0  0.0\n",
       " 0.0  0.0  0.0  0.0  0.0  0.0  0.0  0.0  0.0     0.0  0.0  0.0  0.0  0.0\n",
       " 0.0  0.0  0.0  0.0  0.0  0.0  0.0  0.0  0.0     0.0  0.0  0.0  0.0  0.0\n",
       " 0.0  0.0  0.0  0.0  0.0  0.0  0.0  0.0  0.0     0.0  0.0  0.0  0.0  0.0\n",
       " 0.0  1.0  0.0  0.0  0.0  0.0  0.0  0.0  0.0     0.0  0.0  1.0  0.0  0.0\n",
       " 0.0  0.0  1.0  0.0  0.0  0.0  0.0  0.0  0.0  …  0.0  0.0  0.0  1.0  0.0\n",
       " 0.0  0.0  1.0  0.0  0.0  0.0  0.0  0.0  0.0     0.0  0.0  0.0  1.0  0.0\n",
       " 0.0  1.0  0.0  0.0  0.0  0.0  0.0  0.0  0.0     0.0  0.0  1.0  0.0  0.0\n",
       " 0.0  0.0  0.0  0.0  0.0  1.0  0.0  0.0  0.0     0.0  0.0  0.0  0.0  0.0\n",
       " 0.0  0.0  0.0  0.0  0.0  0.0  1.0  0.0  1.0     1.0  0.0  0.0  0.0  0.0\n",
       " 0.0  0.0  0.0  0.0  0.0  0.0  1.0  0.0  1.0  …  1.0  0.0  0.0  0.0  0.0\n",
       " 0.0  0.0  0.0  0.0  0.0  1.0  0.0  0.0  0.0     0.0  0.0  0.0  0.0  0.0\n",
       " 0.0  0.0  0.0  0.0  0.0  0.0  0.0  0.0  0.0     0.0  0.0  0.0  0.0  0.0\n",
       " 0.0  0.0  0.0  0.0  0.0  0.0  0.0  0.0  0.0     0.0  0.0  0.0  0.0  0.0\n",
       " 0.0  0.0  0.0  0.0  0.0  0.0  0.0  0.0  0.0     0.0  0.0  0.0  0.0  0.0\n",
       " 0.0  0.0  0.0  0.0  0.0  0.0  0.0  0.0  0.0  …  0.0  0.0  0.0  0.0  0.0"
      ]
     },
     "metadata": {},
     "output_type": "display_data"
    }
   ],
   "source": [
    "# function print_mpo_as_matrix(mpo, L)\n",
    "#     println(\"\\nMPO as matrix:\")\n",
    "    \n",
    "#     # Contract the entire MPO to get the matrix representation\n",
    "#     mpo_tensor = contract(mpo)\n",
    "    \n",
    "#     # The tensor has indices (s1', s2', ..., sL', s1, s2, ..., sL)\n",
    "#     # We need to reshape it into a matrix where the first L indices are rows\n",
    "#     # and the last L indices are columns\n",
    "    \n",
    "#     # Get the tensor as an array\n",
    "#     tensor_array = Array(mpo_tensor, inds(mpo_tensor)...)\n",
    "    \n",
    "#     # Reshape to matrix: first 2^L entries are rows, next 2^L are columns\n",
    "#     matrix = reshape(tensor_array, 2^L, 2^L)\n",
    "    \n",
    "#     # Create basis labels\n",
    "#     basis_labels = []\n",
    "#     for i in 0:2^L-1\n",
    "#         bits = string(i, base=2, pad=L)\n",
    "#         push!(basis_labels, \"|$bits⟩\")\n",
    "#     end\n",
    "    \n",
    "#     # Print header\n",
    "#     print(\"      \")\n",
    "#     for j in 1:2^L\n",
    "#         print(\"$(basis_labels[j])  \")\n",
    "#     end\n",
    "#     println()\n",
    "    \n",
    "#     # Print matrix rows\n",
    "#     for i in 1:2^L\n",
    "#         print(\"$(basis_labels[i]) \")\n",
    "#         for j in 1:2^L\n",
    "#             val = abs(matrix[i, j])\n",
    "#             if val > 0.5\n",
    "#                 print(\"  1   \")\n",
    "#             else\n",
    "#                 print(\"  0   \")\n",
    "#             end\n",
    "#         end\n",
    "#         println()\n",
    "#     end\n",
    "    \n",
    "#     return matrix\n",
    "# end\n",
    "\n",
    "# print_mpo_as_matrix(mpo, 4)"
   ]
  },
  {
   "cell_type": "code",
   "execution_count": null,
   "id": "c236af59",
   "metadata": {},
   "outputs": [
    {
     "name": "stdout",
     "output_type": "stream",
     "text": [
      "\n",
      "MPO as matrix:\n",
      "      |0000⟩  |0001⟩  |0010⟩  |0011⟩  |0100⟩  |0101⟩  |0110⟩  |0111⟩  |1000⟩  |1001⟩  |1010⟩  |1011⟩  |1100⟩  |1101⟩  |1110⟩  |1111⟩  \n",
      "|0000⟩   0     0     0     0     0     0     0     0     0     0     0     0     0     0     0     0   \n",
      "|0001⟩   0     0     0     0     0     0     0     0     0     0     0     0     0     0     0     0   \n",
      "|0010⟩   0     0     0     0     0     0     0     0     0     0     0     0     0     0     0     0   \n",
      "|0011⟩   0     0     0     0     0     0     0     0     0     0     0     0     0     0     0     0   \n",
      "|0100⟩   0     1     0     0     0     0     0     0     0     0     0     0     0     1     0     0   \n",
      "|0101⟩   0     0     1     0     0     0     0     0     0     0     0     0     0     0     1     0   \n",
      "|0110⟩   0     0     1     0     0     0     0     0     0     0     0     0     0     0     1     0   \n",
      "|0111⟩   0     1     0     0     0     0     0     0     0     0     0     0     0     1     0     0   \n",
      "|1000⟩   0     0     0     0     0     1     0     0     0     0     0     0     0     0     0     0   \n",
      "|1001⟩   0     0     0     0     0     0     1     0     1     0     0     1     0     0     0     0   \n",
      "|1010⟩   0     0     0     0     0     0     1     0     1     0     0     1     0     0     0     0   \n",
      "|1011⟩   0     0     0     0     0     1     0     0     0     0     0     0     0     0     0     0   \n",
      "|1100⟩   0     0     0     0     0     0     0     0     0     0     0     0     0     0     0     0   \n",
      "|1101⟩   0     0     0     0     0     0     0     0     0     0     0     0     0     0     0     0   \n",
      "|1110⟩   0     0     0     0     0     0     0     0     0     0     0     0     0     0     0     0   \n",
      "|1111⟩   0     0     0     0     0     0     0     0     0     0     0     0     0     0     0     0   \n"
     ]
    },
    {
     "data": {
      "text/plain": [
       "16×16 Matrix{Float64}:\n",
       " 0.0  0.0  0.0  0.0  0.0  0.0  0.0  0.0  0.0  …  0.0  0.0  0.0  0.0  0.0\n",
       " 0.0  0.0  0.0  0.0  0.0  0.0  0.0  0.0  0.0     0.0  0.0  0.0  0.0  0.0\n",
       " 0.0  0.0  0.0  0.0  0.0  0.0  0.0  0.0  0.0     0.0  0.0  0.0  0.0  0.0\n",
       " 0.0  0.0  0.0  0.0  0.0  0.0  0.0  0.0  0.0     0.0  0.0  0.0  0.0  0.0\n",
       " 0.0  1.0  0.0  0.0  0.0  0.0  0.0  0.0  0.0     0.0  0.0  1.0  0.0  0.0\n",
       " 0.0  0.0  1.0  0.0  0.0  0.0  0.0  0.0  0.0  …  0.0  0.0  0.0  1.0  0.0\n",
       " 0.0  0.0  1.0  0.0  0.0  0.0  0.0  0.0  0.0     0.0  0.0  0.0  1.0  0.0\n",
       " 0.0  1.0  0.0  0.0  0.0  0.0  0.0  0.0  0.0     0.0  0.0  1.0  0.0  0.0\n",
       " 0.0  0.0  0.0  0.0  0.0  1.0  0.0  0.0  0.0     0.0  0.0  0.0  0.0  0.0\n",
       " 0.0  0.0  0.0  0.0  0.0  0.0  1.0  0.0  1.0     1.0  0.0  0.0  0.0  0.0\n",
       " 0.0  0.0  0.0  0.0  0.0  0.0  1.0  0.0  1.0  …  1.0  0.0  0.0  0.0  0.0\n",
       " 0.0  0.0  0.0  0.0  0.0  1.0  0.0  0.0  0.0     0.0  0.0  0.0  0.0  0.0\n",
       " 0.0  0.0  0.0  0.0  0.0  0.0  0.0  0.0  0.0     0.0  0.0  0.0  0.0  0.0\n",
       " 0.0  0.0  0.0  0.0  0.0  0.0  0.0  0.0  0.0     0.0  0.0  0.0  0.0  0.0\n",
       " 0.0  0.0  0.0  0.0  0.0  0.0  0.0  0.0  0.0     0.0  0.0  0.0  0.0  0.0\n",
       " 0.0  0.0  0.0  0.0  0.0  0.0  0.0  0.0  0.0  …  0.0  0.0  0.0  0.0  0.0"
      ]
     },
     "metadata": {},
     "output_type": "display_data"
    }
   ],
   "source": [
    "# function print_mpo_as_matrix(mpo, L)\n",
    "#     println(\"\\nMPO as matrix:\")\n",
    "    \n",
    "#     # Contract the entire MPO to get the matrix representation\n",
    "#     mpo_tensor = contract(mpo)\n",
    "    \n",
    "#     # The tensor has indices (s1', s2', ..., sL', s1, s2, ..., sL)\n",
    "#     # We need to reshape it into a matrix where the first L indices are rows\n",
    "#     # and the last L indices are columns\n",
    "    \n",
    "#     # Get the tensor as an array\n",
    "#     tensor_array = Array(mpo_tensor, inds(mpo_tensor)...)\n",
    "    \n",
    "#     # Reshape to matrix: first 2^L entries are rows, next 2^L are columns\n",
    "#     matrix = reshape(tensor_array, 2^L, 2^L)\n",
    "    \n",
    "#     # Create basis labels\n",
    "#     basis_labels = []\n",
    "#     for i in 0:2^L-1\n",
    "#         bits = string(i, base=2, pad=L)\n",
    "#         push!(basis_labels, \"|$bits⟩\")\n",
    "#     end\n",
    "    \n",
    "#     # Print header\n",
    "#     print(\"      \")\n",
    "#     for j in 1:2^L\n",
    "#         print(\"$(basis_labels[j])  \")\n",
    "#     end\n",
    "#     println()\n",
    "    \n",
    "#     # Print matrix rows\n",
    "#     for i in 1:2^L\n",
    "#         print(\"$(basis_labels[i]) \")\n",
    "#         for j in 1:2^L\n",
    "#             val = abs(matrix[i, j])\n",
    "#             if val > 0.5\n",
    "#                 print(\"  1   \")\n",
    "#             else\n",
    "#                 print(\"  0   \")\n",
    "#             end\n",
    "#         end\n",
    "#         println()\n",
    "#     end\n",
    "    \n",
    "#     return matrix\n",
    "# end\n",
    "\n",
    "# print_mpo_as_matrix(mpo, 4)"
   ]
  },
  {
   "cell_type": "code",
   "execution_count": null,
   "id": "fbc3659f",
   "metadata": {},
   "outputs": [
    {
     "name": "stdout",
     "output_type": "stream",
     "text": [
      "\n",
      "MPO as matrix:\n",
      "      |0000⟩  |0001⟩  |0010⟩  |0011⟩  |0100⟩  |0101⟩  |0110⟩  |0111⟩  |1000⟩  |1001⟩  |1010⟩  |1011⟩  |1100⟩  |1101⟩  |1110⟩  |1111⟩  \n",
      "|0000⟩   0     0     0     0     0     0     0     0     0     0     0     0     0     0     0     0   \n",
      "|0001⟩   0     0     0     0     0     0     0     0     0     0     0     0     0     0     0     0   \n",
      "|0010⟩   0     0     0     0     0     0     0     0     0     0     0     0     0     0     0     0   \n",
      "|0011⟩   0     0     0     0     0     0     0     0     0     0     0     0     0     0     0     0   \n",
      "|0100⟩   0     1     0     0     0     0     0     0     0     0     0     0     0     1     0     0   \n",
      "|0101⟩   0     0     1     0     0     0     0     0     0     0     0     0     0     0     1     0   \n",
      "|0110⟩   0     0     1     0     0     0     0     0     0     0     0     0     0     0     1     0   \n",
      "|0111⟩   0     1     0     0     0     0     0     0     0     0     0     0     0     1     0     0   \n",
      "|1000⟩   0     0     0     0     0     1     0     0     0     0     0     0     0     0     0     0   \n",
      "|1001⟩   0     0     0     0     0     0     1     0     1     0     0     1     0     0     0     0   \n",
      "|1010⟩   0     0     0     0     0     0     1     0     1     0     0     1     0     0     0     0   \n",
      "|1011⟩   0     0     0     0     0     1     0     0     0     0     0     0     0     0     0     0   \n",
      "|1100⟩   0     0     0     0     0     0     0     0     0     0     0     0     0     0     0     0   \n",
      "|1101⟩   0     0     0     0     0     0     0     0     0     0     0     0     0     0     0     0   \n",
      "|1110⟩   0     0     0     0     0     0     0     0     0     0     0     0     0     0     0     0   \n",
      "|1111⟩   0     0     0     0     0     0     0     0     0     0     0     0     0     0     0     0   \n"
     ]
    },
    {
     "data": {
      "text/plain": [
       "16×16 Matrix{Float64}:\n",
       " 0.0  0.0  0.0  0.0  0.0  0.0  0.0  0.0  0.0  …  0.0  0.0  0.0  0.0  0.0\n",
       " 0.0  0.0  0.0  0.0  0.0  0.0  0.0  0.0  0.0     0.0  0.0  0.0  0.0  0.0\n",
       " 0.0  0.0  0.0  0.0  0.0  0.0  0.0  0.0  0.0     0.0  0.0  0.0  0.0  0.0\n",
       " 0.0  0.0  0.0  0.0  0.0  0.0  0.0  0.0  0.0     0.0  0.0  0.0  0.0  0.0\n",
       " 0.0  1.0  0.0  0.0  0.0  0.0  0.0  0.0  0.0     0.0  0.0  1.0  0.0  0.0\n",
       " 0.0  0.0  1.0  0.0  0.0  0.0  0.0  0.0  0.0  …  0.0  0.0  0.0  1.0  0.0\n",
       " 0.0  0.0  1.0  0.0  0.0  0.0  0.0  0.0  0.0     0.0  0.0  0.0  1.0  0.0\n",
       " 0.0  1.0  0.0  0.0  0.0  0.0  0.0  0.0  0.0     0.0  0.0  1.0  0.0  0.0\n",
       " 0.0  0.0  0.0  0.0  0.0  1.0  0.0  0.0  0.0     0.0  0.0  0.0  0.0  0.0\n",
       " 0.0  0.0  0.0  0.0  0.0  0.0  1.0  0.0  1.0     1.0  0.0  0.0  0.0  0.0\n",
       " 0.0  0.0  0.0  0.0  0.0  0.0  1.0  0.0  1.0  …  1.0  0.0  0.0  0.0  0.0\n",
       " 0.0  0.0  0.0  0.0  0.0  1.0  0.0  0.0  0.0     0.0  0.0  0.0  0.0  0.0\n",
       " 0.0  0.0  0.0  0.0  0.0  0.0  0.0  0.0  0.0     0.0  0.0  0.0  0.0  0.0\n",
       " 0.0  0.0  0.0  0.0  0.0  0.0  0.0  0.0  0.0     0.0  0.0  0.0  0.0  0.0\n",
       " 0.0  0.0  0.0  0.0  0.0  0.0  0.0  0.0  0.0     0.0  0.0  0.0  0.0  0.0\n",
       " 0.0  0.0  0.0  0.0  0.0  0.0  0.0  0.0  0.0  …  0.0  0.0  0.0  0.0  0.0"
      ]
     },
     "metadata": {},
     "output_type": "display_data"
    }
   ],
   "source": [
    "# function print_mpo_as_matrix(mpo, L)\n",
    "#     println(\"\\nMPO as matrix:\")\n",
    "    \n",
    "#     # Contract the entire MPO to get the matrix representation\n",
    "#     mpo_tensor = contract(mpo)\n",
    "    \n",
    "#     # The tensor has indices (s1', s2', ..., sL', s1, s2, ..., sL)\n",
    "#     # We need to reshape it into a matrix where the first L indices are rows\n",
    "#     # and the last L indices are columns\n",
    "    \n",
    "#     # Get the tensor as an array\n",
    "#     tensor_array = Array(mpo_tensor, inds(mpo_tensor)...)\n",
    "    \n",
    "#     # Reshape to matrix: first 2^L entries are rows, next 2^L are columns\n",
    "#     matrix = reshape(tensor_array, 2^L, 2^L)\n",
    "    \n",
    "#     # Create basis labels\n",
    "#     basis_labels = []\n",
    "#     for i in 0:2^L-1\n",
    "#         bits = string(i, base=2, pad=L)\n",
    "#         push!(basis_labels, \"|$bits⟩\")\n",
    "#     end\n",
    "    \n",
    "#     # Print header\n",
    "#     print(\"      \")\n",
    "#     for j in 1:2^L\n",
    "#         print(\"$(basis_labels[j])  \")\n",
    "#     end\n",
    "#     println()\n",
    "    \n",
    "#     # Print matrix rows\n",
    "#     for i in 1:2^L\n",
    "#         print(\"$(basis_labels[i]) \")\n",
    "#         for j in 1:2^L\n",
    "#             val = abs(matrix[i, j])\n",
    "#             if val > 0.5\n",
    "#                 print(\"  1   \")\n",
    "#             else\n",
    "#                 print(\"  0   \")\n",
    "#             end\n",
    "#         end\n",
    "#         println()\n",
    "#     end\n",
    "    \n",
    "#     return matrix\n",
    "# end\n",
    "\n",
    "# print_mpo_as_matrix(mpo, 4)"
   ]
  },
  {
   "cell_type": "code",
   "execution_count": null,
   "id": "8cd89f1a",
   "metadata": {},
   "outputs": [],
   "source": [
    "# # Create 2D identity matrices to compare against\n",
    "# expected_identity = [1.0 0.0; 0.0 1.0]\n",
    "\n",
    "# # Extract T[1,:,:,1] as a matrix\n",
    "# slice_1 = zeros(2, 2)\n",
    "# for i in 1:2, j in 1:2\n",
    "#     slice_1[i, j] = T[i1 => 1, i2 => i, i3 => j, i4 => 1]\n",
    "# end\n",
    "\n",
    "# # Extract T[2,:,:,2] as a matrix  \n",
    "# slice_2 = zeros(2, 2)\n",
    "# for i in 1:2, j in 1:2\n",
    "#     slice_2[i, j] = T[i1 => 2, i2 => i, i3 => j, i4 => 2]\n",
    "# end\n",
    "\n",
    "# println(\"T[1,:,:,1] =\")\n",
    "# display(slice_1)\n",
    "# println(\"Expected identity =\")\n",
    "# display(expected_identity)\n",
    "# println(\"Are they equal? \", slice_1 ≈ expected_identity)\n",
    "\n",
    "# println(\"\\nT[2,:,:,2] =\")\n",
    "# display(slice_2)\n",
    "# println(\"Are they equal? \", slice_2 ≈ expected_identity)"
   ]
  },
  {
   "cell_type": "code",
   "execution_count": null,
   "id": "19865e9b",
   "metadata": {},
   "outputs": [
    {
     "name": "stdout",
     "output_type": "stream",
     "text": [
      "\n",
      "MPO as matrix:\n",
      "      |0000⟩  |0001⟩  |0010⟩  |0011⟩  |0100⟩  |0101⟩  |0110⟩  |0111⟩  |1000⟩  |1001⟩  |1010⟩  |1011⟩  |1100⟩  |1101⟩  |1110⟩  |1111⟩  \n",
      "|0000⟩   0     0     0     0     0     0     0     0     0     0     0     0     0     0     0     0   \n",
      "|0001⟩   0     0     0     0     0     0     0     0     0     0     0     0     0     0     0     0   \n",
      "|0010⟩   0     0     0     0     0     0     0     0     0     0     0     0     0     0     0     0   \n",
      "|0011⟩   0     0     0     0     0     0     0     0     0     0     0     0     0     0     0     0   \n",
      "|0100⟩   0     1     0     0     0     0     0     0     0     0     0     0     0     1     0     0   \n",
      "|0101⟩   0     0     1     0     0     0     0     0     0     0     0     0     0     0     1     0   \n",
      "|0110⟩   0     0     1     0     0     0     0     0     0     0     0     0     0     0     1     0   \n",
      "|0111⟩   0     1     0     0     0     0     0     0     0     0     0     0     0     1     0     0   \n",
      "|1000⟩   0     0     0     0     0     1     0     0     0     0     0     0     0     0     0     0   \n",
      "|1001⟩   0     0     0     0     0     0     1     0     1     0     0     1     0     0     0     0   \n",
      "|1010⟩   0     0     0     0     0     0     1     0     1     0     0     1     0     0     0     0   \n",
      "|1011⟩   0     0     0     0     0     1     0     0     0     0     0     0     0     0     0     0   \n",
      "|1100⟩   0     0     0     0     0     0     0     0     0     0     0     0     0     0     0     0   \n",
      "|1101⟩   0     0     0     0     0     0     0     0     0     0     0     0     0     0     0     0   \n",
      "|1110⟩   0     0     0     0     0     0     0     0     0     0     0     0     0     0     0     0   \n",
      "|1111⟩   0     0     0     0     0     0     0     0     0     0     0     0     0     0     0     0   \n"
     ]
    },
    {
     "data": {
      "text/plain": [
       "16×16 Matrix{Float64}:\n",
       " 0.0  0.0  0.0  0.0  0.0  0.0  0.0  0.0  0.0  …  0.0  0.0  0.0  0.0  0.0\n",
       " 0.0  0.0  0.0  0.0  0.0  0.0  0.0  0.0  0.0     0.0  0.0  0.0  0.0  0.0\n",
       " 0.0  0.0  0.0  0.0  0.0  0.0  0.0  0.0  0.0     0.0  0.0  0.0  0.0  0.0\n",
       " 0.0  0.0  0.0  0.0  0.0  0.0  0.0  0.0  0.0     0.0  0.0  0.0  0.0  0.0\n",
       " 0.0  1.0  0.0  0.0  0.0  0.0  0.0  0.0  0.0     0.0  0.0  1.0  0.0  0.0\n",
       " 0.0  0.0  1.0  0.0  0.0  0.0  0.0  0.0  0.0  …  0.0  0.0  0.0  1.0  0.0\n",
       " 0.0  0.0  1.0  0.0  0.0  0.0  0.0  0.0  0.0     0.0  0.0  0.0  1.0  0.0\n",
       " 0.0  1.0  0.0  0.0  0.0  0.0  0.0  0.0  0.0     0.0  0.0  1.0  0.0  0.0\n",
       " 0.0  0.0  0.0  0.0  0.0  1.0  0.0  0.0  0.0     0.0  0.0  0.0  0.0  0.0\n",
       " 0.0  0.0  0.0  0.0  0.0  0.0  1.0  0.0  1.0     1.0  0.0  0.0  0.0  0.0\n",
       " 0.0  0.0  0.0  0.0  0.0  0.0  1.0  0.0  1.0  …  1.0  0.0  0.0  0.0  0.0\n",
       " 0.0  0.0  0.0  0.0  0.0  1.0  0.0  0.0  0.0     0.0  0.0  0.0  0.0  0.0\n",
       " 0.0  0.0  0.0  0.0  0.0  0.0  0.0  0.0  0.0     0.0  0.0  0.0  0.0  0.0\n",
       " 0.0  0.0  0.0  0.0  0.0  0.0  0.0  0.0  0.0     0.0  0.0  0.0  0.0  0.0\n",
       " 0.0  0.0  0.0  0.0  0.0  0.0  0.0  0.0  0.0     0.0  0.0  0.0  0.0  0.0\n",
       " 0.0  0.0  0.0  0.0  0.0  0.0  0.0  0.0  0.0  …  0.0  0.0  0.0  0.0  0.0"
      ]
     },
     "metadata": {},
     "output_type": "display_data"
    }
   ],
   "source": [
    "# function print_mpo_as_matrix(mpo, L)\n",
    "#     println(\"\\nMPO as matrix:\")\n",
    "    \n",
    "#     # Contract the entire MPO to get the matrix representation\n",
    "#     mpo_tensor = contract(mpo)\n",
    "    \n",
    "#     # The tensor has indices (s1', s2', ..., sL', s1, s2, ..., sL)\n",
    "#     # We need to reshape it into a matrix where the first L indices are rows\n",
    "#     # and the last L indices are columns\n",
    "    \n",
    "#     # Get the tensor as an array\n",
    "#     tensor_array = Array(mpo_tensor, inds(mpo_tensor)...)\n",
    "    \n",
    "#     # Reshape to matrix: first 2^L entries are rows, next 2^L are columns\n",
    "#     matrix = reshape(tensor_array, 2^L, 2^L)\n",
    "    \n",
    "#     # Create basis labels\n",
    "#     basis_labels = []\n",
    "#     for i in 0:2^L-1\n",
    "#         bits = string(i, base=2, pad=L)\n",
    "#         push!(basis_labels, \"|$bits⟩\")\n",
    "#     end\n",
    "    \n",
    "#     # Print header\n",
    "#     print(\"      \")\n",
    "#     for j in 1:2^L\n",
    "#         print(\"$(basis_labels[j])  \")\n",
    "#     end\n",
    "#     println()\n",
    "    \n",
    "#     # Print matrix rows\n",
    "#     for i in 1:2^L\n",
    "#         print(\"$(basis_labels[i]) \")\n",
    "#         for j in 1:2^L\n",
    "#             val = abs(matrix[i, j])\n",
    "#             if val > 0.5\n",
    "#                 print(\"  1   \")\n",
    "#             else\n",
    "#                 print(\"  0   \")\n",
    "#             end\n",
    "#         end\n",
    "#         println()\n",
    "#     end\n",
    "    \n",
    "#     return matrix\n",
    "# end\n",
    "\n",
    "# print_mpo_as_matrix(mpo, 4)"
   ]
  },
  {
   "cell_type": "code",
   "execution_count": null,
   "id": "af2af954",
   "metadata": {},
   "outputs": [],
   "source": []
  },
  {
   "cell_type": "code",
   "execution_count": null,
   "id": "61790ea6",
   "metadata": {},
   "outputs": [
    {
     "name": "stdout",
     "output_type": "stream",
     "text": [
      "ITensor ord=3\n",
      "Dim 1: (dim=2|id=465|\"Qubit,Site,n=3\")'\n",
      "Dim 2: (dim=2|id=327|\"Link,l=3\")'\n",
      "Dim 3: (dim=4|id=264|\"Link,l=2\")'\n",
      "NDTensors.Dense{Float64, Vector{Float64}}\n",
      " 2×2×4\n",
      "[:, :, 1] =\n",
      " -0.7609666965605797  -0.03853975873556803\n",
      " -0.6459528158451244   0.04679031335691027\n",
      "\n",
      "[:, :, 2] =\n",
      " -0.008436923289067422   0.9892071090545564\n",
      " -0.05878317408817679   -0.13395018538792797\n",
      "\n",
      "[:, :, 3] =\n",
      "  0.6195590000078276  -0.07169420905829468\n",
      " -0.7431507543690252  -0.24235004059738682\n",
      "\n",
      "[:, :, 4] =\n",
      "  0.19236722839505166  0.1218356383823573\n",
      " -0.16436682885127002  0.9597575069948381\n",
      "ITensor ord=3\n",
      "Dim 1: (dim=2|id=465|\"Qubit,Site,n=3\")'\n",
      "Dim 2: (dim=2|id=977|\"Link,l=3\")'\n",
      "Dim 3: (dim=4|id=984|\"Link,l=2\")'\n",
      "NDTensors.Dense{Float64, Vector{Float64}}\n",
      " 2×2×4\n",
      "[:, :, 1] =\n",
      " -0.7609666965605794  -0.03853975873556803\n",
      " -0.6459528158451244   0.04679031335691022\n",
      "\n",
      "[:, :, 2] =\n",
      " -0.008436923289067533   0.9892071090545561\n",
      " -0.05878317408817668   -0.13395018538792788\n",
      "\n",
      "[:, :, 3] =\n",
      "  0.6195590000078279  -0.07169420905829474\n",
      " -0.7431507543690252  -0.24235004059738574\n",
      "\n",
      "[:, :, 4] =\n",
      "  0.19236722839505102  0.12183563838235724\n",
      " -0.16436682885126913  0.9597575069948385\n"
     ]
    }
   ],
   "source": [
    "# # debug \n",
    "# # haining\n",
    "# using .CT: add1, power_mpo\n",
    "# add1_mpo=MPO(add1(i1,L,phy_ram,phy_list),qubit_site)\n",
    "# add1_6,add1_3=power_mpo(add1_mpo,[div(2^L,6)+1,div(2^L,3)])\n",
    "\n",
    "# # tao\n",
    "# # mpo, bond_dims, dense_mat, A_tensor = mpo_adder_1_3(L, qubit_site, ram_phy, phy_ram, phy_list, folded);\n",
    "# shift_1_3_bits, shift_1_3_amount = fraction_to_binary_shift(1, 3, L)\n",
    "# mpo = create_binary_addition_mpo(shift_1_3_bits, qubit_site, phy_ram, phy_list, ram_phy)\n",
    "\n",
    "# result_h = initial_state * add1_3\n",
    "# result_t = initial_state * mpo\n",
    "# n = 3\n",
    "# println(result_h[n])\n",
    "# println(result_t[n])"
   ]
  },
  {
   "cell_type": "code",
   "execution_count": null,
   "id": "370c2fc9",
   "metadata": {},
   "outputs": [],
   "source": []
  },
  {
   "cell_type": "code",
   "execution_count": null,
   "id": "862aa7a2",
   "metadata": {},
   "outputs": [],
   "source": [
    "# L = 6\n",
    "# folded = true\n",
    "# qubit_site, ram_phy, phy_ram, phy_list = _initialize_basis(L, ancilla, folded)\n",
    "# mpo, bond_dims, dense_mat, A_tensor = mpo_adder_1_3(L, qubit_site, ram_phy, phy_ram, phy_list, folded);\n",
    "# for n in 1:L\n",
    "#     # println(n)\n",
    "#     display(mpo_matrix_form(mpo, n))\n",
    "# end"
   ]
  }
 ],
 "metadata": {
  "kernelspec": {
   "display_name": "Julia 1.10.0",
   "language": "julia",
   "name": "julia-1.10"
  },
  "language_info": {
   "file_extension": ".jl",
   "mimetype": "application/julia",
   "name": "julia",
   "version": "1.10.0"
  }
 },
 "nbformat": 4,
 "nbformat_minor": 5
}
