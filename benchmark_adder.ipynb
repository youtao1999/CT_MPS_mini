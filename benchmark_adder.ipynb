{
 "cells": [
  {
   "cell_type": "code",
   "execution_count": 21,
   "id": "14e75b0e",
   "metadata": {},
   "outputs": [
    {
     "name": "stderr",
     "output_type": "stream",
     "text": [
      "\u001b[32m\u001b[1m  Activating\u001b[22m\u001b[39m project at `~/CT_MPS_mini/CT`\n"
     ]
    },
    {
     "name": "stdout",
     "output_type": "stream",
     "text": [
      "[1, 2, 3, 4, 5, 6, 7, 8, 9, 10, 11, 12, 13, 14, 15, 16, 17, 18, 19, 20, 21, 22, 23, 24, 25, 26, 27, 28, 29, 30, 31, 32, 33, 34, 35, 36, 37, 38, 39, 40]\n",
      "[1, 40, 2, 39, 3, 38, 4, 37, 5, 36, 6, 35, 7, 34, 8, 33, 9, 32, 10, 31, 11, 30, 12, 29, 13, 28, 14, 27, 15, 26, 16, 25, 17, 24, 18, 23, 19, 22, 20, 21]\n",
      "[1, 3, 5, 7, 9, 11, 13, 15, 17, 19, 21, 23, 25, 27, 29, 31, 33, 35, 37, 39, 40, 38, 36, 34, 32, 30, 28, 26, 24, 22, 20, 18, 16, 14, 12, 10, 8, 6, 4, 2]\n"
     ]
    },
    {
     "data": {
      "text/plain": [
       "MPS\n",
       "[1] ((dim=2|id=452|\"Qubit,Site,n=1\"), (dim=50|id=472|\"Link,l=1\"))\n",
       "[2] ((dim=50|id=472|\"Link,l=1\"), (dim=2|id=53|\"Qubit,Site,n=2\"), (dim=50|id=958|\"Link,l=2\"))\n",
       "[3] ((dim=50|id=958|\"Link,l=2\"), (dim=2|id=894|\"Qubit,Site,n=3\"), (dim=50|id=682|\"Link,l=3\"))\n",
       "[4] ((dim=50|id=682|\"Link,l=3\"), (dim=2|id=522|\"Qubit,Site,n=4\"), (dim=50|id=497|\"Link,l=4\"))\n",
       "[5] ((dim=50|id=497|\"Link,l=4\"), (dim=2|id=294|\"Qubit,Site,n=5\"), (dim=50|id=859|\"Link,l=5\"))\n",
       "[6] ((dim=50|id=859|\"Link,l=5\"), (dim=2|id=642|\"Qubit,Site,n=6\"), (dim=50|id=582|\"Link,l=6\"))\n",
       "[7] ((dim=50|id=582|\"Link,l=6\"), (dim=2|id=621|\"Qubit,Site,n=7\"), (dim=50|id=209|\"Link,l=7\"))\n",
       "[8] ((dim=50|id=209|\"Link,l=7\"), (dim=2|id=220|\"Qubit,Site,n=8\"), (dim=50|id=167|\"Link,l=8\"))\n",
       "[9] ((dim=50|id=167|\"Link,l=8\"), (dim=2|id=942|\"Qubit,Site,n=9\"), (dim=50|id=357|\"Link,l=9\"))\n",
       "[10] ((dim=50|id=357|\"Link,l=9\"), (dim=2|id=741|\"Qubit,Site,n=10\"), (dim=50|id=124|\"Link,l=10\"))\n",
       "[11] ((dim=50|id=124|\"Link,l=10\"), (dim=2|id=985|\"Qubit,Site,n=11\"), (dim=50|id=475|\"Link,l=11\"))\n",
       "[12] ((dim=50|id=475|\"Link,l=11\"), (dim=2|id=556|\"Qubit,Site,n=12\"), (dim=50|id=518|\"Link,l=12\"))\n",
       "[13] ((dim=50|id=518|\"Link,l=12\"), (dim=2|id=547|\"Qubit,Site,n=13\"), (dim=50|id=790|\"Link,l=13\"))\n",
       "[14] ((dim=50|id=790|\"Link,l=13\"), (dim=2|id=825|\"Qubit,Site,n=14\"), (dim=50|id=188|\"Link,l=14\"))\n",
       "[15] ((dim=50|id=188|\"Link,l=14\"), (dim=2|id=883|\"Qubit,Site,n=15\"), (dim=50|id=348|\"Link,l=15\"))\n",
       "[16] ((dim=50|id=348|\"Link,l=15\"), (dim=2|id=404|\"Qubit,Site,n=16\"), (dim=50|id=205|\"Link,l=16\"))\n",
       "[17] ((dim=50|id=205|\"Link,l=16\"), (dim=2|id=859|\"Qubit,Site,n=17\"), (dim=50|id=755|\"Link,l=17\"))\n",
       "[18] ((dim=50|id=755|\"Link,l=17\"), (dim=2|id=494|\"Qubit,Site,n=18\"), (dim=50|id=570|\"Link,l=18\"))\n",
       "[19] ((dim=50|id=570|\"Link,l=18\"), (dim=2|id=163|\"Qubit,Site,n=19\"), (dim=50|id=295|\"Link,l=19\"))\n",
       "[20] ((dim=50|id=295|\"Link,l=19\"), (dim=2|id=926|\"Qubit,Site,n=20\"), (dim=50|id=347|\"Link,l=20\"))\n",
       "[21] ((dim=50|id=347|\"Link,l=20\"), (dim=2|id=941|\"Qubit,Site,n=21\"), (dim=50|id=545|\"Link,l=21\"))\n",
       "[22] ((dim=50|id=545|\"Link,l=21\"), (dim=2|id=870|\"Qubit,Site,n=22\"), (dim=50|id=132|\"Link,l=22\"))\n",
       "[23] ((dim=50|id=132|\"Link,l=22\"), (dim=2|id=107|\"Qubit,Site,n=23\"), (dim=50|id=789|\"Link,l=23\"))\n",
       "[24] ((dim=50|id=789|\"Link,l=23\"), (dim=2|id=166|\"Qubit,Site,n=24\"), (dim=50|id=144|\"Link,l=24\"))\n",
       "[25] ((dim=50|id=144|\"Link,l=24\"), (dim=2|id=306|\"Qubit,Site,n=25\"), (dim=50|id=787|\"Link,l=25\"))\n",
       "[26] ((dim=50|id=787|\"Link,l=25\"), (dim=2|id=907|\"Qubit,Site,n=26\"), (dim=50|id=898|\"Link,l=26\"))\n",
       "[27] ((dim=50|id=898|\"Link,l=26\"), (dim=2|id=842|\"Qubit,Site,n=27\"), (dim=50|id=252|\"Link,l=27\"))\n",
       "[28] ((dim=50|id=252|\"Link,l=27\"), (dim=2|id=28|\"Qubit,Site,n=28\"), (dim=50|id=492|\"Link,l=28\"))\n",
       "[29] ((dim=50|id=492|\"Link,l=28\"), (dim=2|id=540|\"Qubit,Site,n=29\"), (dim=50|id=858|\"Link,l=29\"))\n",
       "[30] ((dim=50|id=858|\"Link,l=29\"), (dim=2|id=856|\"Qubit,Site,n=30\"), (dim=50|id=210|\"Link,l=30\"))\n",
       "[31] ((dim=50|id=210|\"Link,l=30\"), (dim=2|id=537|\"Qubit,Site,n=31\"), (dim=50|id=859|\"Link,l=31\"))\n",
       "[32] ((dim=50|id=859|\"Link,l=31\"), (dim=2|id=959|\"Qubit,Site,n=32\"), (dim=50|id=600|\"Link,l=32\"))\n",
       "[33] ((dim=50|id=600|\"Link,l=32\"), (dim=2|id=390|\"Qubit,Site,n=33\"), (dim=50|id=221|\"Link,l=33\"))\n",
       "[34] ((dim=50|id=221|\"Link,l=33\"), (dim=2|id=180|\"Qubit,Site,n=34\"), (dim=50|id=512|\"Link,l=34\"))\n",
       "[35] ((dim=50|id=512|\"Link,l=34\"), (dim=2|id=989|\"Qubit,Site,n=35\"), (dim=32|id=2|\"Link,l=35\"))\n",
       "[36] ((dim=32|id=2|\"Link,l=35\"), (dim=2|id=728|\"Qubit,Site,n=36\"), (dim=16|id=537|\"Link,l=36\"))\n",
       "[37] ((dim=16|id=537|\"Link,l=36\"), (dim=2|id=983|\"Qubit,Site,n=37\"), (dim=8|id=894|\"Link,l=37\"))\n",
       "[38] ((dim=8|id=894|\"Link,l=37\"), (dim=2|id=337|\"Qubit,Site,n=38\"), (dim=4|id=280|\"Link,l=38\"))\n",
       "[39] ((dim=4|id=280|\"Link,l=38\"), (dim=2|id=52|\"Qubit,Site,n=39\"), (dim=2|id=351|\"Link,l=39\"))\n",
       "[40] ((dim=2|id=351|\"Link,l=39\"), (dim=2|id=330|\"Qubit,Site,n=40\"))\n"
      ]
     },
     "execution_count": 21,
     "metadata": {},
     "output_type": "execute_result"
    }
   ],
   "source": [
    "using Pkg\n",
    "Pkg.activate(\"CT\")\n",
    "using CT\n",
    "include(\"global_adder_passthrough.jl\")\n",
    "\n",
    "# benchmark adder_MPO\n",
    "using ITensors\n",
    "# initialize random state\n",
    "using .CT: _initialize_basis, _initialize_vector, P_MPO, XI_MPO, I_MPO, adder_MPO, add1, power_mpo\n",
    "using Random\n",
    "\n",
    "L = 40\n",
    "ancilla = 0\n",
    "folded = true\n",
    "seed_vec = 123457\n",
    "xj = Set([1//3, 2//3])\n",
    "i1 = 1\n",
    "p_ctrl = 1.0\n",
    "p_proj = 0.0\n",
    "_maxdim = 50\n",
    "_cutoff = 1e-15\n",
    "seed = 123457\n",
    "x0 = nothing\n",
    "qubit_site, ram_phy, phy_ram, phy_list = _initialize_basis(L, ancilla, folded)\n",
    "println(phy_list)\n",
    "println(ram_phy)\n",
    "println(phy_ram)\n",
    "rng = MersenneTwister(seed_vec)\n",
    "rng_vec = seed_vec === nothing ? rng : MersenneTwister(seed_vec)\n",
    "# initial_state = _initialize_vector(L, ancilla, x0, folded, qubit_site, ram_phy, phy_ram, phy_list, rng_vec, _cutoff, _maxdim);\n",
    "# println(initial_state)\n",
    "shift_1_3_bits, shift_1_3_amount = fraction_to_binary_shift(1, 3, L)\n",
    "# initial_state = productMPS(qubit_site, [1,2,1,2,2,1,2,1,2,1,2,1,1,1,2,2])\n",
    "initial_state = _initialize_vector(L, ancilla, x0, folded, qubit_site, ram_phy, phy_ram, phy_list, rng_vec, _cutoff, _maxdim);\n",
    "\n",
    "# initialize haining adder mpo\n",
    "add1_mpo=MPO(add1(i1,L,phy_ram,phy_list),qubit_site)\n",
    "add1_6,add1_3=power_mpo(add1_mpo,[div(2^L,6)+1,div(2^L,3)])\n",
    "\n",
    "# initialize tao adder mpo\n",
    "carry_links, T_vec, id_vec, gate_vec = initialize_links(L, qubit_site, shift_1_3_bits, ram_phy);\n",
    "initial_state_1 = copy(initial_state)\n",
    "initial_state_2 = copy(initial_state)"
   ]
  },
  {
   "cell_type": "code",
   "execution_count": 22,
   "id": "d9ececa7",
   "metadata": {},
   "outputs": [],
   "source": [
    "using Profile"
   ]
  },
  {
   "cell_type": "code",
   "execution_count": 23,
   "id": "c2f42df6",
   "metadata": {},
   "outputs": [
    {
     "name": "stdout",
     "output_type": "stream",
     "text": [
      " 14.305471 seconds (104.12 k allocations: 4.736 GiB, 1.35% gc time, 1.79% compilation time)\n"
     ]
    },
    {
     "data": {
      "text/plain": [
       "MPS\n",
       "[1] ((dim=2|id=452|\"Qubit,Site,n=1\"), (dim=4|id=116|\"Link,l=1\"))\n",
       "[2] ((dim=2|id=53|\"Qubit,Site,n=2\"), (dim=4|id=116|\"Link,l=1\"), (dim=16|id=110|\"Link,l=2\"))\n",
       "[3] ((dim=16|id=110|\"Link,l=2\"), (dim=2|id=894|\"Qubit,Site,n=3\"), (dim=32|id=357|\"Link,l=3\"))\n",
       "[4] ((dim=32|id=357|\"Link,l=3\"), (dim=2|id=522|\"Qubit,Site,n=4\"), (dim=64|id=445|\"Link,l=4\"))\n",
       "[5] ((dim=64|id=445|\"Link,l=4\"), (dim=2|id=294|\"Qubit,Site,n=5\"), (dim=128|id=235|\"Link,l=5\"))\n",
       "[6] ((dim=128|id=235|\"Link,l=5\"), (dim=2|id=642|\"Qubit,Site,n=6\"), (dim=256|id=445|\"Link,l=6\"))\n",
       "[7] ((dim=256|id=445|\"Link,l=6\"), (dim=2|id=621|\"Qubit,Site,n=7\"), (dim=512|id=571|\"Link,l=7\"))\n",
       "[8] ((dim=512|id=571|\"Link,l=7\"), (dim=2|id=220|\"Qubit,Site,n=8\"), (dim=800|id=714|\"Link,l=8\"))\n",
       "[9] ((dim=800|id=714|\"Link,l=8\"), (dim=2|id=942|\"Qubit,Site,n=9\"), (dim=800|id=525|\"Link,l=9\"))\n",
       "[10] ((dim=800|id=525|\"Link,l=9\"), (dim=2|id=741|\"Qubit,Site,n=10\"), (dim=800|id=491|\"Link,l=10\"))\n",
       "[11] ((dim=800|id=491|\"Link,l=10\"), (dim=2|id=985|\"Qubit,Site,n=11\"), (dim=800|id=834|\"Link,l=11\"))\n",
       "[12] ((dim=800|id=834|\"Link,l=11\"), (dim=2|id=556|\"Qubit,Site,n=12\"), (dim=800|id=976|\"Link,l=12\"))\n",
       "[13] ((dim=800|id=976|\"Link,l=12\"), (dim=2|id=547|\"Qubit,Site,n=13\"), (dim=800|id=737|\"Link,l=13\"))\n",
       "[14] ((dim=800|id=737|\"Link,l=13\"), (dim=2|id=825|\"Qubit,Site,n=14\"), (dim=800|id=637|\"Link,l=14\"))\n",
       "[15] ((dim=800|id=637|\"Link,l=14\"), (dim=2|id=883|\"Qubit,Site,n=15\"), (dim=800|id=273|\"Link,l=15\"))\n",
       "[16] ((dim=800|id=273|\"Link,l=15\"), (dim=2|id=404|\"Qubit,Site,n=16\"), (dim=800|id=124|\"Link,l=16\"))\n",
       "[17] ((dim=800|id=124|\"Link,l=16\"), (dim=2|id=859|\"Qubit,Site,n=17\"), (dim=800|id=594|\"Link,l=17\"))\n",
       "[18] ((dim=800|id=594|\"Link,l=17\"), (dim=2|id=494|\"Qubit,Site,n=18\"), (dim=800|id=583|\"Link,l=18\"))\n",
       "[19] ((dim=800|id=583|\"Link,l=18\"), (dim=2|id=163|\"Qubit,Site,n=19\"), (dim=800|id=104|\"Link,l=19\"))\n",
       "[20] ((dim=800|id=104|\"Link,l=19\"), (dim=2|id=926|\"Qubit,Site,n=20\"), (dim=800|id=881|\"Link,l=20\"))\n",
       "[21] ((dim=800|id=881|\"Link,l=20\"), (dim=2|id=941|\"Qubit,Site,n=21\"), (dim=800|id=956|\"Link,l=21\"))\n",
       "[22] ((dim=800|id=956|\"Link,l=21\"), (dim=2|id=870|\"Qubit,Site,n=22\"), (dim=800|id=461|\"Link,l=22\"))\n",
       "[23] ((dim=800|id=461|\"Link,l=22\"), (dim=2|id=107|\"Qubit,Site,n=23\"), (dim=800|id=634|\"Link,l=23\"))\n",
       "[24] ((dim=800|id=634|\"Link,l=23\"), (dim=2|id=166|\"Qubit,Site,n=24\"), (dim=800|id=964|\"Link,l=24\"))\n",
       "[25] ((dim=800|id=964|\"Link,l=24\"), (dim=2|id=306|\"Qubit,Site,n=25\"), (dim=800|id=700|\"Link,l=25\"))\n",
       "[26] ((dim=800|id=700|\"Link,l=25\"), (dim=2|id=907|\"Qubit,Site,n=26\"), (dim=800|id=889|\"Link,l=26\"))\n",
       "[27] ((dim=800|id=889|\"Link,l=26\"), (dim=2|id=842|\"Qubit,Site,n=27\"), (dim=800|id=182|\"Link,l=27\"))\n",
       "[28] ((dim=800|id=182|\"Link,l=27\"), (dim=2|id=28|\"Qubit,Site,n=28\"), (dim=800|id=828|\"Link,l=28\"))\n",
       "[29] ((dim=800|id=828|\"Link,l=28\"), (dim=2|id=540|\"Qubit,Site,n=29\"), (dim=800|id=313|\"Link,l=29\"))\n",
       "[30] ((dim=800|id=313|\"Link,l=29\"), (dim=2|id=856|\"Qubit,Site,n=30\"), (dim=800|id=887|\"Link,l=30\"))\n",
       "[31] ((dim=800|id=887|\"Link,l=30\"), (dim=2|id=537|\"Qubit,Site,n=31\"), (dim=800|id=68|\"Link,l=31\"))\n",
       "[32] ((dim=800|id=68|\"Link,l=31\"), (dim=2|id=959|\"Qubit,Site,n=32\"), (dim=800|id=840|\"Link,l=32\"))\n",
       "[33] ((dim=800|id=840|\"Link,l=32\"), (dim=2|id=390|\"Qubit,Site,n=33\"), (dim=512|id=951|\"Link,l=33\"))\n",
       "[34] ((dim=512|id=951|\"Link,l=33\"), (dim=2|id=180|\"Qubit,Site,n=34\"), (dim=256|id=80|\"Link,l=34\"))\n",
       "[35] ((dim=256|id=80|\"Link,l=34\"), (dim=2|id=989|\"Qubit,Site,n=35\"), (dim=128|id=453|\"Link,l=35\"))\n",
       "[36] ((dim=128|id=453|\"Link,l=35\"), (dim=2|id=728|\"Qubit,Site,n=36\"), (dim=64|id=794|\"Link,l=36\"))\n",
       "[37] ((dim=64|id=794|\"Link,l=36\"), (dim=2|id=983|\"Qubit,Site,n=37\"), (dim=32|id=868|\"Link,l=37\"))\n",
       "[38] ((dim=32|id=868|\"Link,l=37\"), (dim=2|id=337|\"Qubit,Site,n=38\"), (dim=16|id=119|\"Link,l=38\"))\n",
       "[39] ((dim=16|id=119|\"Link,l=38\"), (dim=2|id=52|\"Qubit,Site,n=39\"), (dim=2|id=530|\"Link,l=39\"))\n",
       "[40] ((dim=2|id=530|\"Link,l=39\"), (dim=2|id=330|\"Qubit,Site,n=40\")')\n"
      ]
     },
     "execution_count": 23,
     "metadata": {},
     "output_type": "execute_result"
    }
   ],
   "source": [
    "# ProfileView removed due to glibc compatibility issues\n",
    "# Use built-in Julia profiling instead:\n",
    "@time global_adder(initial_state_2, carry_links, T_vec, id_vec, gate_vec, qubit_site, shift_1_3_bits, ram_phy)\n"
   ]
  },
  {
   "cell_type": "code",
   "execution_count": 24,
   "id": "398a2828",
   "metadata": {},
   "outputs": [],
   "source": [
    "# Profile.print(format=:flat, sortedby=:count)\n",
    "\n",
    "# # For now, just run the function without profiling:\n",
    "# # global_adder(initial_state_2, carry_links, T_vec, id_vec, gate_vec, qubit_site, shift_1_3_bits, ram_phy)"
   ]
  }
 ],
 "metadata": {
  "kernelspec": {
   "display_name": "Julia 1.10.0",
   "language": "julia",
   "name": "julia-1.10"
  },
  "language_info": {
   "file_extension": ".jl",
   "mimetype": "application/julia",
   "name": "julia",
   "version": "1.10.0"
  }
 },
 "nbformat": 4,
 "nbformat_minor": 5
}
