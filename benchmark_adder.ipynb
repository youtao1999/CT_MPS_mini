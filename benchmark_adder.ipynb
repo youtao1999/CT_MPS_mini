{
 "cells": [
  {
   "cell_type": "code",
   "execution_count": null,
   "id": "da08f45f",
   "metadata": {},
   "outputs": [
    {
     "name": "stderr",
     "output_type": "stream",
     "text": [
      "\u001b[32m\u001b[1m  Activating\u001b[22m\u001b[39m project at `~/code/CT_MPS_mini/CT`\n"
     ]
    }
   ],
   "source": [
    "using Pkg\n",
    "Pkg.activate(\"CT\")\n",
    "using CT\n",
    "# benchmark adder_MPO\n",
    "using ITensors\n",
    "# initialize random state\n",
    "using .CT: CT_MPS\n",
    "using Random\n",
    "using ProgressMeter\n",
    "\n",
    "L = 16\n",
    "ancilla = 0\n",
    "folded = true\n",
    "seed_vec = 123457\n",
    "xj = Set([1//3, 2//3])\n",
    "numerator = 1\n",
    "denominator = 6\n",
    "_maxdim = 2^(div(L,2))\n",
    "_maxdim0 = 50\n",
    "_eps = 1e-10\n",
    "seed = 123457\n",
    "x0 = nothing\n",
    "qubit_site, ram_phy, phy_ram, phy_list = _initialize_basis(L, ancilla, folded)\n",
    "rng = MersenneTwister(seed_vec)\n",
    "rng_vec = seed_vec === nothing ? rng : MersenneTwister(seed_vec)"
   ]
  },
  {
   "cell_type": "markdown",
   "id": "29963e30",
   "metadata": {},
   "source": [
    "solution one: label the carry indices according to their ram positions and left and right; problem: the boundary tensors are named differently at the turning point"
   ]
  },
  {
   "cell_type": "markdown",
   "id": "234db24e",
   "metadata": {},
   "source": [
    "solution two: name the carry links according to their position without specifying the left or right; this automatically keeps tracks of the connector"
   ]
  },
  {
   "cell_type": "code",
   "execution_count": 75,
   "id": "45906b80",
   "metadata": {},
   "outputs": [
    {
     "data": {
      "text/plain": [
       "7-element Vector{Any}:\n",
       " (4, 6)\n",
       " (6, 8)\n",
       " (8, 7)\n",
       " (7, 5)\n",
       " (5, 3)\n",
       " (3, 1)\n",
       " (1, 2)"
      ]
     },
     "metadata": {},
     "output_type": "display_data"
    }
   ],
   "source": [
    "i1 = 8\n",
    "numerator = 1\n",
    "denominator = 3\n",
    "L = 8\n",
    "ancilla = 0\n",
    "folded = true\n",
    "shift_bits, shift_amount = fraction_to_binary_shift(numerator, denominator, L)\n",
    "qubit_site, ram_phy, phy_ram, phy_list = _initialize_basis(L, ancilla, folded)\n",
    "pairing_fixed_i1 = conn_pairs(L)[i1]\n"
   ]
  },
  {
   "cell_type": "code",
   "execution_count": 76,
   "id": "fbaec12e",
   "metadata": {},
   "outputs": [
    {
     "data": {
      "text/plain": [
       "7-element Vector{Any}:\n",
       " (4, 6)\n",
       " (6, 8)\n",
       " (8, 7)\n",
       " (7, 5)\n",
       " (5, 3)\n",
       " (3, 1)\n",
       " (1, 2)"
      ]
     },
     "metadata": {},
     "output_type": "display_data"
    }
   ],
   "source": [
    "pairing_fixed_i1"
   ]
  },
  {
   "cell_type": "code",
   "execution_count": 77,
   "id": "20078191",
   "metadata": {},
   "outputs": [],
   "source": [
    "# initialize the gate vector\n",
    "\n",
    "gate_vec = initialize_gate_vec(pairing_fixed_i1, shift_bits, qubit_site, L)\n",
    "initialize_gate_vec(pairing_fixed_i1, shift_bits, qubit_site, L)\n",
    "\n",
    "# sort the gate vector according to the qubit site number\n",
    "gate_sites = [qubit_site_number(gate) for gate in gate_vec]\n",
    "gate_vec_sorted = gate_vec[sortperm(gate_sites)];\n",
    "gate_vec_collapsed = collapse_gate_vec(gate_vec_sorted);\n",
    "\n",
    "# create the mpo\n",
    "adder_mpo = create_mpo(gate_vec_collapsed);"
   ]
  },
  {
   "cell_type": "code",
   "execution_count": 78,
   "id": "5183bedc",
   "metadata": {},
   "outputs": [
    {
     "data": {
      "text/plain": [
       "MPO\n",
       "[1] ((dim=2|id=489|\"Qubit,Site,n=1\"), (dim=2|id=489|\"Qubit,Site,n=1\")', (dim=3|id=490|\"Link,l=1\"))\n",
       "[2] ((dim=3|id=490|\"Link,l=1\"), (dim=2|id=461|\"Qubit,Site,n=2\"), (dim=2|id=461|\"Qubit,Site,n=2\")', (dim=2|id=258|\"Link,l=2\"))\n",
       "[3] ((dim=2|id=258|\"Link,l=2\"), (dim=2|id=518|\"Qubit,Site,n=3\"), (dim=2|id=518|\"Qubit,Site,n=3\")', (dim=2|id=761|\"Link,l=3\"))\n",
       "[4] ((dim=2|id=761|\"Link,l=3\"), (dim=2|id=779|\"Qubit,Site,n=4\"), (dim=2|id=779|\"Qubit,Site,n=4\")', (dim=4|id=505|\"Link,l=4\"))\n",
       "[5] ((dim=4|id=505|\"Link,l=4\"), (dim=2|id=943|\"Qubit,Site,n=5\"), (dim=2|id=943|\"Qubit,Site,n=5\")', (dim=4|id=444|\"Link,l=5\"))\n",
       "[6] ((dim=4|id=444|\"Link,l=5\"), (dim=2|id=392|\"Qubit,Site,n=6\"), (dim=2|id=392|\"Qubit,Site,n=6\")', (dim=4|id=701|\"Link,l=6\"))\n",
       "[7] ((dim=4|id=701|\"Link,l=6\"), (dim=2|id=694|\"Qubit,Site,n=7\"), (dim=2|id=694|\"Qubit,Site,n=7\")', (dim=3|id=220|\"Link,l=7\"))\n",
       "[8] ((dim=3|id=220|\"Link,l=7\"), (dim=2|id=342|\"Qubit,Site,n=8\"), (dim=2|id=342|\"Qubit,Site,n=8\")')\n"
      ]
     },
     "metadata": {},
     "output_type": "display_data"
    }
   ],
   "source": [
    "adder_mpo"
   ]
  }
 ],
 "metadata": {
  "kernelspec": {
   "display_name": "Julia 1.9.3",
   "language": "julia",
   "name": "julia-1.9"
  },
  "language_info": {
   "file_extension": ".jl",
   "mimetype": "application/julia",
   "name": "julia",
   "version": "1.9.3"
  }
 },
 "nbformat": 4,
 "nbformat_minor": 5
}
