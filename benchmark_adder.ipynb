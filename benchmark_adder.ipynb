{
 "cells": [
  {
   "cell_type": "code",
   "execution_count": 124,
   "id": "da08f45f",
   "metadata": {},
   "outputs": [
    {
     "name": "stderr",
     "output_type": "stream",
     "text": [
      "\u001b[32m\u001b[1m  Activating\u001b[22m\u001b[39m project at `~/CT_MPS_mini/CT`\n"
     ]
    }
   ],
   "source": [
    "using Pkg\n",
    "Pkg.activate(\"CT\")\n",
    "using CT\n",
    "include(\"global_adder_passthrough.jl\")\n",
    "\n",
    "# benchmark adder_MPO\n",
    "using ITensors\n",
    "# initialize random state\n",
    "using .CT: _initialize_basis, _initialize_vector, P_MPO, XI_MPO, I_MPO, adder_MPO, add1, power_mpo\n",
    "using Random\n"
   ]
  },
  {
   "cell_type": "code",
   "execution_count": 125,
   "id": "b9518915",
   "metadata": {},
   "outputs": [],
   "source": [
    "# Generate list of right translations of 1:L more efficiently\n",
    "# Using array comprehension and avoiding modulo operations where possible\n",
    "translations = [circshift(1:L, shift) for shift in 0:L-1]\n",
    "\n",
    "function fold(translation, ancilla::Int)\n",
    "    if ancilla ==0\n",
    "        ram_phy = [i for pairs in zip(translation[1:(L÷2)], reverse(translation[(L÷2+1):L])) for i in pairs]\n",
    "    elseif ancilla ==1\n",
    "        ram_phy = vcat(L+1,[i for pairs in zip(translations[1:(L÷2)], reverse(translations[(L÷2+1):L])) for i in pairs])\n",
    "    elseif ancilla ==2\n",
    "        error(\"Not implemented yet\")\n",
    "    end\n",
    "\n",
    "    # phy_ram[physical] = actual in ram\n",
    "    phy_ram = fill(0, L+ancilla)\n",
    "    for (ram, phy) in enumerate(ram_phy)\n",
    "        phy_ram[phy] = ram\n",
    "    end\n",
    "\n",
    "    return ram_phy, phy_ram\n",
    "end\n",
    "\n",
    "conn_pairs = Dict()\n",
    "for (i1, translation) in enumerate(translations)\n",
    "    # println(fold(translation, 0))\n",
    "    ram_phy, phy_ram = fold(translation, 0)\n",
    "    # println(ram_phy)\n",
    "    pairs = []\n",
    "    for i in reverse(collect(1:L)[2:end])\n",
    "        current_pos = findfirst(x -> x == i, ram_phy)\n",
    "        next_pos = findfirst(x -> x == (i-1)%L, ram_phy)\n",
    "        pair = (current_pos, next_pos)\n",
    "        push!(pairs, pair)\n",
    "        # println(i, \" is in position $currest_pos carry into $(i-1) which is in position $next_pos\")\n",
    "    end\n",
    "\n",
    "    conn_pairs[i1] = pairs\n",
    "end\n"
   ]
  },
  {
   "cell_type": "code",
   "execution_count": 126,
   "id": "10706323",
   "metadata": {},
   "outputs": [
    {
     "data": {
      "text/plain": [
       "(Index{Int64}[(dim=2|id=86|\"Qubit,Site,n=1\"), (dim=2|id=902|\"Qubit,Site,n=2\"), (dim=2|id=319|\"Qubit,Site,n=3\"), (dim=2|id=250|\"Qubit,Site,n=4\"), (dim=2|id=204|\"Qubit,Site,n=5\"), (dim=2|id=376|\"Qubit,Site,n=6\"), (dim=2|id=198|\"Qubit,Site,n=7\"), (dim=2|id=558|\"Qubit,Site,n=8\")], [1, 8, 2, 7, 3, 6, 4, 5], [1, 3, 5, 7, 8, 6, 4, 2], [1, 2, 3, 4, 5, 6, 7, 8])"
      ]
     },
     "execution_count": 126,
     "metadata": {},
     "output_type": "execute_result"
    }
   ],
   "source": [
    "L = 8\n",
    "i1 = 1\n",
    "ancilla = 0\n",
    "folded = true\n",
    "shift_1_3_bits, shift_1_3_amount = fraction_to_binary_shift(1, 3, L)\n",
    "pairing = conn_pairs[i1]\n",
    "qubit_site, ram_phy, phy_ram, phy_list = _initialize_basis(L, ancilla, folded)"
   ]
  },
  {
   "cell_type": "code",
   "execution_count": 127,
   "id": "8748b5b1",
   "metadata": {},
   "outputs": [
    {
     "data": {
      "text/plain": [
       "7-element Vector{Any}:\n",
       " (2, 4)\n",
       " (4, 6)\n",
       " (6, 8)\n",
       " (8, 7)\n",
       " (7, 5)\n",
       " (5, 3)\n",
       " (3, 1)"
      ]
     },
     "execution_count": 127,
     "metadata": {},
     "output_type": "execute_result"
    }
   ],
   "source": [
    "pairing\n",
    "# each tuple in pairing (x,y) means that the carry out leg from T_tensor in ram position x is connected to the carry in leg of T_tensor in ram position y\n"
   ]
  },
  {
   "cell_type": "code",
   "execution_count": 128,
   "id": "a835f954",
   "metadata": {},
   "outputs": [],
   "source": [
    "# need to initialize the gate_vec's according to the pairing first\n",
    "carry_links = [Index(2, \"Carry,c=$(ram_pos-1)\") for ram_pos in 1:L+1]\n",
    "gate_vec = []\n",
    "for pair in pairing \n",
    "    start_pos = pair[1]\n",
    "    end_pos = pair[2]\n",
    "    if end_pos - start_pos == 1\n",
    "        # forward one \n",
    "        T_tensor = create_addition_tensor_with_carry(shift_1_3_bits[start_pos], qubit_site[start_pos], prime(qubit_site[start_pos]), carry_links[start_pos], carry_links[end_pos])\n",
    "        push!(gate_vec, T_tensor)\n",
    "        continue\n",
    "    elseif end_pos - start_pos == 2\n",
    "        mid_pos = (start_pos + end_pos) ÷ 2\n",
    "        # next nearest neighbor case, need to create two qubit gates\n",
    "        T_tensor = create_addition_tensor_with_carry(shift_1_3_bits[start_pos], qubit_site[start_pos], prime(qubit_site[start_pos]), carry_links[start_pos], carry_links[mid_pos])\n",
    "        id_tensor = create_identity_tensor_4d(qubit_site[mid_pos], prime(qubit_site[mid_pos]), carry_links[mid_pos], carry_links[end_pos])\n",
    "        gate = T_tensor * id_tensor\n",
    "        push!(gate_vec, gate)\n",
    "    elseif end_pos - start_pos == -2\n",
    "        mid_pos = (start_pos + end_pos) ÷ 2\n",
    "        # next nearest neighbor case, need to create two qubit gates\n",
    "        T_tensor = create_addition_tensor_with_carry(shift_1_3_bits[start_pos], qubit_site[start_pos], prime(qubit_site[start_pos]), carry_links[start_pos], carry_links[mid_pos])\n",
    "        id_tensor = create_identity_tensor_4d(qubit_site[mid_pos], prime(qubit_site[mid_pos]), carry_links[mid_pos], carry_links[end_pos])\n",
    "        gate = T_tensor * id_tensor\n",
    "        push!(gate_vec, gate)\n",
    "    elseif end_pos - start_pos == -1\n",
    "        # backward one\n",
    "        T_tensor = create_addition_tensor_with_carry(shift_1_3_bits[start_pos], qubit_site[start_pos], prime(qubit_site[start_pos]), carry_links[start_pos], carry_links[end_pos])\n",
    "        push!(gate_vec, T_tensor)\n",
    "        continue\n",
    "    else\n",
    "        # more than next nearest neighbor, not implemented yet\n",
    "        error(\"Not implemented yet\")\n",
    "    end\n",
    "end\n",
    "\n",
    "# msb T tensor also needs to be included\n",
    "lsb = pairing[begin][1];\n",
    "msb_pos = pairing[end][2];\n",
    "msb_plus_one = (pairing[end][1] + pairing[end][2]) ÷ 2;\n",
    "msb_T_tensor = create_addition_tensor_with_carry(shift_1_3_bits[msb_pos], qubit_site[msb_pos], prime(qubit_site[msb_pos]), carry_links[msb_pos], carry_links[msb_plus_one]);\n",
    "push!(gate_vec, msb_T_tensor);"
   ]
  },
  {
   "cell_type": "code",
   "execution_count": 129,
   "id": "76bf956d",
   "metadata": {},
   "outputs": [
    {
     "data": {
      "text/plain": [
       "1.0"
      ]
     },
     "execution_count": 129,
     "metadata": {},
     "output_type": "execute_result"
    }
   ],
   "source": [
    "# initialize the boundary condition tensor\n",
    "lsb_tensor = onehot(carry_links[2]=>1)\n",
    "# discard the carry out of the msb tensor\n",
    "msb_tensor = ITensor(carry_links[1])\n",
    "msb_tensor[carry_links[1]=>1] = 1.0\n",
    "msb_tensor[carry_links[1]=>2] = 1.0"
   ]
  },
  {
   "cell_type": "markdown",
   "id": "c05ebbae",
   "metadata": {},
   "source": [
    "Actually i think maybe i dont need the id_tensor_4d at all; i can direct contract them according to the pairing sequence"
   ]
  },
  {
   "cell_type": "code",
   "execution_count": null,
   "id": "53c955f0",
   "metadata": {},
   "outputs": [],
   "source": [
    "# fixing the boundary condition tensors\n",
    "for igate in 1:length(gate_vec)\n",
    "    gate = gate_vec[igate]\n",
    "    if carry_links[2] in inds(gate)\n",
    "        gate_vec[igate] = gate * msb_tensor\n",
    "    end\n",
    "    if carry_links[1] in inds(gate)\n",
    "        gate_vec[igate] = gate * lsb_tensor\n",
    "    end\n",
    "end\n"
   ]
  },
  {
   "cell_type": "code",
   "execution_count": 131,
   "id": "48e38474",
   "metadata": {},
   "outputs": [
    {
     "name": "stdout",
     "output_type": "stream",
     "text": [
      "((dim=2|id=902|\"Qubit,Site,n=2\"), (dim=2|id=902|\"Qubit,Site,n=2\")', (dim=2|id=2|\"Carry,c=1\"), (dim=2|id=78|\"Carry,c=3\"), (dim=2|id=319|\"Qubit,Site,n=3\"), (dim=2|id=319|\"Qubit,Site,n=3\")', (dim=2|id=959|\"Carry,c=0\"))\n",
      "((dim=2|id=250|\"Qubit,Site,n=4\"), (dim=2|id=250|\"Qubit,Site,n=4\")', (dim=2|id=78|\"Carry,c=3\"), (dim=2|id=571|\"Carry,c=5\"), (dim=2|id=204|\"Qubit,Site,n=5\"), (dim=2|id=204|\"Qubit,Site,n=5\")')\n",
      "((dim=2|id=376|\"Qubit,Site,n=6\"), (dim=2|id=376|\"Qubit,Site,n=6\")', (dim=2|id=571|\"Carry,c=5\"), (dim=2|id=224|\"Carry,c=7\"), (dim=2|id=198|\"Qubit,Site,n=7\"), (dim=2|id=198|\"Qubit,Site,n=7\")')\n",
      "((dim=2|id=558|\"Qubit,Site,n=8\"), (dim=2|id=558|\"Qubit,Site,n=8\")', (dim=2|id=224|\"Carry,c=7\"), (dim=2|id=295|\"Carry,c=6\"))\n",
      "((dim=2|id=198|\"Qubit,Site,n=7\"), (dim=2|id=198|\"Qubit,Site,n=7\")', (dim=2|id=295|\"Carry,c=6\"), (dim=2|id=695|\"Carry,c=4\"), (dim=2|id=376|\"Qubit,Site,n=6\"), (dim=2|id=376|\"Qubit,Site,n=6\")')\n",
      "((dim=2|id=204|\"Qubit,Site,n=5\"), (dim=2|id=204|\"Qubit,Site,n=5\")', (dim=2|id=695|\"Carry,c=4\"), (dim=2|id=116|\"Carry,c=2\"), (dim=2|id=250|\"Qubit,Site,n=4\"), (dim=2|id=250|\"Qubit,Site,n=4\")')\n",
      "((dim=2|id=319|\"Qubit,Site,n=3\"), (dim=2|id=319|\"Qubit,Site,n=3\")', (dim=2|id=116|\"Carry,c=2\"), (dim=2|id=959|\"Carry,c=0\"), (dim=2|id=902|\"Qubit,Site,n=2\"), (dim=2|id=902|\"Qubit,Site,n=2\")', (dim=2|id=2|\"Carry,c=1\"))\n",
      "((dim=2|id=86|\"Qubit,Site,n=1\"), (dim=2|id=86|\"Qubit,Site,n=1\")', (dim=2|id=959|\"Carry,c=0\"))\n"
     ]
    }
   ],
   "source": [
    "for gate in gate_vec\n",
    "    println(inds(gate))\n",
    "end\n"
   ]
  },
  {
   "cell_type": "code",
   "execution_count": 132,
   "id": "6c6a8595",
   "metadata": {},
   "outputs": [
    {
     "name": "stdout",
     "output_type": "stream",
     "text": [
      "((dim=2|id=902|\"Qubit,Site,n=2\"), (dim=2|id=902|\"Qubit,Site,n=2\")', (dim=2|id=2|\"Carry,c=1\"), (dim=2|id=319|\"Qubit,Site,n=3\"), (dim=2|id=319|\"Qubit,Site,n=3\")', (dim=2|id=959|\"Carry,c=0\"), (dim=2|id=250|\"Qubit,Site,n=4\"), (dim=2|id=250|\"Qubit,Site,n=4\")', (dim=2|id=571|\"Carry,c=5\"), (dim=2|id=204|\"Qubit,Site,n=5\"), (dim=2|id=204|\"Qubit,Site,n=5\")')\n",
      "((dim=2|id=250|\"Qubit,Site,n=4\"), (dim=2|id=250|\"Qubit,Site,n=4\")', (dim=2|id=78|\"Carry,c=3\"), (dim=2|id=204|\"Qubit,Site,n=5\"), (dim=2|id=204|\"Qubit,Site,n=5\")', (dim=2|id=376|\"Qubit,Site,n=6\"), (dim=2|id=376|\"Qubit,Site,n=6\")', (dim=2|id=224|\"Carry,c=7\"), (dim=2|id=198|\"Qubit,Site,n=7\"), (dim=2|id=198|\"Qubit,Site,n=7\")')\n",
      "((dim=2|id=376|\"Qubit,Site,n=6\"), (dim=2|id=376|\"Qubit,Site,n=6\")', (dim=2|id=571|\"Carry,c=5\"), (dim=2|id=198|\"Qubit,Site,n=7\"), (dim=2|id=198|\"Qubit,Site,n=7\")', (dim=2|id=558|\"Qubit,Site,n=8\"), (dim=2|id=558|\"Qubit,Site,n=8\")', (dim=2|id=295|\"Carry,c=6\"))\n",
      "((dim=2|id=558|\"Qubit,Site,n=8\"), (dim=2|id=558|\"Qubit,Site,n=8\")', (dim=2|id=224|\"Carry,c=7\"), (dim=2|id=198|\"Qubit,Site,n=7\"), (dim=2|id=198|\"Qubit,Site,n=7\")', (dim=2|id=695|\"Carry,c=4\"), (dim=2|id=376|\"Qubit,Site,n=6\"), (dim=2|id=376|\"Qubit,Site,n=6\")')\n",
      "((dim=2|id=198|\"Qubit,Site,n=7\"), (dim=2|id=198|\"Qubit,Site,n=7\")', (dim=2|id=295|\"Carry,c=6\"), (dim=2|id=376|\"Qubit,Site,n=6\"), (dim=2|id=376|\"Qubit,Site,n=6\")', (dim=2|id=204|\"Qubit,Site,n=5\"), (dim=2|id=204|\"Qubit,Site,n=5\")', (dim=2|id=116|\"Carry,c=2\"), (dim=2|id=250|\"Qubit,Site,n=4\"), (dim=2|id=250|\"Qubit,Site,n=4\")')\n",
      "((dim=2|id=204|\"Qubit,Site,n=5\"), (dim=2|id=204|\"Qubit,Site,n=5\")', (dim=2|id=695|\"Carry,c=4\"), (dim=2|id=250|\"Qubit,Site,n=4\"), (dim=2|id=250|\"Qubit,Site,n=4\")', (dim=2|id=319|\"Qubit,Site,n=3\"), (dim=2|id=319|\"Qubit,Site,n=3\")', (dim=2|id=959|\"Carry,c=0\"), (dim=2|id=902|\"Qubit,Site,n=2\"), (dim=2|id=902|\"Qubit,Site,n=2\")', (dim=2|id=2|\"Carry,c=1\"))\n",
      "((dim=2|id=319|\"Qubit,Site,n=3\"), (dim=2|id=319|\"Qubit,Site,n=3\")', (dim=2|id=116|\"Carry,c=2\"), (dim=2|id=902|\"Qubit,Site,n=2\"), (dim=2|id=902|\"Qubit,Site,n=2\")', (dim=2|id=2|\"Carry,c=1\"), (dim=2|id=86|\"Qubit,Site,n=1\"), (dim=2|id=86|\"Qubit,Site,n=1\")')\n"
     ]
    }
   ],
   "source": [
    "for idx in 1:length(gate_vec)-1\n",
    "    println(inds(gate_vec[idx] * gate_vec[idx+1]))\n",
    "end"
   ]
  },
  {
   "cell_type": "code",
   "execution_count": 133,
   "id": "db6ef918",
   "metadata": {},
   "outputs": [
    {
     "data": {
      "text/plain": [
       "8"
      ]
     },
     "execution_count": 133,
     "metadata": {},
     "output_type": "execute_result"
    }
   ],
   "source": [
    "length(gate_vec)"
   ]
  },
  {
   "cell_type": "code",
   "execution_count": 134,
   "id": "cd27189b",
   "metadata": {},
   "outputs": [
    {
     "name": "stdout",
     "output_type": "stream",
     "text": [
      "2-->4\n",
      "((dim=2|id=902|\"Qubit,Site,n=2\"), (dim=2|id=902|\"Qubit,Site,n=2\")', (dim=2|id=2|\"Carry,c=1\"), (dim=2|id=78|\"Carry,c=3\"), (dim=2|id=319|\"Qubit,Site,n=3\"), (dim=2|id=319|\"Qubit,Site,n=3\")', (dim=2|id=959|\"Carry,c=0\"))\n",
      "4-->6\n",
      "((dim=2|id=250|\"Qubit,Site,n=4\"), (dim=2|id=250|\"Qubit,Site,n=4\")', (dim=2|id=78|\"Carry,c=3\"), (dim=2|id=571|\"Carry,c=5\"), (dim=2|id=204|\"Qubit,Site,n=5\"), (dim=2|id=204|\"Qubit,Site,n=5\")')\n",
      "6-->8\n",
      "((dim=2|id=376|\"Qubit,Site,n=6\"), (dim=2|id=376|\"Qubit,Site,n=6\")', (dim=2|id=571|\"Carry,c=5\"), (dim=2|id=224|\"Carry,c=7\"), (dim=2|id=198|\"Qubit,Site,n=7\"), (dim=2|id=198|\"Qubit,Site,n=7\")')\n",
      "8-->7\n",
      "((dim=2|id=558|\"Qubit,Site,n=8\"), (dim=2|id=558|\"Qubit,Site,n=8\")', (dim=2|id=224|\"Carry,c=7\"), (dim=2|id=295|\"Carry,c=6\"))\n",
      "7-->5\n",
      "((dim=2|id=198|\"Qubit,Site,n=7\"), (dim=2|id=198|\"Qubit,Site,n=7\")', (dim=2|id=295|\"Carry,c=6\"), (dim=2|id=695|\"Carry,c=4\"), (dim=2|id=376|\"Qubit,Site,n=6\"), (dim=2|id=376|\"Qubit,Site,n=6\")')\n",
      "5-->3\n",
      "((dim=2|id=204|\"Qubit,Site,n=5\"), (dim=2|id=204|\"Qubit,Site,n=5\")', (dim=2|id=695|\"Carry,c=4\"), (dim=2|id=116|\"Carry,c=2\"), (dim=2|id=250|\"Qubit,Site,n=4\"), (dim=2|id=250|\"Qubit,Site,n=4\")')\n",
      "3-->1\n",
      "((dim=2|id=319|\"Qubit,Site,n=3\"), (dim=2|id=319|\"Qubit,Site,n=3\")', (dim=2|id=116|\"Carry,c=2\"), (dim=2|id=959|\"Carry,c=0\"), (dim=2|id=902|\"Qubit,Site,n=2\"), (dim=2|id=902|\"Qubit,Site,n=2\")', (dim=2|id=2|\"Carry,c=1\"))\n"
     ]
    },
    {
     "ename": "LoadError",
     "evalue": "BoundsError: attempt to access 7-element Vector{Any} at index [8]",
     "output_type": "error",
     "traceback": [
      "BoundsError: attempt to access 7-element Vector{Any} at index [8]",
      "",
      "Stacktrace:",
      " [1] getindex(A::Vector{Any}, i1::Int64)",
      "   @ Base ./essentials.jl:13",
      " [2] top-level scope",
      "   @ ./In[134]:3"
     ]
    }
   ],
   "source": [
    "for igate in 1:length(gate_vec)\n",
    "    gate = gate_vec[igate]\n",
    "    pair = pairing[igate]\n",
    "    println(pair[1], \"-->\", pair[2])\n",
    "    println(inds(gate))\n",
    "end\n",
    "# for idx in 1:length(gate_vec), find all the gates that has qubit_site[idx] as an index, and put them in a list"
   ]
  },
  {
   "cell_type": "code",
   "execution_count": null,
   "id": "c22d886c",
   "metadata": {},
   "outputs": [],
   "source": [
    "# for idx in 1:length(gate_vec), find all the gates that has qubit_site[idx] as an index, and put them in a list\n",
    "# then contract all the gates in the list together\n",
    "# then svd according to the qubit_site index "
   ]
  },
  {
   "cell_type": "code",
   "execution_count": null,
   "id": "5be0801f",
   "metadata": {},
   "outputs": [
    {
     "name": "stdout",
     "output_type": "stream",
     "text": [
      "Intersection: Set([4, 3])\n"
     ]
    }
   ],
   "source": [
    "# Example: find intersection between two sets a and b\n",
    "a = Set([1, 2, 3, 4])\n",
    "b = Set([3, 4, 5, 6])\n",
    "intersection = intersect(a, b)\n",
    "println(\"Intersection: \", intersection)\n"
   ]
  },
  {
   "cell_type": "code",
   "execution_count": null,
   "id": "c7c0ab39",
   "metadata": {},
   "outputs": [
    {
     "data": {
      "text/plain": [
       "Set{Index{Int64}} with 1 element:\n",
       "  (dim=2|id=497|\"Carry,c=3\")"
      ]
     },
     "execution_count": 92,
     "metadata": {},
     "output_type": "execute_result"
    }
   ],
   "source": [
    "intersection = intersect(Set(inds(gate_vec[1])), Set(inds(gate_vec[2])))"
   ]
  },
  {
   "cell_type": "code",
   "execution_count": null,
   "id": "9a65e1d4",
   "metadata": {},
   "outputs": [
    {
     "data": {
      "text/plain": [
       "1-element Vector{Index{Int64}}:\n",
       " (dim=2|id=497|\"Carry,c=3\")"
      ]
     },
     "execution_count": 93,
     "metadata": {},
     "output_type": "execute_result"
    }
   ],
   "source": [
    "commoninds(gate_vec[1], gate_vec[2])"
   ]
  },
  {
   "cell_type": "code",
   "execution_count": null,
   "id": "530388cc",
   "metadata": {},
   "outputs": [],
   "source": []
  }
 ],
 "metadata": {
  "kernelspec": {
   "display_name": "Julia 1.9.4",
   "language": "julia",
   "name": "julia-1.9"
  },
  "language_info": {
   "file_extension": ".jl",
   "mimetype": "application/julia",
   "name": "julia",
   "version": "1.9.4"
  }
 },
 "nbformat": 4,
 "nbformat_minor": 5
}
