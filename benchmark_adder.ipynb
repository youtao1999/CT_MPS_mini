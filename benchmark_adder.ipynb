{
 "cells": [
  {
   "cell_type": "code",
   "execution_count": 1,
   "id": "da08f45f",
   "metadata": {},
   "outputs": [
    {
     "name": "stderr",
     "output_type": "stream",
     "text": [
      "\u001b[32m\u001b[1m  Activating\u001b[22m\u001b[39m project at `~/code/CT_MPS_mini/CT`\n"
     ]
    },
    {
     "name": "stdout",
     "output_type": "stream",
     "text": [
      "initializing random MPS with linkdims 50\n",
      "gate index: 1 ((dim=2|id=285|\"Qubit,Site,n=1\"), (dim=2|id=285|\"Qubit,Site,n=1\")', (dim=2|id=819|\"Carry,c=0\"), (dim=2|id=441|\"Carry,c=2\"), (dim=2|id=783|\"Qubit,Site,n=2\"), (dim=2|id=783|\"Qubit,Site,n=2\")')\n",
      "((dim=2|id=285|\"Qubit,Site,n=1\")', (dim=2|id=819|\"Carry,c=0\"), (dim=2|id=441|\"Carry,c=2\"), (dim=2|id=783|\"Qubit,Site,n=2\")', (dim=1|id=618|\"Link,l=2\"))\n",
      "gate index: 2 ((dim=2|id=783|\"Qubit,Site,n=2\"), (dim=2|id=783|\"Qubit,Site,n=2\")', (dim=2|id=235|\"Carry,c=1\"), (dim=2|id=914|\"Carry,c=3\"), (dim=2|id=419|\"Qubit,Site,n=3\"), (dim=2|id=419|\"Qubit,Site,n=3\")')\n",
      "gate index: 3 ((dim=2|id=419|\"Qubit,Site,n=3\"), (dim=2|id=419|\"Qubit,Site,n=3\")', (dim=2|id=441|\"Carry,c=2\"), (dim=2|id=797|\"Carry,c=4\"), (dim=2|id=87|\"Qubit,Site,n=4\"), (dim=2|id=87|\"Qubit,Site,n=4\")')\n",
      "gate index: 4 ((dim=2|id=87|\"Qubit,Site,n=4\"), (dim=2|id=87|\"Qubit,Site,n=4\")', (dim=2|id=914|\"Carry,c=3\"), (dim=2|id=191|\"Carry,c=5\"), (dim=2|id=919|\"Qubit,Site,n=5\"), (dim=2|id=919|\"Qubit,Site,n=5\")')\n",
      "gate index: 5 ((dim=2|id=919|\"Qubit,Site,n=5\"), (dim=2|id=919|\"Qubit,Site,n=5\")', (dim=2|id=797|\"Carry,c=4\"), (dim=2|id=47|\"Carry,c=6\"), (dim=2|id=95|\"Qubit,Site,n=6\"), (dim=2|id=95|\"Qubit,Site,n=6\")')\n",
      "gate index: 6 ((dim=2|id=95|\"Qubit,Site,n=6\"), (dim=2|id=95|\"Qubit,Site,n=6\")', (dim=2|id=191|\"Carry,c=5\"), (dim=2|id=609|\"Carry,c=7\"), (dim=2|id=410|\"Qubit,Site,n=7\"), (dim=2|id=410|\"Qubit,Site,n=7\")')\n",
      "gate index: 7 ((dim=2|id=410|\"Qubit,Site,n=7\"), (dim=2|id=410|\"Qubit,Site,n=7\")', (dim=2|id=47|\"Carry,c=6\"), (dim=2|id=115|\"Carry,c=8\"), (dim=2|id=210|\"Qubit,Site,n=8\"), (dim=2|id=210|\"Qubit,Site,n=8\")')\n",
      "0\n",
      "mixed\n",
      "0\n",
      "mixed\n",
      "mixed\n",
      "mixed\n",
      "mixed\n",
      "mixed\n"
     ]
    }
   ],
   "source": [
    "using Pkg\n",
    "Pkg.activate(\"CT\")\n",
    "using CT\n",
    "include(\"global_adder_passthrough.jl\")\n",
    "\n",
    "# benchmark adder_MPO\n",
    "using ITensors\n",
    "# initialize random state\n",
    "using .CT: _initialize_basis, _initialize_vector, P_MPO, XI_MPO, I_MPO, adder_MPO, add1, power_mpo\n",
    "using Random\n",
    "\n",
    "L = 8\n",
    "ancilla = 0\n",
    "folded = true\n",
    "seed_vec = 123457\n",
    "xj = Set([1//3, 2//3])\n",
    "i1 = 1\n",
    "_maxdim = 2^(div(L,2))\n",
    "_maxdim0 = 50\n",
    "_eps = 0.0\n",
    "seed = 123457\n",
    "x0 = nothing\n",
    "qubit_site, ram_phy, phy_ram, phy_list = _initialize_basis(L, ancilla, folded)\n",
    "rng = MersenneTwister(seed_vec)\n",
    "rng_vec = seed_vec === nothing ? rng : MersenneTwister(seed_vec)\n",
    "shift_1_3_bits, shift_1_3_amount = fraction_to_binary_shift(1, 3, L)\n",
    "initial_state = _initialize_vector(L, ancilla, x0, folded, qubit_site, ram_phy, phy_ram, phy_list, rng_vec, _eps, _maxdim0);\n",
    "\n",
    "initial_state = productMPS(qubit_site, [1,1,1,1,1,1,1,1])\n",
    "# initialize haining adder mpo\n",
    "# add1_mpo=MPO(add1(i1,L,phy_ram,phy_list),qubit_site)\n",
    "# add1_6,add1_3=power_mpo(add1_mpo,[div(2^L,6)+1,div(2^L,3)])\n",
    "\n",
    "# initialize tao adder mpo\n",
    "carry_links, T_vec, id_vec, gate_vec = initialize_links(L, qubit_site, shift_1_3_bits, ram_phy);\n",
    "# initial_state_1 = copy(initial_state);\n",
    "# initial_state_2 = copy(initial_state);\n",
    "\n",
    "# println(inds(gate_vec[1]))\n",
    "# println(inds(gate_vec[1] * (initial_state[1] * initial_state[2])))\n",
    "final_state = global_adder(initial_state, carry_links, T_vec, gate_vec, qubit_site; cutoff=_eps, maxdim=_maxdim);\n",
    "\n",
    "function zero_or_one(onsite_tensor)\n",
    "    if abs(onsite_tensor[1] - 1) < 1e-10 && abs(onsite_tensor[2]) < 1e-10\n",
    "        return \"0\"\n",
    "    elseif abs(onsite_tensor[1]) < 1e-10 && abs(onsite_tensor[2] - 1) < 1e-10\n",
    "        return \"1\"\n",
    "    else\n",
    "        return \"mixed\"\n",
    "    end\n",
    "end\n",
    "println(zero_or_one(final_state[1]))\n",
    "println(zero_or_one(final_state[2]))\n",
    "println(zero_or_one(final_state[3]))\n",
    "println(zero_or_one(final_state[4]))\n",
    "println(zero_or_one(final_state[5]))\n",
    "println(zero_or_one(final_state[6]))\n",
    "println(zero_or_one(final_state[7]))\n",
    "println(zero_or_one(final_state[8]))\n",
    "# global_adder(initial_state, carry_links, T_vec, gate_vec, qubit_site; cutoff=_eps, maxdim=_maxdim);"
   ]
  },
  {
   "cell_type": "code",
   "execution_count": null,
   "id": "51668a82",
   "metadata": {},
   "outputs": [
    {
     "data": {
      "text/plain": [
       "MPS\n",
       "[1] ((dim=2|id=110|\"Qubit,Site,n=1\"), (dim=1|id=914|\"Link,l=1\"))\n",
       "[2] ((dim=1|id=914|\"Link,l=1\"), (dim=2|id=996|\"Qubit,Site,n=2\"), (dim=1|id=659|\"Link,l=2\"))\n",
       "[3] ((dim=1|id=659|\"Link,l=2\"), (dim=2|id=237|\"Qubit,Site,n=3\"), (dim=1|id=992|\"Link,l=3\"))\n",
       "[4] ((dim=1|id=992|\"Link,l=3\"), (dim=2|id=578|\"Qubit,Site,n=4\"), (dim=1|id=424|\"Link,l=4\"))\n",
       "[5] ((dim=1|id=424|\"Link,l=4\"), (dim=2|id=713|\"Qubit,Site,n=5\"), (dim=1|id=218|\"Link,l=5\"))\n",
       "[6] ((dim=1|id=218|\"Link,l=5\"), (dim=2|id=665|\"Qubit,Site,n=6\"), (dim=1|id=186|\"Link,l=6\"))\n",
       "[7] ((dim=1|id=186|\"Link,l=6\"), (dim=2|id=911|\"Qubit,Site,n=7\"), (dim=1|id=426|\"Link,l=7\"))\n",
       "[8] ((dim=1|id=426|\"Link,l=7\"), (dim=2|id=951|\"Qubit,Site,n=8\"))\n"
      ]
     },
     "metadata": {},
     "output_type": "display_data"
    }
   ],
   "source": [
    "prod_state = productMPS(qubit_site, [1,1,1,1,1,1,1,1])"
   ]
  },
  {
   "cell_type": "code",
   "execution_count": 13,
   "id": "f822d0c2",
   "metadata": {},
   "outputs": [
    {
     "data": {
      "text/plain": [
       "(:tensor,)"
      ]
     },
     "metadata": {},
     "output_type": "display_data"
    }
   ],
   "source": [
    "fieldnames(typeof(prod_state[1]))"
   ]
  },
  {
   "cell_type": "code",
   "execution_count": 18,
   "id": "ee891636",
   "metadata": {},
   "outputs": [
    {
     "data": {
      "text/plain": [
       "Dim 1: (dim=1|id=992|\"Link,l=3\")\n",
       "Dim 2: (dim=2|id=578|\"Qubit,Site,n=4\")\n",
       "Dim 3: (dim=1|id=424|\"Link,l=4\")\n",
       "NDTensors.Dense{Float64, Vector{Float64}}\n",
       " 1×2×1\n",
       "[:, :, 1] =\n",
       " 0.0  1.0"
      ]
     },
     "metadata": {},
     "output_type": "display_data"
    }
   ],
   "source": [
    "prod_state[4].tensor"
   ]
  },
  {
   "cell_type": "code",
   "execution_count": 7,
   "id": "39a95f94",
   "metadata": {},
   "outputs": [
    {
     "data": {
      "text/plain": [
       "ITensor ord=6 (dim=2|id=110|\"Qubit,Site,n=1\") (dim=2|id=110|\"Qubit,Site,n=1\")' (dim=2|id=244|\"Carry,c=0\") (dim=2|id=708|\"Carry,c=2\") (dim=2|id=996|\"Qubit,Site,n=2\") (dim=2|id=996|\"Qubit,Site,n=2\")'\n",
       "NDTensors.Dense{Float64, Vector{Float64}}"
      ]
     },
     "metadata": {},
     "output_type": "display_data"
    }
   ],
   "source": [
    "gate_vec[1]"
   ]
  },
  {
   "cell_type": "code",
   "execution_count": 2,
   "id": "dc501dd6",
   "metadata": {},
   "outputs": [
    {
     "name": "stdout",
     "output_type": "stream",
     "text": [
      "gate index: 1 ((dim=2|id=110|\"Qubit,Site,n=1\"), (dim=2|id=110|\"Qubit,Site,n=1\")', (dim=2|id=244|\"Carry,c=0\"), (dim=2|id=708|\"Carry,c=2\"), (dim=2|id=996|\"Qubit,Site,n=2\"), (dim=2|id=996|\"Qubit,Site,n=2\")')\n",
      "  0.261409 seconds (360.86 k allocations: 24.366 MiB, 4.19% gc time, 99.77% compilation time)\n",
      "gate index: 2 ((dim=2|id=996|\"Qubit,Site,n=2\"), (dim=2|id=996|\"Qubit,Site,n=2\")', (dim=2|id=876|\"Carry,c=1\"), (dim=2|id=350|\"Carry,c=3\"), (dim=2|id=237|\"Qubit,Site,n=3\"), (dim=2|id=237|\"Qubit,Site,n=3\")')\n",
      "  1.003122 seconds (2.94 M allocations: 193.378 MiB, 3.93% gc time, 99.88% compilation time)\n",
      "gate index: 3 ((dim=2|id=237|\"Qubit,Site,n=3\"), (dim=2|id=237|\"Qubit,Site,n=3\")', (dim=2|id=708|\"Carry,c=2\"), (dim=2|id=589|\"Carry,c=4\"), (dim=2|id=578|\"Qubit,Site,n=4\"), (dim=2|id=578|\"Qubit,Site,n=4\")')\n",
      "  1.117145 seconds (2.50 M allocations: 166.138 MiB, 4.68% gc time, 99.91% compilation time)\n",
      "  1.052061 seconds (3.19 M allocations: 212.046 MiB, 6.19% gc time, 99.73% compilation time)\n",
      "gate index: 4 ((dim=2|id=578|\"Qubit,Site,n=4\"), (dim=2|id=578|\"Qubit,Site,n=4\")', (dim=2|id=350|\"Carry,c=3\"), (dim=2|id=119|\"Carry,c=5\"), (dim=2|id=713|\"Qubit,Site,n=5\"), (dim=2|id=713|\"Qubit,Site,n=5\")')\n",
      "  0.271430 seconds (335.75 k allocations: 23.423 MiB, 99.76% compilation time)\n",
      "  0.000508 seconds (395 allocations: 303.086 KiB)\n",
      "gate index: 5 ((dim=2|id=713|\"Qubit,Site,n=5\"), (dim=2|id=713|\"Qubit,Site,n=5\")', (dim=2|id=589|\"Carry,c=4\"), (dim=2|id=12|\"Carry,c=6\"), (dim=2|id=665|\"Qubit,Site,n=6\"), (dim=2|id=665|\"Qubit,Site,n=6\")')\n",
      "  0.000303 seconds (348 allocations: 278.273 KiB)\n",
      "  0.055874 seconds (73.39 k allocations: 5.293 MiB, 99.59% compilation time)\n",
      "gate index: 6 ((dim=2|id=665|\"Qubit,Site,n=6\"), (dim=2|id=665|\"Qubit,Site,n=6\")', (dim=2|id=119|\"Carry,c=5\"), (dim=2|id=33|\"Carry,c=7\"), (dim=2|id=911|\"Qubit,Site,n=7\"), (dim=2|id=911|\"Qubit,Site,n=7\")')\n",
      "  0.000218 seconds (348 allocations: 218.273 KiB)\n",
      "  0.000106 seconds (390 allocations: 165.492 KiB)\n",
      "gate index: 7 ((dim=2|id=911|\"Qubit,Site,n=7\"), (dim=2|id=911|\"Qubit,Site,n=7\")', (dim=2|id=12|\"Carry,c=6\"), (dim=2|id=377|\"Carry,c=8\"), (dim=2|id=951|\"Qubit,Site,n=8\"), (dim=2|id=951|\"Qubit,Site,n=8\")')\n",
      "  0.266955 seconds (314.96 k allocations: 21.737 MiB, 99.79% compilation time)\n",
      "  0.471576 seconds (1.60 M allocations: 106.693 MiB, 5.04% gc time, 99.94% compilation time)\n",
      "  0.000164 seconds (320 allocations: 92.945 KiB)\n"
     ]
    }
   ],
   "source": [
    "\n",
    "initial_state_1 = apply(add1_3,initial_state_1; cutoff=_eps, maxdim=_maxdim);\n",
    "global_adder(initial_state_2, carry_links, T_vec, gate_vec, qubit_site; cutoff=_eps, maxdim=_maxdim);"
   ]
  },
  {
   "cell_type": "code",
   "execution_count": null,
   "id": "3863094c",
   "metadata": {},
   "outputs": [],
   "source": []
  }
 ],
 "metadata": {
  "kernelspec": {
   "display_name": "Julia 1.9.3",
   "language": "julia",
   "name": "julia-1.9"
  },
  "language_info": {
   "file_extension": ".jl",
   "mimetype": "application/julia",
   "name": "julia",
   "version": "1.9.3"
  }
 },
 "nbformat": 4,
 "nbformat_minor": 5
}
