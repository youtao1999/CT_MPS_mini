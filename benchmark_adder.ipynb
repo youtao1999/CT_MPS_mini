{
 "cells": [
  {
   "cell_type": "code",
   "execution_count": 1,
   "id": "da08f45f",
   "metadata": {},
   "outputs": [
    {
     "name": "stderr",
     "output_type": "stream",
     "text": [
      "\u001b[32m\u001b[1m  Activating\u001b[22m\u001b[39m project at `~/code/CT_MPS_mini/CT`\n"
     ]
    }
   ],
   "source": [
    "using Pkg\n",
    "Pkg.activate(\"CT\")\n",
    "using CT\n",
    "include(\"global_adder_passthrough.jl\")\n",
    "\n",
    "# benchmark adder_MPO\n",
    "using ITensors\n",
    "# initialize random state\n",
    "using .CT: _initialize_basis, _initialize_vector, P_MPO, XI_MPO, I_MPO, adder_MPO, add1, power_mpo\n",
    "using Random\n"
   ]
  },
  {
   "cell_type": "code",
   "execution_count": null,
   "id": "b9518915",
   "metadata": {},
   "outputs": [
    {
     "name": "stdout",
     "output_type": "stream",
     "text": [
      "4 is in position 2 carry into 3 which is in position 4\n",
      "3 is in position 4 carry into 2 which is in position 3\n",
      "2 is in position 3 carry into 1 which is in position 1\n",
      "4 is in position 1 carry into 3 which is in position 2\n",
      "3 is in position 2 carry into 2 which is in position 4\n",
      "2 is in position 4 carry into 1 which is in position 3\n",
      "4 is in position 3 carry into 3 which is in position 1\n",
      "3 is in position 1 carry into 2 which is in position 2\n",
      "2 is in position 2 carry into 1 which is in position 4\n",
      "4 is in position 4 carry into 3 which is in position 3\n",
      "3 is in position 3 carry into 2 which is in position 1\n",
      "2 is in position 1 carry into 1 which is in position 2\n"
     ]
    }
   ],
   "source": [
    "L = 4\n",
    "# Generate list of right translations of 1:L more efficiently\n",
    "# Using array comprehension and avoiding modulo operations where possible\n",
    "translations = [circshift(1:L, shift) for shift in 0:L-1]\n",
    "\n",
    "function fold(translation, ancilla::Int)\n",
    "    if ancilla ==0\n",
    "        ram_phy = [i for pairs in zip(translation[1:(L÷2)], reverse(translation[(L÷2+1):L])) for i in pairs]\n",
    "    elseif ancilla ==1\n",
    "        ram_phy = vcat(L+1,[i for pairs in zip(translations[1:(L÷2)], reverse(translations[(L÷2+1):L])) for i in pairs])\n",
    "    elseif ancilla ==2\n",
    "        error(\"Not implemented yet\")\n",
    "    end\n",
    "\n",
    "    # phy_ram[physical] = actual in ram\n",
    "    phy_ram = fill(0, L+ancilla)\n",
    "    for (ram, phy) in enumerate(ram_phy)\n",
    "        phy_ram[phy] = ram\n",
    "    end\n",
    "\n",
    "    return ram_phy, phy_ram\n",
    "end\n",
    "\n",
    "conn_pairs = Dict()\n",
    "for (i1, translation) in enumerate(translations)\n",
    "    # println(fold(translation, 0))\n",
    "    ram_phy, phy_ram = fold(translation, 0)\n",
    "    # println(ram_phy)\n",
    "    pairs = []\n",
    "    for i in reverse(collect(1:L)[2:end])\n",
    "        current_pos = findfirst(x -> x == i, ram_phy)\n",
    "        next_pos = findfirst(x -> x == (i-1)%L, ram_phy)\n",
    "        pair = (current_pos, next_pos)\n",
    "        push!(pairs, pair)\n",
    "        # println(i, \" is in position $current_pos carry into $(i-1) which is in position $next_pos\")\n",
    "    end\n",
    "\n",
    "    conn_pairs[i1] = pairs\n",
    "end\n"
   ]
  },
  {
   "cell_type": "code",
   "execution_count": null,
   "id": "10706323",
   "metadata": {},
   "outputs": [],
   "source": []
  }
 ],
 "metadata": {
  "kernelspec": {
   "display_name": "Julia 1.9.3",
   "language": "julia",
   "name": "julia-1.9"
  },
  "language_info": {
   "file_extension": ".jl",
   "mimetype": "application/julia",
   "name": "julia",
   "version": "1.9.3"
  }
 },
 "nbformat": 4,
 "nbformat_minor": 5
}
