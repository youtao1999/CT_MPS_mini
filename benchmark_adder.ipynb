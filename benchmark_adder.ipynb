{
 "cells": [
  {
   "cell_type": "code",
   "execution_count": 1,
   "id": "14e75b0e",
   "metadata": {},
   "outputs": [
    {
     "name": "stderr",
     "output_type": "stream",
     "text": [
      "\u001b[32m\u001b[1m  Activating\u001b[22m\u001b[39m project at `~/CT_MPS_mini/CT`\n",
      "\u001b[36m\u001b[1m[ \u001b[22m\u001b[39m\u001b[36m\u001b[1mInfo: \u001b[22m\u001b[39mPrecompiling CT [135cdcc2-6ae6-449e-9f49-45ba4c2243b3]\n"
     ]
    }
   ],
   "source": [
    "using Pkg\n",
    "Pkg.activate(\"CT\")\n",
    "using CT\n",
    "include(\"global_adder_passthrough.jl\")\n",
    "\n",
    "# benchmark adder_MPO\n",
    "using ITensors\n",
    "# initialize random state\n",
    "using .CT: _initialize_basis, _initialize_vector, P_MPO, XI_MPO, I_MPO, adder_MPO, add1, power_mpo\n",
    "using Random\n",
    "\n",
    "L = 12\n",
    "ancilla = 0\n",
    "folded = true\n",
    "seed_vec = 123457\n",
    "xj = Set([1//3, 2//3])\n",
    "i1 = 1\n",
    "p_ctrl = 1.0\n",
    "p_proj = 0.0\n",
    "_maxdim = 50\n",
    "_cutoff = 1e-15\n",
    "seed = 123457\n",
    "x0 = nothing\n",
    "qubit_site, ram_phy, phy_ram, phy_list = _initialize_basis(L, ancilla, folded)\n",
    "# println(phy_list)\n",
    "# println(ram_phy)\n",
    "# println(phy_ram)\n",
    "rng = MersenneTwister(seed_vec)\n",
    "rng_vec = seed_vec === nothing ? rng : MersenneTwister(seed_vec)\n",
    "# initial_state = _initialize_vector(L, ancilla, x0, folded, qubit_site, ram_phy, phy_ram, phy_list, rng_vec, _cutoff, _maxdim);\n",
    "# println(initial_state)\n",
    "shift_1_3_bits, shift_1_3_amount = fraction_to_binary_shift(1, 3, L)\n",
    "# initial_state = productMPS(qubit_site, [1,2,1,2,2,1,2,1,2,1,2,1,1,1,2,2])\n",
    "initial_state = _initialize_vector(L, ancilla, x0, folded, qubit_site, ram_phy, phy_ram, phy_list, rng_vec, _cutoff, _maxdim);\n",
    "\n",
    "# initialize haining adder mpo\n",
    "add1_mpo=MPO(add1(i1,L,phy_ram,phy_list),qubit_site)\n",
    "add1_6,add1_3=power_mpo(add1_mpo,[div(2^L,6)+1,div(2^L,3)])\n",
    "\n",
    "# initialize tao adder mpo\n",
    "carry_links, T_vec, id_vec, gate_vec = initialize_links(L, qubit_site, shift_1_3_bits, ram_phy);\n",
    "initial_state_1 = copy(initial_state);\n",
    "initial_state_2 = copy(initial_state);"
   ]
  },
  {
   "cell_type": "code",
   "execution_count": 10,
   "id": "eb444c3f",
   "metadata": {},
   "outputs": [
    {
     "name": "stdout",
     "output_type": "stream",
     "text": [
      "true\n"
     ]
    }
   ],
   "source": [
    "vec_form = vec(array(prod(initial_state)))\n",
    "println(length(vec_form) == 2^L)"
   ]
  },
  {
   "cell_type": "code",
   "execution_count": 2,
   "id": "48f3d91e",
   "metadata": {},
   "outputs": [
    {
     "name": "stdout",
     "output_type": "stream",
     "text": [
      "Julia version: 1.9.3\n",
      "Available CPU cores: 4\n",
      "Julia threads: 1\n",
      "BLAS threads: 1\n",
      "MKL not available\n",
      "Benchmark configuration complete!\n"
     ]
    }
   ],
   "source": [
    "# Performance Benchmark Configuration\n",
    "using LinearAlgebra\n",
    "\n",
    "# Print system information\n",
    "println(\"Julia version: \", VERSION)\n",
    "println(\"Available CPU cores: \", Sys.CPU_THREADS)\n",
    "println(\"Julia threads: \", Threads.nthreads())\n",
    "\n",
    "# Set BLAS to single-threaded for reproducible benchmarks\n",
    "BLAS.set_num_threads(1)\n",
    "println(\"BLAS threads: \", BLAS.get_num_threads())\n",
    "\n",
    "# Optional: Set MKL threads if using MKL\n",
    "try\n",
    "    using MKL\n",
    "    MKL.set_num_threads(1)\n",
    "    println(\"MKL threads: \", MKL.get_num_threads())\n",
    "catch\n",
    "    println(\"MKL not available\")\n",
    "end\n",
    "\n",
    "# Configure BenchmarkTools for consistency\n",
    "using BenchmarkTools\n",
    "BenchmarkTools.DEFAULT_PARAMETERS.samples = 50      # Reduced for faster iteration\n",
    "BenchmarkTools.DEFAULT_PARAMETERS.evals = 1         # Single evaluation per sample\n",
    "BenchmarkTools.DEFAULT_PARAMETERS.seconds = 60      # Reduced time budget\n",
    "BenchmarkTools.DEFAULT_PARAMETERS.gctrial = false   # Disable GC between trials\n",
    "BenchmarkTools.DEFAULT_PARAMETERS.gcsample = false  # Disable GC between samples\n",
    "\n",
    "println(\"Benchmark configuration complete!\")\n"
   ]
  },
  {
   "cell_type": "code",
   "execution_count": 3,
   "id": "31969823",
   "metadata": {},
   "outputs": [
    {
     "name": "stdout",
     "output_type": "stream",
     "text": [
      "Current BenchmarkTools settings:\n",
      "  samples: 50\n",
      "  evals: 1\n",
      "  seconds: 60.0\n",
      "  gctrial: false\n",
      "  gcsample: false\n",
      "\n",
      "System ready for benchmarking!\n"
     ]
    }
   ],
   "source": [
    "# Prepare for benchmarking\n",
    "using BenchmarkTools\n",
    "\n",
    "# Force garbage collection before benchmarks for clean memory state\n",
    "GC.gc()\n",
    "GC.gc()  # Run twice to ensure cleanup\n",
    "\n",
    "# Display current benchmark settings\n",
    "println(\"Current BenchmarkTools settings:\")\n",
    "println(\"  samples: \", BenchmarkTools.DEFAULT_PARAMETERS.samples)\n",
    "println(\"  evals: \", BenchmarkTools.DEFAULT_PARAMETERS.evals) \n",
    "println(\"  seconds: \", BenchmarkTools.DEFAULT_PARAMETERS.seconds)\n",
    "println(\"  gctrial: \", BenchmarkTools.DEFAULT_PARAMETERS.gctrial)\n",
    "println(\"  gcsample: \", BenchmarkTools.DEFAULT_PARAMETERS.gcsample)\n",
    "\n",
    "println(\"\\nSystem ready for benchmarking!\")\n"
   ]
  },
  {
   "cell_type": "code",
   "execution_count": 4,
   "id": "2d9efcad",
   "metadata": {},
   "outputs": [
    {
     "data": {
      "text/plain": [
       "MPS\n",
       "[1] ((dim=2|id=822|\"Qubit,Site,n=1\"), (dim=3|id=201|\"Link,l=1\"))\n",
       "[2] ((dim=2|id=506|\"Qubit,Site,n=2\"), (dim=3|id=201|\"Link,l=1\"), (dim=9|id=2|\"Link,l=2\"))\n",
       "[3] ((dim=9|id=2|\"Link,l=2\"), (dim=2|id=756|\"Qubit,Site,n=3\"), (dim=15|id=349|\"Link,l=3\"))\n",
       "[4] ((dim=15|id=349|\"Link,l=3\"), (dim=2|id=355|\"Qubit,Site,n=4\"), (dim=25|id=618|\"Link,l=4\"))\n",
       "[5] ((dim=25|id=618|\"Link,l=4\"), (dim=2|id=892|\"Qubit,Site,n=5\"), (dim=45|id=604|\"Link,l=5\"))\n",
       "[6] ((dim=45|id=604|\"Link,l=5\"), (dim=2|id=964|\"Qubit,Site,n=6\"), (dim=81|id=176|\"Link,l=6\"))\n",
       "[7] ((dim=81|id=176|\"Link,l=6\"), (dim=2|id=613|\"Qubit,Site,n=7\"), (dim=96|id=319|\"Link,l=7\"))\n",
       "[8] ((dim=96|id=319|\"Link,l=7\"), (dim=2|id=700|\"Qubit,Site,n=8\"), (dim=48|id=846|\"Link,l=8\"))\n",
       "[9] ((dim=48|id=846|\"Link,l=8\"), (dim=2|id=551|\"Qubit,Site,n=9\"), (dim=24|id=975|\"Link,l=9\"))\n",
       "[10] ((dim=24|id=975|\"Link,l=9\"), (dim=2|id=334|\"Qubit,Site,n=10\"), (dim=12|id=825|\"Link,l=10\"))\n",
       "[11] ((dim=12|id=825|\"Link,l=10\"), (dim=2|id=240|\"Qubit,Site,n=11\"), (dim=2|id=104|\"Link,l=11\"))\n",
       "[12] ((dim=2|id=104|\"Link,l=11\"), (dim=2|id=626|\"Qubit,Site,n=12\")')\n"
      ]
     },
     "metadata": {},
     "output_type": "display_data"
    }
   ],
   "source": [
    "initial_state_1 = apply(add1_3,initial_state_1);\n",
    "global_adder(initial_state_2, carry_links, T_vec, id_vec, gate_vec, qubit_site, shift_1_3_bits, ram_phy)"
   ]
  },
  {
   "cell_type": "code",
   "execution_count": null,
   "id": "30b129cd",
   "metadata": {},
   "outputs": [],
   "source": [
    "@benchmark initial_state_1 = apply(add1_3,$initial_state_1; cutoff=1e-10, maxdim=typemax(Int))\n"
   ]
  },
  {
   "cell_type": "code",
   "execution_count": 6,
   "id": "6b6e665f",
   "metadata": {},
   "outputs": [
    {
     "data": {
      "text/plain": [
       "BenchmarkTools.Trial: 50 samples with 1 evaluation per sample.\n",
       " Range \u001b[90m(\u001b[39m\u001b[36m\u001b[1mmin\u001b[22m\u001b[39m … \u001b[35mmax\u001b[39m\u001b[90m):  \u001b[39m\u001b[36m\u001b[1m62.420 ms\u001b[22m\u001b[39m … \u001b[35m74.029 ms\u001b[39m  \u001b[90m┊\u001b[39m GC \u001b[90m(\u001b[39mmin … max\u001b[90m): \u001b[39m6.71% … 12.35%\n",
       " Time  \u001b[90m(\u001b[39m\u001b[34m\u001b[1mmedian\u001b[22m\u001b[39m\u001b[90m):     \u001b[39m\u001b[34m\u001b[1m67.965 ms              \u001b[22m\u001b[39m\u001b[90m┊\u001b[39m GC \u001b[90m(\u001b[39mmedian\u001b[90m):    \u001b[39m9.72%\n",
       " Time  \u001b[90m(\u001b[39m\u001b[32m\u001b[1mmean\u001b[22m\u001b[39m ± \u001b[32mσ\u001b[39m\u001b[90m):   \u001b[39m\u001b[32m\u001b[1m67.908 ms\u001b[22m\u001b[39m ± \u001b[32m 2.727 ms\u001b[39m  \u001b[90m┊\u001b[39m GC \u001b[90m(\u001b[39mmean ± σ\u001b[90m):  \u001b[39m8.87% ±  2.79%\n",
       "\n",
       "  \u001b[39m \u001b[39m \u001b[39m \u001b[39m \u001b[39m \u001b[39m \u001b[39m \u001b[39m \u001b[39m \u001b[39m \u001b[39m \u001b[39m \u001b[39m \u001b[39m█\u001b[39m█\u001b[39m▁\u001b[39m \u001b[39m▁\u001b[39m \u001b[39m \u001b[39m \u001b[39m \u001b[39m \u001b[39m \u001b[39m \u001b[39m \u001b[39m▁\u001b[39m \u001b[34m \u001b[39m\u001b[39m█\u001b[39m▁\u001b[39m▁\u001b[39m▁\u001b[39m \u001b[39m \u001b[39m \u001b[39m \u001b[39m \u001b[39m \u001b[39m \u001b[39m \u001b[39m▁\u001b[39m \u001b[39m \u001b[39m \u001b[39m \u001b[39m \u001b[39m \u001b[39m \u001b[39m \u001b[39m▁\u001b[39m \u001b[39m \u001b[39m \u001b[39m \u001b[39m \u001b[39m \u001b[39m \u001b[39m \u001b[39m \u001b[39m \n",
       "  \u001b[39m▆\u001b[39m▁\u001b[39m▁\u001b[39m▆\u001b[39m▁\u001b[39m▁\u001b[39m▁\u001b[39m▁\u001b[39m▁\u001b[39m▁\u001b[39m▆\u001b[39m▆\u001b[39m▁\u001b[39m█\u001b[39m█\u001b[39m█\u001b[39m▁\u001b[39m█\u001b[39m▆\u001b[39m▆\u001b[39m▆\u001b[39m▁\u001b[39m▆\u001b[39m▆\u001b[39m▆\u001b[39m▁\u001b[39m█\u001b[39m▆\u001b[34m▆\u001b[39m\u001b[39m█\u001b[39m█\u001b[39m█\u001b[39m█\u001b[39m▁\u001b[39m▁\u001b[39m▁\u001b[39m▆\u001b[39m▁\u001b[39m▆\u001b[39m▆\u001b[39m▆\u001b[39m█\u001b[39m▁\u001b[39m▆\u001b[39m▁\u001b[39m▆\u001b[39m▁\u001b[39m▁\u001b[39m▆\u001b[39m▆\u001b[39m█\u001b[39m▁\u001b[39m▁\u001b[39m▁\u001b[39m▁\u001b[39m▁\u001b[39m▆\u001b[39m▁\u001b[39m▆\u001b[39m \u001b[39m▁\n",
       "  62.4 ms\u001b[90m         Histogram: frequency by time\u001b[39m          74 ms \u001b[0m\u001b[1m<\u001b[22m\n",
       "\n",
       " Memory estimate\u001b[90m: \u001b[39m\u001b[33m69.87 MiB\u001b[39m, allocs estimate\u001b[90m: \u001b[39m\u001b[33m10366\u001b[39m."
      ]
     },
     "metadata": {},
     "output_type": "display_data"
    }
   ],
   "source": [
    "\n",
    "@benchmark global_adder($initial_state_2, carry_links, T_vec, id_vec, gate_vec, qubit_site, shift_1_3_bits, ram_phy; cutoff=1e-10, maxdim=typemax(Int))\n"
   ]
  },
  {
   "cell_type": "code",
   "execution_count": 7,
   "id": "398a2828",
   "metadata": {},
   "outputs": [],
   "source": [
    "# Profile.print(format=:flat, sortedby=:count)\n",
    "\n",
    "# # For now, just run the function without profiling:\n",
    "# # global_adder(initial_state_2, carry_links, T_vec, id_vec, gate_vec, qubit_site, shift_1_3_bits, ram_phy)"
   ]
  }
 ],
 "metadata": {
  "kernelspec": {
   "display_name": "Julia 1.9.4",
   "language": "julia",
   "name": "julia-1.9"
  },
  "language_info": {
   "file_extension": ".jl",
   "mimetype": "application/julia",
   "name": "julia",
   "version": "1.9.4"
  }
 },
 "nbformat": 4,
 "nbformat_minor": 5
}
