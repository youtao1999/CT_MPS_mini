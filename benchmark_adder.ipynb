{
 "cells": [
  {
   "cell_type": "code",
   "execution_count": 1,
   "id": "14e75b0e",
   "metadata": {},
   "outputs": [
    {
     "name": "stderr",
     "output_type": "stream",
     "text": [
      "\u001b[32m\u001b[1m  Activating\u001b[22m\u001b[39m project at `~/CT_MPS_mini/CT`\n"
     ]
    },
    {
     "name": "stdout",
     "output_type": "stream",
     "text": [
      "[1, 2, 3, 4, 5, 6, 7, 8, 9, 10, 11, 12]\n",
      "[1, 12, 2, 11, 3, 10, 4, 9, 5, 8, 6, 7]\n",
      "[1, 3, 5, 7, 9, 11, 12, 10, 8, 6, 4, 2]\n"
     ]
    }
   ],
   "source": [
    "using Pkg\n",
    "Pkg.activate(\"CT\")\n",
    "using CT\n",
    "include(\"global_adder_passthrough.jl\")\n",
    "\n",
    "# benchmark adder_MPO\n",
    "using ITensors\n",
    "# initialize random state\n",
    "using .CT: _initialize_basis, _initialize_vector, P_MPO, XI_MPO, I_MPO, adder_MPO, add1, power_mpo\n",
    "using Random\n",
    "\n",
    "L = 12\n",
    "ancilla = 0\n",
    "folded = true\n",
    "seed_vec = 123457\n",
    "xj = Set([1//3, 2//3])\n",
    "i1 = 1\n",
    "p_ctrl = 1.0\n",
    "p_proj = 0.0\n",
    "_maxdim = 50\n",
    "_cutoff = 1e-15\n",
    "seed = 123457\n",
    "x0 = nothing\n",
    "qubit_site, ram_phy, phy_ram, phy_list = _initialize_basis(L, ancilla, folded)\n",
    "println(phy_list)\n",
    "println(ram_phy)\n",
    "println(phy_ram)\n",
    "rng = MersenneTwister(seed_vec)\n",
    "rng_vec = seed_vec === nothing ? rng : MersenneTwister(seed_vec)\n",
    "# initial_state = _initialize_vector(L, ancilla, x0, folded, qubit_site, ram_phy, phy_ram, phy_list, rng_vec, _cutoff, _maxdim);\n",
    "# println(initial_state)\n",
    "shift_1_3_bits, shift_1_3_amount = fraction_to_binary_shift(1, 3, L)\n",
    "# initial_state = productMPS(qubit_site, [1,2,1,2,2,1,2,1,2,1,2,1,1,1,2,2])\n",
    "initial_state = _initialize_vector(L, ancilla, x0, folded, qubit_site, ram_phy, phy_ram, phy_list, rng_vec, _cutoff, _maxdim);\n",
    "\n",
    "# initialize haining adder mpo\n",
    "add1_mpo=MPO(add1(i1,L,phy_ram,phy_list),qubit_site)\n",
    "add1_6,add1_3=power_mpo(add1_mpo,[div(2^L,6)+1,div(2^L,3)])\n",
    "\n",
    "# initialize tao adder mpo\n",
    "carry_links, T_vec, id_vec, gate_vec = initialize_links(L, qubit_site, shift_1_3_bits, ram_phy);\n",
    "initial_state_1 = copy(initial_state);\n",
    "initial_state_2 = copy(initial_state);"
   ]
  },
  {
   "cell_type": "code",
   "execution_count": 2,
   "id": "48f3d91e",
   "metadata": {},
   "outputs": [
    {
     "name": "stdout",
     "output_type": "stream",
     "text": [
      "Julia version: 1.9.4\n",
      "Available CPU cores: 8\n",
      "Julia threads: 8\n",
      "BLAS threads: 1\n",
      "MKL threads: 1\n",
      "Benchmark configuration complete!\n"
     ]
    }
   ],
   "source": [
    "# Performance Benchmark Configuration\n",
    "using LinearAlgebra\n",
    "\n",
    "# Print system information\n",
    "println(\"Julia version: \", VERSION)\n",
    "println(\"Available CPU cores: \", Sys.CPU_THREADS)\n",
    "println(\"Julia threads: \", Threads.nthreads())\n",
    "\n",
    "# Set BLAS to single-threaded for reproducible benchmarks\n",
    "BLAS.set_num_threads(1)\n",
    "println(\"BLAS threads: \", BLAS.get_num_threads())\n",
    "\n",
    "# Optional: Set MKL threads if using MKL\n",
    "try\n",
    "    using MKL\n",
    "    MKL.set_num_threads(1)\n",
    "    println(\"MKL threads: \", MKL.get_num_threads())\n",
    "catch\n",
    "    println(\"MKL not available\")\n",
    "end\n",
    "\n",
    "# Configure BenchmarkTools for consistency\n",
    "using BenchmarkTools\n",
    "BenchmarkTools.DEFAULT_PARAMETERS.samples = 50      # Reduced for faster iteration\n",
    "BenchmarkTools.DEFAULT_PARAMETERS.evals = 1         # Single evaluation per sample\n",
    "BenchmarkTools.DEFAULT_PARAMETERS.seconds = 60      # Reduced time budget\n",
    "BenchmarkTools.DEFAULT_PARAMETERS.gctrial = false   # Disable GC between trials\n",
    "BenchmarkTools.DEFAULT_PARAMETERS.gcsample = false  # Disable GC between samples\n",
    "\n",
    "println(\"Benchmark configuration complete!\")\n"
   ]
  },
  {
   "cell_type": "code",
   "execution_count": 3,
   "id": "31969823",
   "metadata": {},
   "outputs": [
    {
     "name": "stdout",
     "output_type": "stream",
     "text": [
      "Current BenchmarkTools settings:\n",
      "  samples: 50\n",
      "  evals: 1\n",
      "  seconds: 60.0\n",
      "  gctrial: false\n",
      "  gcsample: false\n",
      "\n",
      "System ready for benchmarking!\n"
     ]
    }
   ],
   "source": [
    "# Prepare for benchmarking\n",
    "using BenchmarkTools\n",
    "\n",
    "# Force garbage collection before benchmarks for clean memory state\n",
    "GC.gc()\n",
    "GC.gc()  # Run twice to ensure cleanup\n",
    "\n",
    "# Display current benchmark settings\n",
    "println(\"Current BenchmarkTools settings:\")\n",
    "println(\"  samples: \", BenchmarkTools.DEFAULT_PARAMETERS.samples)\n",
    "println(\"  evals: \", BenchmarkTools.DEFAULT_PARAMETERS.evals) \n",
    "println(\"  seconds: \", BenchmarkTools.DEFAULT_PARAMETERS.seconds)\n",
    "println(\"  gctrial: \", BenchmarkTools.DEFAULT_PARAMETERS.gctrial)\n",
    "println(\"  gcsample: \", BenchmarkTools.DEFAULT_PARAMETERS.gcsample)\n",
    "\n",
    "println(\"\\nSystem ready for benchmarking!\")\n"
   ]
  },
  {
   "cell_type": "code",
   "execution_count": 4,
   "id": "2d9efcad",
   "metadata": {},
   "outputs": [
    {
     "data": {
      "text/plain": [
       "MPS\n",
       "[1] ((dim=2|id=978|\"Qubit,Site,n=1\"), (dim=3|id=369|\"Link,l=1\"))\n",
       "[2] ((dim=2|id=835|\"Qubit,Site,n=2\"), (dim=3|id=369|\"Link,l=1\"), (dim=9|id=203|\"Link,l=2\"))\n",
       "[3] ((dim=9|id=203|\"Link,l=2\"), (dim=2|id=554|\"Qubit,Site,n=3\"), (dim=15|id=672|\"Link,l=3\"))\n",
       "[4] ((dim=15|id=672|\"Link,l=3\"), (dim=2|id=115|\"Qubit,Site,n=4\"), (dim=25|id=397|\"Link,l=4\"))\n",
       "[5] ((dim=25|id=397|\"Link,l=4\"), (dim=2|id=333|\"Qubit,Site,n=5\"), (dim=45|id=495|\"Link,l=5\"))\n",
       "[6] ((dim=45|id=495|\"Link,l=5\"), (dim=2|id=367|\"Qubit,Site,n=6\"), (dim=81|id=205|\"Link,l=6\"))\n",
       "[7] ((dim=81|id=205|\"Link,l=6\"), (dim=2|id=759|\"Qubit,Site,n=7\"), (dim=96|id=104|\"Link,l=7\"))\n",
       "[8] ((dim=96|id=104|\"Link,l=7\"), (dim=2|id=414|\"Qubit,Site,n=8\"), (dim=48|id=788|\"Link,l=8\"))\n",
       "[9] ((dim=48|id=788|\"Link,l=8\"), (dim=2|id=659|\"Qubit,Site,n=9\"), (dim=24|id=662|\"Link,l=9\"))\n",
       "[10] ((dim=24|id=662|\"Link,l=9\"), (dim=2|id=983|\"Qubit,Site,n=10\"), (dim=12|id=51|\"Link,l=10\"))\n",
       "[11] ((dim=12|id=51|\"Link,l=10\"), (dim=2|id=189|\"Qubit,Site,n=11\"), (dim=2|id=700|\"Link,l=11\"))\n",
       "[12] ((dim=2|id=700|\"Link,l=11\"), (dim=2|id=832|\"Qubit,Site,n=12\")')\n"
      ]
     },
     "execution_count": 4,
     "metadata": {},
     "output_type": "execute_result"
    }
   ],
   "source": [
    "initial_state_1 = apply(add1_3,initial_state_1);\n",
    "global_adder(initial_state_2, carry_links, T_vec, id_vec, gate_vec, qubit_site, shift_1_3_bits, ram_phy)"
   ]
  },
  {
   "cell_type": "code",
   "execution_count": 7,
   "id": "30b129cd",
   "metadata": {},
   "outputs": [],
   "source": [
    "@benchmark initial_state_1 = apply(add1_3,$initial_state_1; cutoff=1e-10, maxdim=typemax(Int));\n"
   ]
  },
  {
   "cell_type": "code",
   "execution_count": null,
   "id": "6b6e665f",
   "metadata": {},
   "outputs": [],
   "source": [
    "\n",
    "@benchmark global_adder($initial_state_2, carry_links, T_vec, id_vec, gate_vec, qubit_site, shift_1_3_bits, ram_phy; cutoff=1e-10, maxdim=typemax(Int))\n"
   ]
  },
  {
   "cell_type": "code",
   "execution_count": 6,
   "id": "398a2828",
   "metadata": {},
   "outputs": [],
   "source": [
    "# Profile.print(format=:flat, sortedby=:count)\n",
    "\n",
    "# # For now, just run the function without profiling:\n",
    "# # global_adder(initial_state_2, carry_links, T_vec, id_vec, gate_vec, qubit_site, shift_1_3_bits, ram_phy)"
   ]
  }
 ],
 "metadata": {
  "kernelspec": {
   "display_name": "Julia 1.9.4",
   "language": "julia",
   "name": "julia-1.9"
  },
  "language_info": {
   "file_extension": ".jl",
   "mimetype": "application/julia",
   "name": "julia",
   "version": "1.9.4"
  }
 },
 "nbformat": 4,
 "nbformat_minor": 5
}
