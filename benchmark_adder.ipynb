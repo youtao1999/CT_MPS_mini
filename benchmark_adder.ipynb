{
 "cells": [
  {
   "cell_type": "code",
   "execution_count": 71,
   "id": "da08f45f",
   "metadata": {},
   "outputs": [
    {
     "name": "stderr",
     "output_type": "stream",
     "text": [
      "\u001b[32m\u001b[1m  Activating\u001b[22m\u001b[39m project at `~/code/CT_MPS_mini/CT`\n"
     ]
    }
   ],
   "source": [
    "using Pkg\n",
    "Pkg.activate(\"CT\")\n",
    "using CT\n",
    "include(\"global_adder_passthrough.jl\")\n",
    "\n",
    "# benchmark adder_MPO\n",
    "using ITensors\n",
    "# initialize random state\n",
    "using .CT: _initialize_basis, _initialize_vector, P_MPO, XI_MPO, I_MPO, adder_MPO, add1, power_mpo\n",
    "using Random\n"
   ]
  },
  {
   "cell_type": "code",
   "execution_count": 72,
   "id": "b9518915",
   "metadata": {},
   "outputs": [],
   "source": [
    "# function conn_pairs(L::Int, ram_phy::Vector{Int})\n",
    "#     # Generate list of right translations of 1:L more efficiently\n",
    "#     # Using array comprehension and avoiding modulo operations where possible\n",
    "\n",
    "#     translations = [circshift(1:L, shift) for shift in 0:L-1]\n",
    "#     conn_pairs_dict = Dict()\n",
    "#     for (i1, translation) in enumerate(translations)\n",
    "#         # println(fold(translation, 0))\n",
    "#         ram_phy, phy_ram = fold(translation, 0)\n",
    "#         # println(ram_phy)\n",
    "#         pairs = []\n",
    "#         for i in reverse(collect(1:L)[2:end])\n",
    "#             current_pos = findfirst(x -> x == i, ram_phy)\n",
    "#             next_pos = findfirst(x -> x == (i-1)%L, ram_phy)\n",
    "#             pair = (current_pos, next_pos)\n",
    "#             push!(pairs, pair)\n",
    "#             # println(i, \" is in position $currest_pos carry into $(i-1) which is in position $next_pos\")\n",
    "#         end\n",
    "\n",
    "#         conn_pairs_dict[i1] = pairs\n",
    "#     end\n",
    "#     return conn_pairs_dict\n",
    "# end\n",
    "\n",
    "# function fold(translation, ancilla::Int)\n",
    "#     if ancilla ==0\n",
    "#         ram_phy = [i for pairs in zip(translation[1:(L÷2)], reverse(translation[(L÷2+1):L])) for i in pairs]\n",
    "#     elseif ancilla ==1\n",
    "#         ram_phy = vcat(L+1,[i for pairs in zip(translations[1:(L÷2)], reverse(translations[(L÷2+1):L])) for i in pairs])\n",
    "#     elseif ancilla ==2\n",
    "#         error(\"Not implemented yet\")\n",
    "#     end\n",
    "\n",
    "#     # phy_ram[physical] = actual in ram\n",
    "#     phy_ram = fill(0, L+ancilla)\n",
    "#     for (ram, phy) in enumerate(ram_phy)\n",
    "#         phy_ram[phy] = ram\n",
    "#     end\n",
    "\n",
    "#     return ram_phy, phy_ram\n",
    "# end\n"
   ]
  },
  {
   "cell_type": "markdown",
   "id": "29963e30",
   "metadata": {},
   "source": [
    "solution one: label the carry indices according to their ram positions and left and right; problem: the boundary tensors are named differently at the turning point"
   ]
  },
  {
   "cell_type": "code",
   "execution_count": 73,
   "id": "3e030f5d",
   "metadata": {},
   "outputs": [],
   "source": [
    "# carry_links = [(Index(2, \"Carry,c=$(ram_pos),left\"), Index(2, \"Carry,c=$(ram_pos),right\")) for ram_pos in 1:L]\n",
    "\n",
    "# gate_vec = []\n",
    "\n",
    "# for _pair in pairings[i1]\n",
    "#     if _pair[2] - _pair[1] == 1\n",
    "#         # forward one\n",
    "#         T_tensor = create_addition_tensor_with_carry(shift_1_3_bits[_pair[1]], qubit_site[_pair[1]], prime(qubit_site[_pair[1]]), carry_links[_pair[1]][1], carry_links[_pair[1]][2])\n",
    "#         push!(gate_vec, T_tensor)\n",
    "#     elseif _pair[2] - _pair[1] == 2\n",
    "#         # next nearest neighbor case, need to create two qubit gates\n",
    "#         T_tensor = create_addition_tensor_with_carry(shift_1_3_bits[_pair[1]], qubit_site[_pair[1]], prime(qubit_site[_pair[1]]), carry_links[_pair[1]][1], carry_links[_pair[1]][2])\n",
    "#         mid_pos = (_pair[1] + _pair[2]) ÷ 2\n",
    "#         id_tensor = create_identity_tensor_4d(qubit_site[mid_pos], prime(qubit_site[mid_pos]), carry_links[_pair[1]][2], carry_links[mid_pos][2])\n",
    "#         gate = T_tensor * id_tensor\n",
    "#         push!(gate_vec, gate)\n",
    "#     elseif _pair[2] - _pair[1] == -2\n",
    "#         # next nearest neighbor case, need to create two qubit gates\n",
    "#         T_tensor = create_addition_tensor_with_carry(shift_1_3_bits[_pair[1]], qubit_site[_pair[1]], prime(qubit_site[_pair[1]]), carry_links[_pair[1]][2], carry_links[_pair[1]][1])\n",
    "#         mid_pos = (_pair[1] + _pair[2]) ÷ 2\n",
    "#         id_tensor = create_identity_tensor_4d(qubit_site[mid_pos], prime(qubit_site[mid_pos]), carry_links[_pair[1]][1], carry_links[mid_pos][1])\n",
    "#         gate = T_tensor * id_tensor\n",
    "#         push!(gate_vec, gate)\n",
    "#     elseif _pair[2] - _pair[1] == -1\n",
    "#         # backward one\n",
    "#         T_tensor = create_addition_tensor_with_carry(shift_1_3_bits[_pair[1]], qubit_site[_pair[1]], prime(qubit_site[_pair[1]]), carry_links[_pair[1]][2], carry_links[_pair[1]][1])\n",
    "#         push!(gate_vec, T_tensor)\n",
    "#     else\n",
    "#         # more than next nearest neighbor, not implemented yet\n",
    "#         error(\"Not implemented yet\")\n",
    "#     end\n",
    "# end\n",
    "\n",
    "# # locate the lsb link\n",
    "# first_forward = pairings[i1][1][2] - pairings[i1][1][1] > 0\n",
    "# lsb_link_pos = first_forward ? pairings[i1][1][1] : pairings[i1][1][2]\n",
    "# lsb_link_dir = first_forward ? \"left\" : \"right\"\n",
    "# lsb_link = filterinds(inds(gate_vec[1]), \"Carry,c=$(lsb_link_pos),$(lsb_link_dir)\")\n",
    "    \n",
    "# # include the msb tensor\n",
    "# msb_pos = pairings[i1][end][2]\n",
    "# # pairings[i1][end][1]\n",
    "# mid_pos = (pairings[i1][end][1] + pairings[i1][end][2]) ÷ 2\n",
    "# msb_link = Index(2, \"Carry,msb\")\n",
    "# msb_T_tensor = create_addition_tensor_with_carry(shift_1_3_bits[msb_pos], qubit_site[msb_pos], prime(qubit_site[msb_pos]), filterinds(inds(gate_vec[end]), \"Carry\")[end], msb_link)\n",
    "# push!(gate_vec, msb_T_tensor)\n",
    "\n",
    "# # initialize the boundary condition tensor\n",
    "# lsb_tensor = onehot(lsb_link...=>1)\n",
    "# # discard the carry out of the msb tensor\n",
    "# msb_tensor = ITensor(msb_link)\n",
    "# msb_tensor[msb_link=>1] = 1.0\n",
    "# msb_tensor[msb_link=>2] = 1.0\n",
    "\n",
    "# # fixing the boundary condition tensors\n",
    "# for i in 1:length(gate_vec)\n",
    "#     gate = gate_vec[i]\n",
    "#     if msb_link in inds(gate)\n",
    "#         gate_vec[i] = gate * msb_tensor\n",
    "#     end\n",
    "#     if lsb_link... in inds(gate)\n",
    "#         gate_vec[i] = gate * lsb_tensor\n",
    "#     end\n",
    "# end"
   ]
  },
  {
   "cell_type": "markdown",
   "id": "234db24e",
   "metadata": {},
   "source": [
    "solution two: name the carry links according to their position without specifying the left or right; this automatically keeps tracks of the connector"
   ]
  },
  {
   "cell_type": "code",
   "execution_count": 74,
   "id": "7fc877bb",
   "metadata": {},
   "outputs": [],
   "source": [
    "# function initialize_gate_vec(pairings_fixed_i1, shift_1_3_bits, qubit_site, ancilla)\n",
    "\n",
    "#     carry_links = [Index(2, \"Carry,c=$(ram_pos-1)\") for ram_pos in 1:L+1]\n",
    "\n",
    "#     gate_vec = ITensor[]\n",
    "\n",
    "#     for _pair in pairings_fixed_i1\n",
    "#         if _pair[2] - _pair[1] == 1\n",
    "#             # forward one\n",
    "#             T_tensor = create_addition_tensor_with_carry(shift_1_3_bits[_pair[1]], qubit_site[_pair[1]], prime(qubit_site[_pair[1]]), carry_links[_pair[1]], carry_links[_pair[2]])\n",
    "#             push!(gate_vec, T_tensor)\n",
    "#         elseif _pair[2] - _pair[1] == 2\n",
    "#             # next nearest neighbor case, need to create two qubit gates\n",
    "#             mid_pos = (_pair[1] + _pair[2]) ÷ 2\n",
    "#             T_tensor = create_addition_tensor_with_carry(shift_1_3_bits[_pair[1]], qubit_site[_pair[1]], prime(qubit_site[_pair[1]]), carry_links[_pair[1]], carry_links[mid_pos])\n",
    "#             id_tensor = create_identity_tensor_4d(qubit_site[mid_pos], prime(qubit_site[mid_pos]), carry_links[mid_pos], carry_links[_pair[2]])\n",
    "#             gate = T_tensor * id_tensor\n",
    "#             push!(gate_vec, gate)\n",
    "#         elseif _pair[2] - _pair[1] == -2\n",
    "#             # next nearest neighbor case, need to create two qubit gates\n",
    "#             mid_pos = (_pair[1] + _pair[2]) ÷ 2\n",
    "#             T_tensor = create_addition_tensor_with_carry(shift_1_3_bits[_pair[1]], qubit_site[_pair[1]], prime(qubit_site[_pair[1]]), carry_links[_pair[1]], carry_links[mid_pos])\n",
    "#             id_tensor = create_identity_tensor_4d(qubit_site[mid_pos], prime(qubit_site[mid_pos]), carry_links[mid_pos], carry_links[_pair[2]])\n",
    "#             gate = T_tensor * id_tensor\n",
    "#             push!(gate_vec, gate)\n",
    "#         elseif _pair[2] - _pair[1] == -1\n",
    "#             # backward one\n",
    "#             T_tensor = create_addition_tensor_with_carry(shift_1_3_bits[_pair[1]], qubit_site[_pair[1]], prime(qubit_site[_pair[1]]), carry_links[_pair[1]], carry_links[_pair[2]])\n",
    "#             push!(gate_vec, T_tensor)\n",
    "#         else\n",
    "#             # more than next nearest neighbor, not implemented yet\n",
    "#             error(\"Not implemented yet\")\n",
    "#         end\n",
    "#     end\n",
    "\n",
    "\n",
    "\n",
    "#     # locate the lsb link\n",
    "#     first_forward = pairings[i1][1][2] - pairings[i1][1][1] > 0\n",
    "#     lsb_link = setdiff(filterinds(inds(gate_vec[1]), \"Carry\"), filterinds(inds(gate_vec[2]), \"Carry\"))\n",
    "#     lsb_tensor = onehot(lsb_link...=>1)\n",
    "\n",
    "#     # include the msb tensor\n",
    "#     msb_pos = pairings[i1][end][2]\n",
    "#     # pairings[i1][end][1]\n",
    "#     mid_pos = (pairings[i1][end][1] + pairings[i1][end][2]) ÷ 2\n",
    "#     msb_link = Index(2, \"Carry,msb\")\n",
    "#     msb_carry_in = setdiff(filterinds(inds(gate_vec[end]), \"Carry\"), filterinds(inds(gate_vec[end-1]), \"Carry\"))\n",
    "#     msb_tensor = ITensor(msb_link)\n",
    "#     msb_tensor[msb_link=>1] = 1.0\n",
    "#     msb_tensor[msb_link=>2] = 1.0\n",
    "\n",
    "#     msb_T_tensor = create_addition_tensor_with_carry(shift_1_3_bits[msb_pos], qubit_site[msb_pos], prime(qubit_site[msb_pos]), msb_carry_in..., msb_link)\n",
    "#     msb_T_tensor = msb_T_tensor * msb_tensor\n",
    "#     push!(gate_vec, msb_T_tensor)\n",
    "\n",
    "#     # set least significant bit tensor boundary condition\n",
    "#     gate_vec[1] = gate_vec[1] * lsb_tensor\n",
    "\n",
    "#     return gate_vec\n",
    "# end\n",
    "\n",
    "# function qubit_site_number(gate; plev = 0)\n",
    "#     qubit_legs = filterinds(inds(gate), tags = \"Qubit,Site\", plev = plev)\n",
    "#     tag_strs = string.(tags.(qubit_legs))\n",
    "#     numbers = [parse(Int, match(r\"n=(\\d+)\", tag).captures[1]) for tag in tag_strs]\n",
    "#     return numbers\n",
    "# end\n",
    "# function svd_chain(gate::ITensor; eps = 1e-5, maxbonddim = 10)\n",
    "#     mpo_vec = Vector{ITensor}()\n",
    "#     sites = filterinds(inds(gate), tags = \"Qubit,Site\", plev = 0)\n",
    "#     for i in 1:length(sites) - 1\n",
    "#         site_to_left = sites[i]\n",
    "#         site_number = qubit_site_number(gate, plev = 0)[1]\n",
    "#         # specify the left indices\n",
    "#         left_indices = isempty(filterinds(gate, \"Link\")) ? [site_to_left, prime(site_to_left)] : [site_to_left, prime(site_to_left), filterinds(gate, \"Link\")...]\n",
    "#         U, S, V = svd(gate, left_indices, lefttags = \"Link,l=$site_number\"; cutoff = eps)\n",
    "#         push!(mpo_vec, U)\n",
    "#         gate = S * V\n",
    "#         # println(inds(gate))\n",
    "#     end\n",
    "#     return mpo_vec, gate\n",
    "# end\n",
    "\n",
    "\n",
    "# function find_collapse_pairs(gate_vec_sorted)\n",
    "#     # first collapse the folded gate \n",
    "#     collapse_pairs = []\n",
    "#     # identify the pairs\n",
    "#     i = 1\n",
    "#     while i <= length(gate_vec_sorted)\n",
    "#         current_group = [i]\n",
    "#         sites = filterinds(inds(gate_vec_sorted[i]), tags = \"Qubit,Site\", plev = 0)\n",
    "        \n",
    "#         # Keep checking the next gate for overlap with current group\n",
    "#         j = i + 1\n",
    "#         while j <= length(gate_vec_sorted)\n",
    "#             next_sites = filterinds(inds(gate_vec_sorted[j]), tags = \"Qubit,Site\", plev = 0)\n",
    "#             # Check if next gate overlaps with any sites in current group\n",
    "#             if intersect(sites, next_sites) != []\n",
    "#                 push!(current_group, j)\n",
    "#                 # Update sites to include sites from the newly added gate\n",
    "#                 sites = union(sites, next_sites)\n",
    "#                 j += 1\n",
    "#             else\n",
    "#                 break\n",
    "#             end\n",
    "#         end\n",
    "        \n",
    "#         push!(collapse_pairs, current_group)\n",
    "#         i = j  # Move to the next ungrouped gate\n",
    "#     end\n",
    "#     return collapse_pairs\n",
    "# end\n",
    "\n",
    "# function collapse_gate_vec(gate_vec_sorted)\n",
    "#     collapse_pairs = find_collapse_pairs(gate_vec_sorted)\n",
    "#     gate_vec_collapsed = ITensor[]\n",
    "#     for _pair in collapse_pairs\n",
    "#         if length(_pair) == 1\n",
    "#             push!(gate_vec_collapsed, gate_vec_sorted[_pair[1]])\n",
    "#         else\n",
    "#             push!(gate_vec_collapsed, lower_prime_level(gate_vec_sorted[_pair[1]] * prime(gate_vec_sorted[_pair[2]], \"Qubit,Site\"), \"Qubit,Site\"))\n",
    "#         end\n",
    "#     end\n",
    "#     return gate_vec_collapsed\n",
    "# end\n",
    "\n",
    "# function create_mpo(gate_vec_collapsed)\n",
    "#     mpo_vec = ITensor[]\n",
    "#     tmp = gate_vec_collapsed[1]\n",
    "#     for num_gate in 1:length(gate_vec_collapsed) - 1\n",
    "#         # contract the gates\n",
    "#         tmp = tmp * prime(gate_vec_collapsed[num_gate+1], \"Qubit,Site\")\n",
    "\n",
    "#         # handle the prime level indices\n",
    "#         primed_indices = prime(filterinds(inds(gate_vec_collapsed[num_gate+1]), tags = \"Qubit,Site\"))\n",
    "#         for idx in primed_indices\n",
    "#             tmp = prime(tmp, -1, idx)\n",
    "#         end\n",
    "\n",
    "#         # svd\n",
    "#         U_vec, remainder = svd_chain(tmp; eps = 1e-10, maxbonddim = 1000);\n",
    "#         for U in U_vec\n",
    "#             push!(mpo_vec, U)\n",
    "#         end\n",
    "\n",
    "#         # propagate the indices to the remainder\n",
    "#         tmp = remainder\n",
    "#     end\n",
    "\n",
    "#     push!(mpo_vec, tmp);\n",
    "\n",
    "#     return MPO(mpo_vec)\n",
    "# end\n",
    "# function adder_mpo_vec(L, i1, ancilla, folded, numerator, denominator)\n",
    "#     adder_mpo_vec = MPO[]\n",
    "#     for i1 in 1:L\n",
    "#         println(\"constructed the $(i1)-th mpo\")\n",
    "#         shift_bits, shift_amount = fraction_to_binary_shift(numerator, denominator, L)\n",
    "#         qubit_site, ram_phy, phy_ram, phy_list = _initialize_basis(L, ancilla, folded)\n",
    "#         pairing_fixed_i1 = conn_pairs(L, ram_phy)[i1]\n",
    "\n",
    "#         # initialize the gate vector\n",
    "#         gate_vec = initialize_gate_vec(pairing_fixed_i1, shift_1_3_bits, qubit_site, ancilla)\n",
    "\n",
    "#         # sort the gate vector according to the qubit site number\n",
    "#         gate_sites = [qubit_site_number(gate) for gate in gate_vec]\n",
    "#         gate_vec_sorted = gate_vec[sortperm(gate_sites)];\n",
    "#         gate_vec_collapsed = collapse_gate_vec(gate_vec_sorted);\n",
    "\n",
    "#         # create the mpo\n",
    "#         adder_mpo = create_mpo(gate_vec_collapsed);\n",
    "#         push!(adder_mpo_vec, adder_mpo)\n",
    "#     end\n",
    "#     return adder_mpo_vec\n",
    "# end\n"
   ]
  },
  {
   "cell_type": "code",
   "execution_count": 75,
   "id": "45906b80",
   "metadata": {},
   "outputs": [
    {
     "data": {
      "text/plain": [
       "7-element Vector{Any}:\n",
       " (4, 6)\n",
       " (6, 8)\n",
       " (8, 7)\n",
       " (7, 5)\n",
       " (5, 3)\n",
       " (3, 1)\n",
       " (1, 2)"
      ]
     },
     "metadata": {},
     "output_type": "display_data"
    }
   ],
   "source": [
    "i1 = 8\n",
    "numerator = 1\n",
    "denominator = 3\n",
    "L = 8\n",
    "ancilla = 0\n",
    "folded = true\n",
    "shift_bits, shift_amount = fraction_to_binary_shift(numerator, denominator, L)\n",
    "qubit_site, ram_phy, phy_ram, phy_list = _initialize_basis(L, ancilla, folded)\n",
    "pairing_fixed_i1 = conn_pairs(L)[i1]\n"
   ]
  },
  {
   "cell_type": "code",
   "execution_count": 76,
   "id": "fbaec12e",
   "metadata": {},
   "outputs": [
    {
     "data": {
      "text/plain": [
       "7-element Vector{Any}:\n",
       " (4, 6)\n",
       " (6, 8)\n",
       " (8, 7)\n",
       " (7, 5)\n",
       " (5, 3)\n",
       " (3, 1)\n",
       " (1, 2)"
      ]
     },
     "metadata": {},
     "output_type": "display_data"
    }
   ],
   "source": [
    "pairing_fixed_i1"
   ]
  },
  {
   "cell_type": "code",
   "execution_count": 77,
   "id": "20078191",
   "metadata": {},
   "outputs": [],
   "source": [
    "# initialize the gate vector\n",
    "\n",
    "gate_vec = initialize_gate_vec(pairing_fixed_i1, shift_bits, qubit_site, L)\n",
    "initialize_gate_vec(pairing_fixed_i1, shift_bits, qubit_site, L)\n",
    "\n",
    "# sort the gate vector according to the qubit site number\n",
    "gate_sites = [qubit_site_number(gate) for gate in gate_vec]\n",
    "gate_vec_sorted = gate_vec[sortperm(gate_sites)];\n",
    "gate_vec_collapsed = collapse_gate_vec(gate_vec_sorted);\n",
    "\n",
    "# create the mpo\n",
    "adder_mpo = create_mpo(gate_vec_collapsed);"
   ]
  },
  {
   "cell_type": "code",
   "execution_count": 78,
   "id": "5183bedc",
   "metadata": {},
   "outputs": [
    {
     "data": {
      "text/plain": [
       "MPO\n",
       "[1] ((dim=2|id=489|\"Qubit,Site,n=1\"), (dim=2|id=489|\"Qubit,Site,n=1\")', (dim=3|id=490|\"Link,l=1\"))\n",
       "[2] ((dim=3|id=490|\"Link,l=1\"), (dim=2|id=461|\"Qubit,Site,n=2\"), (dim=2|id=461|\"Qubit,Site,n=2\")', (dim=2|id=258|\"Link,l=2\"))\n",
       "[3] ((dim=2|id=258|\"Link,l=2\"), (dim=2|id=518|\"Qubit,Site,n=3\"), (dim=2|id=518|\"Qubit,Site,n=3\")', (dim=2|id=761|\"Link,l=3\"))\n",
       "[4] ((dim=2|id=761|\"Link,l=3\"), (dim=2|id=779|\"Qubit,Site,n=4\"), (dim=2|id=779|\"Qubit,Site,n=4\")', (dim=4|id=505|\"Link,l=4\"))\n",
       "[5] ((dim=4|id=505|\"Link,l=4\"), (dim=2|id=943|\"Qubit,Site,n=5\"), (dim=2|id=943|\"Qubit,Site,n=5\")', (dim=4|id=444|\"Link,l=5\"))\n",
       "[6] ((dim=4|id=444|\"Link,l=5\"), (dim=2|id=392|\"Qubit,Site,n=6\"), (dim=2|id=392|\"Qubit,Site,n=6\")', (dim=4|id=701|\"Link,l=6\"))\n",
       "[7] ((dim=4|id=701|\"Link,l=6\"), (dim=2|id=694|\"Qubit,Site,n=7\"), (dim=2|id=694|\"Qubit,Site,n=7\")', (dim=3|id=220|\"Link,l=7\"))\n",
       "[8] ((dim=3|id=220|\"Link,l=7\"), (dim=2|id=342|\"Qubit,Site,n=8\"), (dim=2|id=342|\"Qubit,Site,n=8\")')\n"
      ]
     },
     "metadata": {},
     "output_type": "display_data"
    }
   ],
   "source": [
    "adder_mpo"
   ]
  },
  {
   "cell_type": "code",
   "execution_count": null,
   "id": "f7e1807e",
   "metadata": {},
   "outputs": [],
   "source": [
    "carry_links = [(Index(2, \"Carry,c=$(ram_pos),left\"), Index(2, \"Carry,c=$(ram_pos),right\")) for ram_pos in 1:L]\n",
    "T_tensor_vec = []\n",
    "for i in 1:length(pairings[i1])\n",
    "    pair = pairings[i1][i]\n",
    "    forward = pair[2] - pair[1] > 0\n",
    "    site_pos = pair[1]\n",
    "\n",
    "    if forward\n",
    "        T_tensor = create_addition_tensor_with_carry(shift_1_3_bits[site_pos], qubit_site[site_pos], prime(qubit_site[site_pos]), carry_links[site_pos][1], carry_links[pair[2]][1])\n",
    "        push!(T_tensor_vec, T_tensor)\n",
    "    else\n",
    "        T_tensor = create_addition_tensor_with_carry(shift_1_3_bits[site_pos], qubit_site[site_pos], prime(qubit_site[site_pos]), carry_links[site_pos][2], carry_links[pair[2]][2])\n",
    "        push!(T_tensor_vec, T_tensor)\n",
    "    end\n",
    "end\n",
    "\n",
    "# locate the lsb link\n",
    "first_forward = pairings[i1][1][2] - pairings[i1][1][1] > 0\n",
    "lsb_link_pos = first_forward ? pairings[i1][1][1] : pairings[i1][1][2]\n",
    "lsb_link_dir = first_forward ? \"left\" : \"right\"\n",
    "lsb_link = filterinds(inds(T_tensor_vec[1]), \"Carry,c=$(lsb_link_pos),$(lsb_link_dir)\")\n",
    "    \n",
    "# include the msb tensor\n",
    "msb_pos = pairings[i1][end][2]\n",
    "# pairings[i1][end][1]\n",
    "mid_pos = (pairings[i1][end][1] + pairings[i1][end][2]) ÷ 2\n",
    "msb_link = Index(2, \"Carry,msb\")\n",
    "msb_T_tensor = create_addition_tensor_with_carry(shift_1_3_bits[msb_pos], qubit_site[msb_pos], prime(qubit_site[msb_pos]), inds(T_tensor_vec[end])[end], msb_link)\n",
    "push!(T_tensor_vec, msb_T_tensor)\n",
    "\n",
    "# initialize the boundary condition tensor\n",
    "lsb_tensor = onehot(lsb_link...=>1)\n",
    "# discard the carry out of the msb tensor\n",
    "msb_tensor = ITensor(msb_link)\n",
    "msb_tensor[msb_link=>1] = 1.0\n",
    "msb_tensor[msb_link=>2] = 1.0\n",
    "\n",
    "# fixing the boundary condition tensors\n",
    "for i in 1:length(T_tensor_vec)\n",
    "    T_tensor = T_tensor_vec[i]\n",
    "    if msb_link in inds(T_tensor)\n",
    "        T_tensor_vec[i] = T_tensor * msb_tensor\n",
    "    end\n",
    "    if lsb_link... in inds(T_tensor)\n",
    "        T_tensor_vec[i] = T_tensor * lsb_tensor\n",
    "    end\n",
    "end"
   ]
  },
  {
   "cell_type": "code",
   "execution_count": 18,
   "id": "9a03d944",
   "metadata": {},
   "outputs": [
    {
     "data": {
      "text/plain": [
       "5"
      ]
     },
     "metadata": {},
     "output_type": "display_data"
    }
   ],
   "source": [
    "length(gate_vec)"
   ]
  },
  {
   "cell_type": "code",
   "execution_count": 17,
   "id": "5d385810",
   "metadata": {},
   "outputs": [
    {
     "name": "stdout",
     "output_type": "stream",
     "text": [
      "((dim=2|id=959|\"Qubit,Site,n=2\"), (dim=2|id=959|\"Qubit,Site,n=2\")', (dim=2|id=318|\"Carry,c=2,left\"), (dim=2|id=182|\"Carry,c=2,right\"), (dim=2|id=108|\"Carry,c=3,right\"), (dim=2|id=375|\"Qubit,Site,n=3\"), (dim=2|id=375|\"Qubit,Site,n=3\")', (dim=2|id=978|\"Carry,c=3,left\"))\n",
      "((dim=2|id=608|\"Qubit,Site,n=4\"), (dim=2|id=608|\"Qubit,Site,n=4\")', (dim=2|id=476|\"Carry,c=4,left\"), (dim=2|id=299|\"Carry,c=4,right\"), (dim=2|id=581|\"Carry,c=5,right\"), (dim=2|id=213|\"Qubit,Site,n=5\"), (dim=2|id=213|\"Qubit,Site,n=5\")', (dim=2|id=734|\"Carry,c=5,left\"))\n",
      "((dim=2|id=850|\"Qubit,Site,n=6\"), (dim=2|id=850|\"Qubit,Site,n=6\")', (dim=2|id=731|\"Carry,c=6,left\"), (dim=2|id=606|\"Carry,c=6,right\"), (dim=2|id=100|\"Carry,c=7,right\"), (dim=2|id=895|\"Qubit,Site,n=7\"), (dim=2|id=895|\"Qubit,Site,n=7\")', (dim=2|id=492|\"Carry,c=7,left\"))\n",
      "((dim=2|id=895|\"Qubit,Site,n=7\"), (dim=2|id=895|\"Qubit,Site,n=7\")', (dim=2|id=100|\"Carry,c=7,right\"), (dim=2|id=492|\"Carry,c=7,left\"), (dim=2|id=731|\"Carry,c=6,left\"), (dim=2|id=850|\"Qubit,Site,n=6\"), (dim=2|id=850|\"Qubit,Site,n=6\")', (dim=2|id=606|\"Carry,c=6,right\"))\n",
      "((dim=2|id=213|\"Qubit,Site,n=5\"), (dim=2|id=213|\"Qubit,Site,n=5\")', (dim=2|id=581|\"Carry,c=5,right\"), (dim=2|id=734|\"Carry,c=5,left\"), (dim=2|id=476|\"Carry,c=4,left\"), (dim=2|id=608|\"Qubit,Site,n=4\"), (dim=2|id=608|\"Qubit,Site,n=4\")', (dim=2|id=299|\"Carry,c=4,right\"))\n"
     ]
    }
   ],
   "source": [
    "for gate in gate_vec\n",
    "    println(inds(gate))\n",
    "end\n"
   ]
  },
  {
   "cell_type": "code",
   "execution_count": 31,
   "id": "07e95494",
   "metadata": {},
   "outputs": [],
   "source": [
    "inds_tracker = []\n",
    "tmp_tensor = T_tensor_vec[1]\n",
    "for i in 1:length(T_tensor_vec)-1\n",
    "    tmp_tensor = tmp_tensor * T_tensor_vec[i+1]\n",
    "    site_indices = filterinds(inds(tmp_tensor), \"Qubit\")\n",
    "    U, S, V = svd(tmp_tensor, site_indices)\n",
    "    push!(inds_tracker, inds(U))\n",
    "    tmp_tensor = S * V\n",
    "    println(inds(U))\n",
    "    println(inds(S * V))\n",
    "    println(\"\")\n",
    "end\n"
   ]
  },
  {
   "cell_type": "code",
   "execution_count": 33,
   "id": "5b801b0a",
   "metadata": {},
   "outputs": [
    {
     "name": "stdout",
     "output_type": "stream",
     "text": [
      "5\n",
      "((dim=2|id=473|\"Qubit,Site,n=2\"), (dim=2|id=473|\"Qubit,Site,n=2\")', (dim=2|id=553|\"Qubit,Site,n=4\"), (dim=2|id=553|\"Qubit,Site,n=4\")', (dim=2|id=60|\"Link,u\"))\n",
      "3\n",
      "((dim=2|id=461|\"Qubit,Site,n=6\"), (dim=2|id=461|\"Qubit,Site,n=6\")', (dim=4|id=393|\"Link,u\"))\n",
      "3\n",
      "((dim=2|id=236|\"Qubit,Site,n=8\"), (dim=2|id=236|\"Qubit,Site,n=8\")', (dim=4|id=97|\"Link,u\"))\n",
      "3\n",
      "((dim=2|id=981|\"Qubit,Site,n=7\"), (dim=2|id=981|\"Qubit,Site,n=7\")', (dim=4|id=864|\"Link,u\"))\n",
      "3\n",
      "((dim=2|id=596|\"Qubit,Site,n=5\"), (dim=2|id=596|\"Qubit,Site,n=5\")', (dim=4|id=861|\"Link,u\"))\n",
      "3\n",
      "((dim=2|id=330|\"Qubit,Site,n=3\"), (dim=2|id=330|\"Qubit,Site,n=3\")', (dim=4|id=944|\"Link,u\"))\n",
      "3\n",
      "((dim=2|id=490|\"Qubit,Site,n=1\"), (dim=2|id=490|\"Qubit,Site,n=1\")', (dim=4|id=577|\"Link,u\"))\n"
     ]
    }
   ],
   "source": [
    "for indices in inds_tracker\n",
    "    println(length(indices))\n",
    "    println(indices)\n",
    "end"
   ]
  },
  {
   "cell_type": "code",
   "execution_count": null,
   "id": "c3ac69e1",
   "metadata": {},
   "outputs": [
    {
     "ename": "ErrorException",
     "evalue": "syntax: incomplete: \"for\" at /Users/youtao/code/CT_MPS_mini/jl_notebook_cell_df34fa98e69747e1a8f8a730347b8e2f_X54sZmlsZQ==.jl:2 requires end",
     "output_type": "error",
     "traceback": [
      "syntax: incomplete: \"for\" at /Users/youtao/code/CT_MPS_mini/jl_notebook_cell_df34fa98e69747e1a8f8a730347b8e2f_X54sZmlsZQ==.jl:2 requires end\n",
      "\n",
      "Stacktrace:\n",
      " [1] top-level scope\n",
      "   @ ~/code/CT_MPS_mini/jl_notebook_cell_df34fa98e69747e1a8f8a730347b8e2f_X54sZmlsZQ==.jl:2"
     ]
    }
   ],
   "source": [
    "\n",
    "T_tensor_vec = []\n",
    "for i in 1:length(pairings[i1])\n",
    "    pair = pairings[i1][i]\n",
    "    forward = pair[2] - pair[1] > 0\n",
    "\n",
    "    if forward\n",
    "        T_tensor = create_addition_tensor_with_carry(shift_1_3_bits[pair[1]], qubit_site[pair[1]], prime(qubit_site[pair[1]]), carry_links[pair[1]], carry_links[pair[2]])\n",
    "        push!(T_tensor_vec, T_tensor)\n",
    "    else\n",
    "        T_tensor = create_addition_tensor_with_carry(shift_1_3_bits[pair[1]], qubit_site[pair[1]], prime(qubit_site[pair[1]]), carry_links[pair[1]], carry_links[pair[2]])\n",
    "        push!(T_tensor_vec, T_tensor)\n",
    "    end\n",
    "\n",
    "# include the msb tensor\n",
    "msb_pos = pairings[i1][end][2]\n",
    "# pairings[i1][end][1]\n",
    "mid_pos = (pairings[i1][end][1] + pairings[i1][end][2]) ÷ 2\n",
    "msb_T_tensor = create_addition_tensor_with_carry(shift_1_3_bits[msb_pos], qubit_site[msb_pos], prime(qubit_site[msb_pos]), carry_links[msb_pos], carry_links[mid_pos])\n",
    "push!(T_tensor_vec, msb_T_tensor)"
   ]
  },
  {
   "cell_type": "code",
   "execution_count": 45,
   "id": "a97b6e6a",
   "metadata": {},
   "outputs": [],
   "source": [
    "for i in 1:length(T_tensor_vec)\n",
    "    println(inds(T_tensor_vec[i]))\n",
    "end\n"
   ]
  },
  {
   "cell_type": "code",
   "execution_count": 30,
   "id": "8830f6f1",
   "metadata": {},
   "outputs": [
    {
     "name": "stdout",
     "output_type": "stream",
     "text": [
      "((dim=2|id=403|\"Qubit,Site,n=2\"), (dim=2|id=403|\"Qubit,Site,n=2\")', (dim=2|id=382|\"Carry,c=1\"), (dim=2|id=451|\"Carry,c=3\"))\n",
      "((dim=2|id=939|\"Qubit,Site,n=4\"), (dim=2|id=939|\"Qubit,Site,n=4\")', (dim=2|id=451|\"Carry,c=3\"), (dim=2|id=148|\"Carry,c=5\"))\n",
      "((dim=2|id=679|\"Qubit,Site,n=6\"), (dim=2|id=679|\"Qubit,Site,n=6\")', (dim=2|id=148|\"Carry,c=5\"), (dim=2|id=506|\"Carry,c=7\"))\n",
      "((dim=2|id=601|\"Qubit,Site,n=8\"), (dim=2|id=601|\"Qubit,Site,n=8\")', (dim=2|id=506|\"Carry,c=7\"), (dim=2|id=675|\"Carry,c=6\"))\n",
      "((dim=2|id=234|\"Qubit,Site,n=7\"), (dim=2|id=234|\"Qubit,Site,n=7\")', (dim=2|id=675|\"Carry,c=6\"), (dim=2|id=288|\"Carry,c=4\"))\n",
      "((dim=2|id=705|\"Qubit,Site,n=5\"), (dim=2|id=705|\"Qubit,Site,n=5\")', (dim=2|id=288|\"Carry,c=4\"), (dim=2|id=720|\"Carry,c=2\"))\n",
      "((dim=2|id=620|\"Qubit,Site,n=3\"), (dim=2|id=620|\"Qubit,Site,n=3\")', (dim=2|id=720|\"Carry,c=2\"), (dim=2|id=712|\"Carry,c=0\"))\n"
     ]
    }
   ],
   "source": [
    "for i in 1:length(T_tensor_vec)\n",
    "    println(inds(T_tensor_vec[i]))\n",
    "end\n"
   ]
  },
  {
   "cell_type": "code",
   "execution_count": 11,
   "id": "e0987853",
   "metadata": {},
   "outputs": [],
   "source": [
    "# initialize the boundary condition tensor\n",
    "lsb_tensor = onehot(carry_links[2]=>1)\n",
    "# discard the carry out of the msb tensor\n",
    "msb_tensor = ITensor(carry_links[1])\n",
    "msb_tensor[carry_links[1]=>1] = 1.0\n",
    "msb_tensor[carry_links[1]=>2] = 1.0\n",
    "\n",
    "# fixing the boundary condition tensors\n",
    "for i in 1:length(T_tensor_vec)\n",
    "    T_tensor = T_tensor_vec[i]\n",
    "    if carry_links[1] in inds(T_tensor)\n",
    "        T_tensor_vec[i] = T_tensor * msb_tensor\n",
    "    end\n",
    "    if carry_links[2] in inds(T_tensor)\n",
    "        T_tensor_vec[i] = T_tensor * lsb_tensor\n",
    "    end\n",
    "end\n"
   ]
  },
  {
   "cell_type": "code",
   "execution_count": 22,
   "id": "4dbc872a",
   "metadata": {},
   "outputs": [
    {
     "data": {
      "text/plain": [
       "7"
      ]
     },
     "metadata": {},
     "output_type": "display_data"
    }
   ],
   "source": [
    "length(T_tensor_vec)"
   ]
  },
  {
   "cell_type": "code",
   "execution_count": 17,
   "id": "bf15882b",
   "metadata": {},
   "outputs": [
    {
     "ename": "MethodError",
     "evalue": "MethodError: no method matching getindex(::typeof(length), ::Vector{Any})",
     "output_type": "error",
     "traceback": [
      "MethodError: no method matching getindex(::typeof(length), ::Vector{Any})\n",
      "\n",
      "Stacktrace:\n",
      " [1] top-level scope\n",
      "   @ ~/code/CT_MPS_mini/jl_notebook_cell_df34fa98e69747e1a8f8a730347b8e2f_X52sZmlsZQ==.jl:1"
     ]
    }
   ],
   "source": [
    "length[mpo_vec]"
   ]
  },
  {
   "cell_type": "code",
   "execution_count": null,
   "id": "a835f954",
   "metadata": {},
   "outputs": [],
   "source": [
    "# need to initialize the gate_vec's according to the pairing first\n",
    "gate_vec = []\n",
    "for pair in pairing \n",
    "    start_pos = pair[1]\n",
    "    end_pos = pair[2]\n",
    "    if end_pos - start_pos == 1\n",
    "        # forward one \n",
    "        T_tensor = create_addition_tensor_with_carry(shift_1_3_bits[start_pos], qubit_site[start_pos], prime(qubit_site[start_pos]), carry_links[start_pos], carry_links[end_pos])\n",
    "        push!(gate_vec, T_tensor)\n",
    "        continue\n",
    "    elseif end_pos - start_pos == 2\n",
    "        mid_pos = (start_pos + end_pos) ÷ 2\n",
    "        # next nearest neighbor case, need to create two qubit gates\n",
    "        T_tensor = create_addition_tensor_with_carry(shift_1_3_bits[start_pos], qubit_site[start_pos], prime(qubit_site[start_pos]), carry_links[start_pos], carry_links[mid_pos])\n",
    "        id_tensor = create_identity_tensor_4d(qubit_site[mid_pos], prime(qubit_site[mid_pos]), carry_links[mid_pos], carry_links[end_pos])\n",
    "        gate = T_tensor * id_tensor\n",
    "        push!(gate_vec, gate)\n",
    "    elseif end_pos - start_pos == -2\n",
    "        mid_pos = (start_pos + end_pos) ÷ 2\n",
    "        # next nearest neighbor case, need to create two qubit gates\n",
    "        T_tensor = create_addition_tensor_with_carry(shift_1_3_bits[start_pos], qubit_site[start_pos], prime(qubit_site[start_pos]), carry_links[start_pos], carry_links[mid_pos])\n",
    "        id_tensor = create_identity_tensor_4d(qubit_site[mid_pos], prime(qubit_site[mid_pos]), carry_links[mid_pos], carry_links[end_pos])\n",
    "        gate = T_tensor * id_tensor\n",
    "        push!(gate_vec, gate)\n",
    "    elseif end_pos - start_pos == -1\n",
    "        # backward one\n",
    "        T_tensor = create_addition_tensor_with_carry(shift_1_3_bits[start_pos], qubit_site[start_pos], prime(qubit_site[start_pos]), carry_links[start_pos], carry_links[end_pos])\n",
    "        push!(gate_vec, T_tensor)\n",
    "        continue\n",
    "    else\n",
    "        # more than next nearest neighbor, not implemented yet\n",
    "        error(\"Not implemented yet\")\n",
    "    end\n",
    "end\n",
    "\n",
    "# msb T tensor also needs to be included\n",
    "lsb = pairing[begin][1];\n",
    "msb_pos = pairing[end][2];\n",
    "msb_plus_one = (pairing[end][1] + pairing[end][2]) ÷ 2;\n",
    "msb_T_tensor = create_addition_tensor_with_carry(shift_1_3_bits[msb_pos], qubit_site[msb_pos], prime(qubit_site[msb_pos]), carry_links[msb_pos], carry_links[msb_plus_one]);\n",
    "push!(gate_vec, msb_T_tensor);"
   ]
  },
  {
   "cell_type": "code",
   "execution_count": 129,
   "id": "76bf956d",
   "metadata": {},
   "outputs": [
    {
     "data": {
      "text/plain": [
       "1.0"
      ]
     },
     "execution_count": 129,
     "metadata": {},
     "output_type": "execute_result"
    }
   ],
   "source": [
    "# initialize the boundary condition tensor\n",
    "lsb_tensor = onehot(carry_links[2]=>1)\n",
    "# discard the carry out of the msb tensor\n",
    "msb_tensor = ITensor(carry_links[1])\n",
    "msb_tensor[carry_links[1]=>1] = 1.0\n",
    "msb_tensor[carry_links[1]=>2] = 1.0"
   ]
  },
  {
   "cell_type": "markdown",
   "id": "c05ebbae",
   "metadata": {},
   "source": [
    "Actually i think maybe i dont need the id_tensor_4d at all; i can direct contract them according to the pairing sequence"
   ]
  },
  {
   "cell_type": "code",
   "execution_count": null,
   "id": "53c955f0",
   "metadata": {},
   "outputs": [],
   "source": [
    "# fixing the boundary condition tensors\n",
    "for igate in 1:length(gate_vec)\n",
    "    gate = gate_vec[igate]\n",
    "    if carry_links[2] in inds(gate)\n",
    "        gate_vec[igate] = gate * msb_tensor\n",
    "    end\n",
    "    if carry_links[1] in inds(gate)\n",
    "        gate_vec[igate] = gate * lsb_tensor\n",
    "    end\n",
    "end\n"
   ]
  },
  {
   "cell_type": "code",
   "execution_count": 131,
   "id": "48e38474",
   "metadata": {},
   "outputs": [
    {
     "name": "stdout",
     "output_type": "stream",
     "text": [
      "((dim=2|id=902|\"Qubit,Site,n=2\"), (dim=2|id=902|\"Qubit,Site,n=2\")', (dim=2|id=2|\"Carry,c=1\"), (dim=2|id=78|\"Carry,c=3\"), (dim=2|id=319|\"Qubit,Site,n=3\"), (dim=2|id=319|\"Qubit,Site,n=3\")', (dim=2|id=959|\"Carry,c=0\"))\n",
      "((dim=2|id=250|\"Qubit,Site,n=4\"), (dim=2|id=250|\"Qubit,Site,n=4\")', (dim=2|id=78|\"Carry,c=3\"), (dim=2|id=571|\"Carry,c=5\"), (dim=2|id=204|\"Qubit,Site,n=5\"), (dim=2|id=204|\"Qubit,Site,n=5\")')\n",
      "((dim=2|id=376|\"Qubit,Site,n=6\"), (dim=2|id=376|\"Qubit,Site,n=6\")', (dim=2|id=571|\"Carry,c=5\"), (dim=2|id=224|\"Carry,c=7\"), (dim=2|id=198|\"Qubit,Site,n=7\"), (dim=2|id=198|\"Qubit,Site,n=7\")')\n",
      "((dim=2|id=558|\"Qubit,Site,n=8\"), (dim=2|id=558|\"Qubit,Site,n=8\")', (dim=2|id=224|\"Carry,c=7\"), (dim=2|id=295|\"Carry,c=6\"))\n",
      "((dim=2|id=198|\"Qubit,Site,n=7\"), (dim=2|id=198|\"Qubit,Site,n=7\")', (dim=2|id=295|\"Carry,c=6\"), (dim=2|id=695|\"Carry,c=4\"), (dim=2|id=376|\"Qubit,Site,n=6\"), (dim=2|id=376|\"Qubit,Site,n=6\")')\n",
      "((dim=2|id=204|\"Qubit,Site,n=5\"), (dim=2|id=204|\"Qubit,Site,n=5\")', (dim=2|id=695|\"Carry,c=4\"), (dim=2|id=116|\"Carry,c=2\"), (dim=2|id=250|\"Qubit,Site,n=4\"), (dim=2|id=250|\"Qubit,Site,n=4\")')\n",
      "((dim=2|id=319|\"Qubit,Site,n=3\"), (dim=2|id=319|\"Qubit,Site,n=3\")', (dim=2|id=116|\"Carry,c=2\"), (dim=2|id=959|\"Carry,c=0\"), (dim=2|id=902|\"Qubit,Site,n=2\"), (dim=2|id=902|\"Qubit,Site,n=2\")', (dim=2|id=2|\"Carry,c=1\"))\n",
      "((dim=2|id=86|\"Qubit,Site,n=1\"), (dim=2|id=86|\"Qubit,Site,n=1\")', (dim=2|id=959|\"Carry,c=0\"))\n"
     ]
    }
   ],
   "source": [
    "for gate in gate_vec\n",
    "    println(inds(gate))\n",
    "end\n"
   ]
  },
  {
   "cell_type": "code",
   "execution_count": 132,
   "id": "6c6a8595",
   "metadata": {},
   "outputs": [
    {
     "name": "stdout",
     "output_type": "stream",
     "text": [
      "((dim=2|id=902|\"Qubit,Site,n=2\"), (dim=2|id=902|\"Qubit,Site,n=2\")', (dim=2|id=2|\"Carry,c=1\"), (dim=2|id=319|\"Qubit,Site,n=3\"), (dim=2|id=319|\"Qubit,Site,n=3\")', (dim=2|id=959|\"Carry,c=0\"), (dim=2|id=250|\"Qubit,Site,n=4\"), (dim=2|id=250|\"Qubit,Site,n=4\")', (dim=2|id=571|\"Carry,c=5\"), (dim=2|id=204|\"Qubit,Site,n=5\"), (dim=2|id=204|\"Qubit,Site,n=5\")')\n",
      "((dim=2|id=250|\"Qubit,Site,n=4\"), (dim=2|id=250|\"Qubit,Site,n=4\")', (dim=2|id=78|\"Carry,c=3\"), (dim=2|id=204|\"Qubit,Site,n=5\"), (dim=2|id=204|\"Qubit,Site,n=5\")', (dim=2|id=376|\"Qubit,Site,n=6\"), (dim=2|id=376|\"Qubit,Site,n=6\")', (dim=2|id=224|\"Carry,c=7\"), (dim=2|id=198|\"Qubit,Site,n=7\"), (dim=2|id=198|\"Qubit,Site,n=7\")')\n",
      "((dim=2|id=376|\"Qubit,Site,n=6\"), (dim=2|id=376|\"Qubit,Site,n=6\")', (dim=2|id=571|\"Carry,c=5\"), (dim=2|id=198|\"Qubit,Site,n=7\"), (dim=2|id=198|\"Qubit,Site,n=7\")', (dim=2|id=558|\"Qubit,Site,n=8\"), (dim=2|id=558|\"Qubit,Site,n=8\")', (dim=2|id=295|\"Carry,c=6\"))\n",
      "((dim=2|id=558|\"Qubit,Site,n=8\"), (dim=2|id=558|\"Qubit,Site,n=8\")', (dim=2|id=224|\"Carry,c=7\"), (dim=2|id=198|\"Qubit,Site,n=7\"), (dim=2|id=198|\"Qubit,Site,n=7\")', (dim=2|id=695|\"Carry,c=4\"), (dim=2|id=376|\"Qubit,Site,n=6\"), (dim=2|id=376|\"Qubit,Site,n=6\")')\n",
      "((dim=2|id=198|\"Qubit,Site,n=7\"), (dim=2|id=198|\"Qubit,Site,n=7\")', (dim=2|id=295|\"Carry,c=6\"), (dim=2|id=376|\"Qubit,Site,n=6\"), (dim=2|id=376|\"Qubit,Site,n=6\")', (dim=2|id=204|\"Qubit,Site,n=5\"), (dim=2|id=204|\"Qubit,Site,n=5\")', (dim=2|id=116|\"Carry,c=2\"), (dim=2|id=250|\"Qubit,Site,n=4\"), (dim=2|id=250|\"Qubit,Site,n=4\")')\n",
      "((dim=2|id=204|\"Qubit,Site,n=5\"), (dim=2|id=204|\"Qubit,Site,n=5\")', (dim=2|id=695|\"Carry,c=4\"), (dim=2|id=250|\"Qubit,Site,n=4\"), (dim=2|id=250|\"Qubit,Site,n=4\")', (dim=2|id=319|\"Qubit,Site,n=3\"), (dim=2|id=319|\"Qubit,Site,n=3\")', (dim=2|id=959|\"Carry,c=0\"), (dim=2|id=902|\"Qubit,Site,n=2\"), (dim=2|id=902|\"Qubit,Site,n=2\")', (dim=2|id=2|\"Carry,c=1\"))\n",
      "((dim=2|id=319|\"Qubit,Site,n=3\"), (dim=2|id=319|\"Qubit,Site,n=3\")', (dim=2|id=116|\"Carry,c=2\"), (dim=2|id=902|\"Qubit,Site,n=2\"), (dim=2|id=902|\"Qubit,Site,n=2\")', (dim=2|id=2|\"Carry,c=1\"), (dim=2|id=86|\"Qubit,Site,n=1\"), (dim=2|id=86|\"Qubit,Site,n=1\")')\n"
     ]
    }
   ],
   "source": [
    "for idx in 1:length(gate_vec)-1\n",
    "    println(inds(gate_vec[idx] * gate_vec[idx+1]))\n",
    "end"
   ]
  },
  {
   "cell_type": "code",
   "execution_count": 133,
   "id": "db6ef918",
   "metadata": {},
   "outputs": [
    {
     "data": {
      "text/plain": [
       "8"
      ]
     },
     "execution_count": 133,
     "metadata": {},
     "output_type": "execute_result"
    }
   ],
   "source": [
    "length(gate_vec)"
   ]
  },
  {
   "cell_type": "code",
   "execution_count": 134,
   "id": "cd27189b",
   "metadata": {},
   "outputs": [
    {
     "name": "stdout",
     "output_type": "stream",
     "text": [
      "2-->4\n",
      "((dim=2|id=902|\"Qubit,Site,n=2\"), (dim=2|id=902|\"Qubit,Site,n=2\")', (dim=2|id=2|\"Carry,c=1\"), (dim=2|id=78|\"Carry,c=3\"), (dim=2|id=319|\"Qubit,Site,n=3\"), (dim=2|id=319|\"Qubit,Site,n=3\")', (dim=2|id=959|\"Carry,c=0\"))\n",
      "4-->6\n",
      "((dim=2|id=250|\"Qubit,Site,n=4\"), (dim=2|id=250|\"Qubit,Site,n=4\")', (dim=2|id=78|\"Carry,c=3\"), (dim=2|id=571|\"Carry,c=5\"), (dim=2|id=204|\"Qubit,Site,n=5\"), (dim=2|id=204|\"Qubit,Site,n=5\")')\n",
      "6-->8\n",
      "((dim=2|id=376|\"Qubit,Site,n=6\"), (dim=2|id=376|\"Qubit,Site,n=6\")', (dim=2|id=571|\"Carry,c=5\"), (dim=2|id=224|\"Carry,c=7\"), (dim=2|id=198|\"Qubit,Site,n=7\"), (dim=2|id=198|\"Qubit,Site,n=7\")')\n",
      "8-->7\n",
      "((dim=2|id=558|\"Qubit,Site,n=8\"), (dim=2|id=558|\"Qubit,Site,n=8\")', (dim=2|id=224|\"Carry,c=7\"), (dim=2|id=295|\"Carry,c=6\"))\n",
      "7-->5\n",
      "((dim=2|id=198|\"Qubit,Site,n=7\"), (dim=2|id=198|\"Qubit,Site,n=7\")', (dim=2|id=295|\"Carry,c=6\"), (dim=2|id=695|\"Carry,c=4\"), (dim=2|id=376|\"Qubit,Site,n=6\"), (dim=2|id=376|\"Qubit,Site,n=6\")')\n",
      "5-->3\n",
      "((dim=2|id=204|\"Qubit,Site,n=5\"), (dim=2|id=204|\"Qubit,Site,n=5\")', (dim=2|id=695|\"Carry,c=4\"), (dim=2|id=116|\"Carry,c=2\"), (dim=2|id=250|\"Qubit,Site,n=4\"), (dim=2|id=250|\"Qubit,Site,n=4\")')\n",
      "3-->1\n",
      "((dim=2|id=319|\"Qubit,Site,n=3\"), (dim=2|id=319|\"Qubit,Site,n=3\")', (dim=2|id=116|\"Carry,c=2\"), (dim=2|id=959|\"Carry,c=0\"), (dim=2|id=902|\"Qubit,Site,n=2\"), (dim=2|id=902|\"Qubit,Site,n=2\")', (dim=2|id=2|\"Carry,c=1\"))\n"
     ]
    },
    {
     "ename": "LoadError",
     "evalue": "BoundsError: attempt to access 7-element Vector{Any} at index [8]",
     "output_type": "error",
     "traceback": [
      "BoundsError: attempt to access 7-element Vector{Any} at index [8]",
      "",
      "Stacktrace:",
      " [1] getindex(A::Vector{Any}, i1::Int64)",
      "   @ Base ./essentials.jl:13",
      " [2] top-level scope",
      "   @ ./In[134]:3"
     ]
    }
   ],
   "source": [
    "for igate in 1:length(gate_vec)\n",
    "    gate = gate_vec[igate]\n",
    "    pair = pairing[igate]\n",
    "    println(pair[1], \"-->\", pair[2])\n",
    "    println(inds(gate))\n",
    "end\n",
    "# for idx in 1:length(gate_vec), find all the gates that has qubit_site[idx] as an index, and put them in a list"
   ]
  },
  {
   "cell_type": "code",
   "execution_count": null,
   "id": "c22d886c",
   "metadata": {},
   "outputs": [],
   "source": [
    "# for idx in 1:length(gate_vec), find all the gates that has qubit_site[idx] as an index, and put them in a list\n",
    "# then contract all the gates in the list together\n",
    "# then svd according to the qubit_site index "
   ]
  },
  {
   "cell_type": "code",
   "execution_count": null,
   "id": "5be0801f",
   "metadata": {},
   "outputs": [
    {
     "name": "stdout",
     "output_type": "stream",
     "text": [
      "Intersection: Set([4, 3])\n"
     ]
    }
   ],
   "source": [
    "# Example: find intersection between two sets a and b\n",
    "a = Set([1, 2, 3, 4])\n",
    "b = Set([3, 4, 5, 6])\n",
    "intersection = intersect(a, b)\n",
    "println(\"Intersection: \", intersection)\n"
   ]
  },
  {
   "cell_type": "code",
   "execution_count": null,
   "id": "c7c0ab39",
   "metadata": {},
   "outputs": [
    {
     "data": {
      "text/plain": [
       "Set{Index{Int64}} with 1 element:\n",
       "  (dim=2|id=497|\"Carry,c=3\")"
      ]
     },
     "execution_count": 92,
     "metadata": {},
     "output_type": "execute_result"
    }
   ],
   "source": [
    "intersection = intersect(Set(inds(gate_vec[1])), Set(inds(gate_vec[2])))"
   ]
  },
  {
   "cell_type": "code",
   "execution_count": null,
   "id": "9a65e1d4",
   "metadata": {},
   "outputs": [
    {
     "data": {
      "text/plain": [
       "1-element Vector{Index{Int64}}:\n",
       " (dim=2|id=497|\"Carry,c=3\")"
      ]
     },
     "execution_count": 93,
     "metadata": {},
     "output_type": "execute_result"
    }
   ],
   "source": [
    "commoninds(gate_vec[1], gate_vec[2])"
   ]
  },
  {
   "cell_type": "code",
   "execution_count": null,
   "id": "530388cc",
   "metadata": {},
   "outputs": [],
   "source": []
  }
 ],
 "metadata": {
  "kernelspec": {
   "display_name": "Julia 1.9.3",
   "language": "julia",
   "name": "julia-1.9"
  },
  "language_info": {
   "file_extension": ".jl",
   "mimetype": "application/julia",
   "name": "julia",
   "version": "1.9.3"
  }
 },
 "nbformat": 4,
 "nbformat_minor": 5
}
