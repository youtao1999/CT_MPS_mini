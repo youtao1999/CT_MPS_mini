{
 "cells": [
  {
   "cell_type": "code",
   "execution_count": 1,
   "id": "3a65a4a5",
   "metadata": {},
   "outputs": [
    {
     "name": "stderr",
     "output_type": "stream",
     "text": [
      "\u001b[32m\u001b[1m  Activating\u001b[22m\u001b[39m project at `~/CT_MPS_mini/CT`\n"
     ]
    }
   ],
   "source": [
    "using Pkg\n",
    "Pkg.activate(\"CT\")\n",
    "using CT"
   ]
  },
  {
   "cell_type": "code",
   "execution_count": null,
   "id": "c2bb1376",
   "metadata": {},
   "outputs": [
    {
     "name": "stdout",
     "output_type": "stream",
     "text": [
      "[1, 2, 3, 4, 5, 6, 7, 8]\n",
      "[1, 8, 2, 7, 3, 6, 4, 5]\n",
      "[1, 3, 5, 7, 8, 6, 4, 2]\n",
      "0\n",
      "1\n",
      "1\n",
      "0\n",
      "0\n",
      "1\n",
      "1\n",
      "0\n"
     ]
    }
   ],
   "source": [
    "# benchmark adder_MPO\n",
    "using ITensors\n",
    "include(\"global_adder_passthrough.jl\")\n",
    "# initialize random state\n",
    "using .CT: _initialize_basis, _initialize_vector, P_MPO, XI_MPO, I_MPO, adder_MPO\n",
    "using Random\n",
    "L = 8\n",
    "ancilla = 0\n",
    "folded = true\n",
    "seed_vec = 123457\n",
    "xj = Set([1//3, 2//3])\n",
    "i1 = 1\n",
    "p_ctrl = 1.0\n",
    "p_proj = 0.0\n",
    "_maxdim = 50\n",
    "_cutoff = 1e-15\n",
    "seed = 123457\n",
    "x0 = nothing\n",
    "qubit_site, ram_phy, phy_ram, phy_list = _initialize_basis(L, ancilla, folded)\n",
    "println(phy_list)\n",
    "println(ram_phy)\n",
    "println(phy_ram)\n",
    "rng = MersenneTwister(seed_vec)\n",
    "rng_vec = seed_vec === nothing ? rng : MersenneTwister(seed_vec)\n",
    "# initial_state = _initialize_vector(L, ancilla, x0, folded, qubit_site, ram_phy, phy_ram, phy_list, rng_vec, _cutoff, _maxdim);\n",
    "# println(initial_state)\n",
    "shift_1_3_bits, shift_1_3_amount = fraction_to_binary_shift(1, 3, L)\n",
    "# @time adder=[adder_MPO(i1,xj,qubit_site,L,phy_ram,phy_list) for i1 in 1:L];\n",
    "for ram_pos in 1:L\n",
    "    shift_bit = shift_1_3_bits[ram_phy[ram_pos]]\n",
    "    println(shift_bit)\n",
    "end"
   ]
  },
  {
   "cell_type": "code",
   "execution_count": 3,
   "id": "6b015d50",
   "metadata": {},
   "outputs": [],
   "source": [
    "initial_state = productMPS(qubit_site, [2,1,2,1,2,2,2,2])\n",
    "\n",
    "global_adder(L, qubit_site, shift_1_3_bits, ram_phy, initial_state);"
   ]
  },
  {
   "cell_type": "code",
   "execution_count": 4,
   "id": "a30229bf",
   "metadata": {},
   "outputs": [
    {
     "name": "stdout",
     "output_type": "stream",
     "text": [
      "Nonzero at coordinates (1, 2, 2, 1, 1, 1, 2, 1): 0.9999999999999993\n"
     ]
    }
   ],
   "source": [
    "psi = contract(initial_state)\n",
    "\n",
    "print_nonzero_coordinates(psi)"
   ]
  }
 ],
 "metadata": {
  "kernelspec": {
   "display_name": "Julia 1.10.0",
   "language": "julia",
   "name": "julia-1.10"
  },
  "language_info": {
   "file_extension": ".jl",
   "mimetype": "application/julia",
   "name": "julia",
   "version": "1.10.0"
  }
 },
 "nbformat": 4,
 "nbformat_minor": 5
}
