{
 "cells": [
  {
   "cell_type": "code",
   "execution_count": 1,
   "id": "ccd7b1f4-4c49-4c48-8399-8b9ceef0b90d",
   "metadata": {},
   "outputs": [
    {
     "name": "stderr",
     "output_type": "stream",
     "text": [
      "\u001b[32m\u001b[1m  Activating\u001b[22m\u001b[39m project at `~/CT_MPS_mini/CT`\n"
     ]
    }
   ],
   "source": [
    "using Pkg\n",
    "Pkg.activate(\"CT\")\n",
    "using CT"
   ]
  },
  {
   "cell_type": "code",
   "execution_count": 2,
   "id": "484c31bc-19ce-4b04-b4af-2b0e62cde5a5",
   "metadata": {},
   "outputs": [
    {
     "name": "stdout",
     "output_type": "stream",
     "text": [
      "\u001b[36m\u001b[1mProject\u001b[22m\u001b[39m CT v0.1.0\n",
      "\u001b[32m\u001b[1mStatus\u001b[22m\u001b[39m `~/CT_MPS_mini/CT/Project.toml`\n",
      "  \u001b[90m[c7e460c6] \u001b[39mArgParse v1.2.0\n",
      "\u001b[32m⌃\u001b[39m \u001b[90m[6e4b80f9] \u001b[39mBenchmarkTools v1.5.0\n",
      "\u001b[33m⌅\u001b[39m \u001b[90m[9136182c] \u001b[39mITensors v0.6.16\n",
      "  \u001b[90m[682c06a0] \u001b[39mJSON v0.21.4\n",
      "\u001b[32m⌃\u001b[39m \u001b[90m[33e6dc65] \u001b[39mMKL v0.7.0\n",
      "\u001b[32m⌃\u001b[39m \u001b[90m[91a5bcdd] \u001b[39mPlots v1.40.5\n",
      "\u001b[32m⌃\u001b[39m \u001b[90m[9f0aa9f4] \u001b[39mTCIITensorConversion v0.1.4\n",
      "\u001b[32m⌃\u001b[39m \u001b[90m[b261b2ec] \u001b[39mTensorCrossInterpolation v0.9.10\n",
      "\u001b[32m⌃\u001b[39m \u001b[90m[a759f4b9] \u001b[39mTimerOutputs v0.5.24\n",
      "  \u001b[90m[37e2e46d] \u001b[39mLinearAlgebra\n",
      "  \u001b[90m[9a3f8284] \u001b[39mRandom\n",
      "\u001b[36m\u001b[1mInfo\u001b[22m\u001b[39m Packages marked with \u001b[32m⌃\u001b[39m and \u001b[33m⌅\u001b[39m have new versions available. Those with \u001b[32m⌃\u001b[39m may be upgradable, but those with \u001b[33m⌅\u001b[39m are restricted by compatibility constraints from upgrading. To see why use `status --outdated`\n"
     ]
    }
   ],
   "source": [
    "Pkg.status()"
   ]
  },
  {
   "cell_type": "code",
   "execution_count": 3,
   "id": "15baa8f0-c4ea-4acc-a088-8459f6ba825e",
   "metadata": {},
   "outputs": [
    {
     "data": {
      "text/plain": [
       "randomMPS (generic function with 5 methods)"
      ]
     },
     "execution_count": 3,
     "metadata": {},
     "output_type": "execute_result"
    }
   ],
   "source": [
    "using ITensors\n",
    "randomMPS"
   ]
  },
  {
   "cell_type": "code",
   "execution_count": 4,
   "id": "9a60a80b-1061-4c0b-8b5d-1270a5c1a8b1",
   "metadata": {},
   "outputs": [
    {
     "data": {
      "text/plain": [
       "sum(\n",
       "\n",
       ")"
      ]
     },
     "execution_count": 4,
     "metadata": {},
     "output_type": "execute_result"
    }
   ],
   "source": [
    "A1 = OpSum()\n"
   ]
  },
  {
   "cell_type": "code",
   "execution_count": 5,
   "id": "f2f8ce66-6b66-4033-a79c-65e126f3df80",
   "metadata": {},
   "outputs": [
    {
     "ename": "LoadError",
     "evalue": "UndefVarError: `ram_phy` not defined",
     "output_type": "error",
     "traceback": [
      "UndefVarError: `ram_phy` not defined",
      "",
      "Stacktrace:",
      " [1] top-level scope",
      "\u001b[90m   @\u001b[39m \u001b[90m./\u001b[39m\u001b[90m\u001b[4mIn[5]:4\u001b[24m\u001b[39m"
     ]
    }
   ],
   "source": [
    "L = 4\n",
    "phy_list = collect(1: L)\n",
    "phy_ram = fill(0, L)\n",
    "for (ram, phy) in enumerate(ram_phy)\n",
    "        phy_ram[phy] = ram\n",
    "end\n",
    "println(phy_ram)"
   ]
  },
  {
   "cell_type": "code",
   "execution_count": 6,
   "id": "50515ae0-97ec-472f-aa81-e222fcfd70d4",
   "metadata": {},
   "outputs": [
    {
     "data": {
      "text/plain": [
       "4-element Vector{Int64}:\n",
       " 1\n",
       " 4\n",
       " 2\n",
       " 3"
      ]
     },
     "execution_count": 6,
     "metadata": {},
     "output_type": "execute_result"
    }
   ],
   "source": [
    "folded = true\n",
    "qubit_site = siteinds(\"Qubit\", L)\n",
    "ram_phy = folded ? [i for pairs in zip(1:(L÷2), reverse((L÷2+1):L)) for i in pairs] : collect(1:L)"
   ]
  },
  {
   "cell_type": "code",
   "execution_count": 7,
   "id": "d2ebcfeb-3810-4c77-bbb7-7d92cc3094b3",
   "metadata": {},
   "outputs": [
    {
     "data": {
      "text/plain": [
       "sum(\n",
       "  1.0 X(0,) S+(0,) S+(0,) S+(0,)\n",
       ")"
      ]
     },
     "execution_count": 7,
     "metadata": {},
     "output_type": "execute_result"
    }
   ],
   "source": [
    "A1+=tuple(([((i==1) ? \"X\" : \"S+\",phy_ram[phy_list[i]]) for i in 1:L]...)...)\n",
    "A1"
   ]
  },
  {
   "cell_type": "code",
   "execution_count": 8,
   "id": "30427f11-bb39-494b-a9a7-a5ae7f0bc598",
   "metadata": {},
   "outputs": [
    {
     "name": "stdout",
     "output_type": "stream",
     "text": [
      "add1 OpSum for L=3, i1=1:\n",
      "sum(\n",
      "  1.0 X(1,) S+(2,) S+(3,)\n",
      "  1.0 S-(2,) S+(3,)\n",
      "  1.0 S-(3,)\n",
      ")\n",
      "\n",
      "Number of terms: 3\n",
      "Term 1: 1.0 X(1,) S+(2,) S+(3,)\n",
      "Term 2: 1.0 S-(2,) S+(3,)\n",
      "Term 3: 1.0 S-(3,)\n"
     ]
    }
   ],
   "source": [
    "using ITensors\n",
    "\n",
    "# Simple test to understand add1 behavior\n",
    "# Make sure to include your CT.jl file first: include(\"src/CT.jl\")\n",
    "\n",
    "L = 3\n",
    "i1 = 1\n",
    "phy_ram = [1, 2, 3]\n",
    "phy_list = [1, 2, 3]\n",
    "\n",
    "function simple_test()\n",
    "    \n",
    "    # Just look at the OpSum structure\n",
    "    add1_opsum = CT.add1(i1, L, phy_ram, phy_list)\n",
    "    println(\"add1 OpSum for L=3, i1=1:\")\n",
    "    println(add1_opsum)\n",
    "    println(\"\\nNumber of terms: \", length(add1_opsum))\n",
    "    \n",
    "    # Print each term\n",
    "    for (i, term) in enumerate(add1_opsum)\n",
    "        println(\"Term $i: $term\")\n",
    "    end\n",
    "end\n",
    "\n",
    "# Run this first to understand the structure\n",
    "simple_test()"
   ]
  },
  {
   "cell_type": "code",
   "execution_count": 9,
   "id": "69d5279a-8ae8-4caf-b4d5-2ed1d7ef705d",
   "metadata": {},
   "outputs": [
    {
     "ename": "LoadError",
     "evalue": "MethodError: no method matching random_mps(::Int64, ::Vector{Index{Int64}}; linkdims::Int64)\n\n\u001b[0mClosest candidates are:\n\u001b[0m  random_mps(\u001b[91m::Type{ElT}\u001b[39m, ::Vector{<:Index}; linkdims) where ElT<:Number\n\u001b[0m\u001b[90m   @\u001b[39m \u001b[35mITensors\u001b[39m \u001b[90m~/julia_depot/packages/ITensors/oOwvi/src/lib/ITensorMPS/src/\u001b[39m\u001b[90m\u001b[4mmps.jl:237\u001b[24m\u001b[39m\n\u001b[0m  random_mps(\u001b[91m::Type{<:Number}\u001b[39m, ::Vector{<:Index}, \u001b[91m::Any\u001b[39m; linkdims)\n\u001b[0m\u001b[90m   @\u001b[39m \u001b[35mITensors\u001b[39m \u001b[90m~/julia_depot/packages/ITensors/oOwvi/src/lib/ITensorMPS/src/\u001b[39m\u001b[90m\u001b[4mmps.jl:295\u001b[24m\u001b[39m\n\u001b[0m  random_mps(\u001b[91m::Vector{<:Index}\u001b[39m, ::Any; linkdims)\n\u001b[0m\u001b[90m   @\u001b[39m \u001b[35mITensors\u001b[39m \u001b[90m~/julia_depot/packages/ITensors/oOwvi/src/lib/ITensorMPS/src/\u001b[39m\u001b[90m\u001b[4mmps.jl:280\u001b[24m\u001b[39m\n\u001b[0m  ...\n",
     "output_type": "error",
     "traceback": [
      "MethodError: no method matching random_mps(::Int64, ::Vector{Index{Int64}}; linkdims::Int64)\n\n\u001b[0mClosest candidates are:\n\u001b[0m  random_mps(\u001b[91m::Type{ElT}\u001b[39m, ::Vector{<:Index}; linkdims) where ElT<:Number\n\u001b[0m\u001b[90m   @\u001b[39m \u001b[35mITensors\u001b[39m \u001b[90m~/julia_depot/packages/ITensors/oOwvi/src/lib/ITensorMPS/src/\u001b[39m\u001b[90m\u001b[4mmps.jl:237\u001b[24m\u001b[39m\n\u001b[0m  random_mps(\u001b[91m::Type{<:Number}\u001b[39m, ::Vector{<:Index}, \u001b[91m::Any\u001b[39m; linkdims)\n\u001b[0m\u001b[90m   @\u001b[39m \u001b[35mITensors\u001b[39m \u001b[90m~/julia_depot/packages/ITensors/oOwvi/src/lib/ITensorMPS/src/\u001b[39m\u001b[90m\u001b[4mmps.jl:295\u001b[24m\u001b[39m\n\u001b[0m  random_mps(\u001b[91m::Vector{<:Index}\u001b[39m, ::Any; linkdims)\n\u001b[0m\u001b[90m   @\u001b[39m \u001b[35mITensors\u001b[39m \u001b[90m~/julia_depot/packages/ITensors/oOwvi/src/lib/ITensorMPS/src/\u001b[39m\u001b[90m\u001b[4mmps.jl:280\u001b[24m\u001b[39m\n\u001b[0m  ...\n",
      "",
      "Stacktrace:",
      " [1] \u001b[0m\u001b[1mrandomMPS\u001b[22m\u001b[0m\u001b[1m(\u001b[22m::\u001b[0mInt64, ::\u001b[0mVararg\u001b[90m{Any}\u001b[39m; \u001b[90mkwargs\u001b[39m::\u001b[0m@Kwargs\u001b[90m{linkdims::Int64}\u001b[39m\u001b[0m\u001b[1m)\u001b[22m",
      "\u001b[90m   @\u001b[39m \u001b[35mITensors.ITensorMPS\u001b[39m \u001b[90m./\u001b[39m\u001b[90m\u001b[4mdeprecated.jl:105\u001b[24m\u001b[39m",
      " [2] top-level scope",
      "\u001b[90m   @\u001b[39m \u001b[90m\u001b[4mIn[9]:6\u001b[24m\u001b[39m"
     ]
    }
   ],
   "source": [
    "qubit_site = siteinds(\"Qubit\", L)  # This creates the site indices\n",
    "add1_mpo = CT.add1(i1, L, phy_ram, phy_list)\n",
    "_maxdim0 = 10\n",
    "rng_vec = 42\n",
    "# Specify each qubit state individually\n",
    "psi = randomMPS(rng_vec, qubit_site, linkdims=_maxdim0))\n",
    "apply(add1_mpo, psi)\n"
   ]
  },
  {
   "cell_type": "code",
   "execution_count": 10,
   "id": "3d33cc4b-479f-422d-bbd4-03d8e11d2a59",
   "metadata": {},
   "outputs": [
    {
     "name": "stdout",
     "output_type": "stream",
     "text": [
      "MPS\n",
      "[1] ((dim=3|id=57|\"index_i\"), (dim=3|id=949|\"Link,n=1\"))\n",
      "[2] ((dim=3|id=949|\"Link,n=1\"), (dim=2|id=704|\"index_j\"), (dim=6|id=232|\"Link,n=2\"))\n",
      "[3] ((dim=6|id=232|\"Link,n=2\"), (dim=4|id=291|\"index_k\"), (dim=5|id=513|\"Link,n=3\"))\n",
      "[4] ((dim=5|id=513|\"Link,n=3\"), (dim=5|id=77|\"index_l\"))\n",
      "\n",
      "ITensor ord=3\n",
      "Dim 1: (dim=3|id=949|\"Link,n=1\")\n",
      "Dim 2: (dim=2|id=704|\"index_j\")\n",
      "Dim 3: (dim=6|id=232|\"Link,n=2\")\n",
      "NDTensors.Dense{Float64, Vector{Float64}}\n",
      " 3×2×6\n",
      "[:, :, 1] =\n",
      " 0.5742101025694797   -0.705371153911351\n",
      " 0.07106488810534786  -0.19569042356352828\n",
      " 0.04852325880885888  -0.35641945302632777\n",
      "\n",
      "[:, :, 2] =\n",
      "  0.5299894524234023    0.5598371384685895\n",
      "  0.02514543060761351  -0.28461002254823803\n",
      " -0.544239045514725    -0.16691992820845086\n",
      "\n",
      "[:, :, 3] =\n",
      " -0.12524886613012637   0.014981495247853957\n",
      "  0.8920427303357958    0.31895668872931554\n",
      " -0.1555081666565514   -0.24986373167441445\n",
      "\n",
      "[:, :, 4] =\n",
      " -0.5298982714880481  -0.08507009331282137\n",
      " -0.2814799641651412  -0.13456316839334287\n",
      " -0.3277349844478498  -0.7121955241029182\n",
      "\n",
      "[:, :, 5] =\n",
      " -0.10082613744555816   0.27726782070581035\n",
      "  0.26039323304951245  -0.65454358183504\n",
      "  0.6079395169437859   -0.21710424456374552\n",
      "\n",
      "[:, :, 6] =\n",
      " -0.2876605149164486  -0.32356622698608106\n",
      "  0.2270278621861285  -0.5765713113708912\n",
      " -0.4475107691464343   0.4778224660951072\n"
     ]
    }
   ],
   "source": [
    "cutoff = 1E-8\n",
    "maxdim = 10\n",
    "i = Index(3,\"index_i\")\n",
    "j = Index(2,\"index_j\")\n",
    "k = Index(4,\"index_k\")\n",
    "l = Index(5,\"index_l\")\n",
    "T = random_itensor(i,j,k,l)\n",
    "M = MPS(T,(i,j,k,l);cutoff=cutoff,maxdim=maxdim)\n",
    "println(M)\n",
    "println(M[2])"
   ]
  },
  {
   "cell_type": "code",
   "execution_count": 11,
   "id": "d1c70544-1f2b-4d8b-90e5-f840cadda200",
   "metadata": {},
   "outputs": [
    {
     "name": "stdout",
     "output_type": "stream",
     "text": [
      "MPS\n",
      "[1] ((dim=2|id=143), (dim=1|id=501|\"Link,n=1\"))\n",
      "[2] ((dim=1|id=501|\"Link,n=1\"), (dim=2|id=794|\"namethisindex?\"), (dim=1|id=737|\"Link,n=2\"))\n",
      "[3] ((dim=1|id=737|\"Link,n=2\"), (dim=2|id=697))\n"
     ]
    }
   ],
   "source": [
    "i = Index(2)\n",
    "j = Index(2, \"name this index?\")\n",
    "k = Index(2)\n",
    "T = ITensor(0.0, i, j, k)\n",
    "T[i=>1,j=>1,k=>1] = 1.0\n",
    "print(MPS(T, (i,j,k),cutoff = cutoff, maxdim = maxdim))"
   ]
  },
  {
   "cell_type": "code",
   "execution_count": 12,
   "id": "e691e7bb-79d3-4759-8a01-435427e7c21a",
   "metadata": {},
   "outputs": [
    {
     "data": {
      "text/plain": [
       "3-element Vector{Index{Int64}}:\n",
       " (dim=2|id=209|\"Qubit,Site,n=1\")\n",
       " (dim=2|id=900|\"Qubit,Site,n=2\")\n",
       " (dim=2|id=125|\"Qubit,Site,n=3\")"
      ]
     },
     "execution_count": 12,
     "metadata": {},
     "output_type": "execute_result"
    }
   ],
   "source": [
    "qubit_site"
   ]
  },
  {
   "cell_type": "code",
   "execution_count": 13,
   "id": "aa04b5af-8a68-48fd-84f6-83b98542479d",
   "metadata": {},
   "outputs": [
    {
     "name": "stdout",
     "output_type": "stream",
     "text": [
      "MPS\n",
      "[1] ((dim=2|id=209|\"Qubit,Site,n=1\"), (dim=1|id=860|\"Link,n=1\"))\n",
      "[2] ((dim=1|id=860|\"Link,n=1\"), (dim=2|id=900|\"Qubit,Site,n=2\"), (dim=1|id=366|\"Link,n=2\"))\n",
      "[3] ((dim=1|id=366|\"Link,n=2\"), (dim=2|id=125|\"Qubit,Site,n=3\"))\n"
     ]
    }
   ],
   "source": [
    "T = ITensor(0.0, qubit_site)\n",
    "T[qubit_site[1]=>1, qubit_site[2]=>1, qubit_site[3]=>1] = 1.0\n",
    "psi = MPS(T, qubit_site,cutoff = cutoff, maxdim = maxdim)\n",
    "print(psi)"
   ]
  },
  {
   "cell_type": "code",
   "execution_count": 14,
   "id": "bb90c93e-bfd2-4a73-8cde-b89c25e5d47b",
   "metadata": {},
   "outputs": [
    {
     "name": "stdout",
     "output_type": "stream",
     "text": [
      "Original state |000⟩:\n",
      "T[1,1,1] = 1.0\n",
      "After applying S+ to site 2:\n"
     ]
    },
    {
     "ename": "LoadError",
     "evalue": "BoundsError: attempt to access Tuple{Int64} at index [0]",
     "output_type": "error",
     "traceback": [
      "BoundsError: attempt to access Tuple{Int64} at index [0]",
      "",
      "Stacktrace:",
      " [1] \u001b[0m\u001b[1mgetindex\u001b[22m",
      "\u001b[90m   @\u001b[39m \u001b[90m./\u001b[39m\u001b[90m\u001b[4mtuple.jl:31\u001b[24m\u001b[39m\u001b[90m [inlined]\u001b[39m",
      " [2] \u001b[0m\u001b[1m#9\u001b[22m",
      "\u001b[90m   @\u001b[39m \u001b[90m~/julia_depot/packages/NDTensors/gdQSG/src/\u001b[39m\u001b[90m\u001b[4mtupletools.jl:43\u001b[24m\u001b[39m\u001b[90m [inlined]\u001b[39m",
      " [3] \u001b[0m\u001b[1mntuple\u001b[22m",
      "\u001b[90m   @\u001b[39m \u001b[90m./\u001b[39m\u001b[90m\u001b[4mntuple.jl:50\u001b[24m\u001b[39m\u001b[90m [inlined]\u001b[39m",
      " [4] \u001b[0m\u001b[1m_permute\u001b[22m",
      "\u001b[90m   @\u001b[39m \u001b[90m~/julia_depot/packages/NDTensors/gdQSG/src/\u001b[39m\u001b[90m\u001b[4mtupletools.jl:43\u001b[24m\u001b[39m\u001b[90m [inlined]\u001b[39m",
      " [5] \u001b[0m\u001b[1mpermute\u001b[22m\u001b[0m\u001b[1m(\u001b[22m\u001b[90ms\u001b[39m::\u001b[0mTuple\u001b[90m{Int64}\u001b[39m, \u001b[90mperm\u001b[39m::\u001b[0mTuple\u001b[90m{Int64, Int64, Int64}\u001b[39m\u001b[0m\u001b[1m)\u001b[22m",
      "\u001b[90m   @\u001b[39m \u001b[36mNDTensors\u001b[39m \u001b[90m~/julia_depot/packages/NDTensors/gdQSG/src/\u001b[39m\u001b[90m\u001b[4mtupletools.jl:50\u001b[24m\u001b[39m",
      " [6] \u001b[0m\u001b[1m_getindex\u001b[22m\u001b[0m\u001b[1m(\u001b[22m\u001b[90mT\u001b[39m::\u001b[0mNDTensors.DenseTensor\u001b[90m{Float64, 3, Tuple{Index{Int64}, Index{Int64}, Index{Int64}}, NDTensors.Dense{Float64, Vector{Float64}}}\u001b[39m, \u001b[90mivs\u001b[39m::\u001b[0mPair\u001b[90m{Index{Int64}, Int64}\u001b[39m\u001b[0m\u001b[1m)\u001b[22m",
      "\u001b[90m   @\u001b[39m \u001b[35mITensors.ITensorsSiteTypesExt\u001b[39m \u001b[90m~/julia_depot/packages/ITensors/oOwvi/src/lib/ITensorsSiteTypesExt/src/\u001b[39m\u001b[90m\u001b[4mITensorsSiteTypesExt.jl:30\u001b[24m\u001b[39m",
      " [7] \u001b[0m\u001b[1mgetindex\u001b[22m\u001b[0m\u001b[1m(\u001b[22m\u001b[90mT\u001b[39m::\u001b[0mITensor, \u001b[90mivs\u001b[39m::\u001b[0mPair\u001b[90m{Index{Int64}, Int64}\u001b[39m\u001b[0m\u001b[1m)\u001b[22m",
      "\u001b[90m   @\u001b[39m \u001b[35mITensors\u001b[39m \u001b[90m~/julia_depot/packages/ITensors/oOwvi/src/\u001b[39m\u001b[90m\u001b[4mitensor.jl:1117\u001b[24m\u001b[39m",
      " [8] top-level scope",
      "\u001b[90m   @\u001b[39m \u001b[90m\u001b[4mIn[14]:14\u001b[24m\u001b[39m"
     ]
    }
   ],
   "source": [
    "# Create S+ operator for site 2\n",
    "Sp = op(\"S+\", qubit_site[2])\n",
    "\n",
    "# Apply it to your tensor\n",
    "T_new = T * Sp\n",
    "\n",
    "# Check the result\n",
    "println(\"Original state |000⟩:\")\n",
    "println(\"T[1,1,1] = \", T[qubit_site[1]=>1, qubit_site[2]=>1, qubit_site[3]=>1])\n",
    "\n",
    "println(\"After applying S+ to site 2:\")\n",
    "# println(\"T_new[1,2,1] = \", T_new[qubit_site[1]=>1, qubit_site[2]=>2, qubit_site[3]=>1]\n",
    "# println(T_new[qubit_site[1]=>1, qubit_site[2]=>1, qubit_site[3]=>1])\n",
    "T[qubit_site[1]=>1]"
   ]
  },
  {
   "cell_type": "code",
   "execution_count": 14,
   "id": "aff15c0f-b1f8-4ba1-bced-e97d55b3894b",
   "metadata": {},
   "outputs": [
    {
     "name": "stdout",
     "output_type": "stream",
     "text": [
      "Original state |000⟩:\n",
      "T[1,1,1] = 1.0\n",
      "After applying S+ to site 2:\n"
     ]
    },
    {
     "ename": "LoadError",
     "evalue": "BoundsError: attempt to access Tuple{Int64} at index [0]",
     "output_type": "error",
     "traceback": [
      "BoundsError: attempt to access Tuple{Int64} at index [0]",
      "",
      "Stacktrace:",
      " [1] \u001b[0m\u001b[1mgetindex\u001b[22m",
      "\u001b[90m   @\u001b[39m \u001b[90m./\u001b[39m\u001b[90m\u001b[4mtuple.jl:31\u001b[24m\u001b[39m\u001b[90m [inlined]\u001b[39m",
      " [2] \u001b[0m\u001b[1m#9\u001b[22m",
      "\u001b[90m   @\u001b[39m \u001b[90m~/julia_depot/packages/NDTensors/gdQSG/src/\u001b[39m\u001b[90m\u001b[4mtupletools.jl:43\u001b[24m\u001b[39m\u001b[90m [inlined]\u001b[39m",
      " [3] \u001b[0m\u001b[1mntuple\u001b[22m",
      "\u001b[90m   @\u001b[39m \u001b[90m./\u001b[39m\u001b[90m\u001b[4mntuple.jl:50\u001b[24m\u001b[39m\u001b[90m [inlined]\u001b[39m",
      " [4] \u001b[0m\u001b[1m_permute\u001b[22m",
      "\u001b[90m   @\u001b[39m \u001b[90m~/julia_depot/packages/NDTensors/gdQSG/src/\u001b[39m\u001b[90m\u001b[4mtupletools.jl:43\u001b[24m\u001b[39m\u001b[90m [inlined]\u001b[39m",
      " [5] \u001b[0m\u001b[1mpermute\u001b[22m\u001b[0m\u001b[1m(\u001b[22m\u001b[90ms\u001b[39m::\u001b[0mTuple\u001b[90m{Int64}\u001b[39m, \u001b[90mperm\u001b[39m::\u001b[0mTuple\u001b[90m{Int64, Int64, Int64}\u001b[39m\u001b[0m\u001b[1m)\u001b[22m",
      "\u001b[90m   @\u001b[39m \u001b[36mNDTensors\u001b[39m \u001b[90m~/julia_depot/packages/NDTensors/gdQSG/src/\u001b[39m\u001b[90m\u001b[4mtupletools.jl:50\u001b[24m\u001b[39m",
      " [6] \u001b[0m\u001b[1m_getindex\u001b[22m\u001b[0m\u001b[1m(\u001b[22m\u001b[90mT\u001b[39m::\u001b[0mNDTensors.DenseTensor\u001b[90m{Float64, 3, Tuple{Index{Int64}, Index{Int64}, Index{Int64}}, NDTensors.Dense{Float64, Vector{Float64}}}\u001b[39m, \u001b[90mivs\u001b[39m::\u001b[0mPair\u001b[90m{Index{Int64}, Int64}\u001b[39m\u001b[0m\u001b[1m)\u001b[22m",
      "\u001b[90m   @\u001b[39m \u001b[35mITensors.ITensorsSiteTypesExt\u001b[39m \u001b[90m~/julia_depot/packages/ITensors/oOwvi/src/lib/ITensorsSiteTypesExt/src/\u001b[39m\u001b[90m\u001b[4mITensorsSiteTypesExt.jl:30\u001b[24m\u001b[39m",
      " [7] \u001b[0m\u001b[1mgetindex\u001b[22m\u001b[0m\u001b[1m(\u001b[22m\u001b[90mT\u001b[39m::\u001b[0mITensor, \u001b[90mivs\u001b[39m::\u001b[0mPair\u001b[90m{Index{Int64}, Int64}\u001b[39m\u001b[0m\u001b[1m)\u001b[22m",
      "\u001b[90m   @\u001b[39m \u001b[35mITensors\u001b[39m \u001b[90m~/julia_depot/packages/ITensors/oOwvi/src/\u001b[39m\u001b[90m\u001b[4mitensor.jl:1117\u001b[24m\u001b[39m",
      " [8] top-level scope",
      "\u001b[90m   @\u001b[39m \u001b[90m\u001b[4mIn[14]:14\u001b[24m\u001b[39m"
     ]
    }
   ],
   "source": [
    "# Create S+ operator for site 2\n",
    "Sp = op(\"S+\", qubit_site[2])\n",
    "\n",
    "# Apply it to your tensor\n",
    "T_new = T * Sp\n",
    "\n",
    "# Check the result\n",
    "println(\"Original state |000⟩:\")\n",
    "println(\"T[1,1,1] = \", T[qubit_site[1]=>1, qubit_site[2]=>1, qubit_site[3]=>1])\n",
    "\n",
    "println(\"After applying S+ to site 2:\")\n",
    "# println(\"T_new[1,2,1] = \", T_new[qubit_site[1]=>1, qubit_site[2]=>2, qubit_site[3]=>1]\n",
    "# println(T_new[qubit_site[1]=>1, qubit_site[2]=>1, qubit_site[3]=>1])\n",
    "T[qubit_site[1]=>1]"
   ]
  },
  {
   "cell_type": "code",
   "execution_count": 15,
   "id": "d8a284f1-cc6b-4e74-a941-c43506fbae7b",
   "metadata": {},
   "outputs": [
    {
     "name": "stdout",
     "output_type": "stream",
     "text": [
      "Using built-in S+ operator:\n",
      "T_result[1,2,1] = 1.0\n"
     ]
    }
   ],
   "source": [
    "# Using ITensors' built-in S+ operator\n",
    "Sp_builtin = op(\"S+\", qubit_site[2])\n",
    "T_with_prime = prime(T, qubit_site[2])\n",
    "T_new = T_with_prime * Sp_builtin\n",
    "T_result = noprime(T_new)\n",
    "\n",
    "println(\"Using built-in S+ operator:\")\n",
    "for i in 1:2, j in 1:2, k in 1:2\n",
    "    val = T_result[qubit_site[1]=>i, qubit_site[2]=>j, qubit_site[3]=>k]\n",
    "    if abs(val) > 1e-12\n",
    "        println(\"T_result[$i,$j,$k] = \", val)\n",
    "    end\n",
    "end"
   ]
  }
 ],
 "metadata": {
  "kernelspec": {
   "display_name": "Julia 1.10.0",
   "language": "julia",
   "name": "julia-1.10"
  },
  "language_info": {
   "file_extension": ".jl",
   "mimetype": "application/julia",
   "name": "julia",
   "version": "1.10.0"
  }
 },
 "nbformat": 4,
 "nbformat_minor": 5
}
